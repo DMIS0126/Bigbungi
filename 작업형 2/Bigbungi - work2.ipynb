{
 "cells": [
  {
   "cell_type": "markdown",
   "id": "a6a04185",
   "metadata": {},
   "source": [
    "# 작업형  2유형 - 예측"
   ]
  },
  {
   "cell_type": "markdown",
   "id": "12a41689",
   "metadata": {},
   "source": [
    "## 성능이 우수한 예측 모형을 구축하려면 다음 작업이 필요하다.\n",
    "* 적절한 데이터 전처리\n",
    "* Feature Engineering\n",
    "* 분류 알고리즘 사용\n",
    "* 초매개변수(하이퍼파라미터) 최적화\n",
    "* 모형 앙상블"
   ]
  },
  {
   "cell_type": "markdown",
   "id": "ba3a4e0e",
   "metadata": {},
   "source": [
    "### 고객 3,500명(x_train, y_train)에 대한 성별 예측 모형을 만든 후 평가용 데이터(x_test)에 적용하여 2,482명의 성별 예측값(남자일 확률?)을 CSV 파일로 생성하기\n",
    "\n",
    "* 제출한 모델의 성능은 ROC-AUC 평가지표에 따라 채점"
   ]
  },
  {
   "cell_type": "markdown",
   "id": "75efcd16",
   "metadata": {},
   "source": [
    "#### 기초 정보 확인하기"
   ]
  },
  {
   "cell_type": "code",
   "execution_count": 1,
   "id": "87663457",
   "metadata": {
    "ExecuteTime": {
     "end_time": "2022-11-27T07:10:07.391225Z",
     "start_time": "2022-11-27T07:10:07.075122Z"
    }
   },
   "outputs": [
    {
     "name": "stdout",
     "output_type": "stream",
     "text": [
      "<class 'pandas.core.frame.DataFrame'>\n",
      "RangeIndex: 3500 entries, 0 to 3499\n",
      "Data columns (total 10 columns):\n",
      " #   Column   Non-Null Count  Dtype  \n",
      "---  ------   --------------  -----  \n",
      " 0   cust_id  3500 non-null   int64  \n",
      " 1   총구매액     3500 non-null   int64  \n",
      " 2   최대구매액    3500 non-null   int64  \n",
      " 3   환불금액     1205 non-null   float64\n",
      " 4   주구매상품    3500 non-null   object \n",
      " 5   주구매지점    3500 non-null   object \n",
      " 6   내점일수     3500 non-null   int64  \n",
      " 7   내점당구매건수  3500 non-null   float64\n",
      " 8   주말방문비율   3500 non-null   float64\n",
      " 9   구매주기     3500 non-null   int64  \n",
      "dtypes: float64(3), int64(5), object(2)\n",
      "memory usage: 273.6+ KB\n"
     ]
    },
    {
     "data": {
      "text/html": [
       "<div>\n",
       "<style scoped>\n",
       "    .dataframe tbody tr th:only-of-type {\n",
       "        vertical-align: middle;\n",
       "    }\n",
       "\n",
       "    .dataframe tbody tr th {\n",
       "        vertical-align: top;\n",
       "    }\n",
       "\n",
       "    .dataframe thead th {\n",
       "        text-align: right;\n",
       "    }\n",
       "</style>\n",
       "<table border=\"1\" class=\"dataframe\">\n",
       "  <thead>\n",
       "    <tr style=\"text-align: right;\">\n",
       "      <th></th>\n",
       "      <th>cust_id</th>\n",
       "      <th>총구매액</th>\n",
       "      <th>최대구매액</th>\n",
       "      <th>환불금액</th>\n",
       "      <th>내점일수</th>\n",
       "      <th>내점당구매건수</th>\n",
       "      <th>주말방문비율</th>\n",
       "      <th>구매주기</th>\n",
       "    </tr>\n",
       "  </thead>\n",
       "  <tbody>\n",
       "    <tr>\n",
       "      <th>count</th>\n",
       "      <td>3500.000000</td>\n",
       "      <td>3.500000e+03</td>\n",
       "      <td>3.500000e+03</td>\n",
       "      <td>1.205000e+03</td>\n",
       "      <td>3500.000000</td>\n",
       "      <td>3500.000000</td>\n",
       "      <td>3500.000000</td>\n",
       "      <td>3500.000000</td>\n",
       "    </tr>\n",
       "    <tr>\n",
       "      <th>mean</th>\n",
       "      <td>1749.500000</td>\n",
       "      <td>9.191925e+07</td>\n",
       "      <td>1.966424e+07</td>\n",
       "      <td>2.407822e+07</td>\n",
       "      <td>19.253714</td>\n",
       "      <td>2.834963</td>\n",
       "      <td>0.307246</td>\n",
       "      <td>20.958286</td>\n",
       "    </tr>\n",
       "    <tr>\n",
       "      <th>std</th>\n",
       "      <td>1010.507298</td>\n",
       "      <td>1.635065e+08</td>\n",
       "      <td>3.199235e+07</td>\n",
       "      <td>4.746453e+07</td>\n",
       "      <td>27.174942</td>\n",
       "      <td>1.912368</td>\n",
       "      <td>0.289752</td>\n",
       "      <td>24.748682</td>\n",
       "    </tr>\n",
       "    <tr>\n",
       "      <th>min</th>\n",
       "      <td>0.000000</td>\n",
       "      <td>-5.242152e+07</td>\n",
       "      <td>-2.992000e+06</td>\n",
       "      <td>5.600000e+03</td>\n",
       "      <td>1.000000</td>\n",
       "      <td>1.000000</td>\n",
       "      <td>0.000000</td>\n",
       "      <td>0.000000</td>\n",
       "    </tr>\n",
       "    <tr>\n",
       "      <th>25%</th>\n",
       "      <td>874.750000</td>\n",
       "      <td>4.747050e+06</td>\n",
       "      <td>2.875000e+06</td>\n",
       "      <td>2.259000e+06</td>\n",
       "      <td>2.000000</td>\n",
       "      <td>1.666667</td>\n",
       "      <td>0.027291</td>\n",
       "      <td>4.000000</td>\n",
       "    </tr>\n",
       "    <tr>\n",
       "      <th>50%</th>\n",
       "      <td>1749.500000</td>\n",
       "      <td>2.822270e+07</td>\n",
       "      <td>9.837000e+06</td>\n",
       "      <td>7.392000e+06</td>\n",
       "      <td>8.000000</td>\n",
       "      <td>2.333333</td>\n",
       "      <td>0.256410</td>\n",
       "      <td>13.000000</td>\n",
       "    </tr>\n",
       "    <tr>\n",
       "      <th>75%</th>\n",
       "      <td>2624.250000</td>\n",
       "      <td>1.065079e+08</td>\n",
       "      <td>2.296250e+07</td>\n",
       "      <td>2.412000e+07</td>\n",
       "      <td>25.000000</td>\n",
       "      <td>3.375000</td>\n",
       "      <td>0.448980</td>\n",
       "      <td>28.000000</td>\n",
       "    </tr>\n",
       "    <tr>\n",
       "      <th>max</th>\n",
       "      <td>3499.000000</td>\n",
       "      <td>2.323180e+09</td>\n",
       "      <td>7.066290e+08</td>\n",
       "      <td>5.637530e+08</td>\n",
       "      <td>285.000000</td>\n",
       "      <td>22.083333</td>\n",
       "      <td>1.000000</td>\n",
       "      <td>166.000000</td>\n",
       "    </tr>\n",
       "  </tbody>\n",
       "</table>\n",
       "</div>"
      ],
      "text/plain": [
       "           cust_id          총구매액         최대구매액          환불금액         내점일수  \\\n",
       "count  3500.000000  3.500000e+03  3.500000e+03  1.205000e+03  3500.000000   \n",
       "mean   1749.500000  9.191925e+07  1.966424e+07  2.407822e+07    19.253714   \n",
       "std    1010.507298  1.635065e+08  3.199235e+07  4.746453e+07    27.174942   \n",
       "min       0.000000 -5.242152e+07 -2.992000e+06  5.600000e+03     1.000000   \n",
       "25%     874.750000  4.747050e+06  2.875000e+06  2.259000e+06     2.000000   \n",
       "50%    1749.500000  2.822270e+07  9.837000e+06  7.392000e+06     8.000000   \n",
       "75%    2624.250000  1.065079e+08  2.296250e+07  2.412000e+07    25.000000   \n",
       "max    3499.000000  2.323180e+09  7.066290e+08  5.637530e+08   285.000000   \n",
       "\n",
       "           내점당구매건수       주말방문비율         구매주기  \n",
       "count  3500.000000  3500.000000  3500.000000  \n",
       "mean      2.834963     0.307246    20.958286  \n",
       "std       1.912368     0.289752    24.748682  \n",
       "min       1.000000     0.000000     0.000000  \n",
       "25%       1.666667     0.027291     4.000000  \n",
       "50%       2.333333     0.256410    13.000000  \n",
       "75%       3.375000     0.448980    28.000000  \n",
       "max      22.083333     1.000000   166.000000  "
      ]
     },
     "execution_count": 1,
     "metadata": {},
     "output_type": "execute_result"
    }
   ],
   "source": [
    "import pandas as pd\n",
    "\n",
    "x_train = pd.read_csv('x_train.csv', encoding='cp949')\n",
    "x_test = pd.read_csv('x_test.csv', encoding='cp949')\n",
    "y_train = pd.read_csv('y_train.csv', encoding='cp949')\n",
    "\n",
    "# print(x_train.columns)\n",
    "x_train.info()\n",
    "x_train.describe()"
   ]
  },
  {
   "cell_type": "markdown",
   "id": "a9d724e0",
   "metadata": {},
   "source": [
    "#### 전처리"
   ]
  },
  {
   "cell_type": "code",
   "execution_count": 2,
   "id": "e274eaf8",
   "metadata": {
    "ExecuteTime": {
     "end_time": "2022-11-27T07:10:07.395060Z",
     "start_time": "2022-11-27T07:10:07.392522Z"
    }
   },
   "outputs": [],
   "source": [
    "# cust_id는 분석 과정에서 불필요하지만 마지막에 CSV 파일 만들 때 필요하므로\n",
    "# 따로 남겨놓기\n",
    "x_train_cust_id = x_train.pop('cust_id')\n",
    "y_train_cust_id = y_train.pop('cust_id')\n",
    "x_test_cust_id = x_test.pop('cust_id')"
   ]
  },
  {
   "cell_type": "code",
   "execution_count": 3,
   "id": "f0b6c909",
   "metadata": {
    "ExecuteTime": {
     "end_time": "2022-11-27T07:10:07.409591Z",
     "start_time": "2022-11-27T07:10:07.397760Z"
    }
   },
   "outputs": [
    {
     "name": "stdout",
     "output_type": "stream",
     "text": [
      "<class 'pandas.core.frame.DataFrame'>\n",
      "RangeIndex: 3500 entries, 0 to 3499\n",
      "Data columns (total 9 columns):\n",
      " #   Column   Non-Null Count  Dtype  \n",
      "---  ------   --------------  -----  \n",
      " 0   총구매액     3500 non-null   int64  \n",
      " 1   최대구매액    3500 non-null   int64  \n",
      " 2   환불금액     1205 non-null   float64\n",
      " 3   주구매상품    3500 non-null   object \n",
      " 4   주구매지점    3500 non-null   object \n",
      " 5   내점일수     3500 non-null   int64  \n",
      " 6   내점당구매건수  3500 non-null   float64\n",
      " 7   주말방문비율   3500 non-null   float64\n",
      " 8   구매주기     3500 non-null   int64  \n",
      "dtypes: float64(3), int64(4), object(2)\n",
      "memory usage: 246.2+ KB\n",
      "None\n",
      "<class 'pandas.core.frame.DataFrame'>\n",
      "RangeIndex: 3500 entries, 0 to 3499\n",
      "Data columns (total 9 columns):\n",
      " #   Column   Non-Null Count  Dtype  \n",
      "---  ------   --------------  -----  \n",
      " 0   총구매액     3500 non-null   int64  \n",
      " 1   최대구매액    3500 non-null   int64  \n",
      " 2   환불금액     3500 non-null   float64\n",
      " 3   주구매상품    3500 non-null   object \n",
      " 4   주구매지점    3500 non-null   object \n",
      " 5   내점일수     3500 non-null   int64  \n",
      " 6   내점당구매건수  3500 non-null   float64\n",
      " 7   주말방문비율   3500 non-null   float64\n",
      " 8   구매주기     3500 non-null   int64  \n",
      "dtypes: float64(3), int64(4), object(2)\n",
      "memory usage: 246.2+ KB\n",
      "None\n"
     ]
    }
   ],
   "source": [
    "# 결측치 확인 후 환불금액만 결측치가 있음\n",
    "# 이 결측치는 환불을 하지 않은 것이므로 0으로 채움\n",
    "print(x_train.info())\n",
    "x_train['환불금액'] = x_train['환불금액'].fillna(0)\n",
    "print(x_train.info())\n",
    "\n",
    "# 이거 x_test도 해줘야함 나중에 모델 사용할 때 결측치 있으면 안됨\n",
    "x_test['환불금액'] = x_test['환불금액'].fillna(0)"
   ]
  },
  {
   "cell_type": "code",
   "execution_count": 4,
   "id": "5bc1bbd6",
   "metadata": {
    "ExecuteTime": {
     "end_time": "2022-11-27T07:10:07.659885Z",
     "start_time": "2022-11-27T07:10:07.410899Z"
    }
   },
   "outputs": [
    {
     "name": "stdout",
     "output_type": "stream",
     "text": [
      "['기타' '스포츠' '남성 캐주얼' '보석' '디자이너' '시티웨어' '명품' '농산물' '화장품' '골프' '구두' '가공식품'\n",
      " '수산품' '아동' '차/커피' '캐주얼' '섬유잡화' '육류' '축산가공' '젓갈/반찬' '액세서리' '피혁잡화' '일용잡화'\n",
      " '주방가전' '주방용품' '건강식품' '가구' '주류' '모피/피혁' '남성 트랜디' '셔츠' '남성정장' '생활잡화'\n",
      " '트래디셔널' '란제리/내의' '커리어' '침구/수예' '대형가전' '통신/컴퓨터' '식기' '소형가전' '악기']\n",
      "['강남점' '잠실점' '관악점' '광주점' '본  점' '일산점' '대전점' '부산본점' '분당점' '영등포점' '미아점'\n",
      " '청량리점' '안양점' '부평점' '동래점' '포항점' '노원점' '창원점' '센텀시티점' '인천점' '대구점' '전주점'\n",
      " '울산점' '상인점']\n"
     ]
    },
    {
     "name": "stderr",
     "output_type": "stream",
     "text": [
      "/Users/dmis/opt/anaconda3/lib/python3.9/site-packages/scipy/__init__.py:146: UserWarning: A NumPy version >=1.16.5 and <1.23.0 is required for this version of SciPy (detected version 1.23.5\n",
      "  warnings.warn(f\"A NumPy version >={np_minversion} and <{np_maxversion}\"\n"
     ]
    }
   ],
   "source": [
    "# 범주형 변수 인코딩(주구매상품, 주구매지점)\n",
    "# 주구매상품 unique 값 확인\n",
    "print(x_train['주구매상품'].unique())\n",
    "print(x_train['주구매지점'].unique())\n",
    "\n",
    "# 이후 레이블 인코딩하기\n",
    "# unique한 값이 많아 원핫인코딩하면 컬럼이 너무 많이 생성됨\n",
    "from sklearn.preprocessing import LabelEncoder\n",
    "encoder = LabelEncoder()\n",
    "\n",
    "x_train['주구매상품'] = encoder.fit_transform(x_train['주구매상품'])\n",
    "# 인코딩 변환 순서 확인\n",
    "# print(encoder.classes_)\n",
    "x_train['주구매지점'] = encoder.fit_transform(x_train['주구매지점'])\n",
    "# 인코딩 변환 순서 확인\n",
    "# print(encoder.classes_)\n",
    "\n",
    "# x_train을 인코딩하면 x_test도 인코딩해줘야함\n",
    "x_test['주구매상품'] = encoder.fit_transform(x_test['주구매상품'])\n",
    "# 인코딩 변환 순서 확인\n",
    "# print(encoder.classes_)\n",
    "x_test['주구매지점'] = encoder.fit_transform(x_test['주구매지점'])\n",
    "# 인코딩 변환 순서 확인\n",
    "# print(encoder.classes_)"
   ]
  },
  {
   "cell_type": "code",
   "execution_count": 5,
   "id": "cc52730a",
   "metadata": {
    "ExecuteTime": {
     "end_time": "2022-11-27T07:10:07.667239Z",
     "start_time": "2022-11-27T07:10:07.660825Z"
    }
   },
   "outputs": [],
   "source": [
    "# 파생변수 만들기\n",
    "# 환불여부(환불금액이 0보다 크면 1, 0이면 0)\n",
    "x_train['환불여부'] = x_train['환불금액'] >0 \n",
    "x_train.astype(int)\n",
    "\n",
    "# 환불여부 만들었으니 기존 환불금액은 삭제하기\n",
    "x_train = x_train.drop(columns = '환불금액')\n",
    "x_train\n",
    "\n",
    "# 위의 과정 x_test도 해줘야함 안그러면 안됨\n",
    "x_test['환불여부'] = x_test['환불금액'] >0\n",
    "x_test.astype(int)\n",
    "x_test = x_test.drop(columns = '환불금액')"
   ]
  },
  {
   "cell_type": "code",
   "execution_count": 6,
   "id": "3eaea3b5",
   "metadata": {
    "ExecuteTime": {
     "end_time": "2022-11-27T07:10:07.704767Z",
     "start_time": "2022-11-27T07:10:07.668096Z"
    }
   },
   "outputs": [
    {
     "name": "stdout",
     "output_type": "stream",
     "text": [
      "               총구매액         최대구매액         주구매상품         주구매지점          내점일수  \\\n",
      "count  3.500000e+03  3.500000e+03  3.500000e+03  3.500000e+03  3.500000e+03   \n",
      "mean  -3.349701e-17 -4.263256e-17 -6.090366e-17 -8.767590e-17  4.669281e-17   \n",
      "std    1.000143e+00  1.000143e+00  1.000143e+00  1.000143e+00  1.000143e+00   \n",
      "min   -8.829091e-01 -7.082781e-01 -1.122438e+00 -1.904703e+00 -6.718072e-01   \n",
      "25%   -5.332182e-01 -5.248643e-01 -7.383573e-01 -4.851745e-01 -6.350034e-01   \n",
      "50%   -3.896215e-01 -3.072187e-01 -4.310925e-01 -3.077335e-01 -4.141802e-01   \n",
      "75%    8.923657e-02  1.031100e-01  5.675181e-01  7.569129e-01  2.114855e-01   \n",
      "max    1.364826e+01  2.147585e+01  2.027026e+00  2.176441e+00  9.780490e+00   \n",
      "\n",
      "            내점당구매건수        주말방문비율          구매주기          환불여부  \n",
      "count  3.500000e+03  3.500000e+03  3.500000e+03  3.500000e+03  \n",
      "mean  -2.618858e-16  7.917476e-17 -4.263256e-17  1.218073e-17  \n",
      "std    1.000143e+00  1.000143e+00  1.000143e+00  1.000143e+00  \n",
      "min   -9.596611e-01 -1.060530e+00 -8.469655e-01 -7.246064e-01  \n",
      "25%   -6.110034e-01 -9.663293e-01 -6.853177e-01 -7.246064e-01  \n",
      "50%   -2.623457e-01 -1.754721e-01 -3.216100e-01 -7.246064e-01  \n",
      "75%    2.824320e-01  4.892244e-01  2.845695e-01  1.380060e+00  \n",
      "max    1.006664e+01  2.391196e+00  5.861421e+00  1.380060e+00  \n",
      "               총구매액         최대구매액         주구매상품         주구매지점          내점일수  \\\n",
      "count  2.482000e+03  2.482000e+03  2.482000e+03  2.482000e+03  2.482000e+03   \n",
      "mean  -2.862783e-17 -5.582427e-17 -1.288252e-17 -1.259625e-16 -3.435340e-17   \n",
      "std    1.000202e+00  1.000202e+00  1.000202e+00  1.000202e+00  1.000202e+00   \n",
      "min   -7.995661e-01 -1.689694e+00 -1.107334e+00 -1.923695e+00 -7.130466e-01   \n",
      "25%   -5.540570e-01 -5.389550e-01 -7.037979e-01 -5.207388e-01 -6.745388e-01   \n",
      "50%   -4.071564e-01 -3.144210e-01 -3.809691e-01 -3.453692e-01 -4.049839e-01   \n",
      "75%    1.466577e-01  1.286029e-01  5.875171e-01  1.013745e+00  2.785302e-01   \n",
      "max    1.593854e+01  1.630764e+01  2.120954e+00  2.109805e+00  7.797186e+00   \n",
      "\n",
      "            내점당구매건수        주말방문비율          구매주기          환불여부  \n",
      "count  2.482000e+03  2.482000e+03  2.482000e+03  2.482000e+03  \n",
      "mean  -9.590323e-17 -1.259625e-16  1.646100e-17 -7.443236e-17  \n",
      "std    1.000202e+00  1.000202e+00  1.000202e+00  1.000202e+00  \n",
      "min   -1.037163e+00 -1.039885e+00 -8.416091e-01 -7.352945e-01  \n",
      "25%   -6.096170e-01 -9.568682e-01 -6.756608e-01 -7.352945e-01  \n",
      "50%   -2.214322e-01 -1.550629e-01 -3.022772e-01 -7.352945e-01  \n",
      "75%    3.167332e-01  4.592366e-01  2.785417e-01  1.359999e+00  \n",
      "max    7.442504e+00  2.499403e+00  6.501601e+00  1.359999e+00  \n"
     ]
    }
   ],
   "source": [
    "# 데이터 스케일링\n",
    "# 연속형 변수 표준화하기\n",
    "from sklearn.preprocessing import StandardScaler\n",
    "scaler = StandardScaler()\n",
    "\n",
    "# 근데 레이블인코딩한 애들은 표준화하면 좀 그렇지 않나? 이상하네\n",
    "x_train = pd.DataFrame(scaler.fit_transform(x_train), columns = x_train.columns)\n",
    "print(x_train.describe())\n",
    "\n",
    "# x_train만 표준화하고 x_test는 표준화하지 않는 것 조심: 둘 다 표준화 해야 함\n",
    "x_test = pd.DataFrame(scaler.fit_transform(x_test), columns = x_test.columns)\n",
    "print(x_test.describe())"
   ]
  },
  {
   "cell_type": "code",
   "execution_count": 7,
   "id": "802c2f4b",
   "metadata": {
    "ExecuteTime": {
     "end_time": "2022-11-27T07:10:07.711553Z",
     "start_time": "2022-11-27T07:10:07.705760Z"
    }
   },
   "outputs": [
    {
     "name": "stdout",
     "output_type": "stream",
     "text": [
      "             총구매액     최대구매액     주구매상품     주구매지점      내점일수   내점당구매건수    주말방문비율  \\\n",
      "총구매액     1.000000  0.700080 -0.082916 -0.038724  0.659084  0.090022  0.014396   \n",
      "최대구매액    0.700080  1.000000 -0.090729 -0.024819  0.374147  0.018980  0.022277   \n",
      "주구매상품   -0.082916 -0.090729  1.000000  0.015874 -0.185275 -0.274178 -0.010018   \n",
      "주구매지점   -0.038724 -0.024819  0.015874  1.000000 -0.059570 -0.080804  0.011990   \n",
      "내점일수     0.659084  0.374147 -0.185275 -0.059570  1.000000  0.225264 -0.010325   \n",
      "내점당구매건수  0.090022  0.018980 -0.274178 -0.080804  0.225264  1.000000  0.007659   \n",
      "주말방문비율   0.014396  0.022277 -0.010018  0.011990 -0.010325  0.007659  1.000000   \n",
      "구매주기    -0.212944 -0.115837  0.032469  0.035344 -0.293200 -0.091151  0.003372   \n",
      "환불여부     0.403357  0.330687 -0.121414 -0.061974  0.498958  0.063000 -0.008775   \n",
      "\n",
      "             구매주기      환불여부  \n",
      "총구매액    -0.212944  0.403357  \n",
      "최대구매액   -0.115837  0.330687  \n",
      "주구매상품    0.032469 -0.121414  \n",
      "주구매지점    0.035344 -0.061974  \n",
      "내점일수    -0.293200  0.498958  \n",
      "내점당구매건수 -0.091151  0.063000  \n",
      "주말방문비율   0.003372 -0.008775  \n",
      "구매주기     1.000000 -0.204851  \n",
      "환불여부    -0.204851  1.000000  \n",
      "Index(['총구매액', '주구매상품', '주구매지점', '내점일수', '내점당구매건수', '주말방문비율', '구매주기', '환불여부'], dtype='object')\n"
     ]
    }
   ],
   "source": [
    "# 피쳐간 상관관계확인 후 처리\n",
    "print(x_train.corr())\n",
    "# 상관계수의 절댓값이 0.6 이상이면 강한 상관관계가 존재한다고 판단함\n",
    "# 따라서 회귀 시 다중공선성 우려로 둘 중 하나 삭제 필요\n",
    "# 여기서는 '최대구매액'을 삭제\n",
    "# 이때 x_train, x_test 모두 삭제해줘야 함\n",
    "\n",
    "x_train.drop(columns = '최대구매액', inplace = True)\n",
    "x_test.drop(columns = '최대구매액', inplace = True)\n",
    "\n",
    "print(x_train.columns)"
   ]
  },
  {
   "cell_type": "markdown",
   "id": "f7d8f6a5",
   "metadata": {},
   "source": [
    "#### 학습하고 예측하기"
   ]
  },
  {
   "cell_type": "code",
   "execution_count": 8,
   "id": "c9e2c69a",
   "metadata": {
    "ExecuteTime": {
     "end_time": "2022-11-27T07:10:07.773157Z",
     "start_time": "2022-11-27T07:10:07.712536Z"
    }
   },
   "outputs": [
    {
     "data": {
      "text/plain": [
       "DecisionTreeClassifier()"
      ]
     },
     "execution_count": 8,
     "metadata": {},
     "output_type": "execute_result"
    }
   ],
   "source": [
    "# 데이터 학습시키기\n",
    "# 성별(male or female)은 이진 분류임\n",
    "# 여기서는 기본적인 의사결정나무 분류기(DecisionTreeclassifier) 사용\n",
    "# 이때 predict()로 나오는 결과는 Series이므로 pd.DataFrame 처리가 필요\n",
    "\n",
    "# 패키지 import 하기 어려울 때\n",
    "# import sklearn\n",
    "# print(dir(sklearn)) <- 여기서 tree 찾기\n",
    "# import sklearn.tree\n",
    "# print(help(sklearn.tree)) <- 여기서 DecisionTreeClassifier 찾기\n",
    "\n",
    "from sklearn.tree import DecisionTreeClassifier\n",
    "\n",
    "# model 객체 만들기\n",
    "model = DecisionTreeClassifier()\n",
    "\n",
    "# x_train, y_train으로 학습시키기\n",
    "model.fit(x_train, y_train)"
   ]
  },
  {
   "cell_type": "code",
   "execution_count": 9,
   "id": "67daae05",
   "metadata": {
    "ExecuteTime": {
     "end_time": "2022-11-27T07:10:07.781341Z",
     "start_time": "2022-11-27T07:10:07.775567Z"
    }
   },
   "outputs": [
    {
     "data": {
      "text/html": [
       "<div>\n",
       "<style scoped>\n",
       "    .dataframe tbody tr th:only-of-type {\n",
       "        vertical-align: middle;\n",
       "    }\n",
       "\n",
       "    .dataframe tbody tr th {\n",
       "        vertical-align: top;\n",
       "    }\n",
       "\n",
       "    .dataframe thead th {\n",
       "        text-align: right;\n",
       "    }\n",
       "</style>\n",
       "<table border=\"1\" class=\"dataframe\">\n",
       "  <thead>\n",
       "    <tr style=\"text-align: right;\">\n",
       "      <th></th>\n",
       "      <th>0</th>\n",
       "    </tr>\n",
       "  </thead>\n",
       "  <tbody>\n",
       "    <tr>\n",
       "      <th>0</th>\n",
       "      <td>1</td>\n",
       "    </tr>\n",
       "    <tr>\n",
       "      <th>1</th>\n",
       "      <td>0</td>\n",
       "    </tr>\n",
       "    <tr>\n",
       "      <th>2</th>\n",
       "      <td>0</td>\n",
       "    </tr>\n",
       "    <tr>\n",
       "      <th>3</th>\n",
       "      <td>0</td>\n",
       "    </tr>\n",
       "    <tr>\n",
       "      <th>4</th>\n",
       "      <td>0</td>\n",
       "    </tr>\n",
       "    <tr>\n",
       "      <th>...</th>\n",
       "      <td>...</td>\n",
       "    </tr>\n",
       "    <tr>\n",
       "      <th>2477</th>\n",
       "      <td>1</td>\n",
       "    </tr>\n",
       "    <tr>\n",
       "      <th>2478</th>\n",
       "      <td>0</td>\n",
       "    </tr>\n",
       "    <tr>\n",
       "      <th>2479</th>\n",
       "      <td>1</td>\n",
       "    </tr>\n",
       "    <tr>\n",
       "      <th>2480</th>\n",
       "      <td>1</td>\n",
       "    </tr>\n",
       "    <tr>\n",
       "      <th>2481</th>\n",
       "      <td>0</td>\n",
       "    </tr>\n",
       "  </tbody>\n",
       "</table>\n",
       "<p>2482 rows × 1 columns</p>\n",
       "</div>"
      ],
      "text/plain": [
       "      0\n",
       "0     1\n",
       "1     0\n",
       "2     0\n",
       "3     0\n",
       "4     0\n",
       "...  ..\n",
       "2477  1\n",
       "2478  0\n",
       "2479  1\n",
       "2480  1\n",
       "2481  0\n",
       "\n",
       "[2482 rows x 1 columns]"
      ]
     },
     "execution_count": 9,
     "metadata": {},
     "output_type": "execute_result"
    }
   ],
   "source": [
    "# 학습된 모델을 이용하여 x_test의 종속변수 y_test_predict만들기\n",
    "y_test_predict = model.predict(x_test)\n",
    "y_test_predict = pd.DataFrame(y_test_predict)\n",
    "y_test_predict"
   ]
  },
  {
   "cell_type": "code",
   "execution_count": 10,
   "id": "97f0233c",
   "metadata": {
    "ExecuteTime": {
     "end_time": "2022-11-27T07:10:07.801873Z",
     "start_time": "2022-11-27T07:10:07.782307Z"
    }
   },
   "outputs": [
    {
     "data": {
      "text/html": [
       "<div>\n",
       "<style scoped>\n",
       "    .dataframe tbody tr th:only-of-type {\n",
       "        vertical-align: middle;\n",
       "    }\n",
       "\n",
       "    .dataframe tbody tr th {\n",
       "        vertical-align: top;\n",
       "    }\n",
       "\n",
       "    .dataframe thead th {\n",
       "        text-align: right;\n",
       "    }\n",
       "</style>\n",
       "<table border=\"1\" class=\"dataframe\">\n",
       "  <thead>\n",
       "    <tr style=\"text-align: right;\">\n",
       "      <th></th>\n",
       "      <th>0</th>\n",
       "    </tr>\n",
       "  </thead>\n",
       "  <tbody>\n",
       "    <tr>\n",
       "      <th>0</th>\n",
       "      <td>1</td>\n",
       "    </tr>\n",
       "    <tr>\n",
       "      <th>1</th>\n",
       "      <td>0</td>\n",
       "    </tr>\n",
       "    <tr>\n",
       "      <th>2</th>\n",
       "      <td>0</td>\n",
       "    </tr>\n",
       "    <tr>\n",
       "      <th>3</th>\n",
       "      <td>0</td>\n",
       "    </tr>\n",
       "    <tr>\n",
       "      <th>4</th>\n",
       "      <td>0</td>\n",
       "    </tr>\n",
       "    <tr>\n",
       "      <th>...</th>\n",
       "      <td>...</td>\n",
       "    </tr>\n",
       "    <tr>\n",
       "      <th>2477</th>\n",
       "      <td>0</td>\n",
       "    </tr>\n",
       "    <tr>\n",
       "      <th>2478</th>\n",
       "      <td>0</td>\n",
       "    </tr>\n",
       "    <tr>\n",
       "      <th>2479</th>\n",
       "      <td>1</td>\n",
       "    </tr>\n",
       "    <tr>\n",
       "      <th>2480</th>\n",
       "      <td>1</td>\n",
       "    </tr>\n",
       "    <tr>\n",
       "      <th>2481</th>\n",
       "      <td>1</td>\n",
       "    </tr>\n",
       "  </tbody>\n",
       "</table>\n",
       "<p>2482 rows × 1 columns</p>\n",
       "</div>"
      ],
      "text/plain": [
       "      0\n",
       "0     1\n",
       "1     0\n",
       "2     0\n",
       "3     0\n",
       "4     0\n",
       "...  ..\n",
       "2477  0\n",
       "2478  0\n",
       "2479  1\n",
       "2480  1\n",
       "2481  1\n",
       "\n",
       "[2482 rows x 1 columns]"
      ]
     },
     "execution_count": 10,
     "metadata": {},
     "output_type": "execute_result"
    }
   ],
   "source": [
    "# 하이퍼파라미터 튜닝하기\n",
    "# 의사결정나무 분류기에서 대표적으로 사용하는 하이퍼파라미터 : max_depth, criterion\n",
    "model_with_hyperparam = DecisionTreeClassifier(max_depth = 10, \n",
    "                                               criterion = 'entropy')\n",
    "\n",
    "# 새로운 모델로 학습하기\n",
    "model_with_hyperparam.fit(x_train, y_train)\n",
    "y_test_predict_with_hyperparam = model_with_hyperparam.predict(x_test)\n",
    "y_test_predict_with_hyperparam = pd.DataFrame(y_test_predict_with_hyperparam)\n",
    "y_test_predict_with_hyperparam"
   ]
  },
  {
   "cell_type": "code",
   "execution_count": 11,
   "id": "e3da5166",
   "metadata": {
    "ExecuteTime": {
     "end_time": "2022-11-27T07:10:07.806654Z",
     "start_time": "2022-11-27T07:10:07.802818Z"
    }
   },
   "outputs": [],
   "source": [
    "# 결과 예측하기\n",
    "y_test_proba = model_with_hyperparam.predict_proba(x_test)\n",
    "y_test_proba = pd.DataFrame(y_test_proba)\n",
    "# y_test_proba.head(5)\n",
    "\n",
    "# 최종적으로 남성(1)로 분류될 확률을 구해야함\n",
    "result = y_test_proba[1]\n",
    "result = pd.DataFrame(result)"
   ]
  },
  {
   "cell_type": "markdown",
   "id": "9aab2b0c",
   "metadata": {},
   "source": [
    "#### 평가하기"
   ]
  },
  {
   "cell_type": "code",
   "execution_count": 12,
   "id": "b36fe6d4",
   "metadata": {
    "ExecuteTime": {
     "end_time": "2022-11-27T07:10:07.812987Z",
     "start_time": "2022-11-27T07:10:07.807653Z"
    }
   },
   "outputs": [
    {
     "name": "stdout",
     "output_type": "stream",
     "text": [
      "0.6894922453433092\n"
     ]
    }
   ],
   "source": [
    "# y_test의 실제값이 없으므로 x_train으로 y_train 예측 평가하기\n",
    "y_train_predict = model_with_hyperparam.predict(x_train)\n",
    "\n",
    "# roc평가지표 계산하기 위한 함수 가져오기\n",
    "from sklearn.metrics import roc_auc_score\n",
    "\n",
    "# roc_auc_score 확인하기\n",
    "print(roc_auc_score(y_train, y_train_predict))"
   ]
  },
  {
   "cell_type": "markdown",
   "id": "b6c108d4",
   "metadata": {},
   "source": [
    "#### 결과 제출하기"
   ]
  },
  {
   "cell_type": "code",
   "execution_count": 13,
   "id": "33accb82",
   "metadata": {
    "ExecuteTime": {
     "end_time": "2022-11-27T07:10:07.823334Z",
     "start_time": "2022-11-27T07:10:07.814066Z"
    }
   },
   "outputs": [
    {
     "name": "stdout",
     "output_type": "stream",
     "text": [
      "      cust_id  gender\n",
      "0        3500       1\n",
      "1        3501       0\n",
      "2        3502       0\n",
      "3        3503       0\n",
      "4        3504       0\n",
      "...       ...     ...\n",
      "2477     5977       0\n",
      "2478     5978       0\n",
      "2479     5979       1\n",
      "2480     5980       1\n",
      "2481     5981       1\n",
      "\n",
      "[2482 rows x 2 columns]\n"
     ]
    }
   ],
   "source": [
    "# x_test_cust_id랑 result 합치기\n",
    "# 이때 열을 합치는 것이므로 axis = 1\n",
    "# 행을 합치는 것이면 axis = 0\n",
    "df = pd.concat([x_test_cust_id, y_test_predict_with_hyperparam], axis = 1)\n",
    "df.columns = ['cust_id', 'gender']\n",
    "print(df)\n",
    "\n",
    "# CSV 파일로 저장하기\n",
    "df.to_csv('12345.csv', index = False)\n",
    "df1 = pd.read_csv('12345.csv')"
   ]
  },
  {
   "cell_type": "code",
   "execution_count": null,
   "id": "3256509a",
   "metadata": {},
   "outputs": [],
   "source": []
  },
  {
   "cell_type": "markdown",
   "id": "52ef3aec",
   "metadata": {},
   "source": [
    "### titanic 데이터로 생존 여부 예측하기\n",
    "\n",
    "* 제출한 모델의 성능은 ROC-AUC 평가지표에 따라 채점"
   ]
  },
  {
   "cell_type": "markdown",
   "id": "863b1a16",
   "metadata": {},
   "source": [
    "#### 기초 정보 확인하기"
   ]
  },
  {
   "cell_type": "code",
   "execution_count": 14,
   "id": "da5afbeb",
   "metadata": {
    "ExecuteTime": {
     "end_time": "2022-11-27T07:10:07.841126Z",
     "start_time": "2022-11-27T07:10:07.824381Z"
    }
   },
   "outputs": [
    {
     "name": "stdout",
     "output_type": "stream",
     "text": [
      "<class 'pandas.core.frame.DataFrame'>\n",
      "RangeIndex: 891 entries, 0 to 890\n",
      "Data columns (total 11 columns):\n",
      " #   Column       Non-Null Count  Dtype  \n",
      "---  ------       --------------  -----  \n",
      " 0   PassengerId  891 non-null    int64  \n",
      " 1   티켓등급         891 non-null    int64  \n",
      " 2   승객이름         891 non-null    object \n",
      " 3   성별           891 non-null    object \n",
      " 4   나이           714 non-null    float64\n",
      " 5   형제자매배우자수     891 non-null    int64  \n",
      " 6   부모자식수        891 non-null    int64  \n",
      " 7   티켓번호         891 non-null    object \n",
      " 8   운임요금         891 non-null    float64\n",
      " 9   객실번호         204 non-null    object \n",
      " 10  선착장          889 non-null    object \n",
      "dtypes: float64(2), int64(4), object(5)\n",
      "memory usage: 76.7+ KB\n",
      "<class 'pandas.core.frame.DataFrame'>\n",
      "RangeIndex: 891 entries, 0 to 890\n",
      "Data columns (total 2 columns):\n",
      " #   Column       Non-Null Count  Dtype\n",
      "---  ------       --------------  -----\n",
      " 0   PassengerId  891 non-null    int64\n",
      " 1   Survived     891 non-null    int64\n",
      "dtypes: int64(2)\n",
      "memory usage: 14.0 KB\n",
      "<class 'pandas.core.frame.DataFrame'>\n",
      "RangeIndex: 418 entries, 0 to 417\n",
      "Data columns (total 11 columns):\n",
      " #   Column       Non-Null Count  Dtype  \n",
      "---  ------       --------------  -----  \n",
      " 0   PassengerId  418 non-null    int64  \n",
      " 1   티켓등급         418 non-null    int64  \n",
      " 2   승객이름         418 non-null    object \n",
      " 3   성별           418 non-null    object \n",
      " 4   나이           332 non-null    float64\n",
      " 5   형제자매배우자수     418 non-null    int64  \n",
      " 6   부모자식수        418 non-null    int64  \n",
      " 7   티켓번호         418 non-null    object \n",
      " 8   운임요금         417 non-null    float64\n",
      " 9   객실번호         91 non-null     object \n",
      " 10  선착장          418 non-null    object \n",
      "dtypes: float64(2), int64(4), object(5)\n",
      "memory usage: 36.0+ KB\n"
     ]
    }
   ],
   "source": [
    "import pandas as pd\n",
    "x_train = pd.read_csv('titanic_x_train.csv', encoding='cp949')\n",
    "x_test = pd.read_csv('titanic_x_test.csv', encoding='cp949')\n",
    "y_train = pd.read_csv('titanic_y_train.csv', encoding='cp949')\n",
    "\n",
    "x_train.info()\n",
    "y_train.columns = ['PassengerId', 'Survived']\n",
    "y_train.info()\n",
    "x_test.info()"
   ]
  },
  {
   "cell_type": "code",
   "execution_count": 15,
   "id": "36cc6ae4",
   "metadata": {
    "ExecuteTime": {
     "end_time": "2022-11-27T07:10:07.845408Z",
     "start_time": "2022-11-27T07:10:07.842084Z"
    }
   },
   "outputs": [],
   "source": [
    "# 필요없어 보이는 객실번호, 승객이름 삭제하기\n",
    "x_train.drop(columns = ['객실번호', '승객이름', '티켓번호'], inplace = True)\n",
    "x_test.drop(columns = ['객실번호', '승객이름', '티켓번호'], inplace = True)"
   ]
  },
  {
   "cell_type": "code",
   "execution_count": 16,
   "id": "2baa6b31",
   "metadata": {
    "ExecuteTime": {
     "end_time": "2022-11-27T07:10:07.849775Z",
     "start_time": "2022-11-27T07:10:07.846459Z"
    }
   },
   "outputs": [],
   "source": [
    "# 예측에 필요하지 않지만 이후 필요한 PassengerId 따로 저장해놓기\n",
    "x_train_passenger_id = x_train.pop('PassengerId')\n",
    "y_train_passenger_id = y_train.pop('PassengerId')\n",
    "x_test_passenger_id = x_test.pop('PassengerId')"
   ]
  },
  {
   "cell_type": "code",
   "execution_count": 17,
   "id": "66592309",
   "metadata": {
    "ExecuteTime": {
     "end_time": "2022-11-27T07:10:07.859405Z",
     "start_time": "2022-11-27T07:10:07.851223Z"
    }
   },
   "outputs": [
    {
     "name": "stdout",
     "output_type": "stream",
     "text": [
      "<class 'pandas.core.frame.DataFrame'>\n",
      "RangeIndex: 891 entries, 0 to 890\n",
      "Data columns (total 7 columns):\n",
      " #   Column    Non-Null Count  Dtype  \n",
      "---  ------    --------------  -----  \n",
      " 0   티켓등급      891 non-null    int64  \n",
      " 1   성별        891 non-null    object \n",
      " 2   나이        714 non-null    float64\n",
      " 3   형제자매배우자수  891 non-null    int64  \n",
      " 4   부모자식수     891 non-null    int64  \n",
      " 5   운임요금      891 non-null    float64\n",
      " 6   선착장       889 non-null    object \n",
      "dtypes: float64(2), int64(3), object(2)\n",
      "memory usage: 48.9+ KB\n",
      "<class 'pandas.core.frame.DataFrame'>\n",
      "RangeIndex: 418 entries, 0 to 417\n",
      "Data columns (total 7 columns):\n",
      " #   Column    Non-Null Count  Dtype  \n",
      "---  ------    --------------  -----  \n",
      " 0   티켓등급      418 non-null    int64  \n",
      " 1   성별        418 non-null    object \n",
      " 2   나이        332 non-null    float64\n",
      " 3   형제자매배우자수  418 non-null    int64  \n",
      " 4   부모자식수     418 non-null    int64  \n",
      " 5   운임요금      417 non-null    float64\n",
      " 6   선착장       418 non-null    object \n",
      "dtypes: float64(2), int64(3), object(2)\n",
      "memory usage: 23.0+ KB\n"
     ]
    }
   ],
   "source": [
    "# 이후 데이터 확인\n",
    "x_train.info()\n",
    "x_test.info()"
   ]
  },
  {
   "cell_type": "code",
   "execution_count": 18,
   "id": "31ae6588",
   "metadata": {
    "ExecuteTime": {
     "end_time": "2022-11-27T07:10:07.868550Z",
     "start_time": "2022-11-27T07:10:07.860548Z"
    }
   },
   "outputs": [
    {
     "name": "stdout",
     "output_type": "stream",
     "text": [
      "[3 1 2]\n",
      "['male' 'female']\n",
      "['S' 'C' 'Q' nan]\n",
      "<class 'pandas.core.frame.DataFrame'>\n",
      "RangeIndex: 891 entries, 0 to 890\n",
      "Data columns (total 7 columns):\n",
      " #   Column    Non-Null Count  Dtype  \n",
      "---  ------    --------------  -----  \n",
      " 0   티켓등급      891 non-null    int64  \n",
      " 1   성별        891 non-null    object \n",
      " 2   나이        714 non-null    float64\n",
      " 3   형제자매배우자수  891 non-null    int64  \n",
      " 4   부모자식수     891 non-null    int64  \n",
      " 5   운임요금      891 non-null    float64\n",
      " 6   선착장       891 non-null    object \n",
      "dtypes: float64(2), int64(3), object(2)\n",
      "memory usage: 48.9+ KB\n"
     ]
    }
   ],
   "source": [
    "# 원핫인코딩을 해도 될지 티켓등급, 성별 unique한 값 확인\n",
    "print(x_train['티켓등급'].unique())\n",
    "print(x_train['성별'].unique())\n",
    "print(x_train['선착장'].unique())\n",
    "\n",
    "# 선착장 결측치 최빈값으로 대체하기\n",
    "marina_mode = x_train['선착장'].mode()\n",
    "x_train['선착장'] = x_train['선착장'].fillna(marina_mode[0])\n",
    "x_train.info()"
   ]
  },
  {
   "cell_type": "code",
   "execution_count": 19,
   "id": "5c1bd793",
   "metadata": {
    "ExecuteTime": {
     "end_time": "2022-11-27T07:10:07.872874Z",
     "start_time": "2022-11-27T07:10:07.869555Z"
    }
   },
   "outputs": [],
   "source": [
    "# 원핫인코딩할까하다가 선착장때문에 그냥 레이블인코딩하기\n",
    "from sklearn.preprocessing import LabelEncoder\n",
    "encoder = LabelEncoder()\n",
    "x_train['성별'] = encoder.fit_transform(x_train['성별'])\n",
    "x_test['성별'] = encoder.fit_transform(x_test['성별'])\n",
    "x_train['선착장'] = encoder.fit_transform(x_train['선착장'])\n",
    "x_test['선착장'] = encoder.fit_transform(x_test['선착장'])"
   ]
  },
  {
   "cell_type": "code",
   "execution_count": 25,
   "id": "9cacf3b9",
   "metadata": {
    "ExecuteTime": {
     "end_time": "2022-11-27T07:11:18.903746Z",
     "start_time": "2022-11-27T07:11:18.862062Z"
    }
   },
   "outputs": [
    {
     "name": "stdout",
     "output_type": "stream",
     "text": [
      "<class 'pandas.core.frame.DataFrame'>\n",
      "RangeIndex: 891 entries, 0 to 890\n",
      "Data columns (total 7 columns):\n",
      " #   Column    Non-Null Count  Dtype  \n",
      "---  ------    --------------  -----  \n",
      " 0   티켓등급      891 non-null    int64  \n",
      " 1   성별        891 non-null    int64  \n",
      " 2   나이        714 non-null    float64\n",
      " 3   형제자매배우자수  891 non-null    int64  \n",
      " 4   부모자식수     891 non-null    int64  \n",
      " 5   운임요금      891 non-null    float64\n",
      " 6   선착장       891 non-null    int64  \n",
      "dtypes: float64(2), int64(5)\n",
      "memory usage: 48.9 KB\n",
      "<class 'pandas.core.frame.DataFrame'>\n",
      "RangeIndex: 891 entries, 0 to 890\n",
      "Data columns (total 7 columns):\n",
      " #   Column    Non-Null Count  Dtype  \n",
      "---  ------    --------------  -----  \n",
      " 0   티켓등급      891 non-null    int64  \n",
      " 1   성별        891 non-null    int64  \n",
      " 2   나이        891 non-null    float64\n",
      " 3   형제자매배우자수  891 non-null    int64  \n",
      " 4   부모자식수     891 non-null    int64  \n",
      " 5   운임요금      891 non-null    float64\n",
      " 6   선착장       891 non-null    int64  \n",
      "dtypes: float64(2), int64(5)\n",
      "memory usage: 48.9 KB\n"
     ]
    }
   ],
   "source": [
    "# 나이 결측치는 중앙값으로 대체하기\n",
    "x_train.info()\n",
    "x_train.describe()\n",
    "\n",
    "age_median = x_train['나이'].median()\n",
    "age_median\n",
    "x_train['나이'].fillna(age_median, inplace = True)\n",
    "x_train.info()"
   ]
  },
  {
   "cell_type": "code",
   "execution_count": 36,
   "id": "6d762705",
   "metadata": {
    "ExecuteTime": {
     "end_time": "2022-11-27T07:19:04.671426Z",
     "start_time": "2022-11-27T07:19:04.644487Z"
    }
   },
   "outputs": [
    {
     "name": "stdout",
     "output_type": "stream",
     "text": [
      "<class 'pandas.core.frame.DataFrame'>\n",
      "RangeIndex: 418 entries, 0 to 417\n",
      "Data columns (total 7 columns):\n",
      " #   Column    Non-Null Count  Dtype  \n",
      "---  ------    --------------  -----  \n",
      " 0   티켓등급      418 non-null    int64  \n",
      " 1   성별        418 non-null    int64  \n",
      " 2   나이        332 non-null    float64\n",
      " 3   형제자매배우자수  418 non-null    int64  \n",
      " 4   부모자식수     418 non-null    int64  \n",
      " 5   운임요금      417 non-null    float64\n",
      " 6   선착장       418 non-null    int64  \n",
      "dtypes: float64(2), int64(5)\n",
      "memory usage: 23.0 KB\n",
      "<class 'pandas.core.frame.DataFrame'>\n",
      "RangeIndex: 418 entries, 0 to 417\n",
      "Data columns (total 7 columns):\n",
      " #   Column    Non-Null Count  Dtype  \n",
      "---  ------    --------------  -----  \n",
      " 0   티켓등급      418 non-null    int64  \n",
      " 1   성별        418 non-null    int64  \n",
      " 2   나이        418 non-null    float64\n",
      " 3   형제자매배우자수  418 non-null    int64  \n",
      " 4   부모자식수     418 non-null    int64  \n",
      " 5   운임요금      418 non-null    float64\n",
      " 6   선착장       418 non-null    int64  \n",
      "dtypes: float64(2), int64(5)\n",
      "memory usage: 23.0 KB\n"
     ]
    }
   ],
   "source": [
    "# x_test도 같은 방법으로 전처리해주기\n",
    "x_test.info()\n",
    "\n",
    "# 나이, 운임요금을 모두 중앙값으로 대체하기\n",
    "test_age_med = x_test['나이'].median()\n",
    "test_fee_med = x_test['운임요금'].median()\n",
    "\n",
    "x_test['나이'].fillna(test_age_med, inplace = True)\n",
    "x_test['운임요금'].fillna(test_fee_med, inplace = True)\n",
    "x_test.info()"
   ]
  },
  {
   "cell_type": "code",
   "execution_count": 44,
   "id": "e8aecae4",
   "metadata": {
    "ExecuteTime": {
     "end_time": "2022-11-27T07:21:27.437734Z",
     "start_time": "2022-11-27T07:21:27.413033Z"
    }
   },
   "outputs": [
    {
     "name": "stdout",
     "output_type": "stream",
     "text": [
      "0.8920285686894833\n"
     ]
    }
   ],
   "source": [
    "# 예측모델만들기\n",
    "from sklearn.tree import DecisionTreeClassifier \n",
    "model = DecisionTreeClassifier(max_depth = 10, criterion = 'entropy')\n",
    "model.fit(x_train, y_train)\n",
    "\n",
    "# x_train으로 검증해보기\n",
    "# 원래는 train 데이터의 80%를 학습용, 20%를 검증용으로 하는데 처음이니까 그냥 100% 다 해보기\n",
    "train_predict = pd.DataFrame(model.predict(x_train))\n",
    "\n",
    "# roc평가지표 계산하기 위한 함수 가져오기\n",
    "from sklearn.metrics import roc_auc_score\n",
    "\n",
    "# roc_auc_score 확인하기 -> 0.89\n",
    "print(roc_auc_score(y_train, train_predict))"
   ]
  },
  {
   "cell_type": "code",
   "execution_count": 50,
   "id": "f8da6206",
   "metadata": {
    "ExecuteTime": {
     "end_time": "2022-11-27T07:24:09.012859Z",
     "start_time": "2022-11-27T07:24:08.991062Z"
    }
   },
   "outputs": [
    {
     "name": "stdout",
     "output_type": "stream",
     "text": [
      "     PassenggerId  Survived\n",
      "0             892         0\n",
      "1             893         0\n",
      "2             894         0\n",
      "3             895         0\n",
      "4             896         1\n",
      "..            ...       ...\n",
      "413          1305         0\n",
      "414          1306         1\n",
      "415          1307         0\n",
      "416          1308         0\n",
      "417          1309         0\n",
      "\n",
      "[418 rows x 2 columns]\n"
     ]
    },
    {
     "data": {
      "text/plain": [
       "(418, 2)"
      ]
     },
     "execution_count": 50,
     "metadata": {},
     "output_type": "execute_result"
    }
   ],
   "source": [
    "# 예측 모델에 x_test 집어넣고 CSV 파일 만들기\n",
    "test_predict = pd.DataFrame(model.predict(x_test))\n",
    "result = pd.concat([x_test_passenger_id, test_predict], axis = 1)\n",
    "result.columns = ['PassenggerId', 'Survived']\n",
    "print(result)\n",
    "\n",
    "result.to_csv('result.csv', index = False)\n",
    "\n",
    "result.shape"
   ]
  },
  {
   "cell_type": "markdown",
   "id": "9ee6e362",
   "metadata": {},
   "source": [
    "### 위에서  보완할 점\n",
    "* 전처리 중 스케일링이 되지 않았다.\n",
    "    * StandardScaling 또는 RobustScaling을 했어야 한다.\n",
    "* 검증데이터(data for validation)를 만들고 검증을 하지 않았다.\n",
    "    * 실제 시험에서는 검증데이터가 없으면 모델의 성능이 얼마나 되는지 알 수가 없다."
   ]
  },
  {
   "cell_type": "markdown",
   "id": "6f4db02b",
   "metadata": {},
   "source": [
    "#### 보완해보기 <- 처음부터 다시"
   ]
  },
  {
   "cell_type": "code",
   "execution_count": 89,
   "id": "dc719cf5",
   "metadata": {
    "scrolled": true
   },
   "outputs": [],
   "source": [
    "import pandas as pd\n",
    "x_train = pd.read_csv('titanic_x_train.csv', encoding='cp949')\n",
    "x_test = pd.read_csv('titanic_x_test.csv', encoding='cp949')\n",
    "y_train = pd.read_csv('titanic_y_train.csv', encoding='cp949')\n",
    "\n",
    "# x_train.info()\n",
    "y_train.columns = ['PassengerId', 'Survived']\n",
    "# y_train.info()\n",
    "# x_test.info()\n",
    "\n",
    "x_train.drop(columns = ['PassengerId'], inplace = True)\n",
    "y_train.drop(columns = ['PassengerId'], inplace = True)\n",
    "x_test_PassengerId = x_test.pop('PassengerId')\n",
    "\n",
    "# print(x_train.isnull().sum(), x_test.isnull().sum())\n",
    "\n",
    "# 나이 중앙값으로 채워주기\n",
    "x_train_age_med = x_train['나이'].median()\n",
    "x_test_age_med = x_test['나이'].median()\n",
    "\n",
    "x_train['나이'].fillna(x_train_age_med, inplace = True)\n",
    "x_test['나이'].fillna(x_test_age_med, inplace = True)\n",
    "# print(x_train.isnull().sum(), x_test.isnull().sum())\n",
    "\n",
    "# 선착장 최빈값으로 채워주기\n",
    "x_train_marina_mode = x_train['선착장'].mode()\n",
    "x_test_marina_mode = x_test['선착장'].mode()\n",
    "# print(x_train_marina_mode[0], x_test_marina_mode[0])\n",
    "\n",
    "x_train['선착장'].fillna(x_train_marina_mode[0], inplace = True)\n",
    "x_test['선착장'].fillna(x_test_marina_mode[0], inplace = True)\n",
    "# print(x_train.isnull().sum(), x_test.isnull().sum())\n",
    "\n",
    "# test 데이터의 운임요금 중앙값으로 대체하기\n",
    "x_test_fee_med = x_test['운임요금'].median()\n",
    "x_test['운임요금'].fillna(x_test_fee_med, inplace = True)\n",
    "# print(x_train.isnull().sum(), x_test.isnull().sum())\n",
    "\n",
    "# 형제자매배우자수, 부모자식수를 합하여 가족수라는 파생변수 만들기\n",
    "x_train['가족수'] = x_train['형제자매배우자수'] + x_train['부모자식수']\n",
    "x_test['가족수'] = x_test['형제자매배우자수'] + x_test['부모자식수']\n",
    "\n",
    "# 필요하지 않은 피처(형제자매배우자수, 부모자식수, 티켓번호, 객실번호, 승객이름) 지우기\n",
    "x_train.drop(columns = ['형제자매배우자수', '부모자식수', '티켓번호', '객실번호', '승객이름'], inplace = True)\n",
    "x_test.drop(columns = ['형제자매배우자수', '부모자식수', '티켓번호', '객실번호', '승객이름'], inplace = True)\n",
    "\n",
    "# 뭔과 관련있지 않을까 해서 확인\n",
    "# x_train[['티켓등급', '운임요금']].corr()\n",
    "\n",
    "# 성별, 선착장 레이블인코딩하기\n",
    "from sklearn.preprocessing import LabelEncoder\n",
    "encoder = LabelEncoder()\n",
    "\n",
    "x_train['성별'] = encoder.fit_transform(x_train['성별'])\n",
    "x_train['선착장'] = encoder.fit_transform(x_train['선착장'])\n",
    "x_test['성별'] = encoder.fit_transform(x_test['성별'])\n",
    "x_test['선착장'] = encoder.fit_transform(x_test['선착장'])\n",
    "# print(x_train.info(), x_test.info())\n",
    "\n",
    "# Robust Scaling 하기\n",
    "from sklearn.preprocessing import RobustScaler\n",
    "scaler = RobustScaler()\n",
    "\n",
    "x_train = pd.DataFrame(scaler.fit_transform(x_train), columns = x_train.columns)\n",
    "x_test = pd.DataFrame(scaler.fit_transform(x_test), columns = x_test.columns)\n",
    "\n",
    "# 훈련데이터와 검증데이터 나누기\n",
    "# 보통 훈련데이터와 검증데이터의 비율은 8:2정도로 한다.\n",
    "from sklearn.model_selection import train_test_split\n",
    "x_train, x_val, y_train, y_val = train_test_split(x_train, y_train, test_size = 0.2)\n",
    "\n",
    "# 훈련 후 검증하기\n",
    "from sklearn.tree import DecisionTreeClassifier\n",
    "model = DecisionTreeClassifier(max_depth = 10, criterion = 'gini')\n",
    "model.fit(x_train, y_train)\n",
    "\n",
    "y_val_predict = pd.DataFrame(model.predict(x_val))\n",
    "y_val_predict.columns = ['Survived']\n",
    "\n",
    "# 검증은 roc_auc_score로 해보기\n",
    "from sklearn.metrics import roc_auc_score, f1_score\n",
    "# print(roc_auc_score(y_val, y_val_predict))\n",
    "# max_depth = 10, criterion = 'entropy' -> score : 0.8076765188834154\n",
    "# max_depth = 10, criterion = 'gini' -> score : 0.8407557354925775\n",
    "\n",
    "# 제출할 자료(y_test)만들기\n",
    "y_test = pd.DataFrame(model.predict(x_test))\n",
    "y_test.columns = ['Survived']\n",
    "\n",
    "result = pd.concat([x_test_PassengerId, y_test], axis = 1)\n",
    "result.to_csv('Submission.csv', index = False)"
   ]
  }
 ],
 "metadata": {
  "kernelspec": {
   "display_name": "Python 3 (ipykernel)",
   "language": "python",
   "name": "python3"
  },
  "language_info": {
   "codemirror_mode": {
    "name": "ipython",
    "version": 3
   },
   "file_extension": ".py",
   "mimetype": "text/x-python",
   "name": "python",
   "nbconvert_exporter": "python",
   "pygments_lexer": "ipython3",
   "version": "3.9.12"
  },
  "toc": {
   "base_numbering": 1,
   "nav_menu": {},
   "number_sections": true,
   "sideBar": true,
   "skip_h1_title": false,
   "title_cell": "Table of Contents",
   "title_sidebar": "Contents",
   "toc_cell": false,
   "toc_position": {},
   "toc_section_display": true,
   "toc_window_display": false
  }
 },
 "nbformat": 4,
 "nbformat_minor": 5
}
