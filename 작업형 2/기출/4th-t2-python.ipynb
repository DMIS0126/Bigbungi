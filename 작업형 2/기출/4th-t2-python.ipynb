{
 "cells": [
  {
   "cell_type": "markdown",
   "id": "f0a23c6a",
   "metadata": {
    "papermill": {
     "duration": 0.002428,
     "end_time": "2022-11-27T12:54:29.118087",
     "exception": false,
     "start_time": "2022-11-27T12:54:29.115659",
     "status": "completed"
    },
    "tags": []
   },
   "source": [

   ]
  },
  {
   "cell_type": "markdown",
   "id": "2e7e2f08",
   "metadata": {
    "papermill": {
     "duration": 0.001567,
     "end_time": "2022-11-27T12:54:29.121441",
     "exception": false,
     "start_time": "2022-11-27T12:54:29.119874",
     "status": "completed"
    },
    "tags": []
   },
   "source": [
    "## Q. [마케팅] 자동차 시장 세분화\n",
    "- 자동차 회사는 새로운 전략을 수립하기 위해 4개의 시장으로 세분화했습니다.\n",
    "- 기존 고객 분류 자료를 바탕으로 신규 고객이 어떤 분류에 속할지 예측해주세요!\n",
    "\n",
    "\n",
    "- 예측할 값(y): \"Segmentation\" (1,2,3,4)\n",
    "- 평가: Macro f1-score\n",
    "- data: train.csv, test.csv\n",
    "- 제출 형식: \n",
    "~~~\n",
    "ID,Segmentation\n",
    "458989,1\n",
    "458994,2\n",
    "459000,3\n",
    "459003,4\n",
    "~~~\n",
    "\n",
    "### 답안 제출 참고\n",
    "- 아래 코드 예측변수와 수험번호를 개인별로 변경하여 활용 \n",
    "- pd.DataFrame({'ID': test.ID, 'Segmentation': pred}).to_csv('003000000.csv', index=False)\n",
    "\n",
    "### 노트북 구분\n",
    "- basic: 수치형 데이터만 활용 -> 학습 및 test데이터 예측\n",
    "- intermediate: 범주형 데이터도 활용 -> 학습 및 test데이터 예측\n",
    "- advanced: 학습 및 교차 검증(모델 평가) -> 하이퍼파라미터 튜닝 -> test데이터 예측\n",
    "\n",
    "### 학습을 위한 채점\n",
    "- 최종 파일을 \"수험번호.csv\"가 아닌 \"submission.csv\" 작성 후 오른쪽 메뉴 아래 \"submit\" 버튼 클릭 -> 리더보드에 점수 및 등수 확인 가능함\n",
    "- pd.DataFrame({'ID': test.ID, 'Segmentation': pred}).to_csv('submission.csv', index=False)\n"
   ]
  },
  {
   "cell_type": "markdown",
   "id": "188388d5",
   "metadata": {
    "papermill": {
     "duration": 0.001292,
     "end_time": "2022-11-27T12:54:29.124257",
     "exception": false,
     "start_time": "2022-11-27T12:54:29.122965",
     "status": "completed"
    },
    "tags": []
   },
   "source": [
    "## 🧑‍💻 내 풀이"
   ]
  },
  {
   "cell_type": "code",
   "execution_count": 1,
   "id": "21eca7e0",
   "metadata": {
    "execution": {
     "iopub.execute_input": "2022-11-27T12:54:29.129318Z",
     "iopub.status.busy": "2022-11-27T12:54:29.128832Z",
     "iopub.status.idle": "2022-11-27T12:54:30.365837Z",
     "shell.execute_reply": "2022-11-27T12:54:30.364561Z"
    },
    "papermill": {
     "duration": 1.242911,
     "end_time": "2022-11-27T12:54:30.368691",
     "exception": false,
     "start_time": "2022-11-27T12:54:29.125780",
     "status": "completed"
    },
    "tags": []
   },
   "outputs": [],
   "source": [
    "# 데이터 기초 정보 확인\n",
    "import pandas as pd\n",
    "x_train = pd.read_csv('/kaggle/input/big-data-analytics-certification-kr-2022/train.csv')\n",
    "# y_train = x_train.pop('Segmentation')\n",
    "# x_train\n",
    "# y_train\n",
    "x_test = pd.read_csv('/kaggle/input/big-data-analytics-certification-kr-2022/test.csv')\n",
    "# x_test\n",
    "\n",
    "# print(x_train.info())\n",
    "# 결측치가 없군\n",
    "\n",
    "x_train_ID = x_train.pop('ID')\n",
    "x_test_ID = x_test.pop('ID')\n",
    "\n",
    "# LabelEncoding하기\n",
    "from sklearn.preprocessing import LabelEncoder\n",
    "encoder = LabelEncoder()\n",
    "\n",
    "x_train['Gender'] = encoder.fit_transform(x_train['Gender'])\n",
    "x_train['Ever_Married'] = encoder.fit_transform(x_train['Ever_Married'])\n",
    "x_train['Graduated'] = encoder.fit_transform(x_train['Graduated'])\n",
    "x_train['Profession'] = encoder.fit_transform(x_train['Profession'])\n",
    "x_train['Spending_Score'] = encoder.fit_transform(x_train['Spending_Score'])\n",
    "x_train['Var_1'] = encoder.fit_transform(x_train['Var_1'])\n",
    "\n",
    "x_test['Gender'] = encoder.fit_transform(x_test['Gender'])\n",
    "x_test['Ever_Married'] = encoder.fit_transform(x_test['Ever_Married'])\n",
    "x_test['Graduated'] = encoder.fit_transform(x_test['Graduated'])\n",
    "x_test['Profession'] = encoder.fit_transform(x_test['Profession'])\n",
    "x_test['Spending_Score'] = encoder.fit_transform(x_test['Spending_Score'])\n",
    "x_test['Var_1'] = encoder.fit_transform(x_test['Var_1'])\n",
    "\n",
    "\n",
    "# x_train.info()\n",
    "# x_train.corr()\n",
    "\n",
    "# Ever_Married와 Spending_Score가 상관관계가 높으므로(0.6 이상) Spending_Score 삭제\n",
    "# x_train.drop(columns = ['Spending_Score', 'Age'], inplace = True)\n",
    "# x_test.drop(columns = ['Spending_Score', 'Age'], inplace = True)\n",
    "\n",
    "# y_train 만들기\n",
    "y_train = x_train.pop('Segmentation')\n",
    "# print(y_train)\n",
    "\n",
    "# x_train, x_test 스케일링하기\n",
    "from sklearn.preprocessing import StandardScaler\n",
    "scaler1 = StandardScaler()\n",
    "\n",
    "from sklearn.preprocessing import RobustScaler\n",
    "scaler2 = RobustScaler()\n",
    "\n",
    "# 표준화\n",
    "x_train = pd.DataFrame(scaler1.fit_transform(x_train), columns = x_train.columns)\n",
    "x_test = pd.DataFrame(scaler1.fit_transform(x_test), columns = x_test.columns)\n",
    "\n",
    "# # 로버스트 스케일링\n",
    "# x_train = pd.DataFrame(scaler2.fit_transform(x_train), columns = x_train.columns)\n",
    "# x_test = pd.DataFrame(scaler2.fit_transform(x_test), columns = x_test.columns)\n",
    "\n",
    "# 지금 제대로 알고 있는 것이 의사결정나무밖에 없으므로 그거라도 써보기\n",
    "from sklearn.tree import DecisionTreeClassifier\n",
    "model = DecisionTreeClassifier(max_depth = 5, criterion = 'entropy')\n",
    "\n",
    "# 학습\n",
    "model.fit(x_train, y_train)\n",
    "\n",
    "# 예측\n",
    "y_test = pd.DataFrame(model.predict(x_test))\n",
    "y_test\n",
    "\n",
    "result = pd.concat([x_test_ID, y_test], axis = 1)\n",
    "result.columns = ['ID', 'Segmentation']\n",
    "result.to_csv('Submission.csv', index = False)\n",
    "\n",
    "# score : 0.32147\n",
    "\n",
    "\n",
    "\n",
    "\n",
    "\n",
    "# # XGBoost 분류기 써보기\n",
    "# from xgboost import XGBRegressor\n",
    "# model = XGBRegressor(n_estimatios = 100, max_depth = 3)\n",
    "# model.fit(x_train, y_train)\n",
    "\n",
    "# # 예측\n",
    "# y_test = pd.DataFrame(model.predict(x_test))\n",
    "# # y_test\n",
    "\n",
    "# result = pd.concat([x_test_ID, y_test], axis = 1)\n",
    "# result.columns = ['ID', 'Segmentation']\n",
    "# result['Segmentation'] = round(result['Segmentation'], 0).astype(int)\n",
    "\n",
    "# result.to_csv('Submission.csv', index = False)\n",
    "# result"
   ]
  }
 ],
 "metadata": {
  "kernelspec": {
   "display_name": "Python 3",
   "language": "python",
   "name": "python3"
  },
  "language_info": {
   "codemirror_mode": {
    "name": "ipython",
    "version": 3
   },
   "file_extension": ".py",
   "mimetype": "text/x-python",
   "name": "python",
   "nbconvert_exporter": "python",
   "pygments_lexer": "ipython3",
   "version": "3.7.12"
  },
  "papermill": {
   "default_parameters": {},
   "duration": 9.510318,
   "end_time": "2022-11-27T12:54:31.093483",
   "environment_variables": {},
   "exception": null,
   "input_path": "__notebook__.ipynb",
   "output_path": "__notebook__.ipynb",
   "parameters": {},
   "start_time": "2022-11-27T12:54:21.583165",
   "version": "2.3.4"
  }
 },
 "nbformat": 4,
 "nbformat_minor": 5
}
