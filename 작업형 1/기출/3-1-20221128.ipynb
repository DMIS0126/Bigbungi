{
 "cells": [
  {
   "cell_type": "markdown",
   "id": "e3b12752",
   "metadata": {
    "_cell_guid": "3c08ba28-3ca2-4044-bf2e-a3928c5e8649",
    "_uuid": "db5bf841-4173-4c82-ac00-0454d16e8ce0",
    "papermill": {
     "duration": 0.005157,
     "end_time": "2022-11-28T13:01:14.350562",
     "exception": false,
     "start_time": "2022-11-28T13:01:14.345405",
     "status": "completed"
    },
    "tags": []
   },
   "source": [
    "# Q1. 2022년 데이터 중 2022년 중앙값보다 큰 값의 데이터 수\n",
    "- data: t1-data2.csv"
   ]
  },
  {
   "cell_type": "markdown",
   "id": "14472849",
   "metadata": {
    "papermill": {
     "duration": 0.004194,
     "end_time": "2022-11-28T13:01:14.361454",
     "exception": false,
     "start_time": "2022-11-28T13:01:14.357260",
     "status": "completed"
    },
    "tags": []
   },
   "source": [
    "## 🧑‍💻 내 풀이"
   ]
  },
  {
   "cell_type": "code",
   "execution_count": 1,
   "id": "29c2e9d6",
   "metadata": {
    "execution": {
     "iopub.execute_input": "2022-11-28T13:01:14.372249Z",
     "iopub.status.busy": "2022-11-28T13:01:14.371500Z",
     "iopub.status.idle": "2022-11-28T13:01:14.416824Z",
     "shell.execute_reply": "2022-11-28T13:01:14.415949Z"
    },
    "papermill": {
     "duration": 0.054051,
     "end_time": "2022-11-28T13:01:14.419849",
     "exception": false,
     "start_time": "2022-11-28T13:01:14.365798",
     "status": "completed"
    },
    "tags": []
   },
   "outputs": [
    {
     "name": "stdout",
     "output_type": "stream",
     "text": [
      "50\n"
     ]
    }
   ],
   "source": [
    "# 풀이1\n",
    "import pandas as pd\n",
    "df = pd.read_csv(\"../input/big-data-analytics-certification/t1-data2.csv\", index_col='year')\n",
    "# df.head()\n",
    "\n",
    "df_2022 = df.loc['2022년']\n",
    "df_2022 = pd.DataFrame(df_2022)\n",
    "med_2022 = df_2022['2022년'].median()\n",
    "print(len(df_2022[df_2022['2022년']>med_2022]))"
   ]
  },
  {
   "cell_type": "code",
   "execution_count": 2,
   "id": "1dbcf393",
   "metadata": {
    "execution": {
     "iopub.execute_input": "2022-11-28T13:01:14.429946Z",
     "iopub.status.busy": "2022-11-28T13:01:14.429513Z",
     "iopub.status.idle": "2022-11-28T13:01:14.444683Z",
     "shell.execute_reply": "2022-11-28T13:01:14.443552Z"
    },
    "papermill": {
     "duration": 0.023333,
     "end_time": "2022-11-28T13:01:14.447435",
     "exception": false,
     "start_time": "2022-11-28T13:01:14.424102",
     "status": "completed"
    },
    "tags": []
   },
   "outputs": [
    {
     "name": "stdout",
     "output_type": "stream",
     "text": [
      "50\n"
     ]
    }
   ],
   "source": [
    "# 풀이2\n",
    "import pandas as pd\n",
    "df = pd.read_csv(\"../input/big-data-analytics-certification/t1-data2.csv\", index_col='year')\n",
    "\n",
    "df = df[:1].transpose()\n",
    "m = df['2022년'].median()\n",
    "# print(m)\n",
    "# print(df)\n",
    "print(sum(df['2022년']>m))"
   ]
  },
  {
   "cell_type": "markdown",
   "id": "3847f02c",
   "metadata": {
    "_cell_guid": "e9c14e37-6de3-4ba4-a309-1c5bcd303601",
    "_uuid": "4d17be0a-5458-479f-ae24-022f54490355",
    "papermill": {
     "duration": 0.00388,
     "end_time": "2022-11-28T13:01:14.455697",
     "exception": false,
     "start_time": "2022-11-28T13:01:14.451817",
     "status": "completed"
    },
    "tags": []
   },
   "source": [
    "# Q2. 결측치 데이터(행)을 제거하고, 앞에서부터 60% 데이터만 활용해, 'f1' 컬럼 3사분위 값을 구하시오 \n",
    "- 60%가 소수점일 경우 절사(예: 36.6 일때 36으로 계산)\n",
    "- data: t1-data1.csv"
   ]
  },
  {
   "cell_type": "markdown",
   "id": "0600dbdf",
   "metadata": {
    "papermill": {
     "duration": 0.00416,
     "end_time": "2022-11-28T13:01:14.463961",
     "exception": false,
     "start_time": "2022-11-28T13:01:14.459801",
     "status": "completed"
    },
    "tags": []
   },
   "source": [
    "## 🧑‍💻 내 풀이"
   ]
  },
  {
   "cell_type": "code",
   "execution_count": 3,
   "id": "e8d7fbd0",
   "metadata": {
    "execution": {
     "iopub.execute_input": "2022-11-28T13:01:14.474352Z",
     "iopub.status.busy": "2022-11-28T13:01:14.473943Z",
     "iopub.status.idle": "2022-11-28T13:01:14.491876Z",
     "shell.execute_reply": "2022-11-28T13:01:14.490876Z"
    },
    "papermill": {
     "duration": 0.026017,
     "end_time": "2022-11-28T13:01:14.494130",
     "exception": false,
     "start_time": "2022-11-28T13:01:14.468113",
     "status": "completed"
    },
    "tags": []
   },
   "outputs": [
    {
     "name": "stdout",
     "output_type": "stream",
     "text": [
      "77.25\n"
     ]
    }
   ],
   "source": [
    "import pandas as pd\n",
    "df = pd.read_csv('/kaggle/input/big-data-analytics-certification/t1-data1.csv')\n",
    "# df.head()\n",
    "\n",
    "df.dropna(inplace = True)\n",
    "df = df.iloc[:int(len(df)*0.6),:]\n",
    "\n",
    "print(df['f1'].quantile(0.75))"
   ]
  },
  {
   "cell_type": "markdown",
   "id": "a07bd8b1",
   "metadata": {
    "_cell_guid": "5c0119a6-9940-4367-9584-a184bdb0dc6e",
    "_uuid": "8f1d9031-5abb-4bcf-a5c3-d3fbfeca47d8",
    "papermill": {
     "duration": 0.004,
     "end_time": "2022-11-28T13:01:14.502398",
     "exception": false,
     "start_time": "2022-11-28T13:01:14.498398",
     "status": "completed"
    },
    "tags": []
   },
   "source": [
    "# Q3. 결측치가 제일 큰 값의 컬럼명을 구하시오\n",
    "- data: t1-data1.csv"
   ]
  },
  {
   "cell_type": "markdown",
   "id": "a697713f",
   "metadata": {
    "papermill": {
     "duration": 0.004018,
     "end_time": "2022-11-28T13:01:14.510941",
     "exception": false,
     "start_time": "2022-11-28T13:01:14.506923",
     "status": "completed"
    },
    "tags": []
   },
   "source": [
    "## 🧑‍💻 내 풀이"
   ]
  },
  {
   "cell_type": "code",
   "execution_count": 4,
   "id": "8f9d17a6",
   "metadata": {
    "_cell_guid": "cdd42516-7548-44e2-b097-5f29acee8693",
    "_uuid": "2c35ef08-efc5-423c-8982-466424c1d85d",
    "collapsed": false,
    "execution": {
     "iopub.execute_input": "2022-11-28T13:01:14.521037Z",
     "iopub.status.busy": "2022-11-28T13:01:14.520591Z",
     "iopub.status.idle": "2022-11-28T13:01:14.535638Z",
     "shell.execute_reply": "2022-11-28T13:01:14.534272Z"
    },
    "jupyter": {
     "outputs_hidden": false
    },
    "papermill": {
     "duration": 0.022831,
     "end_time": "2022-11-28T13:01:14.537988",
     "exception": false,
     "start_time": "2022-11-28T13:01:14.515157",
     "status": "completed"
    },
    "tags": []
   },
   "outputs": [
    {
     "name": "stdout",
     "output_type": "stream",
     "text": [
      "f1\n"
     ]
    }
   ],
   "source": [
    "# 풀이1\n",
    "\n",
    "import pandas as pd\n",
    "df = pd.read_csv(\"../input/big-data-analytics-certification/t1-data1.csv\")\n",
    "# df.head()\n",
    "\n",
    "df.isnull().sum()\n",
    "null_cnt_max = df.isnull().sum().max()\n",
    "\n",
    "df1 = pd.DataFrame(df.isnull().sum())\n",
    "df1.columns = ['cnt']\n",
    "print(df1[df1['cnt'] == null_cnt_max].index[0])\n",
    "# null_max_column = df.isnull().sum().max()\n",
    "# null_max_column"
   ]
  },
  {
   "cell_type": "code",
   "execution_count": 5,
   "id": "c0dabb5a",
   "metadata": {
    "execution": {
     "iopub.execute_input": "2022-11-28T13:01:14.549006Z",
     "iopub.status.busy": "2022-11-28T13:01:14.548589Z",
     "iopub.status.idle": "2022-11-28T13:01:14.560516Z",
     "shell.execute_reply": "2022-11-28T13:01:14.559420Z"
    },
    "papermill": {
     "duration": 0.020544,
     "end_time": "2022-11-28T13:01:14.563101",
     "exception": false,
     "start_time": "2022-11-28T13:01:14.542557",
     "status": "completed"
    },
    "tags": []
   },
   "outputs": [
    {
     "name": "stdout",
     "output_type": "stream",
     "text": [
      "f1\n"
     ]
    }
   ],
   "source": [
    "# 풀이2\n",
    "\n",
    "import pandas as pd\n",
    "df = pd.read_csv(\"../input/big-data-analytics-certification/t1-data1.csv\")\n",
    "# df.head()\n",
    "\n",
    "df1 = df.isnull().sum()\n",
    "df1 = pd.DataFrame(df1)\n",
    "df1.columns = ['cnt']\n",
    "df1 = df1.sort_values('cnt', ascending = False)\n",
    "print(df1.index[0])"
   ]
  },
  {
   "cell_type": "markdown",
   "id": "0342531c",
   "metadata": {
    "_cell_guid": "e7521cf0-a3c7-4774-81a1-c1867caaecdc",
    "_uuid": "0b2d93b7-473f-4c0c-84ca-10bff226473b",
    "papermill": {
     "duration": 0.00402,
     "end_time": "2022-11-28T13:01:14.571622",
     "exception": false,
     "start_time": "2022-11-28T13:01:14.567602",
     "status": "completed"
    },
    "tags": []
   },
   "source": [
    "# solution"
   ]
  },
  {
   "cell_type": "code",
   "execution_count": 6,
   "id": "7e2873cb",
   "metadata": {
    "_cell_guid": "8e14fc6d-4453-4cff-81a0-198a031dd842",
    "_uuid": "aadcbabf-05b3-40d2-980f-9c5b2767c3f8",
    "collapsed": false,
    "execution": {
     "iopub.execute_input": "2022-11-28T13:01:14.582860Z",
     "iopub.status.busy": "2022-11-28T13:01:14.582118Z",
     "iopub.status.idle": "2022-11-28T13:01:14.595311Z",
     "shell.execute_reply": "2022-11-28T13:01:14.593942Z"
    },
    "jupyter": {
     "outputs_hidden": false
    },
    "papermill": {
     "duration": 0.021504,
     "end_time": "2022-11-28T13:01:14.597673",
     "exception": false,
     "start_time": "2022-11-28T13:01:14.576169",
     "status": "completed"
    },
    "tags": []
   },
   "outputs": [
    {
     "name": "stdout",
     "output_type": "stream",
     "text": [
      "f1\n"
     ]
    }
   ],
   "source": [
    "import pandas as pd\n",
    "df = pd.read_csv(\"../input/big-data-analytics-certification/t1-data1.csv\")\n",
    "\n",
    "df = pd.DataFrame(df.isnull().sum(), columns=['cnt_null'])\n",
    "df = df['cnt_null'].sort_values(ascending=False)\n",
    "print(df.index[0])"
   ]
  },
  {
   "cell_type": "code",
   "execution_count": 7,
   "id": "b9acc8dd",
   "metadata": {
    "_cell_guid": "bb8d06a9-78be-45e0-bff8-90d890491889",
    "_uuid": "d6c8bf3d-7e55-4329-93e0-4b011efc1a40",
    "collapsed": false,
    "execution": {
     "iopub.execute_input": "2022-11-28T13:01:14.608629Z",
     "iopub.status.busy": "2022-11-28T13:01:14.607898Z",
     "iopub.status.idle": "2022-11-28T13:01:14.619786Z",
     "shell.execute_reply": "2022-11-28T13:01:14.618378Z"
    },
    "jupyter": {
     "outputs_hidden": false
    },
    "papermill": {
     "duration": 0.020137,
     "end_time": "2022-11-28T13:01:14.622323",
     "exception": false,
     "start_time": "2022-11-28T13:01:14.602186",
     "status": "completed"
    },
    "tags": []
   },
   "outputs": [
    {
     "name": "stdout",
     "output_type": "stream",
     "text": [
      "f1\n"
     ]
    }
   ],
   "source": [
    "# 풀이2\n",
    "df = pd.read_csv(\"../input/big-data-analytics-certification/t1-data1.csv\")\n",
    "df = df.isnull().sum()\n",
    "print(df.index[3])"
   ]
  }
 ],
 "metadata": {
  "kernelspec": {
   "display_name": "Python 3",
   "language": "python",
   "name": "python3"
  },
  "language_info": {
   "codemirror_mode": {
    "name": "ipython",
    "version": 3
   },
   "file_extension": ".py",
   "mimetype": "text/x-python",
   "name": "python",
   "nbconvert_exporter": "python",
   "pygments_lexer": "ipython3",
   "version": "3.7.12"
  },
  "papermill": {
   "default_parameters": {},
   "duration": 11.866238,
   "end_time": "2022-11-28T13:01:15.354906",
   "environment_variables": {},
   "exception": null,
   "input_path": "__notebook__.ipynb",
   "output_path": "__notebook__.ipynb",
   "parameters": {},
   "start_time": "2022-11-28T13:01:03.488668",
   "version": "2.3.4"
  }
 },
 "nbformat": 4,
 "nbformat_minor": 5
}
