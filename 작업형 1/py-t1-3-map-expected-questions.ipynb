{
 "cells": [
  {
   "cell_type": "markdown",
   "id": "a4482b88",
   "metadata": {
    "papermill": {
     "duration": 0.014858,
     "end_time": "2022-11-25T11:25:33.021141",
     "exception": false,
     "start_time": "2022-11-25T11:25:33.006283",
     "status": "completed"
    },
    "tags": []
   },
   "source": [
    "## 결측치 처리\n",
    "-  주어진 데이터에서 결측치가 80%이상 되는 컬럼은(변수는) 삭제하고, 80% 미만인 결측치가 있는 컬럼은 'city'별 중앙값으로 값을 대체하고 'f1'컬럼의 평균값을 출력하세요!\n",
    "- 데이터셋 : basic1.csv 오른쪽 상단 copy&edit 클릭 -> 예상문제 풀이 시작\n",
    "- 강의 영상 : https://youtu.be/WqlpqBRn7x4"
   ]
  },
  {
   "cell_type": "markdown",
   "id": "609bc3c3",
   "metadata": {
    "papermill": {
     "duration": 0.013146,
     "end_time": "2022-11-25T11:25:33.050021",
     "exception": false,
     "start_time": "2022-11-25T11:25:33.036875",
     "status": "completed"
    },
    "tags": []
   },
   "source": [
    "## 🧑‍💻 내 풀이"
   ]
  },
  {
   "cell_type": "code",
   "execution_count": 1,
   "id": "4756b6d9",
   "metadata": {
    "execution": {
     "iopub.execute_input": "2022-11-25T11:25:33.087506Z",
     "iopub.status.busy": "2022-11-25T11:25:33.086552Z",
     "iopub.status.idle": "2022-11-25T11:25:33.133890Z",
     "shell.execute_reply": "2022-11-25T11:25:33.134437Z",
     "shell.execute_reply.started": "2022-11-25T11:21:19.001065Z"
    },
    "papermill": {
     "duration": 0.071193,
     "end_time": "2022-11-25T11:25:33.134783",
     "exception": false,
     "start_time": "2022-11-25T11:25:33.063590",
     "status": "completed"
    },
    "tags": []
   },
   "outputs": [
    {
     "data": {
      "text/html": [
       "<div>\n",
       "<style scoped>\n",
       "    .dataframe tbody tr th:only-of-type {\n",
       "        vertical-align: middle;\n",
       "    }\n",
       "\n",
       "    .dataframe tbody tr th {\n",
       "        vertical-align: top;\n",
       "    }\n",
       "\n",
       "    .dataframe thead th {\n",
       "        text-align: right;\n",
       "    }\n",
       "</style>\n",
       "<table border=\"1\" class=\"dataframe\">\n",
       "  <thead>\n",
       "    <tr style=\"text-align: right;\">\n",
       "      <th></th>\n",
       "      <th>id</th>\n",
       "      <th>age</th>\n",
       "      <th>city</th>\n",
       "      <th>f1</th>\n",
       "      <th>f2</th>\n",
       "      <th>f3</th>\n",
       "      <th>f4</th>\n",
       "      <th>f5</th>\n",
       "    </tr>\n",
       "  </thead>\n",
       "  <tbody>\n",
       "    <tr>\n",
       "      <th>0</th>\n",
       "      <td>id01</td>\n",
       "      <td>2.0</td>\n",
       "      <td>서울</td>\n",
       "      <td>NaN</td>\n",
       "      <td>0</td>\n",
       "      <td>NaN</td>\n",
       "      <td>ENFJ</td>\n",
       "      <td>91.297791</td>\n",
       "    </tr>\n",
       "    <tr>\n",
       "      <th>1</th>\n",
       "      <td>id02</td>\n",
       "      <td>9.0</td>\n",
       "      <td>서울</td>\n",
       "      <td>70.0</td>\n",
       "      <td>1</td>\n",
       "      <td>NaN</td>\n",
       "      <td>ENFJ</td>\n",
       "      <td>60.339826</td>\n",
       "    </tr>\n",
       "    <tr>\n",
       "      <th>2</th>\n",
       "      <td>id03</td>\n",
       "      <td>27.0</td>\n",
       "      <td>서울</td>\n",
       "      <td>61.0</td>\n",
       "      <td>1</td>\n",
       "      <td>NaN</td>\n",
       "      <td>ISTJ</td>\n",
       "      <td>17.252986</td>\n",
       "    </tr>\n",
       "    <tr>\n",
       "      <th>3</th>\n",
       "      <td>id04</td>\n",
       "      <td>75.0</td>\n",
       "      <td>서울</td>\n",
       "      <td>NaN</td>\n",
       "      <td>2</td>\n",
       "      <td>NaN</td>\n",
       "      <td>INFP</td>\n",
       "      <td>52.667078</td>\n",
       "    </tr>\n",
       "    <tr>\n",
       "      <th>4</th>\n",
       "      <td>id05</td>\n",
       "      <td>24.0</td>\n",
       "      <td>서울</td>\n",
       "      <td>85.0</td>\n",
       "      <td>2</td>\n",
       "      <td>NaN</td>\n",
       "      <td>ISFJ</td>\n",
       "      <td>29.269869</td>\n",
       "    </tr>\n",
       "  </tbody>\n",
       "</table>\n",
       "</div>"
      ],
      "text/plain": [
       "     id   age city    f1  f2   f3    f4         f5\n",
       "0  id01   2.0   서울   NaN   0  NaN  ENFJ  91.297791\n",
       "1  id02   9.0   서울  70.0   1  NaN  ENFJ  60.339826\n",
       "2  id03  27.0   서울  61.0   1  NaN  ISTJ  17.252986\n",
       "3  id04  75.0   서울   NaN   2  NaN  INFP  52.667078\n",
       "4  id05  24.0   서울  85.0   2  NaN  ISFJ  29.269869"
      ]
     },
     "execution_count": 1,
     "metadata": {},
     "output_type": "execute_result"
    }
   ],
   "source": [
    "import pandas as pd\n",
    "df = pd.read_csv('/kaggle/input/bigdatacertificationkr/basic1.csv')\n",
    "df.head(5)"
   ]
  },
  {
   "cell_type": "code",
   "execution_count": 2,
   "id": "7e56a327",
   "metadata": {
    "execution": {
     "iopub.execute_input": "2022-11-25T11:25:33.173886Z",
     "iopub.status.busy": "2022-11-25T11:25:33.166149Z",
     "iopub.status.idle": "2022-11-25T11:25:33.177351Z",
     "shell.execute_reply": "2022-11-25T11:25:33.176716Z",
     "shell.execute_reply.started": "2022-11-25T11:21:20.959201Z"
    },
    "papermill": {
     "duration": 0.028391,
     "end_time": "2022-11-25T11:25:33.177547",
     "exception": false,
     "start_time": "2022-11-25T11:25:33.149156",
     "status": "completed"
    },
    "tags": []
   },
   "outputs": [],
   "source": [
    "# df.shape\n",
    "df.isnull().sum()\n",
    "df1 = df.pop('f3')"
   ]
  },
  {
   "cell_type": "code",
   "execution_count": 3,
   "id": "799ec8b4",
   "metadata": {
    "execution": {
     "iopub.execute_input": "2022-11-25T11:25:33.210798Z",
     "iopub.status.busy": "2022-11-25T11:25:33.209592Z",
     "iopub.status.idle": "2022-11-25T11:25:33.234591Z",
     "shell.execute_reply": "2022-11-25T11:25:33.233776Z",
     "shell.execute_reply.started": "2022-11-25T11:23:46.847700Z"
    },
    "papermill": {
     "duration": 0.042483,
     "end_time": "2022-11-25T11:25:33.234761",
     "exception": false,
     "start_time": "2022-11-25T11:25:33.192278",
     "status": "completed"
    },
    "tags": []
   },
   "outputs": [
    {
     "name": "stdout",
     "output_type": "stream",
     "text": [
      "65.52\n"
     ]
    },
    {
     "name": "stderr",
     "output_type": "stream",
     "text": [
      "/opt/conda/lib/python3.7/site-packages/ipykernel_launcher.py:11: SettingWithCopyWarning: \n",
      "A value is trying to be set on a copy of a slice from a DataFrame.\n",
      "Try using .loc[row_indexer,col_indexer] = value instead\n",
      "\n",
      "See the caveats in the documentation: https://pandas.pydata.org/pandas-docs/stable/user_guide/indexing.html#returning-a-view-versus-a-copy\n",
      "  # This is added back by InteractiveShellApp.init_path()\n",
      "/opt/conda/lib/python3.7/site-packages/ipykernel_launcher.py:12: SettingWithCopyWarning: \n",
      "A value is trying to be set on a copy of a slice from a DataFrame.\n",
      "Try using .loc[row_indexer,col_indexer] = value instead\n",
      "\n",
      "See the caveats in the documentation: https://pandas.pydata.org/pandas-docs/stable/user_guide/indexing.html#returning-a-view-versus-a-copy\n",
      "  if sys.path[0] == '':\n",
      "/opt/conda/lib/python3.7/site-packages/ipykernel_launcher.py:13: SettingWithCopyWarning: \n",
      "A value is trying to be set on a copy of a slice from a DataFrame.\n",
      "Try using .loc[row_indexer,col_indexer] = value instead\n",
      "\n",
      "See the caveats in the documentation: https://pandas.pydata.org/pandas-docs/stable/user_guide/indexing.html#returning-a-view-versus-a-copy\n",
      "  del sys.path[0]\n",
      "/opt/conda/lib/python3.7/site-packages/ipykernel_launcher.py:14: SettingWithCopyWarning: \n",
      "A value is trying to be set on a copy of a slice from a DataFrame.\n",
      "Try using .loc[row_indexer,col_indexer] = value instead\n",
      "\n",
      "See the caveats in the documentation: https://pandas.pydata.org/pandas-docs/stable/user_guide/indexing.html#returning-a-view-versus-a-copy\n",
      "  \n"
     ]
    }
   ],
   "source": [
    "s_med = df[df['city'] == '서울']['f1'].median()\n",
    "k_med = df[df['city'] == '경기']['f1'].median()\n",
    "b_med = df[df['city'] == '부산']['f1'].median()\n",
    "d_med = df[df['city'] == '대구']['f1'].median()\n",
    "# print(s_med, k_med, b_med, d_med)\n",
    "s = df[df['city'] == '서울']\n",
    "k = df[df['city'] == '경기']\n",
    "b = df[df['city'] == '부산']\n",
    "d = df[df['city'] == '대구']\n",
    "\n",
    "s['f1'] = s['f1'].fillna(s_med)\n",
    "k['f1'] = k['f1'].fillna(k_med)\n",
    "b['f1'] = b['f1'].fillna(b_med)\n",
    "d['f1'] = d['f1'].fillna(d_med)\n",
    "\n",
    "print((s['f1'].sum() + k['f1'].sum() + b['f1'].sum() + d['f1'].sum()) \n",
    "    / (len(s) + len(k) + len(b) + len(d)))"
   ]
  },
  {
   "cell_type": "markdown",
   "id": "ffe09119",
   "metadata": {
    "papermill": {
     "duration": 0.014907,
     "end_time": "2022-11-25T11:25:33.264326",
     "exception": false,
     "start_time": "2022-11-25T11:25:33.249419",
     "status": "completed"
    },
    "tags": []
   },
   "source": [
    "## 💡 Hint\n",
    "- city별 중앙값으로 대체에서는 map함수 활용"
   ]
  },
  {
   "cell_type": "markdown",
   "id": "7c2e8747",
   "metadata": {
    "papermill": {
     "duration": 0.014108,
     "end_time": "2022-11-25T11:25:33.293112",
     "exception": false,
     "start_time": "2022-11-25T11:25:33.279004",
     "status": "completed"
    },
    "tags": []
   },
   "source": [
    "## 💁 풀이"
   ]
  },
  {
   "cell_type": "code",
   "execution_count": 4,
   "id": "21345a57",
   "metadata": {
    "execution": {
     "iopub.execute_input": "2022-11-25T11:25:33.328415Z",
     "iopub.status.busy": "2022-11-25T11:25:33.327672Z",
     "iopub.status.idle": "2022-11-25T11:25:33.344720Z",
     "shell.execute_reply": "2022-11-25T11:25:33.344104Z",
     "shell.execute_reply.started": "2022-11-25T11:24:06.691383Z"
    },
    "papermill": {
     "duration": 0.036995,
     "end_time": "2022-11-25T11:25:33.344887",
     "exception": false,
     "start_time": "2022-11-25T11:25:33.307892",
     "status": "completed"
    },
    "tags": []
   },
   "outputs": [
    {
     "data": {
      "text/html": [
       "<div>\n",
       "<style scoped>\n",
       "    .dataframe tbody tr th:only-of-type {\n",
       "        vertical-align: middle;\n",
       "    }\n",
       "\n",
       "    .dataframe tbody tr th {\n",
       "        vertical-align: top;\n",
       "    }\n",
       "\n",
       "    .dataframe thead th {\n",
       "        text-align: right;\n",
       "    }\n",
       "</style>\n",
       "<table border=\"1\" class=\"dataframe\">\n",
       "  <thead>\n",
       "    <tr style=\"text-align: right;\">\n",
       "      <th></th>\n",
       "      <th>id</th>\n",
       "      <th>age</th>\n",
       "      <th>city</th>\n",
       "      <th>f1</th>\n",
       "      <th>f2</th>\n",
       "      <th>f3</th>\n",
       "      <th>f4</th>\n",
       "      <th>f5</th>\n",
       "    </tr>\n",
       "  </thead>\n",
       "  <tbody>\n",
       "    <tr>\n",
       "      <th>0</th>\n",
       "      <td>id01</td>\n",
       "      <td>2.0</td>\n",
       "      <td>서울</td>\n",
       "      <td>NaN</td>\n",
       "      <td>0</td>\n",
       "      <td>NaN</td>\n",
       "      <td>ENFJ</td>\n",
       "      <td>91.297791</td>\n",
       "    </tr>\n",
       "    <tr>\n",
       "      <th>1</th>\n",
       "      <td>id02</td>\n",
       "      <td>9.0</td>\n",
       "      <td>서울</td>\n",
       "      <td>70.0</td>\n",
       "      <td>1</td>\n",
       "      <td>NaN</td>\n",
       "      <td>ENFJ</td>\n",
       "      <td>60.339826</td>\n",
       "    </tr>\n",
       "    <tr>\n",
       "      <th>2</th>\n",
       "      <td>id03</td>\n",
       "      <td>27.0</td>\n",
       "      <td>서울</td>\n",
       "      <td>61.0</td>\n",
       "      <td>1</td>\n",
       "      <td>NaN</td>\n",
       "      <td>ISTJ</td>\n",
       "      <td>17.252986</td>\n",
       "    </tr>\n",
       "    <tr>\n",
       "      <th>3</th>\n",
       "      <td>id04</td>\n",
       "      <td>75.0</td>\n",
       "      <td>서울</td>\n",
       "      <td>NaN</td>\n",
       "      <td>2</td>\n",
       "      <td>NaN</td>\n",
       "      <td>INFP</td>\n",
       "      <td>52.667078</td>\n",
       "    </tr>\n",
       "    <tr>\n",
       "      <th>4</th>\n",
       "      <td>id05</td>\n",
       "      <td>24.0</td>\n",
       "      <td>서울</td>\n",
       "      <td>85.0</td>\n",
       "      <td>2</td>\n",
       "      <td>NaN</td>\n",
       "      <td>ISFJ</td>\n",
       "      <td>29.269869</td>\n",
       "    </tr>\n",
       "  </tbody>\n",
       "</table>\n",
       "</div>"
      ],
      "text/plain": [
       "     id   age city    f1  f2   f3    f4         f5\n",
       "0  id01   2.0   서울   NaN   0  NaN  ENFJ  91.297791\n",
       "1  id02   9.0   서울  70.0   1  NaN  ENFJ  60.339826\n",
       "2  id03  27.0   서울  61.0   1  NaN  ISTJ  17.252986\n",
       "3  id04  75.0   서울   NaN   2  NaN  INFP  52.667078\n",
       "4  id05  24.0   서울  85.0   2  NaN  ISFJ  29.269869"
      ]
     },
     "execution_count": 4,
     "metadata": {},
     "output_type": "execute_result"
    }
   ],
   "source": [
    "# 라이브러리 및 데이터 불러오기\n",
    "import pandas as pd\n",
    "import numpy as np\n",
    "\n",
    "df = pd.read_csv('../input/bigdatacertificationkr/basic1.csv')\n",
    "df.head()"
   ]
  },
  {
   "cell_type": "code",
   "execution_count": 5,
   "id": "9bed22f9",
   "metadata": {
    "_cell_guid": "b1076dfc-b9ad-4769-8c92-a6c4dae69d19",
    "_uuid": "8f2839f25d086af736a60e9eeb907d3b93b6e0e5",
    "execution": {
     "iopub.execute_input": "2022-11-25T11:25:33.384452Z",
     "iopub.status.busy": "2022-11-25T11:25:33.383384Z",
     "iopub.status.idle": "2022-11-25T11:25:33.386871Z",
     "shell.execute_reply": "2022-11-25T11:25:33.387384Z",
     "shell.execute_reply.started": "2022-11-25T11:24:09.546695Z"
    },
    "papermill": {
     "duration": 0.027648,
     "end_time": "2022-11-25T11:25:33.387615",
     "exception": false,
     "start_time": "2022-11-25T11:25:33.359967",
     "status": "completed"
    },
    "tags": []
   },
   "outputs": [
    {
     "data": {
      "text/plain": [
       "id       0\n",
       "age      0\n",
       "city     0\n",
       "f1      31\n",
       "f2       0\n",
       "f3      95\n",
       "f4       0\n",
       "f5       0\n",
       "dtype: int64"
      ]
     },
     "execution_count": 5,
     "metadata": {},
     "output_type": "execute_result"
    }
   ],
   "source": [
    "# EDA - 결측값 확인\n",
    "df.isnull().sum()"
   ]
  },
  {
   "cell_type": "code",
   "execution_count": 6,
   "id": "cebed92a",
   "metadata": {
    "execution": {
     "iopub.execute_input": "2022-11-25T11:25:33.426070Z",
     "iopub.status.busy": "2022-11-25T11:25:33.425158Z",
     "iopub.status.idle": "2022-11-25T11:25:33.429332Z",
     "shell.execute_reply": "2022-11-25T11:25:33.428669Z",
     "shell.execute_reply.started": "2022-11-25T11:24:11.925407Z"
    },
    "papermill": {
     "duration": 0.025212,
     "end_time": "2022-11-25T11:25:33.429512",
     "exception": false,
     "start_time": "2022-11-25T11:25:33.404300",
     "status": "completed"
    },
    "tags": []
   },
   "outputs": [
    {
     "data": {
      "text/plain": [
       "(100, 8)"
      ]
     },
     "execution_count": 6,
     "metadata": {},
     "output_type": "execute_result"
    }
   ],
   "source": [
    "# 데이터 shape\n",
    "df.shape"
   ]
  },
  {
   "cell_type": "code",
   "execution_count": 7,
   "id": "ddf9fe54",
   "metadata": {
    "execution": {
     "iopub.execute_input": "2022-11-25T11:25:33.470501Z",
     "iopub.status.busy": "2022-11-25T11:25:33.467171Z",
     "iopub.status.idle": "2022-11-25T11:25:33.474263Z",
     "shell.execute_reply": "2022-11-25T11:25:33.473579Z",
     "shell.execute_reply.started": "2022-11-25T11:24:14.550974Z"
    },
    "papermill": {
     "duration": 0.029225,
     "end_time": "2022-11-25T11:25:33.474431",
     "exception": false,
     "start_time": "2022-11-25T11:25:33.445206",
     "status": "completed"
    },
    "tags": []
   },
   "outputs": [
    {
     "data": {
      "text/plain": [
       "id      0.00\n",
       "age     0.00\n",
       "city    0.00\n",
       "f1      0.31\n",
       "f2      0.00\n",
       "f3      0.95\n",
       "f4      0.00\n",
       "f5      0.00\n",
       "dtype: float64"
      ]
     },
     "execution_count": 7,
     "metadata": {},
     "output_type": "execute_result"
    }
   ],
   "source": [
    "# EDA - 결측비율 확인\n",
    "df.isnull().sum()/df.shape[0]"
   ]
  },
  {
   "cell_type": "code",
   "execution_count": 8,
   "id": "60f45d3b",
   "metadata": {
    "execution": {
     "iopub.execute_input": "2022-11-25T11:25:33.514387Z",
     "iopub.status.busy": "2022-11-25T11:25:33.513692Z",
     "iopub.status.idle": "2022-11-25T11:25:33.518605Z",
     "shell.execute_reply": "2022-11-25T11:25:33.517857Z",
     "shell.execute_reply.started": "2022-11-25T11:24:16.350861Z"
    },
    "papermill": {
     "duration": 0.028272,
     "end_time": "2022-11-25T11:25:33.518772",
     "exception": false,
     "start_time": "2022-11-25T11:25:33.490500",
     "status": "completed"
    },
    "tags": []
   },
   "outputs": [
    {
     "name": "stdout",
     "output_type": "stream",
     "text": [
      "삭제 전: (100, 8)\n",
      "삭제 후: (100, 7)\n"
     ]
    }
   ],
   "source": [
    "# f3 컬럼 삭제\n",
    "print(\"삭제 전:\", df.shape)\n",
    "df = df.drop(['f3'], axis=1)\n",
    "print(\"삭제 후:\", df.shape)\n",
    "\n",
    "# 결측치가 있는 컬럼을 제거하는 2가지 방법\n",
    "# df.drop(['B', 'C'], axis=1)\n",
    "# df.drop(columns=['B', 'C'])"
   ]
  },
  {
   "cell_type": "code",
   "execution_count": 9,
   "id": "1a08aa13",
   "metadata": {
    "execution": {
     "iopub.execute_input": "2022-11-25T11:25:33.560043Z",
     "iopub.status.busy": "2022-11-25T11:25:33.559345Z",
     "iopub.status.idle": "2022-11-25T11:25:33.562761Z",
     "shell.execute_reply": "2022-11-25T11:25:33.563217Z",
     "shell.execute_reply.started": "2022-11-25T11:24:18.787867Z"
    },
    "papermill": {
     "duration": 0.028123,
     "end_time": "2022-11-25T11:25:33.563417",
     "exception": false,
     "start_time": "2022-11-25T11:25:33.535294",
     "status": "completed"
    },
    "tags": []
   },
   "outputs": [
    {
     "data": {
      "text/plain": [
       "array(['서울', '부산', '대구', '경기'], dtype=object)"
      ]
     },
     "execution_count": 9,
     "metadata": {},
     "output_type": "execute_result"
    }
   ],
   "source": [
    "# 도시 확인\n",
    "df['city'].unique()"
   ]
  },
  {
   "cell_type": "code",
   "execution_count": 10,
   "id": "06d349e2",
   "metadata": {
    "execution": {
     "iopub.execute_input": "2022-11-25T11:25:33.609851Z",
     "iopub.status.busy": "2022-11-25T11:25:33.609070Z",
     "iopub.status.idle": "2022-11-25T11:25:33.613392Z",
     "shell.execute_reply": "2022-11-25T11:25:33.612782Z",
     "shell.execute_reply.started": "2022-11-25T11:24:22.010644Z"
    },
    "papermill": {
     "duration": 0.032537,
     "end_time": "2022-11-25T11:25:33.613583",
     "exception": false,
     "start_time": "2022-11-25T11:25:33.581046",
     "status": "completed"
    },
    "tags": []
   },
   "outputs": [
    {
     "data": {
      "text/plain": [
       "(68.0, 58.0, 62.0, 75.0)"
      ]
     },
     "execution_count": 10,
     "metadata": {},
     "output_type": "execute_result"
    }
   ],
   "source": [
    "# 도시별 중앙값 계산\n",
    "s=df[df['city']=='서울']['f1'].median()\n",
    "k=df[df['city']=='경기']['f1'].median()\n",
    "b=df[df['city']=='부산']['f1'].median()\n",
    "d=df[df['city']=='대구']['f1'].median()\n",
    "s, k, b, d\n",
    "\n",
    "#방법2\n",
    "# k, d, b, s = df.groupby('city')['f1'].median()"
   ]
  },
  {
   "cell_type": "code",
   "execution_count": 11,
   "id": "3196ca4b",
   "metadata": {
    "execution": {
     "iopub.execute_input": "2022-11-25T11:25:33.662889Z",
     "iopub.status.busy": "2022-11-25T11:25:33.661480Z",
     "iopub.status.idle": "2022-11-25T11:25:33.667713Z",
     "shell.execute_reply": "2022-11-25T11:25:33.666697Z",
     "shell.execute_reply.started": "2022-11-25T11:24:23.957747Z"
    },
    "papermill": {
     "duration": 0.036507,
     "end_time": "2022-11-25T11:25:33.667919",
     "exception": false,
     "start_time": "2022-11-25T11:25:33.631412",
     "status": "completed"
    },
    "tags": []
   },
   "outputs": [
    {
     "data": {
      "text/html": [
       "<div>\n",
       "<style scoped>\n",
       "    .dataframe tbody tr th:only-of-type {\n",
       "        vertical-align: middle;\n",
       "    }\n",
       "\n",
       "    .dataframe tbody tr th {\n",
       "        vertical-align: top;\n",
       "    }\n",
       "\n",
       "    .dataframe thead th {\n",
       "        text-align: right;\n",
       "    }\n",
       "</style>\n",
       "<table border=\"1\" class=\"dataframe\">\n",
       "  <thead>\n",
       "    <tr style=\"text-align: right;\">\n",
       "      <th></th>\n",
       "      <th>id</th>\n",
       "      <th>age</th>\n",
       "      <th>city</th>\n",
       "      <th>f1</th>\n",
       "      <th>f2</th>\n",
       "      <th>f4</th>\n",
       "      <th>f5</th>\n",
       "    </tr>\n",
       "  </thead>\n",
       "  <tbody>\n",
       "    <tr>\n",
       "      <th>18</th>\n",
       "      <td>id19</td>\n",
       "      <td>53.0</td>\n",
       "      <td>서울</td>\n",
       "      <td>NaN</td>\n",
       "      <td>0</td>\n",
       "      <td>ISFP</td>\n",
       "      <td>83.685380</td>\n",
       "    </tr>\n",
       "    <tr>\n",
       "      <th>19</th>\n",
       "      <td>id20</td>\n",
       "      <td>11.0</td>\n",
       "      <td>서울</td>\n",
       "      <td>51.0</td>\n",
       "      <td>1</td>\n",
       "      <td>INTJ</td>\n",
       "      <td>91.297791</td>\n",
       "    </tr>\n",
       "    <tr>\n",
       "      <th>20</th>\n",
       "      <td>id21</td>\n",
       "      <td>90.0</td>\n",
       "      <td>부산</td>\n",
       "      <td>NaN</td>\n",
       "      <td>1</td>\n",
       "      <td>ISFP</td>\n",
       "      <td>29.269869</td>\n",
       "    </tr>\n",
       "  </tbody>\n",
       "</table>\n",
       "</div>"
      ],
      "text/plain": [
       "      id   age city    f1  f2    f4         f5\n",
       "18  id19  53.0   서울   NaN   0  ISFP  83.685380\n",
       "19  id20  11.0   서울  51.0   1  INTJ  91.297791\n",
       "20  id21  90.0   부산   NaN   1  ISFP  29.269869"
      ]
     },
     "execution_count": 11,
     "metadata": {},
     "output_type": "execute_result"
    }
   ],
   "source": [
    "# 대체 전 데이터 샘플 출력\n",
    "df[18:21]"
   ]
  },
  {
   "cell_type": "code",
   "execution_count": 12,
   "id": "ad807126",
   "metadata": {
    "execution": {
     "iopub.execute_input": "2022-11-25T11:25:33.725144Z",
     "iopub.status.busy": "2022-11-25T11:25:33.724246Z",
     "iopub.status.idle": "2022-11-25T11:25:33.727190Z",
     "shell.execute_reply": "2022-11-25T11:25:33.726275Z",
     "shell.execute_reply.started": "2022-11-25T11:24:34.116595Z"
    },
    "papermill": {
     "duration": 0.037817,
     "end_time": "2022-11-25T11:25:33.727431",
     "exception": false,
     "start_time": "2022-11-25T11:25:33.689614",
     "status": "completed"
    },
    "tags": []
   },
   "outputs": [],
   "source": [
    "# f1결측치 city별 중앙값으로 대체\n",
    "df['f1'] = df['f1'].fillna(df['city'].map({'서울':s,'경기':k,'부산':b,'대구':d}))\n",
    "\n",
    "# 만약 그냥 f1 중앙값으로 대체 한다면 \n",
    "# df['f1'] = df['f1'].fillna(df['f1'].median())"
   ]
  },
  {
   "cell_type": "code",
   "execution_count": 13,
   "id": "2fe5ee26",
   "metadata": {
    "execution": {
     "iopub.execute_input": "2022-11-25T11:25:33.790575Z",
     "iopub.status.busy": "2022-11-25T11:25:33.789274Z",
     "iopub.status.idle": "2022-11-25T11:25:33.793328Z",
     "shell.execute_reply": "2022-11-25T11:25:33.793919Z",
     "shell.execute_reply.started": "2022-11-25T11:24:39.724670Z"
    },
    "papermill": {
     "duration": 0.045172,
     "end_time": "2022-11-25T11:25:33.794127",
     "exception": false,
     "start_time": "2022-11-25T11:25:33.748955",
     "status": "completed"
    },
    "tags": []
   },
   "outputs": [
    {
     "data": {
      "text/html": [
       "<div>\n",
       "<style scoped>\n",
       "    .dataframe tbody tr th:only-of-type {\n",
       "        vertical-align: middle;\n",
       "    }\n",
       "\n",
       "    .dataframe tbody tr th {\n",
       "        vertical-align: top;\n",
       "    }\n",
       "\n",
       "    .dataframe thead th {\n",
       "        text-align: right;\n",
       "    }\n",
       "</style>\n",
       "<table border=\"1\" class=\"dataframe\">\n",
       "  <thead>\n",
       "    <tr style=\"text-align: right;\">\n",
       "      <th></th>\n",
       "      <th>id</th>\n",
       "      <th>age</th>\n",
       "      <th>city</th>\n",
       "      <th>f1</th>\n",
       "      <th>f2</th>\n",
       "      <th>f4</th>\n",
       "      <th>f5</th>\n",
       "    </tr>\n",
       "  </thead>\n",
       "  <tbody>\n",
       "    <tr>\n",
       "      <th>18</th>\n",
       "      <td>id19</td>\n",
       "      <td>53.0</td>\n",
       "      <td>서울</td>\n",
       "      <td>68.0</td>\n",
       "      <td>0</td>\n",
       "      <td>ISFP</td>\n",
       "      <td>83.685380</td>\n",
       "    </tr>\n",
       "    <tr>\n",
       "      <th>19</th>\n",
       "      <td>id20</td>\n",
       "      <td>11.0</td>\n",
       "      <td>서울</td>\n",
       "      <td>51.0</td>\n",
       "      <td>1</td>\n",
       "      <td>INTJ</td>\n",
       "      <td>91.297791</td>\n",
       "    </tr>\n",
       "    <tr>\n",
       "      <th>20</th>\n",
       "      <td>id21</td>\n",
       "      <td>90.0</td>\n",
       "      <td>부산</td>\n",
       "      <td>62.0</td>\n",
       "      <td>1</td>\n",
       "      <td>ISFP</td>\n",
       "      <td>29.269869</td>\n",
       "    </tr>\n",
       "  </tbody>\n",
       "</table>\n",
       "</div>"
      ],
      "text/plain": [
       "      id   age city    f1  f2    f4         f5\n",
       "18  id19  53.0   서울  68.0   0  ISFP  83.685380\n",
       "19  id20  11.0   서울  51.0   1  INTJ  91.297791\n",
       "20  id21  90.0   부산  62.0   1  ISFP  29.269869"
      ]
     },
     "execution_count": 13,
     "metadata": {},
     "output_type": "execute_result"
    }
   ],
   "source": [
    "# 대체 후 데이터 샘플 출력\n",
    "df[18:21]"
   ]
  },
  {
   "cell_type": "code",
   "execution_count": 14,
   "id": "c604c2ff",
   "metadata": {
    "execution": {
     "iopub.execute_input": "2022-11-25T11:25:33.838541Z",
     "iopub.status.busy": "2022-11-25T11:25:33.837732Z",
     "iopub.status.idle": "2022-11-25T11:25:33.841516Z",
     "shell.execute_reply": "2022-11-25T11:25:33.840935Z",
     "shell.execute_reply.started": "2022-11-25T11:24:42.672266Z"
    },
    "papermill": {
     "duration": 0.028119,
     "end_time": "2022-11-25T11:25:33.841670",
     "exception": false,
     "start_time": "2022-11-25T11:25:33.813551",
     "status": "completed"
    },
    "tags": []
   },
   "outputs": [
    {
     "name": "stdout",
     "output_type": "stream",
     "text": [
      "65.52\n"
     ]
    }
   ],
   "source": [
    "#결과 출력\n",
    "print(df['f1'].mean())"
   ]
  }
 ],
 "metadata": {
  "kernelspec": {
   "display_name": "Python 3",
   "language": "python",
   "name": "python3"
  },
  "language_info": {
   "codemirror_mode": {
    "name": "ipython",
    "version": 3
   },
   "file_extension": ".py",
   "mimetype": "text/x-python",
   "name": "python",
   "nbconvert_exporter": "python",
   "pygments_lexer": "ipython3",
   "version": "3.7.10"
  },
  "papermill": {
   "default_parameters": {},
   "duration": 10.385012,
   "end_time": "2022-11-25T11:25:34.472035",
   "environment_variables": {},
   "exception": null,
   "input_path": "__notebook__.ipynb",
   "output_path": "__notebook__.ipynb",
   "parameters": {},
   "start_time": "2022-11-25T11:25:24.087023",
   "version": "2.3.3"
  }
 },
 "nbformat": 4,
 "nbformat_minor": 5
}
