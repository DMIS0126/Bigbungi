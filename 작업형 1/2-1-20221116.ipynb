{
 "cells": [
  {
   "cell_type": "markdown",
   "id": "2fdd569c",
   "metadata": {
    "papermill": {
     "duration": 0.024878,
     "end_time": "2022-11-16T14:12:36.613308",
     "exception": false,
     "start_time": "2022-11-16T14:12:36.588430",
     "status": "completed"
    },
    "tags": []
   },
   "source": [
    "## 강의 영상 : https://youtu.be/Jh3rJaZlEg0"
   ]
  },
  {
   "cell_type": "markdown",
   "id": "39f4d65d",
   "metadata": {
    "_cell_guid": "af4252ad-f822-45d3-b9c2-f26af7608ef4",
    "_uuid": "de34d146-4c69-4b7c-82f6-11d6287f6094",
    "execution": {
     "iopub.execute_input": "2021-10-07T06:47:44.152391Z",
     "iopub.status.busy": "2021-10-07T06:47:44.152048Z",
     "iopub.status.idle": "2021-10-07T06:47:44.18282Z",
     "shell.execute_reply": "2021-10-07T06:47:44.182194Z",
     "shell.execute_reply.started": "2021-10-07T06:47:44.152311Z"
    },
    "jupyter": {
     "outputs_hidden": false
    },
    "papermill": {
     "duration": 0.022095,
     "end_time": "2022-11-16T14:12:36.659823",
     "exception": false,
     "start_time": "2022-11-16T14:12:36.637728",
     "status": "completed"
    },
    "tags": []
   },
   "source": [
    "## 문제1\n",
    "- 데이터셋(basic1.csv)의 'f5' 컬럼을 기준으로 상위 10개의 데이터를 구하고,\n",
    "- 'f5'컬럼 10개 중 최소값으로 데이터를 대체한 후, \n",
    "- 'age'컬럼에서 80 이상인 데이터의'f5 컬럼 평균값 구하기"
   ]
  },
  {
   "cell_type": "code",
   "execution_count": 1,
   "id": "47882e2e",
   "metadata": {
    "execution": {
     "iopub.execute_input": "2022-11-16T14:12:36.709870Z",
     "iopub.status.busy": "2022-11-16T14:12:36.708669Z",
     "iopub.status.idle": "2022-11-16T14:12:36.751821Z",
     "shell.execute_reply": "2022-11-16T14:12:36.752361Z",
     "shell.execute_reply.started": "2022-11-16T14:00:52.140078Z"
    },
    "papermill": {
     "duration": 0.069868,
     "end_time": "2022-11-16T14:12:36.752682",
     "exception": false,
     "start_time": "2022-11-16T14:12:36.682814",
     "status": "completed"
    },
    "tags": []
   },
   "outputs": [
    {
     "data": {
      "text/html": [
       "<div>\n",
       "<style scoped>\n",
       "    .dataframe tbody tr th:only-of-type {\n",
       "        vertical-align: middle;\n",
       "    }\n",
       "\n",
       "    .dataframe tbody tr th {\n",
       "        vertical-align: top;\n",
       "    }\n",
       "\n",
       "    .dataframe thead th {\n",
       "        text-align: right;\n",
       "    }\n",
       "</style>\n",
       "<table border=\"1\" class=\"dataframe\">\n",
       "  <thead>\n",
       "    <tr style=\"text-align: right;\">\n",
       "      <th></th>\n",
       "      <th>id</th>\n",
       "      <th>age</th>\n",
       "      <th>city</th>\n",
       "      <th>f1</th>\n",
       "      <th>f2</th>\n",
       "      <th>f3</th>\n",
       "      <th>f4</th>\n",
       "      <th>f5</th>\n",
       "    </tr>\n",
       "  </thead>\n",
       "  <tbody>\n",
       "    <tr>\n",
       "      <th>0</th>\n",
       "      <td>id01</td>\n",
       "      <td>2.0</td>\n",
       "      <td>서울</td>\n",
       "      <td>NaN</td>\n",
       "      <td>0</td>\n",
       "      <td>NaN</td>\n",
       "      <td>ENFJ</td>\n",
       "      <td>91.297791</td>\n",
       "    </tr>\n",
       "    <tr>\n",
       "      <th>1</th>\n",
       "      <td>id02</td>\n",
       "      <td>9.0</td>\n",
       "      <td>서울</td>\n",
       "      <td>70.0</td>\n",
       "      <td>1</td>\n",
       "      <td>NaN</td>\n",
       "      <td>ENFJ</td>\n",
       "      <td>60.339826</td>\n",
       "    </tr>\n",
       "    <tr>\n",
       "      <th>2</th>\n",
       "      <td>id03</td>\n",
       "      <td>27.0</td>\n",
       "      <td>서울</td>\n",
       "      <td>61.0</td>\n",
       "      <td>1</td>\n",
       "      <td>NaN</td>\n",
       "      <td>ISTJ</td>\n",
       "      <td>17.252986</td>\n",
       "    </tr>\n",
       "    <tr>\n",
       "      <th>3</th>\n",
       "      <td>id04</td>\n",
       "      <td>75.0</td>\n",
       "      <td>서울</td>\n",
       "      <td>NaN</td>\n",
       "      <td>2</td>\n",
       "      <td>NaN</td>\n",
       "      <td>INFP</td>\n",
       "      <td>52.667078</td>\n",
       "    </tr>\n",
       "    <tr>\n",
       "      <th>4</th>\n",
       "      <td>id05</td>\n",
       "      <td>24.0</td>\n",
       "      <td>서울</td>\n",
       "      <td>85.0</td>\n",
       "      <td>2</td>\n",
       "      <td>NaN</td>\n",
       "      <td>ISFJ</td>\n",
       "      <td>29.269869</td>\n",
       "    </tr>\n",
       "  </tbody>\n",
       "</table>\n",
       "</div>"
      ],
      "text/plain": [
       "     id   age city    f1  f2   f3    f4         f5\n",
       "0  id01   2.0   서울   NaN   0  NaN  ENFJ  91.297791\n",
       "1  id02   9.0   서울  70.0   1  NaN  ENFJ  60.339826\n",
       "2  id03  27.0   서울  61.0   1  NaN  ISTJ  17.252986\n",
       "3  id04  75.0   서울   NaN   2  NaN  INFP  52.667078\n",
       "4  id05  24.0   서울  85.0   2  NaN  ISFJ  29.269869"
      ]
     },
     "execution_count": 1,
     "metadata": {},
     "output_type": "execute_result"
    }
   ],
   "source": [
    "# 라이브러리 및 데이터 불러오기\n",
    "import pandas as pd\n",
    "\n",
    "df = pd.read_csv('../input/bigdatacertificationkr/basic1.csv')\n",
    "df.head()"
   ]
  },
  {
   "cell_type": "markdown",
   "id": "c9e5f0c2",
   "metadata": {
    "papermill": {
     "duration": 0.022405,
     "end_time": "2022-11-16T14:12:36.798487",
     "exception": false,
     "start_time": "2022-11-16T14:12:36.776082",
     "status": "completed"
    },
    "tags": []
   },
   "source": [
    "### 내 풀이"
   ]
  },
  {
   "cell_type": "code",
   "execution_count": 2,
   "id": "c142132c",
   "metadata": {
    "execution": {
     "iopub.execute_input": "2022-11-16T14:12:36.852251Z",
     "iopub.status.busy": "2022-11-16T14:12:36.851501Z",
     "iopub.status.idle": "2022-11-16T14:12:36.858097Z",
     "shell.execute_reply": "2022-11-16T14:12:36.858565Z",
     "shell.execute_reply.started": "2022-11-16T13:27:15.608306Z"
    },
    "papermill": {
     "duration": 0.0375,
     "end_time": "2022-11-16T14:12:36.858771",
     "exception": false,
     "start_time": "2022-11-16T14:12:36.821271",
     "status": "completed"
    },
    "tags": []
   },
   "outputs": [
    {
     "name": "stdout",
     "output_type": "stream",
     "text": [
      "91.29779092\n"
     ]
    }
   ],
   "source": [
    "df = df.sort_values('f5', ascending = False)\n",
    "m = df['f5'].head(10).min()\n",
    "print(m)"
   ]
  },
  {
   "cell_type": "code",
   "execution_count": 3,
   "id": "1d8d9ef5",
   "metadata": {
    "execution": {
     "iopub.execute_input": "2022-11-16T14:12:36.908868Z",
     "iopub.status.busy": "2022-11-16T14:12:36.908149Z",
     "iopub.status.idle": "2022-11-16T14:12:36.928864Z",
     "shell.execute_reply": "2022-11-16T14:12:36.929332Z",
     "shell.execute_reply.started": "2022-11-16T13:28:07.582657Z"
    },
    "papermill": {
     "duration": 0.04738,
     "end_time": "2022-11-16T14:12:36.929509",
     "exception": false,
     "start_time": "2022-11-16T14:12:36.882129",
     "status": "completed"
    },
    "tags": []
   },
   "outputs": [
    {
     "name": "stderr",
     "output_type": "stream",
     "text": [
      "/opt/conda/lib/python3.7/site-packages/ipykernel_launcher.py:1: SettingWithCopyWarning: \n",
      "A value is trying to be set on a copy of a slice from a DataFrame\n",
      "\n",
      "See the caveats in the documentation: https://pandas.pydata.org/pandas-docs/stable/user_guide/indexing.html#returning-a-view-versus-a-copy\n",
      "  \"\"\"Entry point for launching an IPython kernel.\n"
     ]
    },
    {
     "data": {
      "text/html": [
       "<div>\n",
       "<style scoped>\n",
       "    .dataframe tbody tr th:only-of-type {\n",
       "        vertical-align: middle;\n",
       "    }\n",
       "\n",
       "    .dataframe tbody tr th {\n",
       "        vertical-align: top;\n",
       "    }\n",
       "\n",
       "    .dataframe thead th {\n",
       "        text-align: right;\n",
       "    }\n",
       "</style>\n",
       "<table border=\"1\" class=\"dataframe\">\n",
       "  <thead>\n",
       "    <tr style=\"text-align: right;\">\n",
       "      <th></th>\n",
       "      <th>id</th>\n",
       "      <th>age</th>\n",
       "      <th>city</th>\n",
       "      <th>f1</th>\n",
       "      <th>f2</th>\n",
       "      <th>f3</th>\n",
       "      <th>f4</th>\n",
       "      <th>f5</th>\n",
       "    </tr>\n",
       "  </thead>\n",
       "  <tbody>\n",
       "    <tr>\n",
       "      <th>10</th>\n",
       "      <td>id11</td>\n",
       "      <td>40.0</td>\n",
       "      <td>서울</td>\n",
       "      <td>68.0</td>\n",
       "      <td>0</td>\n",
       "      <td>NaN</td>\n",
       "      <td>ENFP</td>\n",
       "      <td>91.297791</td>\n",
       "    </tr>\n",
       "    <tr>\n",
       "      <th>97</th>\n",
       "      <td>id98</td>\n",
       "      <td>39.0</td>\n",
       "      <td>경기</td>\n",
       "      <td>58.0</td>\n",
       "      <td>2</td>\n",
       "      <td>NaN</td>\n",
       "      <td>INFP</td>\n",
       "      <td>91.297791</td>\n",
       "    </tr>\n",
       "    <tr>\n",
       "      <th>9</th>\n",
       "      <td>id10</td>\n",
       "      <td>95.0</td>\n",
       "      <td>서울</td>\n",
       "      <td>74.0</td>\n",
       "      <td>1</td>\n",
       "      <td>NaN</td>\n",
       "      <td>ISFP</td>\n",
       "      <td>91.297791</td>\n",
       "    </tr>\n",
       "    <tr>\n",
       "      <th>76</th>\n",
       "      <td>id77</td>\n",
       "      <td>77.0</td>\n",
       "      <td>경기</td>\n",
       "      <td>31.0</td>\n",
       "      <td>0</td>\n",
       "      <td>NaN</td>\n",
       "      <td>INFP</td>\n",
       "      <td>91.297791</td>\n",
       "    </tr>\n",
       "    <tr>\n",
       "      <th>98</th>\n",
       "      <td>id99</td>\n",
       "      <td>1.0</td>\n",
       "      <td>경기</td>\n",
       "      <td>47.0</td>\n",
       "      <td>0</td>\n",
       "      <td>NaN</td>\n",
       "      <td>ESFJ</td>\n",
       "      <td>91.297791</td>\n",
       "    </tr>\n",
       "    <tr>\n",
       "      <th>91</th>\n",
       "      <td>id92</td>\n",
       "      <td>97.0</td>\n",
       "      <td>경기</td>\n",
       "      <td>78.0</td>\n",
       "      <td>1</td>\n",
       "      <td>NaN</td>\n",
       "      <td>INFP</td>\n",
       "      <td>91.297791</td>\n",
       "    </tr>\n",
       "    <tr>\n",
       "      <th>86</th>\n",
       "      <td>id87</td>\n",
       "      <td>19.0</td>\n",
       "      <td>경기</td>\n",
       "      <td>NaN</td>\n",
       "      <td>1</td>\n",
       "      <td>NaN</td>\n",
       "      <td>ISFP</td>\n",
       "      <td>91.297791</td>\n",
       "    </tr>\n",
       "    <tr>\n",
       "      <th>71</th>\n",
       "      <td>id72</td>\n",
       "      <td>8.0</td>\n",
       "      <td>경기</td>\n",
       "      <td>97.0</td>\n",
       "      <td>0</td>\n",
       "      <td>NaN</td>\n",
       "      <td>ESTJ</td>\n",
       "      <td>91.297791</td>\n",
       "    </tr>\n",
       "    <tr>\n",
       "      <th>11</th>\n",
       "      <td>id12</td>\n",
       "      <td>20.0</td>\n",
       "      <td>서울</td>\n",
       "      <td>NaN</td>\n",
       "      <td>0</td>\n",
       "      <td>NaN</td>\n",
       "      <td>ESTP</td>\n",
       "      <td>91.297791</td>\n",
       "    </tr>\n",
       "    <tr>\n",
       "      <th>19</th>\n",
       "      <td>id20</td>\n",
       "      <td>11.0</td>\n",
       "      <td>서울</td>\n",
       "      <td>51.0</td>\n",
       "      <td>1</td>\n",
       "      <td>NaN</td>\n",
       "      <td>INTJ</td>\n",
       "      <td>91.297791</td>\n",
       "    </tr>\n",
       "  </tbody>\n",
       "</table>\n",
       "</div>"
      ],
      "text/plain": [
       "      id   age city    f1  f2   f3    f4         f5\n",
       "10  id11  40.0   서울  68.0   0  NaN  ENFP  91.297791\n",
       "97  id98  39.0   경기  58.0   2  NaN  INFP  91.297791\n",
       "9   id10  95.0   서울  74.0   1  NaN  ISFP  91.297791\n",
       "76  id77  77.0   경기  31.0   0  NaN  INFP  91.297791\n",
       "98  id99   1.0   경기  47.0   0  NaN  ESFJ  91.297791\n",
       "91  id92  97.0   경기  78.0   1  NaN  INFP  91.297791\n",
       "86  id87  19.0   경기   NaN   1  NaN  ISFP  91.297791\n",
       "71  id72   8.0   경기  97.0   0  NaN  ESTJ  91.297791\n",
       "11  id12  20.0   서울   NaN   0  NaN  ESTP  91.297791\n",
       "19  id20  11.0   서울  51.0   1  NaN  INTJ  91.297791"
      ]
     },
     "execution_count": 3,
     "metadata": {},
     "output_type": "execute_result"
    }
   ],
   "source": [
    "df['f5'][:10] = m\n",
    "df.head(10)"
   ]
  },
  {
   "cell_type": "code",
   "execution_count": 4,
   "id": "2adabbba",
   "metadata": {
    "execution": {
     "iopub.execute_input": "2022-11-16T14:12:36.984313Z",
     "iopub.status.busy": "2022-11-16T14:12:36.983622Z",
     "iopub.status.idle": "2022-11-16T14:12:36.987036Z",
     "shell.execute_reply": "2022-11-16T14:12:36.987501Z",
     "shell.execute_reply.started": "2022-11-16T13:29:04.257286Z"
    },
    "papermill": {
     "duration": 0.034418,
     "end_time": "2022-11-16T14:12:36.987733",
     "exception": false,
     "start_time": "2022-11-16T14:12:36.953315",
     "status": "completed"
    },
    "tags": []
   },
   "outputs": [
    {
     "name": "stdout",
     "output_type": "stream",
     "text": [
      "62.497747125217394\n"
     ]
    }
   ],
   "source": [
    "print(df[df['age']>=80]['f5'].mean())"
   ]
  },
  {
   "cell_type": "markdown",
   "id": "937888f5",
   "metadata": {
    "papermill": {
     "duration": 0.023898,
     "end_time": "2022-11-16T14:12:37.036111",
     "exception": false,
     "start_time": "2022-11-16T14:12:37.012213",
     "status": "completed"
    },
    "tags": []
   },
   "source": [
    "### 기존 풀이"
   ]
  },
  {
   "cell_type": "code",
   "execution_count": 5,
   "id": "3560b514",
   "metadata": {
    "execution": {
     "iopub.execute_input": "2022-11-16T14:12:37.101684Z",
     "iopub.status.busy": "2022-11-16T14:12:37.087880Z",
     "iopub.status.idle": "2022-11-16T14:12:37.104072Z",
     "shell.execute_reply": "2022-11-16T14:12:37.104667Z",
     "shell.execute_reply.started": "2022-11-16T13:29:32.303322Z"
    },
    "papermill": {
     "duration": 0.043971,
     "end_time": "2022-11-16T14:12:37.104839",
     "exception": false,
     "start_time": "2022-11-16T14:12:37.060868",
     "status": "completed"
    },
    "tags": []
   },
   "outputs": [
    {
     "data": {
      "text/html": [
       "<div>\n",
       "<style scoped>\n",
       "    .dataframe tbody tr th:only-of-type {\n",
       "        vertical-align: middle;\n",
       "    }\n",
       "\n",
       "    .dataframe tbody tr th {\n",
       "        vertical-align: top;\n",
       "    }\n",
       "\n",
       "    .dataframe thead th {\n",
       "        text-align: right;\n",
       "    }\n",
       "</style>\n",
       "<table border=\"1\" class=\"dataframe\">\n",
       "  <thead>\n",
       "    <tr style=\"text-align: right;\">\n",
       "      <th></th>\n",
       "      <th>id</th>\n",
       "      <th>age</th>\n",
       "      <th>city</th>\n",
       "      <th>f1</th>\n",
       "      <th>f2</th>\n",
       "      <th>f3</th>\n",
       "      <th>f4</th>\n",
       "      <th>f5</th>\n",
       "    </tr>\n",
       "  </thead>\n",
       "  <tbody>\n",
       "    <tr>\n",
       "      <th>10</th>\n",
       "      <td>id11</td>\n",
       "      <td>40.0</td>\n",
       "      <td>서울</td>\n",
       "      <td>68.0</td>\n",
       "      <td>0</td>\n",
       "      <td>NaN</td>\n",
       "      <td>ENFP</td>\n",
       "      <td>91.297791</td>\n",
       "    </tr>\n",
       "    <tr>\n",
       "      <th>9</th>\n",
       "      <td>id10</td>\n",
       "      <td>95.0</td>\n",
       "      <td>서울</td>\n",
       "      <td>74.0</td>\n",
       "      <td>1</td>\n",
       "      <td>NaN</td>\n",
       "      <td>ISFP</td>\n",
       "      <td>91.297791</td>\n",
       "    </tr>\n",
       "    <tr>\n",
       "      <th>76</th>\n",
       "      <td>id77</td>\n",
       "      <td>77.0</td>\n",
       "      <td>경기</td>\n",
       "      <td>31.0</td>\n",
       "      <td>0</td>\n",
       "      <td>NaN</td>\n",
       "      <td>INFP</td>\n",
       "      <td>91.297791</td>\n",
       "    </tr>\n",
       "    <tr>\n",
       "      <th>98</th>\n",
       "      <td>id99</td>\n",
       "      <td>1.0</td>\n",
       "      <td>경기</td>\n",
       "      <td>47.0</td>\n",
       "      <td>0</td>\n",
       "      <td>NaN</td>\n",
       "      <td>ESFJ</td>\n",
       "      <td>91.297791</td>\n",
       "    </tr>\n",
       "    <tr>\n",
       "      <th>91</th>\n",
       "      <td>id92</td>\n",
       "      <td>97.0</td>\n",
       "      <td>경기</td>\n",
       "      <td>78.0</td>\n",
       "      <td>1</td>\n",
       "      <td>NaN</td>\n",
       "      <td>INFP</td>\n",
       "      <td>91.297791</td>\n",
       "    </tr>\n",
       "    <tr>\n",
       "      <th>86</th>\n",
       "      <td>id87</td>\n",
       "      <td>19.0</td>\n",
       "      <td>경기</td>\n",
       "      <td>NaN</td>\n",
       "      <td>1</td>\n",
       "      <td>NaN</td>\n",
       "      <td>ISFP</td>\n",
       "      <td>91.297791</td>\n",
       "    </tr>\n",
       "    <tr>\n",
       "      <th>71</th>\n",
       "      <td>id72</td>\n",
       "      <td>8.0</td>\n",
       "      <td>경기</td>\n",
       "      <td>97.0</td>\n",
       "      <td>0</td>\n",
       "      <td>NaN</td>\n",
       "      <td>ESTJ</td>\n",
       "      <td>91.297791</td>\n",
       "    </tr>\n",
       "    <tr>\n",
       "      <th>11</th>\n",
       "      <td>id12</td>\n",
       "      <td>20.0</td>\n",
       "      <td>서울</td>\n",
       "      <td>NaN</td>\n",
       "      <td>0</td>\n",
       "      <td>NaN</td>\n",
       "      <td>ESTP</td>\n",
       "      <td>91.297791</td>\n",
       "    </tr>\n",
       "    <tr>\n",
       "      <th>19</th>\n",
       "      <td>id20</td>\n",
       "      <td>11.0</td>\n",
       "      <td>서울</td>\n",
       "      <td>51.0</td>\n",
       "      <td>1</td>\n",
       "      <td>NaN</td>\n",
       "      <td>INTJ</td>\n",
       "      <td>91.297791</td>\n",
       "    </tr>\n",
       "    <tr>\n",
       "      <th>64</th>\n",
       "      <td>id65</td>\n",
       "      <td>26.5</td>\n",
       "      <td>경기</td>\n",
       "      <td>NaN</td>\n",
       "      <td>0</td>\n",
       "      <td>NaN</td>\n",
       "      <td>ISFP</td>\n",
       "      <td>91.297791</td>\n",
       "    </tr>\n",
       "  </tbody>\n",
       "</table>\n",
       "</div>"
      ],
      "text/plain": [
       "      id   age city    f1  f2   f3    f4         f5\n",
       "10  id11  40.0   서울  68.0   0  NaN  ENFP  91.297791\n",
       "9   id10  95.0   서울  74.0   1  NaN  ISFP  91.297791\n",
       "76  id77  77.0   경기  31.0   0  NaN  INFP  91.297791\n",
       "98  id99   1.0   경기  47.0   0  NaN  ESFJ  91.297791\n",
       "91  id92  97.0   경기  78.0   1  NaN  INFP  91.297791\n",
       "86  id87  19.0   경기   NaN   1  NaN  ISFP  91.297791\n",
       "71  id72   8.0   경기  97.0   0  NaN  ESTJ  91.297791\n",
       "11  id12  20.0   서울   NaN   0  NaN  ESTP  91.297791\n",
       "19  id20  11.0   서울  51.0   1  NaN  INTJ  91.297791\n",
       "64  id65  26.5   경기   NaN   0  NaN  ISFP  91.297791"
      ]
     },
     "execution_count": 5,
     "metadata": {},
     "output_type": "execute_result"
    }
   ],
   "source": [
    "# f5컬럼을 기준으로 내림차순 정렬\n",
    "df = df.sort_values('f5', ascending=False)\n",
    "df.head(10)"
   ]
  },
  {
   "cell_type": "code",
   "execution_count": 6,
   "id": "ad134d81",
   "metadata": {
    "execution": {
     "iopub.execute_input": "2022-11-16T14:12:37.157714Z",
     "iopub.status.busy": "2022-11-16T14:12:37.157053Z",
     "iopub.status.idle": "2022-11-16T14:12:37.162706Z",
     "shell.execute_reply": "2022-11-16T14:12:37.163208Z",
     "shell.execute_reply.started": "2022-11-16T13:29:37.081365Z"
    },
    "papermill": {
     "duration": 0.033347,
     "end_time": "2022-11-16T14:12:37.163381",
     "exception": false,
     "start_time": "2022-11-16T14:12:37.130034",
     "status": "completed"
    },
    "tags": []
   },
   "outputs": [
    {
     "data": {
      "text/plain": [
       "91.29779092"
      ]
     },
     "execution_count": 6,
     "metadata": {},
     "output_type": "execute_result"
    }
   ],
   "source": [
    "# 최소값 찾기\n",
    "min = df['f5'][:10].min()\n",
    "# min = 91.297791\n",
    "min"
   ]
  },
  {
   "cell_type": "code",
   "execution_count": 7,
   "id": "fd87245a",
   "metadata": {
    "execution": {
     "iopub.execute_input": "2022-11-16T14:12:37.230786Z",
     "iopub.status.busy": "2022-11-16T14:12:37.224287Z",
     "iopub.status.idle": "2022-11-16T14:12:37.234484Z",
     "shell.execute_reply": "2022-11-16T14:12:37.235011Z",
     "shell.execute_reply.started": "2022-11-16T13:29:44.249267Z"
    },
    "papermill": {
     "duration": 0.046783,
     "end_time": "2022-11-16T14:12:37.235184",
     "exception": false,
     "start_time": "2022-11-16T14:12:37.188401",
     "status": "completed"
    },
    "tags": []
   },
   "outputs": [
    {
     "name": "stderr",
     "output_type": "stream",
     "text": [
      "/opt/conda/lib/python3.7/site-packages/ipykernel_launcher.py:1: SettingWithCopyWarning: \n",
      "A value is trying to be set on a copy of a slice from a DataFrame\n",
      "\n",
      "See the caveats in the documentation: https://pandas.pydata.org/pandas-docs/stable/user_guide/indexing.html#returning-a-view-versus-a-copy\n",
      "  \"\"\"Entry point for launching an IPython kernel.\n"
     ]
    },
    {
     "data": {
      "text/html": [
       "<div>\n",
       "<style scoped>\n",
       "    .dataframe tbody tr th:only-of-type {\n",
       "        vertical-align: middle;\n",
       "    }\n",
       "\n",
       "    .dataframe tbody tr th {\n",
       "        vertical-align: top;\n",
       "    }\n",
       "\n",
       "    .dataframe thead th {\n",
       "        text-align: right;\n",
       "    }\n",
       "</style>\n",
       "<table border=\"1\" class=\"dataframe\">\n",
       "  <thead>\n",
       "    <tr style=\"text-align: right;\">\n",
       "      <th></th>\n",
       "      <th>id</th>\n",
       "      <th>age</th>\n",
       "      <th>city</th>\n",
       "      <th>f1</th>\n",
       "      <th>f2</th>\n",
       "      <th>f3</th>\n",
       "      <th>f4</th>\n",
       "      <th>f5</th>\n",
       "    </tr>\n",
       "  </thead>\n",
       "  <tbody>\n",
       "    <tr>\n",
       "      <th>10</th>\n",
       "      <td>id11</td>\n",
       "      <td>40.0</td>\n",
       "      <td>서울</td>\n",
       "      <td>68.0</td>\n",
       "      <td>0</td>\n",
       "      <td>NaN</td>\n",
       "      <td>ENFP</td>\n",
       "      <td>91.297791</td>\n",
       "    </tr>\n",
       "    <tr>\n",
       "      <th>9</th>\n",
       "      <td>id10</td>\n",
       "      <td>95.0</td>\n",
       "      <td>서울</td>\n",
       "      <td>74.0</td>\n",
       "      <td>1</td>\n",
       "      <td>NaN</td>\n",
       "      <td>ISFP</td>\n",
       "      <td>91.297791</td>\n",
       "    </tr>\n",
       "    <tr>\n",
       "      <th>76</th>\n",
       "      <td>id77</td>\n",
       "      <td>77.0</td>\n",
       "      <td>경기</td>\n",
       "      <td>31.0</td>\n",
       "      <td>0</td>\n",
       "      <td>NaN</td>\n",
       "      <td>INFP</td>\n",
       "      <td>91.297791</td>\n",
       "    </tr>\n",
       "    <tr>\n",
       "      <th>98</th>\n",
       "      <td>id99</td>\n",
       "      <td>1.0</td>\n",
       "      <td>경기</td>\n",
       "      <td>47.0</td>\n",
       "      <td>0</td>\n",
       "      <td>NaN</td>\n",
       "      <td>ESFJ</td>\n",
       "      <td>91.297791</td>\n",
       "    </tr>\n",
       "    <tr>\n",
       "      <th>91</th>\n",
       "      <td>id92</td>\n",
       "      <td>97.0</td>\n",
       "      <td>경기</td>\n",
       "      <td>78.0</td>\n",
       "      <td>1</td>\n",
       "      <td>NaN</td>\n",
       "      <td>INFP</td>\n",
       "      <td>91.297791</td>\n",
       "    </tr>\n",
       "    <tr>\n",
       "      <th>86</th>\n",
       "      <td>id87</td>\n",
       "      <td>19.0</td>\n",
       "      <td>경기</td>\n",
       "      <td>NaN</td>\n",
       "      <td>1</td>\n",
       "      <td>NaN</td>\n",
       "      <td>ISFP</td>\n",
       "      <td>91.297791</td>\n",
       "    </tr>\n",
       "    <tr>\n",
       "      <th>71</th>\n",
       "      <td>id72</td>\n",
       "      <td>8.0</td>\n",
       "      <td>경기</td>\n",
       "      <td>97.0</td>\n",
       "      <td>0</td>\n",
       "      <td>NaN</td>\n",
       "      <td>ESTJ</td>\n",
       "      <td>91.297791</td>\n",
       "    </tr>\n",
       "    <tr>\n",
       "      <th>11</th>\n",
       "      <td>id12</td>\n",
       "      <td>20.0</td>\n",
       "      <td>서울</td>\n",
       "      <td>NaN</td>\n",
       "      <td>0</td>\n",
       "      <td>NaN</td>\n",
       "      <td>ESTP</td>\n",
       "      <td>91.297791</td>\n",
       "    </tr>\n",
       "    <tr>\n",
       "      <th>19</th>\n",
       "      <td>id20</td>\n",
       "      <td>11.0</td>\n",
       "      <td>서울</td>\n",
       "      <td>51.0</td>\n",
       "      <td>1</td>\n",
       "      <td>NaN</td>\n",
       "      <td>INTJ</td>\n",
       "      <td>91.297791</td>\n",
       "    </tr>\n",
       "    <tr>\n",
       "      <th>64</th>\n",
       "      <td>id65</td>\n",
       "      <td>26.5</td>\n",
       "      <td>경기</td>\n",
       "      <td>NaN</td>\n",
       "      <td>0</td>\n",
       "      <td>NaN</td>\n",
       "      <td>ISFP</td>\n",
       "      <td>91.297791</td>\n",
       "    </tr>\n",
       "  </tbody>\n",
       "</table>\n",
       "</div>"
      ],
      "text/plain": [
       "      id   age city    f1  f2   f3    f4         f5\n",
       "10  id11  40.0   서울  68.0   0  NaN  ENFP  91.297791\n",
       "9   id10  95.0   서울  74.0   1  NaN  ISFP  91.297791\n",
       "76  id77  77.0   경기  31.0   0  NaN  INFP  91.297791\n",
       "98  id99   1.0   경기  47.0   0  NaN  ESFJ  91.297791\n",
       "91  id92  97.0   경기  78.0   1  NaN  INFP  91.297791\n",
       "86  id87  19.0   경기   NaN   1  NaN  ISFP  91.297791\n",
       "71  id72   8.0   경기  97.0   0  NaN  ESTJ  91.297791\n",
       "11  id12  20.0   서울   NaN   0  NaN  ESTP  91.297791\n",
       "19  id20  11.0   서울  51.0   1  NaN  INTJ  91.297791\n",
       "64  id65  26.5   경기   NaN   0  NaN  ISFP  91.297791"
      ]
     },
     "execution_count": 7,
     "metadata": {},
     "output_type": "execute_result"
    }
   ],
   "source": [
    "df['f5'][:10] = min\n",
    "df.head(10)"
   ]
  },
  {
   "cell_type": "code",
   "execution_count": 8,
   "id": "98c8ca22",
   "metadata": {
    "execution": {
     "iopub.execute_input": "2022-11-16T14:12:37.290629Z",
     "iopub.status.busy": "2022-11-16T14:12:37.289944Z",
     "iopub.status.idle": "2022-11-16T14:12:37.296722Z",
     "shell.execute_reply": "2022-11-16T14:12:37.296113Z",
     "shell.execute_reply.started": "2022-11-16T13:29:47.324449Z"
    },
    "papermill": {
     "duration": 0.035362,
     "end_time": "2022-11-16T14:12:37.296889",
     "exception": false,
     "start_time": "2022-11-16T14:12:37.261527",
     "status": "completed"
    },
    "tags": []
   },
   "outputs": [
    {
     "name": "stdout",
     "output_type": "stream",
     "text": [
      "62.497747125217394\n"
     ]
    }
   ],
   "source": [
    "# 80세 이상의 f5컬럼 평균\n",
    "print(df[df['age']>=80]['f5'].mean())"
   ]
  },
  {
   "cell_type": "markdown",
   "id": "0fd55397",
   "metadata": {
    "papermill": {
     "duration": 0.026109,
     "end_time": "2022-11-16T14:12:37.349475",
     "exception": false,
     "start_time": "2022-11-16T14:12:37.323366",
     "status": "completed"
    },
    "tags": []
   },
   "source": [
    "## 문제2\n",
    "- 데이터셋(basic1.csv)의 앞에서 순서대로 70% 데이터만 활용해서,\n",
    "- 'f1'컬럼 결측치를 중앙값으로 채우기 전후의 표준편차를 구하고\n",
    "- 두 표준편차 차이 계산하기"
   ]
  },
  {
   "cell_type": "code",
   "execution_count": 9,
   "id": "09eaf9dd",
   "metadata": {
    "execution": {
     "iopub.execute_input": "2022-11-16T14:12:37.408708Z",
     "iopub.status.busy": "2022-11-16T14:12:37.407696Z",
     "iopub.status.idle": "2022-11-16T14:12:37.416376Z",
     "shell.execute_reply": "2022-11-16T14:12:37.416969Z",
     "shell.execute_reply.started": "2022-11-16T14:03:00.185471Z"
    },
    "papermill": {
     "duration": 0.04102,
     "end_time": "2022-11-16T14:12:37.417167",
     "exception": false,
     "start_time": "2022-11-16T14:12:37.376147",
     "status": "completed"
    },
    "tags": []
   },
   "outputs": [],
   "source": [
    "# 라이브러리 및 데이터 불러오기\n",
    "import pandas as pd\n",
    "import numpy as np\n",
    "\n",
    "df = pd.read_csv('../input/bigdatacertificationkr/basic1.csv')"
   ]
  },
  {
   "cell_type": "markdown",
   "id": "b45a74ea",
   "metadata": {
    "papermill": {
     "duration": 0.032259,
     "end_time": "2022-11-16T14:12:37.483119",
     "exception": false,
     "start_time": "2022-11-16T14:12:37.450860",
     "status": "completed"
    },
    "tags": []
   },
   "source": [
    "### 내 풀이"
   ]
  },
  {
   "cell_type": "code",
   "execution_count": 10,
   "id": "60e86fbc",
   "metadata": {
    "execution": {
     "iopub.execute_input": "2022-11-16T14:12:37.540748Z",
     "iopub.status.busy": "2022-11-16T14:12:37.539737Z",
     "iopub.status.idle": "2022-11-16T14:12:37.551420Z",
     "shell.execute_reply": "2022-11-16T14:12:37.551982Z",
     "shell.execute_reply.started": "2022-11-16T14:03:27.341828Z"
    },
    "papermill": {
     "duration": 0.042373,
     "end_time": "2022-11-16T14:12:37.552171",
     "exception": false,
     "start_time": "2022-11-16T14:12:37.509798",
     "status": "completed"
    },
    "tags": []
   },
   "outputs": [
    {
     "name": "stdout",
     "output_type": "stream",
     "text": [
      "17.98727579865276\n",
      "14.690773995256688\n",
      "3.2965018033960725\n"
     ]
    },
    {
     "name": "stderr",
     "output_type": "stream",
     "text": [
      "/opt/conda/lib/python3.7/site-packages/ipykernel_launcher.py:6: SettingWithCopyWarning: \n",
      "A value is trying to be set on a copy of a slice from a DataFrame.\n",
      "Try using .loc[row_indexer,col_indexer] = value instead\n",
      "\n",
      "See the caveats in the documentation: https://pandas.pydata.org/pandas-docs/stable/user_guide/indexing.html#returning-a-view-versus-a-copy\n",
      "  \n"
     ]
    }
   ],
   "source": [
    "df_70 = df.iloc[:int(len(df)*0.7),]\n",
    "std1 = df_70['f1'].std()\n",
    "print(std1)\n",
    "\n",
    "m = df_70['f1'].median()\n",
    "df_70['f1'] = df_70['f1'].fillna(m)\n",
    "# print(df_70.info())\n",
    "\n",
    "std2 = df_70['f1'].std()\n",
    "print(std2)\n",
    "print(abs(std1 - std2))"
   ]
  },
  {
   "cell_type": "code",
   "execution_count": null,
   "id": "a7deb7a0",
   "metadata": {
    "papermill": {
     "duration": 0.026815,
     "end_time": "2022-11-16T14:12:37.606750",
     "exception": false,
     "start_time": "2022-11-16T14:12:37.579935",
     "status": "completed"
    },
    "tags": []
   },
   "outputs": [],
   "source": []
  },
  {
   "cell_type": "code",
   "execution_count": 11,
   "id": "6701d703",
   "metadata": {
    "execution": {
     "iopub.execute_input": "2022-11-16T14:12:37.675066Z",
     "iopub.status.busy": "2022-11-16T14:12:37.674029Z",
     "iopub.status.idle": "2022-11-16T14:12:37.678257Z",
     "shell.execute_reply": "2022-11-16T14:12:37.677723Z",
     "shell.execute_reply.started": "2021-11-03T04:24:05.745986Z"
    },
    "papermill": {
     "duration": 0.044948,
     "end_time": "2022-11-16T14:12:37.678398",
     "exception": false,
     "start_time": "2022-11-16T14:12:37.633450",
     "status": "completed"
    },
    "tags": []
   },
   "outputs": [
    {
     "data": {
      "text/html": [
       "<div>\n",
       "<style scoped>\n",
       "    .dataframe tbody tr th:only-of-type {\n",
       "        vertical-align: middle;\n",
       "    }\n",
       "\n",
       "    .dataframe tbody tr th {\n",
       "        vertical-align: top;\n",
       "    }\n",
       "\n",
       "    .dataframe thead th {\n",
       "        text-align: right;\n",
       "    }\n",
       "</style>\n",
       "<table border=\"1\" class=\"dataframe\">\n",
       "  <thead>\n",
       "    <tr style=\"text-align: right;\">\n",
       "      <th></th>\n",
       "      <th>id</th>\n",
       "      <th>age</th>\n",
       "      <th>city</th>\n",
       "      <th>f1</th>\n",
       "      <th>f2</th>\n",
       "      <th>f3</th>\n",
       "      <th>f4</th>\n",
       "      <th>f5</th>\n",
       "    </tr>\n",
       "  </thead>\n",
       "  <tbody>\n",
       "    <tr>\n",
       "      <th>65</th>\n",
       "      <td>id66</td>\n",
       "      <td>87.0</td>\n",
       "      <td>경기</td>\n",
       "      <td>68.0</td>\n",
       "      <td>1</td>\n",
       "      <td>NaN</td>\n",
       "      <td>ISFP</td>\n",
       "      <td>17.252986</td>\n",
       "    </tr>\n",
       "    <tr>\n",
       "      <th>66</th>\n",
       "      <td>id67</td>\n",
       "      <td>66.0</td>\n",
       "      <td>경기</td>\n",
       "      <td>52.0</td>\n",
       "      <td>1</td>\n",
       "      <td>NaN</td>\n",
       "      <td>ISFJ</td>\n",
       "      <td>73.586397</td>\n",
       "    </tr>\n",
       "    <tr>\n",
       "      <th>67</th>\n",
       "      <td>id68</td>\n",
       "      <td>35.0</td>\n",
       "      <td>경기</td>\n",
       "      <td>45.0</td>\n",
       "      <td>2</td>\n",
       "      <td>NaN</td>\n",
       "      <td>ISFP</td>\n",
       "      <td>67.886373</td>\n",
       "    </tr>\n",
       "    <tr>\n",
       "      <th>68</th>\n",
       "      <td>id69</td>\n",
       "      <td>75.0</td>\n",
       "      <td>경기</td>\n",
       "      <td>85.0</td>\n",
       "      <td>0</td>\n",
       "      <td>NaN</td>\n",
       "      <td>ESTJ</td>\n",
       "      <td>69.730313</td>\n",
       "    </tr>\n",
       "    <tr>\n",
       "      <th>69</th>\n",
       "      <td>id70</td>\n",
       "      <td>-9.0</td>\n",
       "      <td>경기</td>\n",
       "      <td>96.0</td>\n",
       "      <td>1</td>\n",
       "      <td>NaN</td>\n",
       "      <td>ISTP</td>\n",
       "      <td>48.431184</td>\n",
       "    </tr>\n",
       "  </tbody>\n",
       "</table>\n",
       "</div>"
      ],
      "text/plain": [
       "      id   age city    f1  f2   f3    f4         f5\n",
       "65  id66  87.0   경기  68.0   1  NaN  ISFP  17.252986\n",
       "66  id67  66.0   경기  52.0   1  NaN  ISFJ  73.586397\n",
       "67  id68  35.0   경기  45.0   2  NaN  ISFP  67.886373\n",
       "68  id69  75.0   경기  85.0   0  NaN  ESTJ  69.730313\n",
       "69  id70  -9.0   경기  96.0   1  NaN  ISTP  48.431184"
      ]
     },
     "execution_count": 11,
     "metadata": {},
     "output_type": "execute_result"
    }
   ],
   "source": [
    "# 데이터 나누기 방법1\n",
    "data70 = df.iloc[:70]\n",
    "data30 = df.iloc[70:]\n",
    "\n",
    "# [심화학습] 데이터 나누기 방법2\n",
    "# data70, data30 = np.split(df, [int(.7*len(df))])\n",
    "\n",
    "# [심화학습] 데이터 나누기 방법3 (랜덤으로 샘플링하라고 했을 때!!)\n",
    "# data70 = df.sample(frac = 0.7)\n",
    "# data70 = df.drop(data70.index)\n",
    "\n",
    "data70.tail()"
   ]
  },
  {
   "cell_type": "code",
   "execution_count": 12,
   "id": "45e77e51",
   "metadata": {
    "execution": {
     "iopub.execute_input": "2022-11-16T14:12:37.740592Z",
     "iopub.status.busy": "2022-11-16T14:12:37.739832Z",
     "iopub.status.idle": "2022-11-16T14:12:37.742523Z",
     "shell.execute_reply": "2022-11-16T14:12:37.743068Z",
     "shell.execute_reply.started": "2022-11-16T13:54:54.509941Z"
    },
    "papermill": {
     "duration": 0.037696,
     "end_time": "2022-11-16T14:12:37.743249",
     "exception": false,
     "start_time": "2022-11-16T14:12:37.705553",
     "status": "completed"
    },
    "tags": []
   },
   "outputs": [
    {
     "data": {
      "text/plain": [
       "id       0\n",
       "age      0\n",
       "city     0\n",
       "f1       0\n",
       "f2       0\n",
       "f3      67\n",
       "f4       0\n",
       "f5       0\n",
       "dtype: int64"
      ]
     },
     "execution_count": 12,
     "metadata": {},
     "output_type": "execute_result"
    }
   ],
   "source": [
    "## 결측치 확인\n",
    "data70.isnull().sum()"
   ]
  },
  {
   "cell_type": "code",
   "execution_count": 13,
   "id": "9c4ab98b",
   "metadata": {
    "execution": {
     "iopub.execute_input": "2022-11-16T14:12:37.811799Z",
     "iopub.status.busy": "2022-11-16T14:12:37.810708Z",
     "iopub.status.idle": "2022-11-16T14:12:37.814549Z",
     "shell.execute_reply": "2022-11-16T14:12:37.815190Z",
     "shell.execute_reply.started": "2021-11-03T04:24:18.984395Z"
    },
    "papermill": {
     "duration": 0.043069,
     "end_time": "2022-11-16T14:12:37.815362",
     "exception": false,
     "start_time": "2022-11-16T14:12:37.772293",
     "status": "completed"
    },
    "tags": []
   },
   "outputs": [
    {
     "data": {
      "text/plain": [
       "14.690773995256688"
      ]
     },
     "execution_count": 13,
     "metadata": {},
     "output_type": "execute_result"
    }
   ],
   "source": [
    "## 결측치 채우기 전 f1컬럼 표준편자\n",
    "std1 = data70['f1'].std()\n",
    "std1"
   ]
  },
  {
   "cell_type": "code",
   "execution_count": 14,
   "id": "be924127",
   "metadata": {
    "execution": {
     "iopub.execute_input": "2022-11-16T14:12:37.884664Z",
     "iopub.status.busy": "2022-11-16T14:12:37.883637Z",
     "iopub.status.idle": "2022-11-16T14:12:37.891178Z",
     "shell.execute_reply": "2022-11-16T14:12:37.891913Z",
     "shell.execute_reply.started": "2021-11-03T04:24:20.270365Z"
    },
    "papermill": {
     "duration": 0.041444,
     "end_time": "2022-11-16T14:12:37.892200",
     "exception": false,
     "start_time": "2022-11-16T14:12:37.850756",
     "status": "completed"
    },
    "tags": []
   },
   "outputs": [
    {
     "data": {
      "text/plain": [
       "68.0"
      ]
     },
     "execution_count": 14,
     "metadata": {},
     "output_type": "execute_result"
    }
   ],
   "source": [
    "## 중앙값 확인\n",
    "med=data70['f1'].median()\n",
    "med"
   ]
  },
  {
   "cell_type": "code",
   "execution_count": 15,
   "id": "c07b32a5",
   "metadata": {
    "execution": {
     "iopub.execute_input": "2022-11-16T14:12:37.959002Z",
     "iopub.status.busy": "2022-11-16T14:12:37.958059Z",
     "iopub.status.idle": "2022-11-16T14:12:37.964965Z",
     "shell.execute_reply": "2022-11-16T14:12:37.964411Z",
     "shell.execute_reply.started": "2021-11-03T04:24:23.310735Z"
    },
    "papermill": {
     "duration": 0.03835,
     "end_time": "2022-11-16T14:12:37.965132",
     "exception": false,
     "start_time": "2022-11-16T14:12:37.926782",
     "status": "completed"
    },
    "tags": []
   },
   "outputs": [
    {
     "name": "stderr",
     "output_type": "stream",
     "text": [
      "/opt/conda/lib/python3.7/site-packages/ipykernel_launcher.py:2: SettingWithCopyWarning: \n",
      "A value is trying to be set on a copy of a slice from a DataFrame.\n",
      "Try using .loc[row_indexer,col_indexer] = value instead\n",
      "\n",
      "See the caveats in the documentation: https://pandas.pydata.org/pandas-docs/stable/user_guide/indexing.html#returning-a-view-versus-a-copy\n",
      "  \n"
     ]
    }
   ],
   "source": [
    "## 중앙값으로 채우기\n",
    "data70['f1'] = data70['f1'].fillna(med)\n",
    "\n",
    "## 다른 방법들\n",
    "# data70['f1']= data70['f1'].replace(np.nan, med)\n",
    "# data70 = data70.fillna(value=med)"
   ]
  },
  {
   "cell_type": "code",
   "execution_count": 16,
   "id": "55a7d69f",
   "metadata": {
    "execution": {
     "iopub.execute_input": "2022-11-16T14:12:38.030321Z",
     "iopub.status.busy": "2022-11-16T14:12:38.029491Z",
     "iopub.status.idle": "2022-11-16T14:12:38.033263Z",
     "shell.execute_reply": "2022-11-16T14:12:38.032681Z",
     "shell.execute_reply.started": "2021-11-03T04:24:25.720154Z"
    },
    "papermill": {
     "duration": 0.039714,
     "end_time": "2022-11-16T14:12:38.033408",
     "exception": false,
     "start_time": "2022-11-16T14:12:37.993694",
     "status": "completed"
    },
    "tags": []
   },
   "outputs": [
    {
     "data": {
      "text/plain": [
       "id       0\n",
       "age      0\n",
       "city     0\n",
       "f1       0\n",
       "f2       0\n",
       "f3      67\n",
       "f4       0\n",
       "f5       0\n",
       "dtype: int64"
      ]
     },
     "execution_count": 16,
     "metadata": {},
     "output_type": "execute_result"
    }
   ],
   "source": [
    "## 결측치 확인\n",
    "data70.isnull().sum()"
   ]
  },
  {
   "cell_type": "code",
   "execution_count": 17,
   "id": "04fb802d",
   "metadata": {
    "execution": {
     "iopub.execute_input": "2022-11-16T14:12:38.096589Z",
     "iopub.status.busy": "2022-11-16T14:12:38.095896Z",
     "iopub.status.idle": "2022-11-16T14:12:38.099005Z",
     "shell.execute_reply": "2022-11-16T14:12:38.099597Z",
     "shell.execute_reply.started": "2021-11-03T04:24:35.69782Z"
    },
    "papermill": {
     "duration": 0.037899,
     "end_time": "2022-11-16T14:12:38.099773",
     "exception": false,
     "start_time": "2022-11-16T14:12:38.061874",
     "status": "completed"
    },
    "tags": []
   },
   "outputs": [
    {
     "data": {
      "text/plain": [
       "14.690773995256688"
      ]
     },
     "execution_count": 17,
     "metadata": {},
     "output_type": "execute_result"
    }
   ],
   "source": [
    "## 결측치를 채운 후 표준편차 구하기\n",
    "std2 = data70['f1'].std()\n",
    "std2"
   ]
  },
  {
   "cell_type": "code",
   "execution_count": 18,
   "id": "06ce3d97",
   "metadata": {
    "execution": {
     "iopub.execute_input": "2022-11-16T14:12:38.160958Z",
     "iopub.status.busy": "2022-11-16T14:12:38.160305Z",
     "iopub.status.idle": "2022-11-16T14:12:38.165564Z",
     "shell.execute_reply": "2022-11-16T14:12:38.166190Z",
     "shell.execute_reply.started": "2021-11-03T04:24:49.545181Z"
    },
    "papermill": {
     "duration": 0.037646,
     "end_time": "2022-11-16T14:12:38.166362",
     "exception": false,
     "start_time": "2022-11-16T14:12:38.128716",
     "status": "completed"
    },
    "tags": []
   },
   "outputs": [
    {
     "name": "stdout",
     "output_type": "stream",
     "text": [
      "0.0\n"
     ]
    }
   ],
   "source": [
    "print(std1-std2)"
   ]
  },
  {
   "cell_type": "markdown",
   "id": "2ce126b4",
   "metadata": {
    "papermill": {
     "duration": 0.028955,
     "end_time": "2022-11-16T14:12:38.224694",
     "exception": false,
     "start_time": "2022-11-16T14:12:38.195739",
     "status": "completed"
    },
    "tags": []
   },
   "source": [
    "## 문제3\n",
    "- 데이터셋(basic1.csv)의 'age'컬럼의 이상치를 더하시오!\n",
    "- 단, 평균으로부터 '표준편차*1.5'를 벗어나는 영역을 이상치라고 판단함"
   ]
  },
  {
   "cell_type": "code",
   "execution_count": 19,
   "id": "bd30cc7e",
   "metadata": {
    "execution": {
     "iopub.execute_input": "2022-11-16T14:12:38.286749Z",
     "iopub.status.busy": "2022-11-16T14:12:38.286039Z",
     "iopub.status.idle": "2022-11-16T14:12:38.293449Z",
     "shell.execute_reply": "2022-11-16T14:12:38.293973Z",
     "shell.execute_reply.started": "2022-11-16T14:08:18.159304Z"
    },
    "papermill": {
     "duration": 0.040111,
     "end_time": "2022-11-16T14:12:38.294172",
     "exception": false,
     "start_time": "2022-11-16T14:12:38.254061",
     "status": "completed"
    },
    "tags": []
   },
   "outputs": [],
   "source": [
    "# 라이브러리 및 데이터 불러오기\n",
    "import pandas as pd\n",
    "import numpy as np\n",
    "\n",
    "df = pd.read_csv('../input/bigdatacertificationkr/basic1.csv')"
   ]
  },
  {
   "cell_type": "markdown",
   "id": "accb8064",
   "metadata": {
    "papermill": {
     "duration": 0.02903,
     "end_time": "2022-11-16T14:12:38.352416",
     "exception": false,
     "start_time": "2022-11-16T14:12:38.323386",
     "status": "completed"
    },
    "tags": []
   },
   "source": [
    "### 내 풀이"
   ]
  },
  {
   "cell_type": "code",
   "execution_count": 20,
   "id": "2f2cd4b8",
   "metadata": {
    "execution": {
     "iopub.execute_input": "2022-11-16T14:12:38.424632Z",
     "iopub.status.busy": "2022-11-16T14:12:38.423599Z",
     "iopub.status.idle": "2022-11-16T14:12:38.429363Z",
     "shell.execute_reply": "2022-11-16T14:12:38.430295Z",
     "shell.execute_reply.started": "2022-11-16T14:11:56.031521Z"
    },
    "papermill": {
     "duration": 0.048978,
     "end_time": "2022-11-16T14:12:38.430596",
     "exception": false,
     "start_time": "2022-11-16T14:12:38.381618",
     "status": "completed"
    },
    "tags": []
   },
   "outputs": [
    {
     "name": "stdout",
     "output_type": "stream",
     "text": [
      "473.5\n"
     ]
    }
   ],
   "source": [
    "m = df['age'].mean()\n",
    "sigma = df['age'].std()\n",
    "result = df[(df['age']< m-1.5*sigma) | (df['age']>m+1.5*sigma)]['age'].sum()\n",
    "print(result)"
   ]
  },
  {
   "cell_type": "code",
   "execution_count": null,
   "id": "c7045402",
   "metadata": {
    "papermill": {
     "duration": 0.033124,
     "end_time": "2022-11-16T14:12:38.495098",
     "exception": false,
     "start_time": "2022-11-16T14:12:38.461974",
     "status": "completed"
    },
    "tags": []
   },
   "outputs": [],
   "source": []
  },
  {
   "cell_type": "code",
   "execution_count": null,
   "id": "2039c36e",
   "metadata": {
    "papermill": {
     "duration": 0.029281,
     "end_time": "2022-11-16T14:12:38.553624",
     "exception": false,
     "start_time": "2022-11-16T14:12:38.524343",
     "status": "completed"
    },
    "tags": []
   },
   "outputs": [],
   "source": []
  },
  {
   "cell_type": "code",
   "execution_count": null,
   "id": "98b3d2bc",
   "metadata": {
    "papermill": {
     "duration": 0.029301,
     "end_time": "2022-11-16T14:12:38.613200",
     "exception": false,
     "start_time": "2022-11-16T14:12:38.583899",
     "status": "completed"
    },
    "tags": []
   },
   "outputs": [],
   "source": []
  },
  {
   "cell_type": "code",
   "execution_count": 21,
   "id": "27c7fa6f",
   "metadata": {
    "execution": {
     "iopub.execute_input": "2022-11-16T14:12:38.675433Z",
     "iopub.status.busy": "2022-11-16T14:12:38.674824Z",
     "iopub.status.idle": "2022-11-16T14:12:38.682337Z",
     "shell.execute_reply": "2022-11-16T14:12:38.681490Z",
     "shell.execute_reply.started": "2021-11-03T04:24:51.777733Z"
    },
    "papermill": {
     "duration": 0.039504,
     "end_time": "2022-11-16T14:12:38.682570",
     "exception": false,
     "start_time": "2022-11-16T14:12:38.643066",
     "status": "completed"
    },
    "tags": []
   },
   "outputs": [
    {
     "name": "stdout",
     "output_type": "stream",
     "text": [
      "5.527756578730639 96.39824342126937\n"
     ]
    }
   ],
   "source": [
    "std = np.std(df['age']) * 1.5\n",
    "mean = df['age'].mean()\n",
    "\n",
    "min_out = mean - std\n",
    "max_out = mean + std\n",
    "print(min_out, max_out)"
   ]
  },
  {
   "cell_type": "code",
   "execution_count": 22,
   "id": "dbb4d422",
   "metadata": {
    "execution": {
     "iopub.execute_input": "2022-11-16T14:12:38.749406Z",
     "iopub.status.busy": "2022-11-16T14:12:38.748422Z",
     "iopub.status.idle": "2022-11-16T14:12:38.755554Z",
     "shell.execute_reply": "2022-11-16T14:12:38.756041Z",
     "shell.execute_reply.started": "2021-11-03T04:24:51.920639Z"
    },
    "papermill": {
     "duration": 0.041366,
     "end_time": "2022-11-16T14:12:38.756220",
     "exception": false,
     "start_time": "2022-11-16T14:12:38.714854",
     "status": "completed"
    },
    "tags": []
   },
   "outputs": [
    {
     "data": {
      "text/plain": [
       "473.5"
      ]
     },
     "execution_count": 22,
     "metadata": {},
     "output_type": "execute_result"
    }
   ],
   "source": [
    "# 이상치 age합\n",
    "df[(df['age']>max_out)|(df['age']<min_out)]['age'].sum()\n",
    "\n",
    "# 다르게 작성방법\n",
    "# df.loc[(df['age'] > max)]['age'].sum() + df.loc[(df['age']< min)]['age'].sum()"
   ]
  }
 ],
 "metadata": {
  "kernelspec": {
   "display_name": "Python 3",
   "language": "python",
   "name": "python3"
  },
  "language_info": {
   "codemirror_mode": {
    "name": "ipython",
    "version": 3
   },
   "file_extension": ".py",
   "mimetype": "text/x-python",
   "name": "python",
   "nbconvert_exporter": "python",
   "pygments_lexer": "ipython3",
   "version": "3.7.10"
  },
  "papermill": {
   "default_parameters": {},
   "duration": 10.489521,
   "end_time": "2022-11-16T14:12:39.296232",
   "environment_variables": {},
   "exception": null,
   "input_path": "__notebook__.ipynb",
   "output_path": "__notebook__.ipynb",
   "parameters": {},
   "start_time": "2022-11-16T14:12:28.806711",
   "version": "2.3.3"
  }
 },
 "nbformat": 4,
 "nbformat_minor": 5
}
