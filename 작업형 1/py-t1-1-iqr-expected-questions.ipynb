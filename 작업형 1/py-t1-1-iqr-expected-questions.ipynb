{
 "cells": [
  {
   "cell_type": "markdown",
   "id": "a347d0ea",
   "metadata": {
    "_cell_guid": "19483f7f-4d13-4c22-8699-af81f723e3c0",
    "_uuid": "e3ed4516-d0b5-40d5-bec5-e722365a3cf1",
    "papermill": {
     "duration": 0.010307,
     "end_time": "2022-11-25T01:55:42.293319",
     "exception": false,
     "start_time": "2022-11-25T01:55:42.283012",
     "status": "completed"
    },
    "tags": []
   },
   "source": [
    "## 이상치를 찾아라\n",
    "### 데이터에서 IQR을 활용해 Fare컬럼의 이상치를 찾고, 이상치 데이터의 여성 수를 구하시오\n",
    "- 강의 영상 : https://youtu.be/ipBW5D_UJEo\n",
    "- 데이터셋 : titanic \n",
    "- 오른쪽 상단 copy&edit 클릭 -> 예상문제 풀이 시작\n",
    "- 데이터 위치 \"../input/titanic/train.csv\" (copy&edit가 아닐 경우 별도로 데이터셋 불러와야 함)"
   ]
  },
  {
   "cell_type": "markdown",
   "id": "0676ba7d",
   "metadata": {
    "papermill": {
     "duration": 0.008544,
     "end_time": "2022-11-25T01:55:42.311250",
     "exception": false,
     "start_time": "2022-11-25T01:55:42.302706",
     "status": "completed"
    },
    "tags": []
   },
   "source": [
    "## 🧑‍💻 내 풀이"
   ]
  },
  {
   "cell_type": "code",
   "execution_count": 1,
   "id": "f0830438",
   "metadata": {
    "_cell_guid": "48c2f3c6-e3b2-4848-bbd7-417f3e716c66",
    "_uuid": "67d5dae8-d12e-45b4-a285-231a6b323b82",
    "collapsed": false,
    "execution": {
     "iopub.execute_input": "2022-11-25T01:55:42.343507Z",
     "iopub.status.busy": "2022-11-25T01:55:42.342519Z",
     "iopub.status.idle": "2022-11-25T01:55:42.383632Z",
     "shell.execute_reply": "2022-11-25T01:55:42.382858Z",
     "shell.execute_reply.started": "2022-11-25T01:51:48.461575Z"
    },
    "jupyter": {
     "outputs_hidden": false
    },
    "papermill": {
     "duration": 0.063761,
     "end_time": "2022-11-25T01:55:42.383811",
     "exception": false,
     "start_time": "2022-11-25T01:55:42.320050",
     "status": "completed"
    },
    "tags": []
   },
   "outputs": [
    {
     "name": "stdout",
     "output_type": "stream",
     "text": [
      "70\n"
     ]
    }
   ],
   "source": [
    "# 라이브러리 및 데이터 불러오기\n",
    "import pandas as pd\n",
    "df = pd.read_csv('/kaggle/input/titanic/train.csv')\n",
    "# df.head(5)\n",
    "\n",
    "Fare_Q3 = df['Fare'].quantile(0.75)\n",
    "Fare_Q1 = df['Fare'].quantile(0.25)\n",
    "IQR = Fare_Q3 - Fare_Q1\n",
    "df['test'] = (df['Fare'] > Fare_Q3 + 1.5 * IQR) | (df['Fare'] < Fare_Q1 - 1.5 * IQR)\n",
    "# df['test'].head(5)\n",
    "\n",
    "df1 = df[df['Sex'] == 'female']\n",
    "print(df1['test'].sum())"
   ]
  },
  {
   "cell_type": "markdown",
   "id": "c31d7167",
   "metadata": {
    "_cell_guid": "9c2883d3-78eb-44f7-8c33-40e65763ef37",
    "_uuid": "dfd2417a-3011-4986-8fba-e4b27b801aa2",
    "papermill": {
     "duration": 0.010676,
     "end_time": "2022-11-25T01:55:42.404405",
     "exception": false,
     "start_time": "2022-11-25T01:55:42.393729",
     "status": "completed"
    },
    "tags": []
   },
   "source": [
    "## 💡 Hint"
   ]
  },
  {
   "cell_type": "code",
   "execution_count": 2,
   "id": "78f76128",
   "metadata": {
    "_cell_guid": "a25ed9a2-d9be-4bfe-99ee-79daaf63627f",
    "_uuid": "cce7934a-022f-4fbc-b28d-1cfdf1b1eef5",
    "collapsed": false,
    "execution": {
     "iopub.execute_input": "2022-11-25T01:55:42.438122Z",
     "iopub.status.busy": "2022-11-25T01:55:42.437397Z",
     "iopub.status.idle": "2022-11-25T01:55:42.440688Z",
     "shell.execute_reply": "2022-11-25T01:55:42.439971Z",
     "shell.execute_reply.started": "2021-12-03T07:21:17.982445Z"
    },
    "jupyter": {
     "outputs_hidden": false
    },
    "papermill": {
     "duration": 0.021656,
     "end_time": "2022-11-25T01:55:42.440969",
     "exception": false,
     "start_time": "2022-11-25T01:55:42.419313",
     "status": "completed"
    },
    "tags": []
   },
   "outputs": [],
   "source": [
    "# IQR 구하기\n",
    "# pandas 활용\n",
    "# Q1 = df[col].quantile(.25)\n",
    "# Q3 = df[col].quantile(.75)\n",
    "\n",
    "# numpy 활용\n",
    "# Q1 = np.percentile(df[col], 25)\n",
    "# Q3 = np.percentile(df[col], 75)\n",
    "\n",
    "# IQR = Q3 - Q1\n",
    "# Q1 - 1.5 * IQR, Q3 + 1.5 * IQR"
   ]
  },
  {
   "cell_type": "markdown",
   "id": "b106ae0c",
   "metadata": {
    "_cell_guid": "b9c97916-49c4-4d44-bb1d-5fd09311252d",
    "_uuid": "ee4a201f-c3d9-4b8d-87a0-8f1055f904bf",
    "papermill": {
     "duration": 0.011546,
     "end_time": "2022-11-25T01:55:42.467795",
     "exception": false,
     "start_time": "2022-11-25T01:55:42.456249",
     "status": "completed"
    },
    "tags": []
   },
   "source": [
    "## 💁 해답"
   ]
  },
  {
   "cell_type": "code",
   "execution_count": 3,
   "id": "70fa7f4e",
   "metadata": {
    "_cell_guid": "fbe9e0fb-6061-4fa8-82aa-467058179bf4",
    "_uuid": "5184d869-bf44-4e61-9112-bde95a96b209",
    "collapsed": false,
    "execution": {
     "iopub.execute_input": "2022-11-25T01:55:42.502981Z",
     "iopub.status.busy": "2022-11-25T01:55:42.502136Z",
     "iopub.status.idle": "2022-11-25T01:55:42.512817Z",
     "shell.execute_reply": "2022-11-25T01:55:42.512190Z",
     "shell.execute_reply.started": "2022-11-25T01:51:04.442412Z"
    },
    "jupyter": {
     "outputs_hidden": false
    },
    "papermill": {
     "duration": 0.031066,
     "end_time": "2022-11-25T01:55:42.512990",
     "exception": false,
     "start_time": "2022-11-25T01:55:42.481924",
     "status": "completed"
    },
    "tags": []
   },
   "outputs": [],
   "source": [
    "# 라이브러리 및 데이터 불러오기\n",
    "import pandas as pd\n",
    "import numpy as np\n",
    "df = pd.read_csv('../input/titanic/train.csv')"
   ]
  },
  {
   "cell_type": "code",
   "execution_count": 4,
   "id": "adc2e618",
   "metadata": {
    "_cell_guid": "2aed77ed-70f9-4242-b9d0-026d231cd808",
    "_uuid": "919ff54c-7485-4e9c-94ed-94ff8ec9fe5a",
    "collapsed": false,
    "execution": {
     "iopub.execute_input": "2022-11-25T01:55:42.536388Z",
     "iopub.status.busy": "2022-11-25T01:55:42.535366Z",
     "iopub.status.idle": "2022-11-25T01:55:42.563249Z",
     "shell.execute_reply": "2022-11-25T01:55:42.563781Z",
     "shell.execute_reply.started": "2022-11-25T01:51:06.089891Z"
    },
    "jupyter": {
     "outputs_hidden": false
    },
    "papermill": {
     "duration": 0.041405,
     "end_time": "2022-11-25T01:55:42.563966",
     "exception": false,
     "start_time": "2022-11-25T01:55:42.522561",
     "status": "completed"
    },
    "tags": []
   },
   "outputs": [
    {
     "name": "stdout",
     "output_type": "stream",
     "text": [
      "(891, 12)\n",
      "PassengerId      0\n",
      "Survived         0\n",
      "Pclass           0\n",
      "Name             0\n",
      "Sex              0\n",
      "Age            177\n",
      "SibSp            0\n",
      "Parch            0\n",
      "Ticket           0\n",
      "Fare             0\n",
      "Cabin          687\n",
      "Embarked         2\n",
      "dtype: int64\n"
     ]
    },
    {
     "data": {
      "text/html": [
       "<div>\n",
       "<style scoped>\n",
       "    .dataframe tbody tr th:only-of-type {\n",
       "        vertical-align: middle;\n",
       "    }\n",
       "\n",
       "    .dataframe tbody tr th {\n",
       "        vertical-align: top;\n",
       "    }\n",
       "\n",
       "    .dataframe thead th {\n",
       "        text-align: right;\n",
       "    }\n",
       "</style>\n",
       "<table border=\"1\" class=\"dataframe\">\n",
       "  <thead>\n",
       "    <tr style=\"text-align: right;\">\n",
       "      <th></th>\n",
       "      <th>PassengerId</th>\n",
       "      <th>Survived</th>\n",
       "      <th>Pclass</th>\n",
       "      <th>Name</th>\n",
       "      <th>Sex</th>\n",
       "      <th>Age</th>\n",
       "      <th>SibSp</th>\n",
       "      <th>Parch</th>\n",
       "      <th>Ticket</th>\n",
       "      <th>Fare</th>\n",
       "      <th>Cabin</th>\n",
       "      <th>Embarked</th>\n",
       "    </tr>\n",
       "  </thead>\n",
       "  <tbody>\n",
       "    <tr>\n",
       "      <th>0</th>\n",
       "      <td>1</td>\n",
       "      <td>0</td>\n",
       "      <td>3</td>\n",
       "      <td>Braund, Mr. Owen Harris</td>\n",
       "      <td>male</td>\n",
       "      <td>22.0</td>\n",
       "      <td>1</td>\n",
       "      <td>0</td>\n",
       "      <td>A/5 21171</td>\n",
       "      <td>7.2500</td>\n",
       "      <td>NaN</td>\n",
       "      <td>S</td>\n",
       "    </tr>\n",
       "    <tr>\n",
       "      <th>1</th>\n",
       "      <td>2</td>\n",
       "      <td>1</td>\n",
       "      <td>1</td>\n",
       "      <td>Cumings, Mrs. John Bradley (Florence Briggs Th...</td>\n",
       "      <td>female</td>\n",
       "      <td>38.0</td>\n",
       "      <td>1</td>\n",
       "      <td>0</td>\n",
       "      <td>PC 17599</td>\n",
       "      <td>71.2833</td>\n",
       "      <td>C85</td>\n",
       "      <td>C</td>\n",
       "    </tr>\n",
       "    <tr>\n",
       "      <th>2</th>\n",
       "      <td>3</td>\n",
       "      <td>1</td>\n",
       "      <td>3</td>\n",
       "      <td>Heikkinen, Miss. Laina</td>\n",
       "      <td>female</td>\n",
       "      <td>26.0</td>\n",
       "      <td>0</td>\n",
       "      <td>0</td>\n",
       "      <td>STON/O2. 3101282</td>\n",
       "      <td>7.9250</td>\n",
       "      <td>NaN</td>\n",
       "      <td>S</td>\n",
       "    </tr>\n",
       "    <tr>\n",
       "      <th>3</th>\n",
       "      <td>4</td>\n",
       "      <td>1</td>\n",
       "      <td>1</td>\n",
       "      <td>Futrelle, Mrs. Jacques Heath (Lily May Peel)</td>\n",
       "      <td>female</td>\n",
       "      <td>35.0</td>\n",
       "      <td>1</td>\n",
       "      <td>0</td>\n",
       "      <td>113803</td>\n",
       "      <td>53.1000</td>\n",
       "      <td>C123</td>\n",
       "      <td>S</td>\n",
       "    </tr>\n",
       "    <tr>\n",
       "      <th>4</th>\n",
       "      <td>5</td>\n",
       "      <td>0</td>\n",
       "      <td>3</td>\n",
       "      <td>Allen, Mr. William Henry</td>\n",
       "      <td>male</td>\n",
       "      <td>35.0</td>\n",
       "      <td>0</td>\n",
       "      <td>0</td>\n",
       "      <td>373450</td>\n",
       "      <td>8.0500</td>\n",
       "      <td>NaN</td>\n",
       "      <td>S</td>\n",
       "    </tr>\n",
       "  </tbody>\n",
       "</table>\n",
       "</div>"
      ],
      "text/plain": [
       "   PassengerId  Survived  Pclass  \\\n",
       "0            1         0       3   \n",
       "1            2         1       1   \n",
       "2            3         1       3   \n",
       "3            4         1       1   \n",
       "4            5         0       3   \n",
       "\n",
       "                                                Name     Sex   Age  SibSp  \\\n",
       "0                            Braund, Mr. Owen Harris    male  22.0      1   \n",
       "1  Cumings, Mrs. John Bradley (Florence Briggs Th...  female  38.0      1   \n",
       "2                             Heikkinen, Miss. Laina  female  26.0      0   \n",
       "3       Futrelle, Mrs. Jacques Heath (Lily May Peel)  female  35.0      1   \n",
       "4                           Allen, Mr. William Henry    male  35.0      0   \n",
       "\n",
       "   Parch            Ticket     Fare Cabin Embarked  \n",
       "0      0         A/5 21171   7.2500   NaN        S  \n",
       "1      0          PC 17599  71.2833   C85        C  \n",
       "2      0  STON/O2. 3101282   7.9250   NaN        S  \n",
       "3      0            113803  53.1000  C123        S  \n",
       "4      0            373450   8.0500   NaN        S  "
      ]
     },
     "execution_count": 4,
     "metadata": {},
     "output_type": "execute_result"
    }
   ],
   "source": [
    "# 간단한 탐색적 데이터 분석 (EDA)\n",
    "print(df.shape)\n",
    "print(df.isnull().sum())\n",
    "df.head()"
   ]
  },
  {
   "cell_type": "code",
   "execution_count": 5,
   "id": "6e5a3de5",
   "metadata": {
    "_cell_guid": "56319120-9487-46be-aad5-56e4e9b7c429",
    "_uuid": "25b43dc8-f3e0-4606-9be1-fd78a8c36dab",
    "collapsed": false,
    "execution": {
     "iopub.execute_input": "2022-11-25T01:55:42.592568Z",
     "iopub.status.busy": "2022-11-25T01:55:42.591535Z",
     "iopub.status.idle": "2022-11-25T01:55:42.597959Z",
     "shell.execute_reply": "2022-11-25T01:55:42.598487Z",
     "shell.execute_reply.started": "2022-11-25T01:51:09.189528Z"
    },
    "jupyter": {
     "outputs_hidden": false
    },
    "papermill": {
     "duration": 0.024504,
     "end_time": "2022-11-25T01:55:42.598681",
     "exception": false,
     "start_time": "2022-11-25T01:55:42.574177",
     "status": "completed"
    },
    "tags": []
   },
   "outputs": [
    {
     "data": {
      "text/plain": [
       "(-26.724, 65.6344)"
      ]
     },
     "execution_count": 5,
     "metadata": {},
     "output_type": "execute_result"
    }
   ],
   "source": [
    "# IQR 구하기\n",
    "Q1 = df['Fare'].quantile(.25)\n",
    "Q3 = df['Fare'].quantile(.75)\n",
    "\n",
    "# numpy 활용시\n",
    "# Q1 = np.percentile(df['Fare'], 25)\n",
    "# Q3 = np.percentile(df['Fare'], 75)\n",
    "\n",
    "IQR = Q3 - Q1\n",
    "Q1 - 1.5 * IQR, Q3 + 1.5 * IQR"
   ]
  },
  {
   "cell_type": "code",
   "execution_count": 6,
   "id": "8e90c9a4",
   "metadata": {
    "_cell_guid": "0a026b08-5351-4507-a9e6-e4499f75e9e3",
    "_uuid": "a502e53c-9516-439e-b7d2-a4d58cdc8815",
    "collapsed": false,
    "execution": {
     "iopub.execute_input": "2022-11-25T01:55:42.629006Z",
     "iopub.status.busy": "2022-11-25T01:55:42.628268Z",
     "iopub.status.idle": "2022-11-25T01:55:42.631831Z",
     "shell.execute_reply": "2022-11-25T01:55:42.631130Z",
     "shell.execute_reply.started": "2022-11-25T01:51:10.738655Z"
    },
    "jupyter": {
     "outputs_hidden": false
    },
    "papermill": {
     "duration": 0.022566,
     "end_time": "2022-11-25T01:55:42.631975",
     "exception": false,
     "start_time": "2022-11-25T01:55:42.609409",
     "status": "completed"
    },
    "tags": []
   },
   "outputs": [
    {
     "data": {
      "text/plain": [
       "(0, 116)"
      ]
     },
     "execution_count": 6,
     "metadata": {},
     "output_type": "execute_result"
    }
   ],
   "source": [
    "# 이상치 데이터 구하기\n",
    "outdata1 = df[df['Fare']<(Q1 - 1.5 * IQR)]\n",
    "outdata2 = df[df['Fare']>(Q3 + 1.5 * IQR)]\n",
    "len(outdata1), len(outdata2)"
   ]
  },
  {
   "cell_type": "code",
   "execution_count": 7,
   "id": "ba2b2db0",
   "metadata": {
    "_cell_guid": "f14671cb-f53c-490e-ba96-c38517a4cff2",
    "_uuid": "a4efc16b-0dba-4a59-ad78-282e0a9a23df",
    "collapsed": false,
    "execution": {
     "iopub.execute_input": "2022-11-25T01:55:42.657461Z",
     "iopub.status.busy": "2022-11-25T01:55:42.656724Z",
     "iopub.status.idle": "2022-11-25T01:55:42.662509Z",
     "shell.execute_reply": "2022-11-25T01:55:42.662989Z",
     "shell.execute_reply.started": "2022-11-25T01:51:12.874862Z"
    },
    "jupyter": {
     "outputs_hidden": false
    },
    "papermill": {
     "duration": 0.020424,
     "end_time": "2022-11-25T01:55:42.663173",
     "exception": false,
     "start_time": "2022-11-25T01:55:42.642749",
     "status": "completed"
    },
    "tags": []
   },
   "outputs": [
    {
     "name": "stdout",
     "output_type": "stream",
     "text": [
      "70\n"
     ]
    }
   ],
   "source": [
    "# 이상치 데이터에서 여성 수 구하기, 출력하기 print()\n",
    "print(sum(outdata2['Sex'] == 'female'))"
   ]
  }
 ],
 "metadata": {
  "kernelspec": {
   "display_name": "Python 3",
   "language": "python",
   "name": "python3"
  },
  "language_info": {
   "codemirror_mode": {
    "name": "ipython",
    "version": 3
   },
   "file_extension": ".py",
   "mimetype": "text/x-python",
   "name": "python",
   "nbconvert_exporter": "python",
   "pygments_lexer": "ipython3",
   "version": "3.7.10"
  },
  "papermill": {
   "default_parameters": {},
   "duration": 10.914263,
   "end_time": "2022-11-25T01:55:44.191604",
   "environment_variables": {},
   "exception": null,
   "input_path": "__notebook__.ipynb",
   "output_path": "__notebook__.ipynb",
   "parameters": {},
   "start_time": "2022-11-25T01:55:33.277341",
   "version": "2.3.3"
  }
 },
 "nbformat": 4,
 "nbformat_minor": 5
}
