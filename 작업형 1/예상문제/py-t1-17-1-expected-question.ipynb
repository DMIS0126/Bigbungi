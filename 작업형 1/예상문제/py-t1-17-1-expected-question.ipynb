{
 "cells": [
  {
   "cell_type": "markdown",
   "id": "ac855f08",
   "metadata": {
    "papermill": {
     "duration": 0.005817,
     "end_time": "2022-11-27T00:20:09.442648",
     "exception": false,
     "start_time": "2022-11-27T00:20:09.436831",
     "status": "completed"
    },
    "tags": []
   },
   "source": [
    "### 2022년 5월 sales의 중앙값을 구하시오\n",
    "\n",
    "- 데이터셋 : basic2.csv \n",
    "- 오른쪽 상단 copy&edit 클릭 -> 예상문제 풀이 시작"
   ]
  },
  {
   "cell_type": "markdown",
   "id": "4d416d20",
   "metadata": {
    "papermill": {
     "duration": 0.004199,
     "end_time": "2022-11-27T00:20:09.451953",
     "exception": false,
     "start_time": "2022-11-27T00:20:09.447754",
     "status": "completed"
    },
    "tags": []
   },
   "source": [
    "## 🧑‍💻 내 풀이"
   ]
  },
  {
   "cell_type": "code",
   "execution_count": 1,
   "id": "80297f56",
   "metadata": {
    "execution": {
     "iopub.execute_input": "2022-11-27T00:20:09.475550Z",
     "iopub.status.busy": "2022-11-27T00:20:09.474547Z",
     "iopub.status.idle": "2022-11-27T00:20:09.507628Z",
     "shell.execute_reply": "2022-11-27T00:20:09.508977Z",
     "shell.execute_reply.started": "2022-11-27T00:18:28.866158Z"
    },
    "papermill": {
     "duration": 0.053398,
     "end_time": "2022-11-27T00:20:09.509624",
     "exception": false,
     "start_time": "2022-11-27T00:20:09.456226",
     "status": "completed"
    },
    "tags": []
   },
   "outputs": [
    {
     "name": "stdout",
     "output_type": "stream",
     "text": [
      "1477685.0\n"
     ]
    }
   ],
   "source": [
    "import pandas as pd\n",
    "df = pd.read_csv('/kaggle/input/bigdatacertificationkr/basic2.csv')\n",
    "# df.info()\n",
    "df['Date'] = pd.to_datetime(df['Date'])\n",
    "# df.info()\n",
    "df = df[(df['Date']>= '2022-5-1') & (df['Date'] < '2022-6-1')]\n",
    "# df.head()\n",
    "print(df['Sales'].median())"
   ]
  },
  {
   "cell_type": "markdown",
   "id": "8031ca75",
   "metadata": {
    "papermill": {
     "duration": 0.005341,
     "end_time": "2022-11-27T00:20:09.521950",
     "exception": false,
     "start_time": "2022-11-27T00:20:09.516609",
     "status": "completed"
    },
    "tags": []
   },
   "source": [
    "## 💁 풀이"
   ]
  },
  {
   "cell_type": "code",
   "execution_count": 2,
   "id": "39aadbbd",
   "metadata": {
    "_cell_guid": "b1076dfc-b9ad-4769-8c92-a6c4dae69d19",
    "_uuid": "8f2839f25d086af736a60e9eeb907d3b93b6e0e5",
    "execution": {
     "iopub.execute_input": "2022-11-27T00:20:09.537638Z",
     "iopub.status.busy": "2022-11-27T00:20:09.536468Z",
     "iopub.status.idle": "2022-11-27T00:20:09.555429Z",
     "shell.execute_reply": "2022-11-27T00:20:09.556022Z",
     "shell.execute_reply.started": "2022-11-27T00:19:42.726195Z"
    },
    "papermill": {
     "duration": 0.027297,
     "end_time": "2022-11-27T00:20:09.556208",
     "exception": false,
     "start_time": "2022-11-27T00:20:09.528911",
     "status": "completed"
    },
    "tags": []
   },
   "outputs": [
    {
     "name": "stdout",
     "output_type": "stream",
     "text": [
      "1477685.0\n"
     ]
    }
   ],
   "source": [
    "# 라이브러리 불러오기\n",
    "\n",
    "import pandas as pd\n",
    "# 데이터 불러오기\n",
    "df = pd.read_csv(\"../input/bigdatacertificationkr/basic2.csv\")\n",
    "# df.head()\n",
    "# df.info()\n",
    "\n",
    "# datetime으로 type변경\n",
    "df['Date'] = pd.to_datetime(df['Date'])\n",
    "# df.info()\n",
    "\n",
    "# 새로운 컬럼 추가 (년, 월, 일)\n",
    "df['year'] = df['Date'].dt.year\n",
    "df['month'] = df['Date'].dt.month\n",
    "df['day'] = df['Date'].dt.day\n",
    "\n",
    "# df.head()\n",
    "\n",
    "# 문제 조건에 맞는 값 구하기\n",
    "cond = (df['year']==2022) & (df['month']==5)\n",
    "print(df[cond]['Sales'].median())"
   ]
  }
 ],
 "metadata": {
  "kernelspec": {
   "display_name": "Python 3",
   "language": "python",
   "name": "python3"
  },
  "language_info": {
   "codemirror_mode": {
    "name": "ipython",
    "version": 3
   },
   "file_extension": ".py",
   "mimetype": "text/x-python",
   "name": "python",
   "nbconvert_exporter": "python",
   "pygments_lexer": "ipython3",
   "version": "3.7.10"
  },
  "papermill": {
   "default_parameters": {},
   "duration": 10.368281,
   "end_time": "2022-11-27T00:20:10.171851",
   "environment_variables": {},
   "exception": null,
   "input_path": "__notebook__.ipynb",
   "output_path": "__notebook__.ipynb",
   "parameters": {},
   "start_time": "2022-11-27T00:19:59.803570",
   "version": "2.3.3"
  }
 },
 "nbformat": 4,
 "nbformat_minor": 5
}
