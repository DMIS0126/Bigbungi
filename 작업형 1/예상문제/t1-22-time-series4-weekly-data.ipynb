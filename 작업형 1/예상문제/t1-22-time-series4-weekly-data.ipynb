{
 "cells": [
  {
   "cell_type": "markdown",
   "id": "dca8728d",
   "metadata": {
    "_cell_guid": "b1076dfc-b9ad-4769-8c92-a6c4dae69d19",
    "_uuid": "8f2839f25d086af736a60e9eeb907d3b93b6e0e5",
    "papermill": {
     "duration": 0.006134,
     "end_time": "2022-11-29T22:45:32.523089",
     "exception": false,
     "start_time": "2022-11-29T22:45:32.516955",
     "status": "completed"
    },
    "tags": []
   },
   "source": [
    "### 주어진 데이터(basic2.csv)에서 주 단위 Sales의 합계를 구하고, 가장 큰 값을 가진 주와 작은 값을 가진 주의 차이를 구하시오(절대값)\n",
    "- 데이터셋 : basic2.csv\n",
    "- 오른쪽 상단 copy&edit 클릭 -> 예상문제 풀이 시작"
   ]
  },
  {
   "cell_type": "markdown",
   "id": "b416b1c1",
   "metadata": {
    "papermill": {
     "duration": 0.004461,
     "end_time": "2022-11-29T22:45:32.532929",
     "exception": false,
     "start_time": "2022-11-29T22:45:32.528468",
     "status": "completed"
    },
    "tags": []
   },
   "source": [
    "## 🧑‍💻 내 풀이"
   ]
  },
  {
   "cell_type": "code",
   "execution_count": 1,
   "id": "f67ee1d2",
   "metadata": {
    "execution": {
     "iopub.execute_input": "2022-11-29T22:45:32.558535Z",
     "iopub.status.busy": "2022-11-29T22:45:32.557562Z",
     "iopub.status.idle": "2022-11-29T22:45:32.607615Z",
     "shell.execute_reply": "2022-11-29T22:45:32.606851Z",
     "shell.execute_reply.started": "2022-11-29T22:43:03.137166Z"
    },
    "papermill": {
     "duration": 0.07014,
     "end_time": "2022-11-29T22:45:32.607799",
     "exception": false,
     "start_time": "2022-11-29T22:45:32.537659",
     "status": "completed"
    },
    "tags": []
   },
   "outputs": [
    {
     "name": "stdout",
     "output_type": "stream",
     "text": [
      "137035254\n"
     ]
    }
   ],
   "source": [
    "import pandas as pd\n",
    "df = pd.read_csv('/kaggle/input/bigdatacertificationkr/basic2.csv')\n",
    "# print(df.head())\n",
    "# print(df.info())\n",
    "\n",
    "df = df[df['Date'] >= '2022-1-3']\n",
    "df['Date'] = pd.to_datetime(df['Date'])\n",
    "# print(df.info())\n",
    "# print(df.head())\n",
    "df['week'] = df['Date'].dt.isocalendar().week\n",
    "\n",
    "df1 = df.groupby(['week'])[['Sales']].sum()\n",
    "df1_max = df1['Sales'].max()\n",
    "df1_min = df1['Sales'].min()\n",
    "\n",
    "print(abs(df1_max - df1_min))"
   ]
  },
  {
   "cell_type": "markdown",
   "id": "2ec776fa",
   "metadata": {
    "papermill": {
     "duration": 0.005244,
     "end_time": "2022-11-29T22:45:32.618592",
     "exception": false,
     "start_time": "2022-11-29T22:45:32.613348",
     "status": "completed"
    },
    "tags": []
   },
   "source": [
    "## 💁 풀이"
   ]
  },
  {
   "cell_type": "code",
   "execution_count": 2,
   "id": "f8e1b051",
   "metadata": {
    "execution": {
     "iopub.execute_input": "2022-11-29T22:45:32.638621Z",
     "iopub.status.busy": "2022-11-29T22:45:32.637876Z",
     "iopub.status.idle": "2022-11-29T22:45:32.665592Z",
     "shell.execute_reply": "2022-11-29T22:45:32.664495Z",
     "shell.execute_reply.started": "2022-11-29T22:42:10.545242Z"
    },
    "papermill": {
     "duration": 0.039487,
     "end_time": "2022-11-29T22:45:32.665825",
     "exception": false,
     "start_time": "2022-11-29T22:45:32.626338",
     "status": "completed"
    },
    "tags": []
   },
   "outputs": [
    {
     "name": "stdout",
     "output_type": "stream",
     "text": [
      "91639050\n"
     ]
    }
   ],
   "source": [
    "import pandas as pd\n",
    "\n",
    "df = pd.read_csv(\"../input/bigdatacertificationkr/basic2.csv\", parse_dates=['Date'], index_col=0)\n",
    "\n",
    "# 아래 코드를 한줄로 표현함\n",
    "# df = pd.read_csv(\"../input/bigdatacertificationkr/basic2.csv\")\n",
    "# df['Date'] = pd.to_datetime(df['Date'])\n",
    "# df = df.set_index('Date')\n",
    "\n",
    "# print(df.shape)\n",
    "df.head(3)\n",
    "\n",
    "df.tail(3)\n",
    "\n",
    "# ### 단위 \n",
    "# - 주 단위 W\n",
    "# - 2주 단위 2W\n",
    "# - 월 단위 M\n",
    "\n",
    "df_w = df.resample('W').sum()\n",
    "df_w.head()\n",
    "\n",
    "ma = df_w['Sales'].max()\n",
    "ma\n",
    "\n",
    "mi = df_w['Sales'].min()\n",
    "mi\n",
    "\n",
    "print(ma - mi)"
   ]
  },
  {
   "cell_type": "markdown",
   "id": "30538fa7",
   "metadata": {
    "papermill": {
     "duration": 0.005523,
     "end_time": "2022-11-29T22:45:32.677697",
     "exception": false,
     "start_time": "2022-11-29T22:45:32.672174",
     "status": "completed"
    },
    "tags": []
   },
   "source": [
    "## ❓ 두 값이 다른 이유\n",
    "* 주 단위 의미의 차이\n",
    "    * .dt.isocalendar().week을 이용하면 월요일이 한 주의 시작으로 되고\n",
    "    * resample('W')이 되면 일요일이 한 주의 시작으로 된다.\n",
    "* 따라서 만약 주 단위의 문제가 나온다면 어떤 요일을 한 주의 시작으로 하는 것인지 명시되야 할 것 같다."
   ]
  }
 ],
 "metadata": {
  "kernelspec": {
   "display_name": "Python 3",
   "language": "python",
   "name": "python3"
  },
  "language_info": {
   "codemirror_mode": {
    "name": "ipython",
    "version": 3
   },
   "file_extension": ".py",
   "mimetype": "text/x-python",
   "name": "python",
   "nbconvert_exporter": "python",
   "pygments_lexer": "ipython3",
   "version": "3.7.10"
  },
  "papermill": {
   "default_parameters": {},
   "duration": 10.992153,
   "end_time": "2022-11-29T22:45:33.293409",
   "environment_variables": {},
   "exception": null,
   "input_path": "__notebook__.ipynb",
   "output_path": "__notebook__.ipynb",
   "parameters": {},
   "start_time": "2022-11-29T22:45:22.301256",
   "version": "2.3.3"
  }
 },
 "nbformat": 4,
 "nbformat_minor": 5
}
