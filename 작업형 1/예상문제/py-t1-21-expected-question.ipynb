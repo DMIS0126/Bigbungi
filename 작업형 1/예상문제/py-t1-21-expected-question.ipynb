{
 "cells": [
  {
   "cell_type": "markdown",
   "id": "9531b390",
   "metadata": {
    "papermill": {
     "duration": 0.004941,
     "end_time": "2022-11-29T22:30:46.198998",
     "exception": false,
     "start_time": "2022-11-29T22:30:46.194057",
     "status": "completed"
    },
    "tags": []
   },
   "source": [
    "## 나이 구간 나누기\n",
    "###  basic1 데이터 중 'age'컬럼 이상치를 제거하고, 동일한 개수로 나이 순으로 3그룹으로 나눈 뒤 각 그룹의 중앙값을 더하시오\n",
    "### (이상치는 음수(0포함), 소수점 값)\n",
    "- data: basic1.csv\n",
    "- 오른쪽 상단 copy&edit 클릭 -> 예상문제 풀이 시작\n"
   ]
  },
  {
   "cell_type": "markdown",
   "id": "56f45719",
   "metadata": {
    "papermill": {
     "duration": 0.003705,
     "end_time": "2022-11-29T22:30:46.208630",
     "exception": false,
     "start_time": "2022-11-29T22:30:46.204925",
     "status": "completed"
    },
    "tags": []
   },
   "source": [
    "## 🧑‍💻 내 풀이"
   ]
  },
  {
   "cell_type": "code",
   "execution_count": 1,
   "id": "e8de4a46",
   "metadata": {
    "execution": {
     "iopub.execute_input": "2022-11-29T22:30:46.220802Z",
     "iopub.status.busy": "2022-11-29T22:30:46.219832Z",
     "iopub.status.idle": "2022-11-29T22:30:46.260226Z",
     "shell.execute_reply": "2022-11-29T22:30:46.260893Z",
     "shell.execute_reply.started": "2022-11-29T22:30:22.896053Z"
    },
    "papermill": {
     "duration": 0.048736,
     "end_time": "2022-11-29T22:30:46.261211",
     "exception": false,
     "start_time": "2022-11-29T22:30:46.212475",
     "status": "completed"
    },
    "tags": []
   },
   "outputs": [
    {
     "name": "stdout",
     "output_type": "stream",
     "text": [
      "165.0\n"
     ]
    }
   ],
   "source": [
    "import pandas as pd\n",
    "df = pd.read_csv('/kaggle/input/bigdatacertificationkr/basic1.csv')\n",
    "# print(df.info())\n",
    "\n",
    "df = df[(df['age']>0) & (df['age']  == df['age'].astype(int))]\n",
    "# print(df.shape)\n",
    "df.sort_values('age', ascending = True, inplace = True)\n",
    "\n",
    "df1 = df.iloc[:int(len(df)*(1/3)), :]\n",
    "df2 = df.iloc[int(len(df)*(1/3)):int(len(df)*(2/3)), :]\n",
    "df3 = df.iloc[int(len(df)*(2/3)):, :]\n",
    "# print(df1.shape, df2.shape, df3.shape)\n",
    "\n",
    "df1_age_med = df1['age'].median()\n",
    "df2_age_med = df2['age'].median()\n",
    "df3_age_med = df3['age'].median()\n",
    "# print(df1_age_med, df2_age_med, df3_age_med)\n",
    "print(df1_age_med + df2_age_med + df3_age_med)"
   ]
  },
  {
   "cell_type": "markdown",
   "id": "25efa4c9",
   "metadata": {
    "papermill": {
     "duration": 0.003853,
     "end_time": "2022-11-29T22:30:46.269984",
     "exception": false,
     "start_time": "2022-11-29T22:30:46.266131",
     "status": "completed"
    },
    "tags": []
   },
   "source": [
    "## 💁 풀이"
   ]
  },
  {
   "cell_type": "code",
   "execution_count": 2,
   "id": "b3f8b7c1",
   "metadata": {
    "_cell_guid": "b1076dfc-b9ad-4769-8c92-a6c4dae69d19",
    "_uuid": "8f2839f25d086af736a60e9eeb907d3b93b6e0e5",
    "execution": {
     "iopub.execute_input": "2022-11-29T22:30:46.283936Z",
     "iopub.status.busy": "2022-11-29T22:30:46.283120Z",
     "iopub.status.idle": "2022-11-29T22:30:46.320975Z",
     "shell.execute_reply": "2022-11-29T22:30:46.319652Z",
     "shell.execute_reply.started": "2022-11-29T22:30:24.427049Z"
    },
    "papermill": {
     "duration": 0.045152,
     "end_time": "2022-11-29T22:30:46.321153",
     "exception": false,
     "start_time": "2022-11-29T22:30:46.276001",
     "status": "completed"
    },
    "tags": []
   },
   "outputs": [
    {
     "name": "stdout",
     "output_type": "stream",
     "text": [
      "전체 데이터: (100, 8)\n",
      "음수(0포함)값 제거 후 데이터 크기: (96, 8)\n",
      "소수점 제거 후 데이터 크기: (90, 8)\n",
      "22.5 55.5 87.0\n",
      "165.0\n"
     ]
    }
   ],
   "source": [
    "import pandas as pd\n",
    "df = pd.read_csv('../input/bigdatacertificationkr/basic1.csv')\n",
    "\n",
    "# age 이상치 (음수(0포함), 소수점 제거)\n",
    "print('전체 데이터:', df.shape)\n",
    "df = df[~(df['age'] <= 0)]\n",
    "print('음수(0포함)값 제거 후 데이터 크기:', df.shape)\n",
    "\n",
    "df = df[(df['age'] == round(df['age'],0))]\n",
    "print('소수점 제거 후 데이터 크기:', df.shape)\n",
    "\n",
    "df.head()\n",
    "\n",
    "# 기준 확인\n",
    "pd.qcut(df['age'], q=3)\n",
    "\n",
    "# 구간 분할\n",
    "df['range'] = pd.qcut(df['age'], q=3, labels=['group1','group2','group3'])\n",
    "\n",
    "# 중간이상 - 중간이하 \n",
    "g1_med = df[df['range'] == 'group1']['age'].median()\n",
    "g2_med = df[df['range'] == 'group2']['age'].median()\n",
    "g3_med = df[df['range'] == 'group3']['age'].median()\n",
    "\n",
    "print(g1_med, g2_med, g3_med)\n",
    "print(g1_med + g2_med + g3_med)"
   ]
  }
 ],
 "metadata": {
  "kernelspec": {
   "display_name": "Python 3",
   "language": "python",
   "name": "python3"
  },
  "language_info": {
   "codemirror_mode": {
    "name": "ipython",
    "version": 3
   },
   "file_extension": ".py",
   "mimetype": "text/x-python",
   "name": "python",
   "nbconvert_exporter": "python",
   "pygments_lexer": "ipython3",
   "version": "3.7.10"
  },
  "papermill": {
   "default_parameters": {},
   "duration": 9.260673,
   "end_time": "2022-11-29T22:30:46.935922",
   "environment_variables": {},
   "exception": null,
   "input_path": "__notebook__.ipynb",
   "output_path": "__notebook__.ipynb",
   "parameters": {},
   "start_time": "2022-11-29T22:30:37.675249",
   "version": "2.3.3"
  }
 },
 "nbformat": 4,
 "nbformat_minor": 5
}
