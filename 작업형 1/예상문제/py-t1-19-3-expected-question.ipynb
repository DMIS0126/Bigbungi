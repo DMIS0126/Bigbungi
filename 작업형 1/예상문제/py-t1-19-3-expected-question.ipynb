{
 "cells": [
  {
   "cell_type": "markdown",
   "id": "bfef0041",
   "metadata": {
    "papermill": {
     "duration": 0.006495,
     "end_time": "2022-11-27T01:46:24.405536",
     "exception": false,
     "start_time": "2022-11-27T01:46:24.399041",
     "status": "completed"
    },
    "tags": []
   },
   "source": [
    "### 주어진 데이터에서 2022년 월별 Sales 합계 중 가장 큰 금액과 2023년 월별 Sales 합계 중 가장 큰 금액의 차이를 절대값으로 구하시오. 단 Events컬럼이 '1'인경우 80%의 Salse값만 반영함 (최종값은 소수점 반올림 후 정수 출력)\n",
    "- 데이터셋 : basic2.csv\n",
    "- 오른쪽 상단 copy&edit 클릭 -> 예상문제 풀이 시작"
   ]
  },
  {
   "cell_type": "markdown",
   "id": "0904d113",
   "metadata": {
    "papermill": {
     "duration": 0.004719,
     "end_time": "2022-11-27T01:46:24.415775",
     "exception": false,
     "start_time": "2022-11-27T01:46:24.411056",
     "status": "completed"
    },
    "tags": []
   },
   "source": [
    "## 🧑‍💻 내 풀이"
   ]
  },
  {
   "cell_type": "code",
   "execution_count": 1,
   "id": "db1f9c14",
   "metadata": {
    "execution": {
     "iopub.execute_input": "2022-11-27T01:46:24.431997Z",
     "iopub.status.busy": "2022-11-27T01:46:24.430659Z",
     "iopub.status.idle": "2022-11-27T01:46:24.502543Z",
     "shell.execute_reply": "2022-11-27T01:46:24.503063Z",
     "shell.execute_reply.started": "2022-11-27T01:45:55.522299Z"
    },
    "papermill": {
     "duration": 0.082063,
     "end_time": "2022-11-27T01:46:24.503403",
     "exception": false,
     "start_time": "2022-11-27T01:46:24.421340",
     "status": "completed"
    },
    "tags": []
   },
   "outputs": [
    {
     "name": "stdout",
     "output_type": "stream",
     "text": [
      "42473436\n"
     ]
    },
    {
     "name": "stderr",
     "output_type": "stream",
     "text": [
      "/opt/conda/lib/python3.7/site-packages/ipykernel_launcher.py:15: SettingWithCopyWarning: \n",
      "A value is trying to be set on a copy of a slice from a DataFrame.\n",
      "Try using .loc[row_indexer,col_indexer] = value instead\n",
      "\n",
      "See the caveats in the documentation: https://pandas.pydata.org/pandas-docs/stable/user_guide/indexing.html#returning-a-view-versus-a-copy\n",
      "  from ipykernel import kernelapp as app\n",
      "/opt/conda/lib/python3.7/site-packages/ipykernel_launcher.py:16: SettingWithCopyWarning: \n",
      "A value is trying to be set on a copy of a slice from a DataFrame.\n",
      "Try using .loc[row_indexer,col_indexer] = value instead\n",
      "\n",
      "See the caveats in the documentation: https://pandas.pydata.org/pandas-docs/stable/user_guide/indexing.html#returning-a-view-versus-a-copy\n",
      "  app.launch_new_instance()\n",
      "/opt/conda/lib/python3.7/site-packages/ipykernel_launcher.py:18: UserWarning: Boolean Series key will be reindexed to match DataFrame index.\n",
      "/opt/conda/lib/python3.7/site-packages/ipykernel_launcher.py:19: UserWarning: Boolean Series key will be reindexed to match DataFrame index.\n",
      "/opt/conda/lib/python3.7/site-packages/ipykernel_launcher.py:20: UserWarning: Boolean Series key will be reindexed to match DataFrame index.\n",
      "/opt/conda/lib/python3.7/site-packages/ipykernel_launcher.py:21: UserWarning: Boolean Series key will be reindexed to match DataFrame index.\n"
     ]
    }
   ],
   "source": [
    "# 풀이 1\n",
    "import pandas as pd\n",
    "df = pd.read_csv('/kaggle/input/bigdatacertificationkr/basic2.csv')\n",
    "# print(df.head(), df.info())\n",
    "df['Date'] = pd.to_datetime(df['Date'])\n",
    "\n",
    "df['year'] = df['Date'].dt.year\n",
    "df['month'] = df['Date'].dt.month\n",
    "\n",
    "# print(df.head())\n",
    "\n",
    "df1 = df[df['Events'] == 1]\n",
    "df2 = df[df['Events'] == 0]\n",
    "\n",
    "df1['real_sales'] = df1['Sales'] * 0.8\n",
    "df2['real_sales'] = df2['Sales']\n",
    "\n",
    "df3 = df1[df['year'] == 2022]\n",
    "df4 = df1[df['year'] == 2023]\n",
    "df5 = df2[df['year'] == 2022]\n",
    "df6 = df2[df['year'] == 2023]\n",
    "\n",
    "df_2022 = pd.concat([df3, df5])\n",
    "df_2023 = pd.concat([df4, df6])\n",
    "\n",
    "df_2022_sum = df_2022.groupby(['month'])[['real_sales']].sum()\n",
    "df_2023_sum = df_2023.groupby(['month'])[['real_sales']].sum()\n",
    "\n",
    "df_2022_sum_max = df_2022_sum['real_sales'].max()\n",
    "df_2023_sum_max = df_2023_sum['real_sales'].max()\n",
    "\n",
    "print(int(round(abs(df_2022_sum_max - df_2023_sum_max), 0)))"
   ]
  },
  {
   "cell_type": "code",
   "execution_count": 2,
   "id": "a562c255",
   "metadata": {
    "execution": {
     "iopub.execute_input": "2022-11-27T01:46:24.518865Z",
     "iopub.status.busy": "2022-11-27T01:46:24.517894Z",
     "iopub.status.idle": "2022-11-27T01:46:24.548439Z",
     "shell.execute_reply": "2022-11-27T01:46:24.547811Z",
     "shell.execute_reply.started": "2022-11-27T01:45:49.279642Z"
    },
    "papermill": {
     "duration": 0.039149,
     "end_time": "2022-11-27T01:46:24.548614",
     "exception": false,
     "start_time": "2022-11-27T01:46:24.509465",
     "status": "completed"
    },
    "tags": []
   },
   "outputs": [
    {
     "name": "stdout",
     "output_type": "stream",
     "text": [
      "42473436\n"
     ]
    },
    {
     "name": "stderr",
     "output_type": "stream",
     "text": [
      "/opt/conda/lib/python3.7/site-packages/ipykernel_launcher.py:15: SettingWithCopyWarning: \n",
      "A value is trying to be set on a copy of a slice from a DataFrame.\n",
      "Try using .loc[row_indexer,col_indexer] = value instead\n",
      "\n",
      "See the caveats in the documentation: https://pandas.pydata.org/pandas-docs/stable/user_guide/indexing.html#returning-a-view-versus-a-copy\n",
      "  from ipykernel import kernelapp as app\n",
      "/opt/conda/lib/python3.7/site-packages/ipykernel_launcher.py:16: SettingWithCopyWarning: \n",
      "A value is trying to be set on a copy of a slice from a DataFrame.\n",
      "Try using .loc[row_indexer,col_indexer] = value instead\n",
      "\n",
      "See the caveats in the documentation: https://pandas.pydata.org/pandas-docs/stable/user_guide/indexing.html#returning-a-view-versus-a-copy\n",
      "  app.launch_new_instance()\n"
     ]
    }
   ],
   "source": [
    "# 풀이 2\n",
    "import pandas as pd\n",
    "df = pd.read_csv('/kaggle/input/bigdatacertificationkr/basic2.csv')\n",
    "# print(df.head(), df.info())\n",
    "df['Date'] = pd.to_datetime(df['Date'])\n",
    "\n",
    "df['year'] = df['Date'].dt.year\n",
    "df['month'] = df['Date'].dt.month\n",
    "\n",
    "# print(df.head())\n",
    "\n",
    "df1 = df[df['Events'] == 1]\n",
    "df2 = df[df['Events'] == 0]\n",
    "\n",
    "df1['real_sales'] = df1['Sales'] * 0.8\n",
    "df2['real_sales'] = df2['Sales']\n",
    "\n",
    "df3 = pd.concat([df1, df2]).reset_index(drop = True)\n",
    "\n",
    "df4 = df3.groupby(['year', 'month'])[['real_sales']].sum()\n",
    "# print(type(df4))\n",
    "# print(type(df4.index))\n",
    "\n",
    "max_2022 = df4.head(12)['real_sales'].max()\n",
    "max_2023 = df4.tail(12)['real_sales'].max()\n",
    "print(int(round(abs(max_2022 - max_2023), 0)))"
   ]
  },
  {
   "cell_type": "markdown",
   "id": "785d1d7e",
   "metadata": {
    "papermill": {
     "duration": 0.006975,
     "end_time": "2022-11-27T01:46:24.566696",
     "exception": false,
     "start_time": "2022-11-27T01:46:24.559721",
     "status": "completed"
    },
    "tags": []
   },
   "source": [
    "## 💁 풀이"
   ]
  },
  {
   "cell_type": "code",
   "execution_count": 3,
   "id": "3aba3ee8",
   "metadata": {
    "_cell_guid": "b1076dfc-b9ad-4769-8c92-a6c4dae69d19",
    "_uuid": "8f2839f25d086af736a60e9eeb907d3b93b6e0e5",
    "execution": {
     "iopub.execute_input": "2022-11-27T01:46:24.591275Z",
     "iopub.status.busy": "2022-11-27T01:46:24.590148Z",
     "iopub.status.idle": "2022-11-27T01:46:25.108114Z",
     "shell.execute_reply": "2022-11-27T01:46:25.108592Z",
     "shell.execute_reply.started": "2022-11-27T01:42:46.762094Z"
    },
    "papermill": {
     "duration": 0.533672,
     "end_time": "2022-11-27T01:46:25.108782",
     "exception": false,
     "start_time": "2022-11-27T01:46:24.575110",
     "status": "completed"
    },
    "tags": []
   },
   "outputs": [
    {
     "data": {
      "text/plain": [
       "42473436"
      ]
     },
     "execution_count": 3,
     "metadata": {},
     "output_type": "execute_result"
    }
   ],
   "source": [
    "# 라이브러리 불러오기\n",
    "import pandas as pd\n",
    "# 데이터 불러오기 (datatime컬럼 지정)\n",
    "df = pd.read_csv(\"../input/bigdatacertificationkr/basic2.csv\", parse_dates=['Date'])\n",
    "\n",
    "# df.head()\n",
    "# 날짜 컬럼 생성\n",
    "df['year'] = df['Date'].dt.year\n",
    "df['month'] = df['Date'].dt.month\n",
    "df['day'] = df['Date'].dt.day\n",
    "df['dayofweek'] = df['Date'].dt.dayofweek\n",
    "\n",
    "# 이벤트가 1인 sales값은 80%만 반영\n",
    "\n",
    "def event_sales(x):\n",
    "    if x['Events'] == 1:\n",
    "        x['Sales2'] = x['Sales']*0.8\n",
    "    else:\n",
    "        x['Sales2'] = x['Sales']\n",
    "    return x\n",
    "\n",
    "\n",
    "df = df.apply(lambda x: event_sales(x), axis=1) #1일 경우 row, 0일 경우 컬럼\n",
    "# df.head()\n",
    "\n",
    "# 2022년 월별 합계 중 가장 큰 값\n",
    "cond = df['year'] == 2022\n",
    "df1 = df[cond]\n",
    "sale1 = df1.groupby('month')['Sales2'].sum().max()\n",
    "sale1\n",
    "\n",
    "# 2023년 월별 합계 중 가장 큰 값\n",
    "cond = df['year'] == 2023\n",
    "df2 = df[cond]\n",
    "sale2 = df2.groupby('month')['Sales2'].sum().max()\n",
    "sale2\n",
    "\n",
    "# 결과값 반올림 후 정수 출력\n",
    "int(round(abs(sale1 - sale2),0))"
   ]
  }
 ],
 "metadata": {
  "kernelspec": {
   "display_name": "Python 3",
   "language": "python",
   "name": "python3"
  },
  "language_info": {
   "codemirror_mode": {
    "name": "ipython",
    "version": 3
   },
   "file_extension": ".py",
   "mimetype": "text/x-python",
   "name": "python",
   "nbconvert_exporter": "python",
   "pygments_lexer": "ipython3",
   "version": "3.7.10"
  },
  "papermill": {
   "default_parameters": {},
   "duration": 10.473033,
   "end_time": "2022-11-27T01:46:25.725039",
   "environment_variables": {},
   "exception": null,
   "input_path": "__notebook__.ipynb",
   "output_path": "__notebook__.ipynb",
   "parameters": {},
   "start_time": "2022-11-27T01:46:15.252006",
   "version": "2.3.3"
  }
 },
 "nbformat": 4,
 "nbformat_minor": 5
}
