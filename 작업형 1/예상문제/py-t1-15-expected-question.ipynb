{
 "cells": [
  {
   "cell_type": "markdown",
   "id": "8c9d881f",
   "metadata": {
    "_cell_guid": "21629bd6-485e-474d-b429-1c45d5394335",
    "_uuid": "a989d4fb-deb1-4901-8348-e735f0294e12",
    "jupyter": {
     "outputs_hidden": false
    },
    "papermill": {
     "duration": 0.005164,
     "end_time": "2022-11-27T00:06:25.994554",
     "exception": false,
     "start_time": "2022-11-27T00:06:25.989390",
     "status": "completed"
    },
    "tags": []
   },
   "source": [
    "# 주어진 데이터 셋에서 age컬럼 상위 20개의 데이터를 구한 다음 f1의 결측치를 중앙값으로 채운다. 그리고 f4가 ISFJ, f5가 20 이상인 f1의 평균값을 출력하시오!\n",
    "\n",
    " - 데이터셋 : basic1.csv \n",
    " - 오른쪽 상단 copy&edit 클릭 -> 예상문제 풀이 시작\n",
    " - File -> Editor Type -> Script"
   ]
  },
  {
   "cell_type": "markdown",
   "id": "d4f48790",
   "metadata": {
    "papermill": {
     "duration": 0.003684,
     "end_time": "2022-11-27T00:06:26.002425",
     "exception": false,
     "start_time": "2022-11-27T00:06:25.998741",
     "status": "completed"
    },
    "tags": []
   },
   "source": [
    "## 🧑‍💻 내 풀이"
   ]
  },
  {
   "cell_type": "code",
   "execution_count": 1,
   "id": "76dacd8d",
   "metadata": {
    "execution": {
     "iopub.execute_input": "2022-11-27T00:06:26.020506Z",
     "iopub.status.busy": "2022-11-27T00:06:26.017899Z",
     "iopub.status.idle": "2022-11-27T00:06:26.051194Z",
     "shell.execute_reply": "2022-11-27T00:06:26.051912Z"
    },
    "papermill": {
     "duration": 0.045947,
     "end_time": "2022-11-27T00:06:26.052297",
     "exception": false,
     "start_time": "2022-11-27T00:06:26.006350",
     "status": "completed"
    },
    "tags": []
   },
   "outputs": [
    {
     "name": "stdout",
     "output_type": "stream",
     "text": [
      "73.875\n"
     ]
    },
    {
     "name": "stderr",
     "output_type": "stream",
     "text": [
      "/opt/conda/lib/python3.7/site-packages/ipykernel_launcher.py:7: SettingWithCopyWarning: \n",
      "A value is trying to be set on a copy of a slice from a DataFrame.\n",
      "Try using .loc[row_indexer,col_indexer] = value instead\n",
      "\n",
      "See the caveats in the documentation: https://pandas.pydata.org/pandas-docs/stable/user_guide/indexing.html#returning-a-view-versus-a-copy\n",
      "  import sys\n"
     ]
    }
   ],
   "source": [
    "import pandas as pd\n",
    "df = pd.read_csv('/kaggle/input/bigdatacertificationkr/basic1.csv')\n",
    "df = df.sort_values('age', ascending = False)\n",
    "df1 = df.head(20)\n",
    "f1_med = df1['f1'].median()\n",
    "# print(df1.info())\n",
    "df1['f1'] = df1['f1'].fillna(f1_med)\n",
    "# print(df1.info())\n",
    "df2 = df1[(df1['f4'] == 'ISFJ') & (df1['f5'] >= 20)]\n",
    "print(df2['f1'].mean())\n"
   ]
  },
  {
   "cell_type": "markdown",
   "id": "1880c4bc",
   "metadata": {
    "papermill": {
     "duration": 0.004533,
     "end_time": "2022-11-27T00:06:26.062728",
     "exception": false,
     "start_time": "2022-11-27T00:06:26.058195",
     "status": "completed"
    },
    "tags": []
   },
   "source": [
    "## 💁 풀이"
   ]
  },
  {
   "cell_type": "code",
   "execution_count": 2,
   "id": "7c406cdf",
   "metadata": {
    "execution": {
     "iopub.execute_input": "2022-11-27T00:06:26.081460Z",
     "iopub.status.busy": "2022-11-27T00:06:26.080737Z",
     "iopub.status.idle": "2022-11-27T00:06:26.109989Z",
     "shell.execute_reply": "2022-11-27T00:06:26.109431Z"
    },
    "papermill": {
     "duration": 0.042525,
     "end_time": "2022-11-27T00:06:26.110142",
     "exception": false,
     "start_time": "2022-11-27T00:06:26.067617",
     "status": "completed"
    },
    "tags": []
   },
   "outputs": [
    {
     "name": "stdout",
     "output_type": "stream",
     "text": [
      "      id    age city     f1  f2   f3    f4         f5\n",
      "0   id97  100.0   경기    NaN   0  NaN  INFP  67.886373\n",
      "1   id37  100.0   부산    NaN   0  NaN  ESTP  33.308999\n",
      "2   id45   97.0   대구   88.0   0  NaN  ENFJ  13.049921\n",
      "3   id52   97.0   대구   82.0   1  NaN  ISFJ  90.496999\n",
      "4   id92   97.0   경기   78.0   1  NaN  INFP  97.381034\n",
      "..   ...    ...  ...    ...  ..  ...   ...        ...\n",
      "95  id99    1.0   경기   47.0   0  NaN  ESFJ  97.381034\n",
      "96  id58    0.0   대구  100.0   2  NaN  ESTP  33.308999\n",
      "97  id22   -6.3   부산   72.0   1  NaN  ENFP  52.667078\n",
      "98  id70   -9.0   경기   96.0   1  NaN  ISTP  48.431184\n",
      "99  id29  -13.5   부산   47.0   2  NaN  ENTP  67.886373\n",
      "\n",
      "[100 rows x 8 columns]\n",
      "      id    age city    f1  f2   f3    f4         f5\n",
      "0   id97  100.0   경기   NaN   0  NaN  INFP  67.886373\n",
      "1   id37  100.0   부산   NaN   0  NaN  ESTP  33.308999\n",
      "2   id45   97.0   대구  88.0   0  NaN  ENFJ  13.049921\n",
      "3   id52   97.0   대구  82.0   1  NaN  ISFJ  90.496999\n",
      "4   id92   97.0   경기  78.0   1  NaN  INFP  97.381034\n",
      "5   id10   95.0   서울  74.0   1  NaN  ISFP  98.429899\n",
      "6   id46   93.0   대구   NaN   0  NaN  ESTJ  67.886373\n",
      "7   id78   92.0   경기  96.0   1  NaN  INTJ  69.730313\n",
      "8   id96   92.0   경기  53.0   1  NaN  ENTJ  52.667078\n",
      "9   id73   90.0   경기   NaN   1  NaN  ISFJ  73.586397\n",
      "10  id21   90.0   부산   NaN   1  NaN  ISFP  29.269869\n",
      "11  id88   89.0   경기  75.0   0  NaN  ESTJ  60.339826\n",
      "12  id63   88.0   경기  86.0   1  NaN  ISFJ  73.586397\n",
      "13  id66   87.0   경기   NaN   1  NaN  ISFP  17.252986\n",
      "14  id38   87.0   부산   NaN   1  NaN  ESTP  83.685380\n",
      "15  id61   87.0   경기  62.0   2  NaN  INTP  69.730313\n",
      "16  id50   86.0   대구  78.0   1  NaN  ENFP  60.339826\n",
      "17  id81   86.0   경기  50.0   1  NaN  ISFJ  37.113739\n",
      "18  id31   86.0   부산  77.0   0  NaN  ESFJ  73.586397\n",
      "19  id94   84.0   경기   NaN   1  NaN  ESTJ  90.496999\n"
     ]
    },
    {
     "data": {
      "text/plain": [
       "73.875"
      ]
     },
     "execution_count": 2,
     "metadata": {},
     "output_type": "execute_result"
    }
   ],
   "source": [
    "import pandas as pd\n",
    "\n",
    "# 데이터 불러오기\n",
    "df = pd.read_csv(\"../input/bigdatacertificationkr/basic1.csv\")\n",
    "\n",
    "# 나이 순(내림차순)으로 정렬\n",
    "df = df.sort_values('age', ascending=False).reset_index(drop=True)\n",
    "print(df)\n",
    "\n",
    "# 상위 20개 슬라이싱\n",
    "df = df[:20]\n",
    "print(df)\n",
    "\n",
    "# 결측치 채우기 (중앙값)\n",
    "df['f1'] = df['f1'].fillna(df['f1'].median())\n",
    "\n",
    "# 조건 ISFJ, f5가 20이상\n",
    "cond = (df['f4']=='ISFJ') & (df['f5'] >= 20)\n",
    "\n",
    "# f1의 평균\n",
    "df[cond]['f1'].mean()\n",
    "\n",
    "# 정답 : 73.875"
   ]
  }
 ],
 "metadata": {
  "kernelspec": {
   "display_name": "Python 3",
   "language": "python",
   "name": "python3"
  },
  "language_info": {
   "codemirror_mode": {
    "name": "ipython",
    "version": 3
   },
   "file_extension": ".py",
   "mimetype": "text/x-python",
   "name": "python",
   "nbconvert_exporter": "python",
   "pygments_lexer": "ipython3",
   "version": "3.7.10"
  },
  "papermill": {
   "default_parameters": {},
   "duration": 9.405484,
   "end_time": "2022-11-27T00:06:26.725686",
   "environment_variables": {},
   "exception": null,
   "input_path": "__notebook__.ipynb",
   "output_path": "__notebook__.ipynb",
   "parameters": {},
   "start_time": "2022-11-27T00:06:17.320202",
   "version": "2.3.3"
  }
 },
 "nbformat": 4,
 "nbformat_minor": 5
}
