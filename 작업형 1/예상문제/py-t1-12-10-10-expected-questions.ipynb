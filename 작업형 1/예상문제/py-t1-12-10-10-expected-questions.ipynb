{
 "cells": [
  {
   "cell_type": "markdown",
   "id": "c13c379d",
   "metadata": {
    "papermill": {
     "duration": 0.011644,
     "end_time": "2022-11-26T01:02:34.803830",
     "exception": false,
     "start_time": "2022-11-26T01:02:34.792186",
     "status": "completed"
    },
    "tags": []
   },
   "source": [
    "## 주어진 데이터에서 상위 10개 국가의 접종률 평균과 하위 10개 국가의 접종률 평균을 구하고, 그 차이를 구해보세요 \n",
    "### (단, 100%가 넘는 접종률 제거, 소수 첫째자리까지 출력)\n",
    "\n",
    " - 데이터셋 : ../input/covid-vaccination-vs-death/covid-vaccination-vs-death_ratio.csv\n",
    " - 오른쪽 상단 copy&edit 클릭 -> 예상문제 풀이 시작\n",
    " - File -> Editor Type -> Script"
   ]
  },
  {
   "cell_type": "markdown",
   "id": "e3c6edb2",
   "metadata": {
    "papermill": {
     "duration": 0.005858,
     "end_time": "2022-11-26T01:02:34.816471",
     "exception": false,
     "start_time": "2022-11-26T01:02:34.810613",
     "status": "completed"
    },
    "tags": []
   },
   "source": [
    "## 🧑‍💻 내 풀이"
   ]
  },
  {
   "cell_type": "code",
   "execution_count": 1,
   "id": "647fea92",
   "metadata": {
    "execution": {
     "iopub.execute_input": "2022-11-26T01:02:34.840480Z",
     "iopub.status.busy": "2022-11-26T01:02:34.839414Z",
     "iopub.status.idle": "2022-11-26T01:02:34.983667Z",
     "shell.execute_reply": "2022-11-26T01:02:34.982846Z",
     "shell.execute_reply.started": "2022-11-26T01:01:40.140183Z"
    },
    "papermill": {
     "duration": 0.16208,
     "end_time": "2022-11-26T01:02:34.983863",
     "exception": false,
     "start_time": "2022-11-26T01:02:34.821783",
     "status": "completed"
    },
    "tags": []
   },
   "outputs": [
    {
     "name": "stdout",
     "output_type": "stream",
     "text": [
      "88.4\n"
     ]
    }
   ],
   "source": [
    "import pandas as pd\n",
    "df = pd.read_csv('/kaggle/input/covid-vaccination-vs-death/covid-vaccination-vs-death_ratio.csv')\n",
    "# df.head()\n",
    "df1 = df.groupby(['country'])['ratio'].max()\n",
    "df2 = pd.DataFrame(df1, columns = ['ratio'])\n",
    "df2 = df2.sort_values('ratio', ascending = False)\n",
    "df2 = df2[df2['ratio']<=100]\n",
    "\n",
    "top10mean = df2['ratio'].head(10).mean()\n",
    "bottom10mean = df2['ratio'].tail(10).mean()\n",
    "print(round(top10mean - bottom10mean, 1))"
   ]
  },
  {
   "cell_type": "markdown",
   "id": "964009ef",
   "metadata": {
    "papermill": {
     "duration": 0.004472,
     "end_time": "2022-11-26T01:02:34.995337",
     "exception": false,
     "start_time": "2022-11-26T01:02:34.990865",
     "status": "completed"
    },
    "tags": []
   },
   "source": [
    "## 💁 풀이"
   ]
  },
  {
   "cell_type": "code",
   "execution_count": 2,
   "id": "88dae7c4",
   "metadata": {
    "execution": {
     "iopub.execute_input": "2022-11-26T01:02:35.012022Z",
     "iopub.status.busy": "2022-11-26T01:02:35.011234Z",
     "iopub.status.idle": "2022-11-26T01:02:35.125359Z",
     "shell.execute_reply": "2022-11-26T01:02:35.125949Z",
     "shell.execute_reply.started": "2022-11-26T01:01:43.111800Z"
    },
    "papermill": {
     "duration": 0.125899,
     "end_time": "2022-11-26T01:02:35.126169",
     "exception": false,
     "start_time": "2022-11-26T01:02:35.000270",
     "status": "completed"
    },
    "tags": []
   },
   "outputs": [
    {
     "name": "stdout",
     "output_type": "stream",
     "text": [
      "91.6\n"
     ]
    }
   ],
   "source": [
    "import pandas as pd\n",
    "\n",
    "df = pd.read_csv(\"../input/covid-vaccination-vs-death/covid-vaccination-vs-death_ratio.csv\")\n",
    "# print(df.head())\n",
    "\n",
    "df2 = df.groupby('country').max() #시간에 따라 접종률이 점점 올라감\n",
    "df2 = df2.sort_values(by='ratio', ascending = False)\n",
    "# print(df2['ratio'].head())\n",
    "\n",
    "df2 = df2[1:] #이상치 제거\n",
    "# print(df2['ratio'].head())\n",
    "\n",
    "top = df2['ratio'].head(10).mean()\n",
    "bottom = df2['ratio'].tail(10).mean()\n",
    "\n",
    "print(round(top - bottom,1))\n",
    "# 결과값은 데이터 업데이트에 따라 달라질 수 있음"
   ]
  }
 ],
 "metadata": {
  "kernelspec": {
   "display_name": "Python 3",
   "language": "python",
   "name": "python3"
  },
  "language_info": {
   "codemirror_mode": {
    "name": "ipython",
    "version": 3
   },
   "file_extension": ".py",
   "mimetype": "text/x-python",
   "name": "python",
   "nbconvert_exporter": "python",
   "pygments_lexer": "ipython3",
   "version": "3.7.10"
  },
  "papermill": {
   "default_parameters": {},
   "duration": 10.010902,
   "end_time": "2022-11-26T01:02:35.743699",
   "environment_variables": {},
   "exception": null,
   "input_path": "__notebook__.ipynb",
   "output_path": "__notebook__.ipynb",
   "parameters": {},
   "start_time": "2022-11-26T01:02:25.732797",
   "version": "2.3.3"
  }
 },
 "nbformat": 4,
 "nbformat_minor": 5
}
