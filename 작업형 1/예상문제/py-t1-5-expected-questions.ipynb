{
 "cells": [
  {
   "cell_type": "markdown",
   "id": "9f778073",
   "metadata": {
    "papermill": {
     "duration": 0.009524,
     "end_time": "2022-11-25T11:39:41.416698",
     "exception": false,
     "start_time": "2022-11-25T11:39:41.407174",
     "status": "completed"
    },
    "tags": []
   },
   "source": [
    "## 조건에 맞는 데이터 표준편차 구하기\n",
    "- 주어진 데이터 중 basic1.csv에서 'f4'컬럼 값이 'ENFJ'와 'INFP'인 'f1'의 표준편차 차이를 절대값으로 구하시오\n",
    "- 데이터셋 : basic1.csv\n",
    "- 오른쪽 상단 copy&edit 클릭 -> 예상문제 풀이 시작"
   ]
  },
  {
   "cell_type": "markdown",
   "id": "40642364",
   "metadata": {
    "papermill": {
     "duration": 0.008194,
     "end_time": "2022-11-25T11:39:41.433708",
     "exception": false,
     "start_time": "2022-11-25T11:39:41.425514",
     "status": "completed"
    },
    "tags": []
   },
   "source": [
    "## 🧑‍💻 내 풀이"
   ]
  },
  {
   "cell_type": "code",
   "execution_count": 1,
   "id": "06040b91",
   "metadata": {
    "execution": {
     "iopub.execute_input": "2022-11-25T11:39:41.462378Z",
     "iopub.status.busy": "2022-11-25T11:39:41.461483Z",
     "iopub.status.idle": "2022-11-25T11:39:41.486616Z",
     "shell.execute_reply": "2022-11-25T11:39:41.485940Z",
     "shell.execute_reply.started": "2022-11-25T11:38:14.342170Z"
    },
    "papermill": {
     "duration": 0.045291,
     "end_time": "2022-11-25T11:39:41.486788",
     "exception": false,
     "start_time": "2022-11-25T11:39:41.441497",
     "status": "completed"
    },
    "tags": []
   },
   "outputs": [
    {
     "name": "stdout",
     "output_type": "stream",
     "text": [
      "5.859621525876811\n"
     ]
    }
   ],
   "source": [
    "import pandas as pd\n",
    "df = pd.read_csv('/kaggle/input/bigdatacertificationkr/basic1.csv')\n",
    "# df.head(5)\n",
    "df_ENFJ = df[df['f4'] == 'ENFJ']\n",
    "df_INFP = df[df['f4'] == 'INFP']\n",
    "entj_std = df_ENFJ['f1'].std()\n",
    "infp_std = df_INFP['f1'].std()\n",
    "print(abs(entj_std - infp_std))"
   ]
  },
  {
   "cell_type": "markdown",
   "id": "62682c89",
   "metadata": {
    "papermill": {
     "duration": 0.007915,
     "end_time": "2022-11-25T11:39:41.503992",
     "exception": false,
     "start_time": "2022-11-25T11:39:41.496077",
     "status": "completed"
    },
    "tags": []
   },
   "source": [
    "## 💡 Hint\n",
    "- 절대 값 : np.abs()\n",
    "- 표준편차 : DataFrame.std()"
   ]
  },
  {
   "cell_type": "markdown",
   "id": "d7dc8113",
   "metadata": {
    "papermill": {
     "duration": 0.008135,
     "end_time": "2022-11-25T11:39:41.520563",
     "exception": false,
     "start_time": "2022-11-25T11:39:41.512428",
     "status": "completed"
    },
    "tags": []
   },
   "source": [
    "## 💁 풀이"
   ]
  },
  {
   "cell_type": "code",
   "execution_count": 2,
   "id": "4f380d39",
   "metadata": {
    "_cell_guid": "b1076dfc-b9ad-4769-8c92-a6c4dae69d19",
    "_uuid": "8f2839f25d086af736a60e9eeb907d3b93b6e0e5",
    "execution": {
     "iopub.execute_input": "2022-11-25T11:39:41.542873Z",
     "iopub.status.busy": "2022-11-25T11:39:41.540522Z",
     "iopub.status.idle": "2022-11-25T11:39:41.564868Z",
     "shell.execute_reply": "2022-11-25T11:39:41.565375Z",
     "shell.execute_reply.started": "2022-11-25T11:39:01.517842Z"
    },
    "papermill": {
     "duration": 0.036546,
     "end_time": "2022-11-25T11:39:41.565555",
     "exception": false,
     "start_time": "2022-11-25T11:39:41.529009",
     "status": "completed"
    },
    "tags": []
   },
   "outputs": [
    {
     "data": {
      "text/html": [
       "<div>\n",
       "<style scoped>\n",
       "    .dataframe tbody tr th:only-of-type {\n",
       "        vertical-align: middle;\n",
       "    }\n",
       "\n",
       "    .dataframe tbody tr th {\n",
       "        vertical-align: top;\n",
       "    }\n",
       "\n",
       "    .dataframe thead th {\n",
       "        text-align: right;\n",
       "    }\n",
       "</style>\n",
       "<table border=\"1\" class=\"dataframe\">\n",
       "  <thead>\n",
       "    <tr style=\"text-align: right;\">\n",
       "      <th></th>\n",
       "      <th>id</th>\n",
       "      <th>age</th>\n",
       "      <th>city</th>\n",
       "      <th>f1</th>\n",
       "      <th>f2</th>\n",
       "      <th>f3</th>\n",
       "      <th>f4</th>\n",
       "      <th>f5</th>\n",
       "    </tr>\n",
       "  </thead>\n",
       "  <tbody>\n",
       "    <tr>\n",
       "      <th>0</th>\n",
       "      <td>id01</td>\n",
       "      <td>2.0</td>\n",
       "      <td>서울</td>\n",
       "      <td>NaN</td>\n",
       "      <td>0</td>\n",
       "      <td>NaN</td>\n",
       "      <td>ENFJ</td>\n",
       "      <td>91.297791</td>\n",
       "    </tr>\n",
       "    <tr>\n",
       "      <th>1</th>\n",
       "      <td>id02</td>\n",
       "      <td>9.0</td>\n",
       "      <td>서울</td>\n",
       "      <td>70.0</td>\n",
       "      <td>1</td>\n",
       "      <td>NaN</td>\n",
       "      <td>ENFJ</td>\n",
       "      <td>60.339826</td>\n",
       "    </tr>\n",
       "    <tr>\n",
       "      <th>2</th>\n",
       "      <td>id03</td>\n",
       "      <td>27.0</td>\n",
       "      <td>서울</td>\n",
       "      <td>61.0</td>\n",
       "      <td>1</td>\n",
       "      <td>NaN</td>\n",
       "      <td>ISTJ</td>\n",
       "      <td>17.252986</td>\n",
       "    </tr>\n",
       "    <tr>\n",
       "      <th>3</th>\n",
       "      <td>id04</td>\n",
       "      <td>75.0</td>\n",
       "      <td>서울</td>\n",
       "      <td>NaN</td>\n",
       "      <td>2</td>\n",
       "      <td>NaN</td>\n",
       "      <td>INFP</td>\n",
       "      <td>52.667078</td>\n",
       "    </tr>\n",
       "    <tr>\n",
       "      <th>4</th>\n",
       "      <td>id05</td>\n",
       "      <td>24.0</td>\n",
       "      <td>서울</td>\n",
       "      <td>85.0</td>\n",
       "      <td>2</td>\n",
       "      <td>NaN</td>\n",
       "      <td>ISFJ</td>\n",
       "      <td>29.269869</td>\n",
       "    </tr>\n",
       "  </tbody>\n",
       "</table>\n",
       "</div>"
      ],
      "text/plain": [
       "     id   age city    f1  f2   f3    f4         f5\n",
       "0  id01   2.0   서울   NaN   0  NaN  ENFJ  91.297791\n",
       "1  id02   9.0   서울  70.0   1  NaN  ENFJ  60.339826\n",
       "2  id03  27.0   서울  61.0   1  NaN  ISTJ  17.252986\n",
       "3  id04  75.0   서울   NaN   2  NaN  INFP  52.667078\n",
       "4  id05  24.0   서울  85.0   2  NaN  ISFJ  29.269869"
      ]
     },
     "execution_count": 2,
     "metadata": {},
     "output_type": "execute_result"
    }
   ],
   "source": [
    "# 라이브러리 및 데이터 불러오기\n",
    "import pandas as pd\n",
    "\n",
    "import numpy as np\n",
    "\n",
    "df = pd.read_csv('../input/bigdatacertificationkr/basic1.csv')\n",
    "df.head()"
   ]
  },
  {
   "cell_type": "code",
   "execution_count": 3,
   "id": "c5358989",
   "metadata": {
    "execution": {
     "iopub.execute_input": "2022-11-25T11:39:41.599817Z",
     "iopub.status.busy": "2022-11-25T11:39:41.598829Z",
     "iopub.status.idle": "2022-11-25T11:39:41.601944Z",
     "shell.execute_reply": "2022-11-25T11:39:41.602459Z",
     "shell.execute_reply.started": "2022-11-25T11:39:04.931676Z"
    },
    "papermill": {
     "duration": 0.027495,
     "end_time": "2022-11-25T11:39:41.602635",
     "exception": false,
     "start_time": "2022-11-25T11:39:41.575140",
     "status": "completed"
    },
    "tags": []
   },
   "outputs": [
    {
     "data": {
      "text/html": [
       "<div>\n",
       "<style scoped>\n",
       "    .dataframe tbody tr th:only-of-type {\n",
       "        vertical-align: middle;\n",
       "    }\n",
       "\n",
       "    .dataframe tbody tr th {\n",
       "        vertical-align: top;\n",
       "    }\n",
       "\n",
       "    .dataframe thead th {\n",
       "        text-align: right;\n",
       "    }\n",
       "</style>\n",
       "<table border=\"1\" class=\"dataframe\">\n",
       "  <thead>\n",
       "    <tr style=\"text-align: right;\">\n",
       "      <th></th>\n",
       "      <th>id</th>\n",
       "      <th>age</th>\n",
       "      <th>city</th>\n",
       "      <th>f1</th>\n",
       "      <th>f2</th>\n",
       "      <th>f3</th>\n",
       "      <th>f4</th>\n",
       "      <th>f5</th>\n",
       "    </tr>\n",
       "  </thead>\n",
       "  <tbody>\n",
       "    <tr>\n",
       "      <th>0</th>\n",
       "      <td>id01</td>\n",
       "      <td>2.0</td>\n",
       "      <td>서울</td>\n",
       "      <td>NaN</td>\n",
       "      <td>0</td>\n",
       "      <td>NaN</td>\n",
       "      <td>ENFJ</td>\n",
       "      <td>91.297791</td>\n",
       "    </tr>\n",
       "    <tr>\n",
       "      <th>1</th>\n",
       "      <td>id02</td>\n",
       "      <td>9.0</td>\n",
       "      <td>서울</td>\n",
       "      <td>70.0</td>\n",
       "      <td>1</td>\n",
       "      <td>NaN</td>\n",
       "      <td>ENFJ</td>\n",
       "      <td>60.339826</td>\n",
       "    </tr>\n",
       "    <tr>\n",
       "      <th>32</th>\n",
       "      <td>id33</td>\n",
       "      <td>47.0</td>\n",
       "      <td>부산</td>\n",
       "      <td>94.0</td>\n",
       "      <td>0</td>\n",
       "      <td>NaN</td>\n",
       "      <td>ENFJ</td>\n",
       "      <td>17.252986</td>\n",
       "    </tr>\n",
       "    <tr>\n",
       "      <th>40</th>\n",
       "      <td>id41</td>\n",
       "      <td>81.0</td>\n",
       "      <td>대구</td>\n",
       "      <td>55.0</td>\n",
       "      <td>0</td>\n",
       "      <td>NaN</td>\n",
       "      <td>ENFJ</td>\n",
       "      <td>37.113739</td>\n",
       "    </tr>\n",
       "    <tr>\n",
       "      <th>44</th>\n",
       "      <td>id45</td>\n",
       "      <td>97.0</td>\n",
       "      <td>대구</td>\n",
       "      <td>88.0</td>\n",
       "      <td>0</td>\n",
       "      <td>NaN</td>\n",
       "      <td>ENFJ</td>\n",
       "      <td>13.049921</td>\n",
       "    </tr>\n",
       "    <tr>\n",
       "      <th>53</th>\n",
       "      <td>id54</td>\n",
       "      <td>53.0</td>\n",
       "      <td>대구</td>\n",
       "      <td>NaN</td>\n",
       "      <td>1</td>\n",
       "      <td>NaN</td>\n",
       "      <td>ENFJ</td>\n",
       "      <td>69.730313</td>\n",
       "    </tr>\n",
       "  </tbody>\n",
       "</table>\n",
       "</div>"
      ],
      "text/plain": [
       "      id   age city    f1  f2   f3    f4         f5\n",
       "0   id01   2.0   서울   NaN   0  NaN  ENFJ  91.297791\n",
       "1   id02   9.0   서울  70.0   1  NaN  ENFJ  60.339826\n",
       "32  id33  47.0   부산  94.0   0  NaN  ENFJ  17.252986\n",
       "40  id41  81.0   대구  55.0   0  NaN  ENFJ  37.113739\n",
       "44  id45  97.0   대구  88.0   0  NaN  ENFJ  13.049921\n",
       "53  id54  53.0   대구   NaN   1  NaN  ENFJ  69.730313"
      ]
     },
     "execution_count": 3,
     "metadata": {},
     "output_type": "execute_result"
    }
   ],
   "source": [
    "# 조건에 맞는 데이터\n",
    "df[df['f4']=='ENFJ']"
   ]
  },
  {
   "cell_type": "code",
   "execution_count": 4,
   "id": "ca01d19f",
   "metadata": {
    "execution": {
     "iopub.execute_input": "2022-11-25T11:39:41.625144Z",
     "iopub.status.busy": "2022-11-25T11:39:41.624449Z",
     "iopub.status.idle": "2022-11-25T11:39:41.630542Z",
     "shell.execute_reply": "2022-11-25T11:39:41.631084Z",
     "shell.execute_reply.started": "2022-11-25T11:39:07.284133Z"
    },
    "papermill": {
     "duration": 0.018965,
     "end_time": "2022-11-25T11:39:41.631289",
     "exception": false,
     "start_time": "2022-11-25T11:39:41.612324",
     "status": "completed"
    },
    "tags": []
   },
   "outputs": [
    {
     "data": {
      "text/plain": [
       "17.727097901235837"
      ]
     },
     "execution_count": 4,
     "metadata": {},
     "output_type": "execute_result"
    }
   ],
   "source": [
    "df[df['f4']=='ENFJ']['f1'].std()"
   ]
  },
  {
   "cell_type": "code",
   "execution_count": 5,
   "id": "afd23ff4",
   "metadata": {
    "execution": {
     "iopub.execute_input": "2022-11-25T11:39:41.657640Z",
     "iopub.status.busy": "2022-11-25T11:39:41.656943Z",
     "iopub.status.idle": "2022-11-25T11:39:41.661170Z",
     "shell.execute_reply": "2022-11-25T11:39:41.660604Z",
     "shell.execute_reply.started": "2022-11-25T11:39:09.463206Z"
    },
    "papermill": {
     "duration": 0.020549,
     "end_time": "2022-11-25T11:39:41.661339",
     "exception": false,
     "start_time": "2022-11-25T11:39:41.640790",
     "status": "completed"
    },
    "tags": []
   },
   "outputs": [
    {
     "data": {
      "text/plain": [
       "17.727097901235837"
      ]
     },
     "execution_count": 5,
     "metadata": {},
     "output_type": "execute_result"
    }
   ],
   "source": [
    "# 조건에 맞는 f1의 표준편차\n",
    "enfj = df[df['f4']=='ENFJ']['f1'].std()\n",
    "enfj"
   ]
  },
  {
   "cell_type": "code",
   "execution_count": 6,
   "id": "9f6d58f5",
   "metadata": {
    "execution": {
     "iopub.execute_input": "2022-11-25T11:39:41.686284Z",
     "iopub.status.busy": "2022-11-25T11:39:41.685271Z",
     "iopub.status.idle": "2022-11-25T11:39:41.692261Z",
     "shell.execute_reply": "2022-11-25T11:39:41.692889Z",
     "shell.execute_reply.started": "2022-11-25T11:39:10.900691Z"
    },
    "papermill": {
     "duration": 0.021302,
     "end_time": "2022-11-25T11:39:41.693125",
     "exception": false,
     "start_time": "2022-11-25T11:39:41.671823",
     "status": "completed"
    },
    "tags": []
   },
   "outputs": [
    {
     "data": {
      "text/plain": [
       "23.586719427112648"
      ]
     },
     "execution_count": 6,
     "metadata": {},
     "output_type": "execute_result"
    }
   ],
   "source": [
    "# 조건에 맞는 f1의 표준편차\n",
    "infp = df[df['f4']=='INFP']['f1'].std()\n",
    "infp"
   ]
  },
  {
   "cell_type": "code",
   "execution_count": 7,
   "id": "48c5411f",
   "metadata": {
    "execution": {
     "iopub.execute_input": "2022-11-25T11:39:41.718681Z",
     "iopub.status.busy": "2022-11-25T11:39:41.717718Z",
     "iopub.status.idle": "2022-11-25T11:39:41.723594Z",
     "shell.execute_reply": "2022-11-25T11:39:41.724456Z",
     "shell.execute_reply.started": "2022-11-25T11:39:12.547664Z"
    },
    "papermill": {
     "duration": 0.020462,
     "end_time": "2022-11-25T11:39:41.724684",
     "exception": false,
     "start_time": "2022-11-25T11:39:41.704222",
     "status": "completed"
    },
    "tags": []
   },
   "outputs": [
    {
     "name": "stdout",
     "output_type": "stream",
     "text": [
      "5.859621525876811\n"
     ]
    }
   ],
   "source": [
    "# 두 표준편차 차이 절대값 출력\n",
    "print(np.abs(enfj - infp))"
   ]
  }
 ],
 "metadata": {
  "kernelspec": {
   "display_name": "Python 3",
   "language": "python",
   "name": "python3"
  },
  "language_info": {
   "codemirror_mode": {
    "name": "ipython",
    "version": 3
   },
   "file_extension": ".py",
   "mimetype": "text/x-python",
   "name": "python",
   "nbconvert_exporter": "python",
   "pygments_lexer": "ipython3",
   "version": "3.7.10"
  },
  "papermill": {
   "default_parameters": {},
   "duration": 8.682275,
   "end_time": "2022-11-25T11:39:42.345137",
   "environment_variables": {},
   "exception": null,
   "input_path": "__notebook__.ipynb",
   "output_path": "__notebook__.ipynb",
   "parameters": {},
   "start_time": "2022-11-25T11:39:33.662862",
   "version": "2.3.3"
  }
 },
 "nbformat": 4,
 "nbformat_minor": 5
}
