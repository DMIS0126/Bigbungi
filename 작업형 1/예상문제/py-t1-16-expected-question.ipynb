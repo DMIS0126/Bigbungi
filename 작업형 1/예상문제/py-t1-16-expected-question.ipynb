{
 "cells": [
  {
   "cell_type": "markdown",
   "id": "3bf3b162",
   "metadata": {
    "_cell_guid": "91982dab-3157-4d52-bf73-8e72f8d39664",
    "_uuid": "284a3f92-7cb8-4550-985f-8e91cd3e7d16",
    "jupyter": {
     "outputs_hidden": false
    },
    "papermill": {
     "duration": 0.005471,
     "end_time": "2022-11-27T00:13:19.224529",
     "exception": false,
     "start_time": "2022-11-27T00:13:19.219058",
     "status": "completed"
    },
    "tags": []
   },
   "source": [
    "# 주어진 데이터 셋에서 f2가 0값인 데이터를 age를 기준으로 오름차순 정렬하고 앞에서 부터 20개의 데이터를 추출한 후 f1 결측치(최소값)를 채우기 전과 후의 분산 차이를 계산하시오 (소수점 둘째 자리까지)\n",
    " - 데이터셋 : basic1.csv \n",
    " - 오른쪽 상단 copy&edit 클릭 -> 예상문제 풀이 시작\n",
    " - File -> Editor Type -> Script"
   ]
  },
  {
   "cell_type": "markdown",
   "id": "c7827fff",
   "metadata": {
    "papermill": {
     "duration": 0.003799,
     "end_time": "2022-11-27T00:13:19.232995",
     "exception": false,
     "start_time": "2022-11-27T00:13:19.229196",
     "status": "completed"
    },
    "tags": []
   },
   "source": [
    "## 🧑‍💻 내 풀이"
   ]
  },
  {
   "cell_type": "code",
   "execution_count": 1,
   "id": "dd209914",
   "metadata": {
    "execution": {
     "iopub.execute_input": "2022-11-27T00:13:19.247753Z",
     "iopub.status.busy": "2022-11-27T00:13:19.245986Z",
     "iopub.status.idle": "2022-11-27T00:13:19.286970Z",
     "shell.execute_reply": "2022-11-27T00:13:19.287607Z",
     "shell.execute_reply.started": "2022-11-27T00:12:43.869671Z"
    },
    "papermill": {
     "duration": 0.050445,
     "end_time": "2022-11-27T00:13:19.287946",
     "exception": false,
     "start_time": "2022-11-27T00:13:19.237501",
     "status": "completed"
    },
    "tags": []
   },
   "outputs": [
    {
     "name": "stdout",
     "output_type": "stream",
     "text": [
      "38.44\n"
     ]
    }
   ],
   "source": [
    "import pandas as pd\n",
    "df = pd.read_csv('/kaggle/input/bigdatacertificationkr/basic1.csv')\n",
    "df = df[df['f2'] == 0].sort_values('age', ascending = True).reset_index(drop = True)\n",
    "df = df.head(20)\n",
    "# print(df)\n",
    "f1_min = df['f1'].min()\n",
    "var1 = df['f1'].var()\n",
    "\n",
    "df['f1'] = df['f1'].fillna(f1_min)\n",
    "var2 = df['f1'].var()\n",
    "print(round(abs(var1 - var2), 2))"
   ]
  },
  {
   "cell_type": "markdown",
   "id": "2d67b0a2",
   "metadata": {
    "papermill": {
     "duration": 0.004363,
     "end_time": "2022-11-27T00:13:19.297477",
     "exception": false,
     "start_time": "2022-11-27T00:13:19.293114",
     "status": "completed"
    },
    "tags": []
   },
   "source": [
    "## 💁 풀이"
   ]
  },
  {
   "cell_type": "code",
   "execution_count": 2,
   "id": "84daa535",
   "metadata": {
    "execution": {
     "iopub.execute_input": "2022-11-27T00:13:19.317075Z",
     "iopub.status.busy": "2022-11-27T00:13:19.316350Z",
     "iopub.status.idle": "2022-11-27T00:13:19.328330Z",
     "shell.execute_reply": "2022-11-27T00:13:19.328974Z"
    },
    "papermill": {
     "duration": 0.027255,
     "end_time": "2022-11-27T00:13:19.329152",
     "exception": false,
     "start_time": "2022-11-27T00:13:19.301897",
     "status": "completed"
    },
    "tags": []
   },
   "outputs": [
    {
     "name": "stdout",
     "output_type": "stream",
     "text": [
      "38.44\n",
      "numpy: 297.6600000000001\n",
      "pandas(ddof=0): 297.6600000000001\n",
      "pandas: 313.32631578947377\n",
      "numpy(ddof=1): 313.32631578947377\n"
     ]
    }
   ],
   "source": [
    "import pandas as pd\n",
    "\n",
    "# 데이터 불러오기\n",
    "df = pd.read_csv(\"../input/bigdatacertificationkr/basic1.csv\")\n",
    "\n",
    "# f2가 0인 데이터 정렬(age 오름차순)\n",
    "cond = (df['f2']==0)\n",
    "df = df[cond].sort_values('age', ascending=True).reset_index(drop=True)\n",
    "\n",
    "# 앞에서 부터 20개의 데이터 \n",
    "df = df[:20]\n",
    "\n",
    "# f1 결측치(최소값)를 채우기 전과 후의 분산\n",
    "df_var1 = df['f1'].var()\n",
    "df['f1'] = df['f1'].fillna(df['f1'].min())\n",
    "df_var2 = df['f1'].var()\n",
    "\n",
    "# 소수점 둘째자리까지 출력\n",
    "print(round(df_var1 - df_var2, 2))\n",
    "\n",
    "# 정답 : 38.44\n",
    "\n",
    "\n",
    "\n",
    "\n",
    "# 추가 설명 판다스와 넘파이 기본값 비교\n",
    "\n",
    "import numpy as np\n",
    "print(\"numpy:\", np.var(df['f1']))\n",
    "print(\"pandas(ddof=0):\",df['f1'].var(ddof=0))\n",
    "\n",
    "print(\"pandas:\",df['f1'].var())\n",
    "print(\"numpy(ddof=1):\", np.var(df['f1'], ddof=1))"
   ]
  }
 ],
 "metadata": {
  "kernelspec": {
   "display_name": "Python 3",
   "language": "python",
   "name": "python3"
  },
  "language_info": {
   "codemirror_mode": {
    "name": "ipython",
    "version": 3
   },
   "file_extension": ".py",
   "mimetype": "text/x-python",
   "name": "python",
   "nbconvert_exporter": "python",
   "pygments_lexer": "ipython3",
   "version": "3.7.10"
  },
  "papermill": {
   "default_parameters": {},
   "duration": 10.270477,
   "end_time": "2022-11-27T00:13:19.944315",
   "environment_variables": {},
   "exception": null,
   "input_path": "__notebook__.ipynb",
   "output_path": "__notebook__.ipynb",
   "parameters": {},
   "start_time": "2022-11-27T00:13:09.673838",
   "version": "2.3.3"
  }
 },
 "nbformat": 4,
 "nbformat_minor": 5
}
