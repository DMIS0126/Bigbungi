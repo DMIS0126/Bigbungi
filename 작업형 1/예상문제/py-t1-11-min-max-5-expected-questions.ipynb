{
 "cells": [
  {
   "cell_type": "markdown",
   "id": "dc309daf",
   "metadata": {
    "_cell_guid": "c6643b2f-425e-4952-8106-726cb224bba7",
    "_uuid": "52d04c3b-6ee2-483b-bd96-b7dbe476dc2a",
    "execution": {
     "iopub.execute_input": "2022-11-26T00:25:37.017266Z",
     "iopub.status.busy": "2022-11-26T00:25:37.016064Z",
     "iopub.status.idle": "2022-11-26T00:25:37.032771Z",
     "shell.execute_reply": "2022-11-26T00:25:37.031370Z",
     "shell.execute_reply.started": "2022-11-26T00:25:37.017216Z"
    },
    "jupyter": {
     "outputs_hidden": false
    },
    "papermill": {
     "duration": 0.006443,
     "end_time": "2022-11-26T00:27:41.190137",
     "exception": false,
     "start_time": "2022-11-26T00:27:41.183694",
     "status": "completed"
    },
    "tags": []
   },
   "source": [
    "# min-max스케일링 기준 상하위 5% 구하기\n",
    "### 주어진 데이터에서 'f5'컬럼을 min-max 스케일 변환한 후, 상위 5%와 하위 5% 값의 합을 구하시오\n",
    "\n",
    " - 데이터셋 : basic1.csv\n",
    " - 오른쪽 상단 copy&edit 클릭 -> 예상문제 풀이 시작\n",
    " - File -> Editor Type -> Script\n",
    "\n"
   ]
  },
  {
   "cell_type": "markdown",
   "id": "52b39225",
   "metadata": {
    "papermill": {
     "duration": 0.004771,
     "end_time": "2022-11-26T00:27:41.202309",
     "exception": false,
     "start_time": "2022-11-26T00:27:41.197538",
     "status": "completed"
    },
    "tags": []
   },
   "source": [
    "## 🧑‍💻 내 풀이"
   ]
  },
  {
   "cell_type": "code",
   "execution_count": 1,
   "id": "7b9b00bd",
   "metadata": {
    "execution": {
     "iopub.execute_input": "2022-11-26T00:27:41.225851Z",
     "iopub.status.busy": "2022-11-26T00:27:41.225141Z",
     "iopub.status.idle": "2022-11-26T00:27:41.263395Z",
     "shell.execute_reply": "2022-11-26T00:27:41.262255Z"
    },
    "papermill": {
     "duration": 0.056261,
     "end_time": "2022-11-26T00:27:41.263811",
     "exception": false,
     "start_time": "2022-11-26T00:27:41.207550",
     "status": "completed"
    },
    "tags": []
   },
   "outputs": [
    {
     "name": "stdout",
     "output_type": "stream",
     "text": [
      "1.0248740983597389\n"
     ]
    }
   ],
   "source": [
    "import pandas as pd\n",
    "df = pd.read_csv('/kaggle/input/bigdatacertificationkr/basic1.csv')\n",
    "\n",
    "f5_max = df['f5'].max()\n",
    "f5_min = df['f5'].min()\n",
    "df['minmax'] = (df['f5'] - f5_min) / (f5_max - f5_min)\n",
    "\n",
    "top5per = df['minmax'].quantile(0.95)\n",
    "bottom5per = df['minmax'].quantile(0.05)\n",
    "print(top5per + bottom5per)"
   ]
  },
  {
   "cell_type": "markdown",
   "id": "fc6fea62",
   "metadata": {
    "papermill": {
     "duration": 0.005198,
     "end_time": "2022-11-26T00:27:41.275502",
     "exception": false,
     "start_time": "2022-11-26T00:27:41.270304",
     "status": "completed"
    },
    "tags": []
   },
   "source": [
    "## 💁 풀이"
   ]
  },
  {
   "cell_type": "code",
   "execution_count": 2,
   "id": "b769e759",
   "metadata": {
    "execution": {
     "iopub.execute_input": "2022-11-26T00:27:41.298779Z",
     "iopub.status.busy": "2022-11-26T00:27:41.297960Z",
     "iopub.status.idle": "2022-11-26T00:27:42.381141Z",
     "shell.execute_reply": "2022-11-26T00:27:42.381677Z",
     "shell.execute_reply.started": "2022-11-26T00:25:42.029830Z"
    },
    "papermill": {
     "duration": 1.09821,
     "end_time": "2022-11-26T00:27:42.381880",
     "exception": false,
     "start_time": "2022-11-26T00:27:41.283670",
     "status": "completed"
    },
    "tags": []
   },
   "outputs": [
    {
     "name": "stdout",
     "output_type": "stream",
     "text": [
      "     id   age city    f1  f2   f3    f4         f5\n",
      "0  id01   2.0   서울   NaN   0  NaN  ENFJ  91.297791\n",
      "1  id02   9.0   서울  70.0   1  NaN  ENFJ  60.339826\n",
      "2  id03  27.0   서울  61.0   1  NaN  ISTJ  17.252986\n",
      "3  id04  75.0   서울   NaN   2  NaN  INFP  52.667078\n",
      "4  id05  24.0   서울  85.0   2  NaN  ISFJ  29.269869\n",
      "id       0\n",
      "age      0\n",
      "city     0\n",
      "f1      31\n",
      "f2       0\n",
      "f3      95\n",
      "f4       0\n",
      "f5       0\n",
      "dtype: int64\n",
      "     id   age city    f1  f2   f3    f4         f5      f5_1      f5_2\n",
      "0  id01   2.0   서울   NaN   0  NaN  ENFJ  91.297791  0.919533  0.919533\n",
      "1  id02   9.0   서울  70.0   1  NaN  ENFJ  60.339826  0.570252  0.570252\n",
      "2  id03  27.0   서울  61.0   1  NaN  ISTJ  17.252986  0.084129  0.084129\n",
      "3  id04  75.0   서울   NaN   2  NaN  INFP  52.667078  0.483685  0.483685\n",
      "4  id05  24.0   서울  85.0   2  NaN  ISFJ  29.269869  0.219708  0.219708\n",
      "0.03670782406038746\n",
      "0.9881662742993513\n",
      "1.0248740983597389\n"
     ]
    }
   ],
   "source": [
    "# 라이브러리 및 데이터 불러오기\n",
    "import pandas as pd\n",
    "import numpy as np\n",
    "\n",
    "df = pd.read_csv('../input/bigdatacertificationkr/basic1.csv')\n",
    "\n",
    "\n",
    "# EDA\n",
    "print(df.head(5))\n",
    "print(df.isnull().sum())    #결측치 확인\n",
    "\n",
    "\n",
    "# min-max scale 방법1\n",
    "from sklearn.preprocessing import MinMaxScaler\n",
    "scaler = MinMaxScaler()\n",
    "df['f5_1'] = scaler.fit_transform(df[['f5']])\n",
    "\n",
    "# min-max scale 방법2\n",
    "df['f5_2'] = df['f5'].transform(lambda x: ((x - x.min()) / (x.max() - x.min())))\n",
    "\n",
    "\n",
    "# 방법1과 2 비교\n",
    "print(df.head())\n",
    "\n",
    "\n",
    "# 하위 5%, 상위 5% 값 구하기\n",
    "lower = df['f5_1'].quantile(0.05)\n",
    "print(lower)\n",
    "\n",
    "upper = df['f5_1'].quantile(0.95)\n",
    "print(upper)\n",
    "\n",
    "print(lower + upper)"
   ]
  },
  {
   "cell_type": "code",
   "execution_count": null,
   "id": "0f8ae6b2",
   "metadata": {
    "papermill": {
     "duration": 0.005907,
     "end_time": "2022-11-26T00:27:42.394702",
     "exception": false,
     "start_time": "2022-11-26T00:27:42.388795",
     "status": "completed"
    },
    "tags": []
   },
   "outputs": [],
   "source": []
  }
 ],
 "metadata": {
  "kernelspec": {
   "display_name": "Python 3",
   "language": "python",
   "name": "python3"
  },
  "language_info": {
   "codemirror_mode": {
    "name": "ipython",
    "version": 3
   },
   "file_extension": ".py",
   "mimetype": "text/x-python",
   "name": "python",
   "nbconvert_exporter": "python",
   "pygments_lexer": "ipython3",
   "version": "3.7.10"
  },
  "papermill": {
   "default_parameters": {},
   "duration": 11.894187,
   "end_time": "2022-11-26T00:27:43.113555",
   "environment_variables": {},
   "exception": null,
   "input_path": "__notebook__.ipynb",
   "output_path": "__notebook__.ipynb",
   "parameters": {},
   "start_time": "2022-11-26T00:27:31.219368",
   "version": "2.3.3"
  }
 },
 "nbformat": 4,
 "nbformat_minor": 5
}
