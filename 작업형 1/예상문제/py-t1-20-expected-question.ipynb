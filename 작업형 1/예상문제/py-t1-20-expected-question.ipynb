{
 "cells": [
  {
   "cell_type": "markdown",
   "id": "0eaad91d",
   "metadata": {
    "execution": {
     "iopub.execute_input": "2021-11-18T01:40:12.744485Z",
     "iopub.status.busy": "2021-11-18T01:40:12.743794Z",
     "iopub.status.idle": "2021-11-18T01:40:12.752699Z",
     "shell.execute_reply": "2021-11-18T01:40:12.751205Z",
     "shell.execute_reply.started": "2021-11-18T01:40:12.744442Z"
    },
    "papermill": {
     "duration": 0.008664,
     "end_time": "2022-11-27T02:04:59.847678",
     "exception": false,
     "start_time": "2022-11-27T02:04:59.839014",
     "status": "completed"
    },
    "tags": []
   },
   "source": [
    "## 고객과 잘 맞는 타입 추천 :)\n",
    "### basic1 데이터와 basic3 데이터를 'f4'값을 기준으로 병합하고, \n",
    "### 병합한 데이터에서 r2결측치를 제거한다음, 앞에서 부터 20개 데이터를 선택하고 'f2'컬럼 합을 구하시오\n",
    "\n",
    "- basic1.csv: 고객 데이터 \n",
    "- basic3.csv: 잘 어울리는 관계 데이터 (추천1:r1, 추천2:r2)"
   ]
  },
  {
   "cell_type": "markdown",
   "id": "916bbf0d",
   "metadata": {
    "papermill": {
     "duration": 0.005266,
     "end_time": "2022-11-27T02:04:59.858841",
     "exception": false,
     "start_time": "2022-11-27T02:04:59.853575",
     "status": "completed"
    },
    "tags": []
   },
   "source": [
    "## 🧑‍💻 내 풀이"
   ]
  },
  {
   "cell_type": "code",
   "execution_count": 1,
   "id": "eadecfcb",
   "metadata": {
    "execution": {
     "iopub.execute_input": "2022-11-27T02:04:59.877103Z",
     "iopub.status.busy": "2022-11-27T02:04:59.875257Z",
     "iopub.status.idle": "2022-11-27T02:04:59.933967Z",
     "shell.execute_reply": "2022-11-27T02:04:59.935459Z",
     "shell.execute_reply.started": "2022-11-27T02:03:32.433740Z"
    },
    "papermill": {
     "duration": 0.072137,
     "end_time": "2022-11-27T02:04:59.935973",
     "exception": false,
     "start_time": "2022-11-27T02:04:59.863836",
     "status": "completed"
    },
    "tags": []
   },
   "outputs": [
    {
     "name": "stdout",
     "output_type": "stream",
     "text": [
      "15\n"
     ]
    }
   ],
   "source": [
    "import pandas as pd\n",
    "df1 = pd.read_csv('/kaggle/input/bigdatacertificationkr/basic1.csv')\n",
    "df3 = pd.read_csv('/kaggle/input/bigdatacertificationkr/basic3.csv')\n",
    "\n",
    "df2 = pd.merge(df1, df3, on = 'f4', how = 'left').reset_index(drop = True)\n",
    "\n",
    "print(df2.dropna(subset = ['r2']).reset_index(drop = True).head(20)['f2'].sum())"
   ]
  },
  {
   "cell_type": "markdown",
   "id": "6b616be6",
   "metadata": {
    "papermill": {
     "duration": 0.004876,
     "end_time": "2022-11-27T02:04:59.947440",
     "exception": false,
     "start_time": "2022-11-27T02:04:59.942564",
     "status": "completed"
    },
    "tags": []
   },
   "source": [
    "## 💁 풀이"
   ]
  },
  {
   "cell_type": "code",
   "execution_count": 2,
   "id": "db8e2b03",
   "metadata": {
    "execution": {
     "iopub.execute_input": "2022-11-27T02:04:59.967574Z",
     "iopub.status.busy": "2022-11-27T02:04:59.966799Z",
     "iopub.status.idle": "2022-11-27T02:04:59.985584Z",
     "shell.execute_reply": "2022-11-27T02:04:59.986139Z",
     "shell.execute_reply.started": "2022-11-27T02:04:20.935306Z"
    },
    "papermill": {
     "duration": 0.031302,
     "end_time": "2022-11-27T02:04:59.986351",
     "exception": false,
     "start_time": "2022-11-27T02:04:59.955049",
     "status": "completed"
    },
    "tags": []
   },
   "outputs": [
    {
     "name": "stdout",
     "output_type": "stream",
     "text": [
      "(100, 10)\n",
      "(83, 10)\n",
      "15\n"
     ]
    }
   ],
   "source": [
    "# 라이브러리 및 데이터 로드\n",
    "import pandas as pd\n",
    "b1 = pd.read_csv(\"../input/bigdatacertificationkr/basic1.csv\")\n",
    "b3 = pd.read_csv(\"../input/bigdatacertificationkr/basic3.csv\")\n",
    "\n",
    "# b1.head()\n",
    "# b3.head()\n",
    "\n",
    "# 데이터 결합(b1을 기준으로 결합) \n",
    "df = pd.merge(left = b1 , right = b3, how = \"left\", on = \"f4\")\n",
    "# df.head()\n",
    "# df.tail()\n",
    "\n",
    "# 결측치 확인\n",
    "df.isnull().sum()\n",
    "\n",
    "# r2컬럼 결측치 제거\n",
    "print(df.shape)\n",
    "df = df.dropna(subset=['r2'])\n",
    "print(df.shape)\n",
    "\n",
    "# 인덱스 리셋\n",
    "df = df.reset_index()\n",
    "\n",
    "# 앞에서 부터 20개 데이터를 선택하고 'f2'컬럼 합\n",
    "print(df.iloc[:20]['f2'].sum())"
   ]
  },
  {
   "cell_type": "code",
   "execution_count": null,
   "id": "420c422a",
   "metadata": {
    "papermill": {
     "duration": 0.005193,
     "end_time": "2022-11-27T02:04:59.997096",
     "exception": false,
     "start_time": "2022-11-27T02:04:59.991903",
     "status": "completed"
    },
    "tags": []
   },
   "outputs": [],
   "source": []
  }
 ],
 "metadata": {
  "kernelspec": {
   "display_name": "Python 3",
   "language": "python",
   "name": "python3"
  },
  "language_info": {
   "codemirror_mode": {
    "name": "ipython",
    "version": 3
   },
   "file_extension": ".py",
   "mimetype": "text/x-python",
   "name": "python",
   "nbconvert_exporter": "python",
   "pygments_lexer": "ipython3",
   "version": "3.7.10"
  },
  "papermill": {
   "default_parameters": {},
   "duration": 9.844558,
   "end_time": "2022-11-27T02:05:00.612127",
   "environment_variables": {},
   "exception": null,
   "input_path": "__notebook__.ipynb",
   "output_path": "__notebook__.ipynb",
   "parameters": {},
   "start_time": "2022-11-27T02:04:50.767569",
   "version": "2.3.3"
  }
 },
 "nbformat": 4,
 "nbformat_minor": 5
}
