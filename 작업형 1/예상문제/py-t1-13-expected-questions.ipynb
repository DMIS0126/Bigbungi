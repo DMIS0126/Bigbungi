{
 "cells": [
  {
   "cell_type": "markdown",
   "id": "b73ee9b3",
   "metadata": {
    "_cell_guid": "8c022c3f-6dab-410a-a252-8f8aeb1d86a8",
    "_uuid": "c72dd277-663b-4647-9f98-bc9d22d1dc94",
    "jupyter": {
     "outputs_hidden": false
    },
    "papermill": {
     "duration": 0.005404,
     "end_time": "2022-11-26T23:41:55.214515",
     "exception": false,
     "start_time": "2022-11-26T23:41:55.209111",
     "status": "completed"
    },
    "tags": []
   },
   "source": [
    "# 상관관계 구하기\n",
    "### 주어진 데이터에서 상관관계를 구하고, quality와의 상관관계가 가장 큰 값과, 가장 작은 값을 구한 다음 더하시오!\n",
    "### 단, quality와 quality 상관관계 제외, 소수점 둘째 자리까지 출력\n",
    "\n",
    " - 데이터셋 : ../input/red-wine-quality-cortez-et-al-2009/winequality-red.csv\n",
    " - 오른쪽 상단 copy&edit 클릭 -> 예상문제 풀이 시작\n",
    " - 스크립트 방식 권장: File -> Editor Type -> Script"
   ]
  },
  {
   "cell_type": "markdown",
   "id": "cbed5ffc",
   "metadata": {
    "papermill": {
     "duration": 0.003889,
     "end_time": "2022-11-26T23:41:55.222813",
     "exception": false,
     "start_time": "2022-11-26T23:41:55.218924",
     "status": "completed"
    },
    "tags": []
   },
   "source": [
    "## 🧑‍💻 내 풀이"
   ]
  },
  {
   "cell_type": "code",
   "execution_count": 1,
   "id": "eb4f5fec",
   "metadata": {
    "execution": {
     "iopub.execute_input": "2022-11-26T23:41:55.244777Z",
     "iopub.status.busy": "2022-11-26T23:41:55.244005Z",
     "iopub.status.idle": "2022-11-26T23:41:55.282341Z",
     "shell.execute_reply": "2022-11-26T23:41:55.282922Z"
    },
    "papermill": {
     "duration": 0.056133,
     "end_time": "2022-11-26T23:41:55.283277",
     "exception": false,
     "start_time": "2022-11-26T23:41:55.227144",
     "status": "completed"
    },
    "tags": []
   },
   "outputs": [
    {
     "name": "stdout",
     "output_type": "stream",
     "text": [
      "0.49\n"
     ]
    }
   ],
   "source": [
    "import pandas as pd\n",
    "df = pd.read_csv('/kaggle/input/red-wine-quality-cortez-et-al-2009/winequality-red.csv')\n",
    "# print(df.head())\n",
    "df1 = df.corr()['quality']\n",
    "df1 = df1[:-1]\n",
    "\n",
    "df2 = pd.DataFrame(df1)\n",
    "df2.columns = ['corr']\n",
    "\n",
    "quality_corr_max = abs(df2['corr']).max()\n",
    "quality_corr_min = abs(df2['corr']).min()\n",
    "# print(df2)\n",
    "# print(quality_corr_max, quality_corr_min)\n",
    "# print(df2['corr'].values)\n",
    "\n",
    "if quality_corr_max in df2['corr'].values :\n",
    "    quality_corr_max = quality_corr_max\n",
    "else : \n",
    "    quality_corr_max = -quality_corr_max\n",
    "    \n",
    "if quality_corr_min in df2['corr'].values :\n",
    "    quality_corr_min = quality_corr_min\n",
    "else : \n",
    "    quality_corr_min = -quality_corr_min\n",
    "\n",
    "# print(quality_corr_max, quality_corr_min)\n",
    "print(round(quality_corr_max + quality_corr_min, 2))"
   ]
  },
  {
   "cell_type": "markdown",
   "id": "04af60f8",
   "metadata": {
    "papermill": {
     "duration": 0.004877,
     "end_time": "2022-11-26T23:41:55.293626",
     "exception": false,
     "start_time": "2022-11-26T23:41:55.288749",
     "status": "completed"
    },
    "tags": []
   },
   "source": [
    "## 💁 풀이"
   ]
  },
  {
   "cell_type": "code",
   "execution_count": 2,
   "id": "7f64e8cf",
   "metadata": {
    "execution": {
     "iopub.execute_input": "2022-11-26T23:41:55.315825Z",
     "iopub.status.busy": "2022-11-26T23:41:55.314038Z",
     "iopub.status.idle": "2022-11-26T23:41:55.339100Z",
     "shell.execute_reply": "2022-11-26T23:41:55.338425Z"
    },
    "papermill": {
     "duration": 0.040974,
     "end_time": "2022-11-26T23:41:55.339284",
     "exception": false,
     "start_time": "2022-11-26T23:41:55.298310",
     "status": "completed"
    },
    "tags": []
   },
   "outputs": [
    {
     "name": "stdout",
     "output_type": "stream",
     "text": [
      "fixed acidity           0.124052\n",
      "volatile acidity       -0.390558\n",
      "citric acid             0.226373\n",
      "residual sugar          0.013732\n",
      "chlorides              -0.128907\n",
      "free sulfur dioxide    -0.050656\n",
      "total sulfur dioxide   -0.185100\n",
      "density                -0.174919\n",
      "pH                     -0.057731\n",
      "sulphates               0.251397\n",
      "alcohol                 0.476166\n",
      "Name: quality, dtype: float64\n",
      "0.49\n"
     ]
    }
   ],
   "source": [
    "import pandas as pd\n",
    "import numpy as np\n",
    "\n",
    "# 데이터 불러오기\n",
    "df = pd.read_csv(\"../input/red-wine-quality-cortez-et-al-2009/winequality-red.csv\")\n",
    "#print(df.head())\n",
    "\n",
    "# 상관관계 구하기 \n",
    "df_corr = df.corr()\n",
    "df_corr = df_corr[:-1] # quailiy-quailiy 상관관계 제거\n",
    "print(df_corr['quality'])\n",
    "\n",
    "################# 풀이 수정 2022.6.21 ###################\n",
    "# @b0ngb0ng 님 코드 반영\n",
    "\n",
    "# 상관관계가 가장 큰 값과 가장 작은 값 (절대값으로 확인)\n",
    "max_corr=abs(df.corr()['quality'][:-1]).max()  #0.47\n",
    "min_corr=abs(df.corr()['quality'][:-1]).min()   #0.013\n",
    "\n",
    "if max_corr not in df.corr()[['quality']][:-1].values:\n",
    "    max_corr=-max_corr\n",
    "if min_corr not in df.corr()[['quality']][:-1].values:\n",
    "    min_corr=-min_corr\n",
    "    \n",
    "# 결과 출력\n",
    "ans=round(max_corr+min_corr,2)\n",
    "print(ans) \n",
    "# 0.49"
   ]
  }
 ],
 "metadata": {
  "kernelspec": {
   "display_name": "Python 3",
   "language": "python",
   "name": "python3"
  },
  "language_info": {
   "codemirror_mode": {
    "name": "ipython",
    "version": 3
   },
   "file_extension": ".py",
   "mimetype": "text/x-python",
   "name": "python",
   "nbconvert_exporter": "python",
   "pygments_lexer": "ipython3",
   "version": "3.7.10"
  },
  "papermill": {
   "default_parameters": {},
   "duration": 11.708133,
   "end_time": "2022-11-26T23:41:55.955467",
   "environment_variables": {},
   "exception": null,
   "input_path": "__notebook__.ipynb",
   "output_path": "__notebook__.ipynb",
   "parameters": {},
   "start_time": "2022-11-26T23:41:44.247334",
   "version": "2.3.3"
  }
 },
 "nbformat": 4,
 "nbformat_minor": 5
}
