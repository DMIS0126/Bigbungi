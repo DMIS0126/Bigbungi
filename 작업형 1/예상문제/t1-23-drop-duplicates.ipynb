{
 "cells": [
  {
   "cell_type": "markdown",
   "id": "7d31d50a",
   "metadata": {
    "papermill": {
     "duration": 0.006502,
     "end_time": "2022-11-29T22:58:13.582794",
     "exception": false,
     "start_time": "2022-11-29T22:58:13.576292",
     "status": "completed"
    },
    "tags": []
   },
   "source": [
    "## f1의 결측치를 채운 후 age 컬럼의 중복 제거 전과 후의 'f1' 중앙값 차이를 구하시오 \n",
    "### - 결측치는 f1의 데이터 중 내림차순 정렬 후 10번째 값으로 채움\n",
    "### - 중복 데이터 발생시 뒤에 나오는 데이터를 삭제함\n",
    "### - 최종 결과값은 절대값으로 출력\n",
    "\n",
    "- 데이터셋 : basic1.csv\n",
    "- 오른쪽 상단 copy&edit 클릭 -> 예상문제 풀이 시작"
   ]
  },
  {
   "cell_type": "markdown",
   "id": "6f410ffc",
   "metadata": {
    "papermill": {
     "duration": 0.005035,
     "end_time": "2022-11-29T22:58:13.594621",
     "exception": false,
     "start_time": "2022-11-29T22:58:13.589586",
     "status": "completed"
    },
    "tags": []
   },
   "source": [
    "## 🧑‍💻 내 풀이"
   ]
  },
  {
   "cell_type": "code",
   "execution_count": 1,
   "id": "6845c855",
   "metadata": {
    "execution": {
     "iopub.execute_input": "2022-11-29T22:58:13.618000Z",
     "iopub.status.busy": "2022-11-29T22:58:13.617059Z",
     "iopub.status.idle": "2022-11-29T22:58:13.649816Z",
     "shell.execute_reply": "2022-11-29T22:58:13.650455Z",
     "shell.execute_reply.started": "2022-11-29T22:56:32.255199Z"
    },
    "papermill": {
     "duration": 0.050981,
     "end_time": "2022-11-29T22:58:13.650772",
     "exception": false,
     "start_time": "2022-11-29T22:58:13.599791",
     "status": "completed"
    },
    "tags": []
   },
   "outputs": [
    {
     "name": "stdout",
     "output_type": "stream",
     "text": [
      "0.5\n"
     ]
    }
   ],
   "source": [
    "import pandas as pd\n",
    "df = pd.read_csv('/kaggle/input/bigdatacertificationkr/basic1.csv')\n",
    "# print(df.shape)\n",
    "df1 = df.sort_values('f1', ascending = False)\n",
    "# print(df1.head(10))\n",
    "f1_10 = df1.head(10)['f1'].min()\n",
    "# print(f1_10)\n",
    "df['f1'].fillna(f1_10, inplace = True)\n",
    "\n",
    "f1_med1 = df['f1'].median()\n",
    "\n",
    "# print(dir(pd.DataFrame))\n",
    "df.drop_duplicates('age', inplace = True)\n",
    "# print(df.info())\n",
    "\n",
    "f1_med2 = df['f1'].median()\n",
    "\n",
    "# print(f1_med1, f1_med2)\n",
    "print(abs(f1_med1 - f1_med2))"
   ]
  },
  {
   "cell_type": "markdown",
   "id": "7718dc80",
   "metadata": {
    "papermill": {
     "duration": 0.005158,
     "end_time": "2022-11-29T22:58:13.661762",
     "exception": false,
     "start_time": "2022-11-29T22:58:13.656604",
     "status": "completed"
    },
    "tags": []
   },
   "source": [
    "## 💁 풀이"
   ]
  },
  {
   "cell_type": "code",
   "execution_count": 2,
   "id": "3d255c43",
   "metadata": {
    "_cell_guid": "b1076dfc-b9ad-4769-8c92-a6c4dae69d19",
    "_uuid": "8f2839f25d086af736a60e9eeb907d3b93b6e0e5",
    "execution": {
     "iopub.execute_input": "2022-11-29T22:58:13.677820Z",
     "iopub.status.busy": "2022-11-29T22:58:13.677169Z",
     "iopub.status.idle": "2022-11-29T22:58:13.692317Z",
     "shell.execute_reply": "2022-11-29T22:58:13.692843Z",
     "shell.execute_reply.started": "2022-11-29T22:53:01.075877Z"
    },
    "papermill": {
     "duration": 0.02365,
     "end_time": "2022-11-29T22:58:13.693046",
     "exception": false,
     "start_time": "2022-11-29T22:58:13.669396",
     "status": "completed"
    },
    "tags": []
   },
   "outputs": [
    {
     "name": "stdout",
     "output_type": "stream",
     "text": [
      "88.0\n",
      "(100, 8)\n",
      "(71, 8)\n",
      "77.5 77.0\n",
      "0.5\n"
     ]
    }
   ],
   "source": [
    "import pandas as pd\n",
    "df = pd.read_csv('../input/bigdatacertificationkr/basic1.csv')\n",
    "df.tail()\n",
    "\n",
    "# f1데이터에서 10번째 큰 값으로 결측치를 채움\n",
    "top10 = df['f1'].sort_values(ascending=False).iloc[9]\n",
    "print(top10)\n",
    "df['f1'] = df['f1'].fillna(top10)\n",
    "\n",
    "# 중복 제거 전 중앙 값\n",
    "result1 = df['f1'].median()\n",
    "result1\n",
    "\n",
    "# 중복 제거\n",
    "print(df.shape)\n",
    "df = df.drop_duplicates(subset=['age'])\n",
    "print(df.shape)\n",
    "\n",
    "# 중복 제거 후 중앙 값\n",
    "result2 = df['f1'].median()\n",
    "result2\n",
    "\n",
    "# 차이 (절대값)\n",
    "print(result1, result2)\n",
    "print(abs(result1 - result2))"
   ]
  },
  {
   "cell_type": "markdown",
   "id": "56632fd2",
   "metadata": {
    "papermill": {
     "duration": 0.005583,
     "end_time": "2022-11-29T22:58:13.704663",
     "exception": false,
     "start_time": "2022-11-29T22:58:13.699080",
     "status": "completed"
    },
    "tags": []
   },
   "source": [
    "## ⚠️ 주의할 점\n",
    "* 10번째 큰 값을 찾는다고 기존 df를 sort_values함수를 이용하면 데이터들의 순서가 바뀌어 원하는 결과를 얻지 못할 수 있다.\n",
    "    * 다른 df(df1)를 만들어 10번째 큰 값을 찾고 fillna하면 될 것 같다."
   ]
  },
  {
   "cell_type": "code",
   "execution_count": null,
   "id": "9ef42be8",
   "metadata": {
    "papermill": {
     "duration": 0.005484,
     "end_time": "2022-11-29T22:58:13.715947",
     "exception": false,
     "start_time": "2022-11-29T22:58:13.710463",
     "status": "completed"
    },
    "tags": []
   },
   "outputs": [],
   "source": []
  }
 ],
 "metadata": {
  "kernelspec": {
   "display_name": "Python 3",
   "language": "python",
   "name": "python3"
  },
  "language_info": {
   "codemirror_mode": {
    "name": "ipython",
    "version": 3
   },
   "file_extension": ".py",
   "mimetype": "text/x-python",
   "name": "python",
   "nbconvert_exporter": "python",
   "pygments_lexer": "ipython3",
   "version": "3.7.10"
  },
  "papermill": {
   "default_parameters": {},
   "duration": 9.45257,
   "end_time": "2022-11-29T22:58:14.331847",
   "environment_variables": {},
   "exception": null,
   "input_path": "__notebook__.ipynb",
   "output_path": "__notebook__.ipynb",
   "parameters": {},
   "start_time": "2022-11-29T22:58:04.879277",
   "version": "2.3.3"
  }
 },
 "nbformat": 4,
 "nbformat_minor": 5
}
