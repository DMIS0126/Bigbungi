{
 "cells": [
  {
   "cell_type": "markdown",
   "id": "523a4ee8",
   "metadata": {
    "papermill": {
     "duration": 0.010829,
     "end_time": "2022-11-25T23:49:51.943536",
     "exception": false,
     "start_time": "2022-11-25T23:49:51.932707",
     "status": "completed"
    },
    "tags": []
   },
   "source": [
    "## 결측치 제거 및 그룹 합계에서 조건에 맞는 값 찾아 출력\n",
    "- 주어진 데이터 중 basic1.csv에서 'f1'컬럼 결측 데이터를 제거하고, 'city'와 'f2'을 기준으로 묶어 합계를 구하고, 'city가 경기이면서 f2가 0'인 조건에 만족하는 f1 값을 구하시오\n",
    "- 데이터셋 : basic1.csv\n",
    "- 오른쪽 상단 copy&edit 클릭 -> 예상문제 풀이 시작"
   ]
  },
  {
   "cell_type": "markdown",
   "id": "763c4c38",
   "metadata": {
    "papermill": {
     "duration": 0.008969,
     "end_time": "2022-11-25T23:49:51.963314",
     "exception": false,
     "start_time": "2022-11-25T23:49:51.954345",
     "status": "completed"
    },
    "tags": []
   },
   "source": [
    "## 🧑‍💻 내 풀이"
   ]
  },
  {
   "cell_type": "code",
   "execution_count": 1,
   "id": "064c19dc",
   "metadata": {
    "execution": {
     "iopub.execute_input": "2022-11-25T23:49:51.993423Z",
     "iopub.status.busy": "2022-11-25T23:49:51.992673Z",
     "iopub.status.idle": "2022-11-25T23:49:52.031819Z",
     "shell.execute_reply": "2022-11-25T23:49:52.030939Z",
     "shell.execute_reply.started": "2022-11-25T23:48:54.494405Z"
    },
    "papermill": {
     "duration": 0.059687,
     "end_time": "2022-11-25T23:49:52.032032",
     "exception": false,
     "start_time": "2022-11-25T23:49:51.972345",
     "status": "completed"
    },
    "tags": []
   },
   "outputs": [
    {
     "name": "stdout",
     "output_type": "stream",
     "text": [
      "833.0\n"
     ]
    }
   ],
   "source": [
    "import pandas as pd\n",
    "df = pd.read_csv('/kaggle/input/bigdatacertificationkr/basic1.csv')\n",
    "df.head()\n",
    "df['f1'] = df['f1'].dropna(axis = 0) \n",
    "# dropna(axis =0 -> 행 지우기 | axis = 1 -> 열 지우기)\n",
    "# print(df.info())\n",
    "df1 = df.groupby(['city', 'f2']).sum()\n",
    "print(df1[:1]['f1'][0])"
   ]
  },
  {
   "cell_type": "markdown",
   "id": "8ebe3309",
   "metadata": {
    "papermill": {
     "duration": 0.008762,
     "end_time": "2022-11-25T23:49:52.050327",
     "exception": false,
     "start_time": "2022-11-25T23:49:52.041565",
     "status": "completed"
    },
    "tags": []
   },
   "source": [
    "## 💡 Hint\n",
    "- 그룹 합계 "
   ]
  },
  {
   "cell_type": "code",
   "execution_count": 2,
   "id": "41e6b60d",
   "metadata": {
    "execution": {
     "iopub.execute_input": "2022-11-25T23:49:52.076241Z",
     "iopub.status.busy": "2022-11-25T23:49:52.075251Z",
     "iopub.status.idle": "2022-11-25T23:49:52.086847Z",
     "shell.execute_reply": "2022-11-25T23:49:52.087420Z",
     "shell.execute_reply.started": "2021-10-14T01:10:52.706778Z"
    },
    "papermill": {
     "duration": 0.028645,
     "end_time": "2022-11-25T23:49:52.087608",
     "exception": false,
     "start_time": "2022-11-25T23:49:52.058963",
     "status": "completed"
    },
    "tags": []
   },
   "outputs": [
    {
     "data": {
      "text/html": [
       "<div>\n",
       "<style scoped>\n",
       "    .dataframe tbody tr th:only-of-type {\n",
       "        vertical-align: middle;\n",
       "    }\n",
       "\n",
       "    .dataframe tbody tr th {\n",
       "        vertical-align: top;\n",
       "    }\n",
       "\n",
       "    .dataframe thead th {\n",
       "        text-align: right;\n",
       "    }\n",
       "</style>\n",
       "<table border=\"1\" class=\"dataframe\">\n",
       "  <thead>\n",
       "    <tr style=\"text-align: right;\">\n",
       "      <th></th>\n",
       "      <th>User</th>\n",
       "      <th>Max Speed</th>\n",
       "    </tr>\n",
       "  </thead>\n",
       "  <tbody>\n",
       "    <tr>\n",
       "      <th>0</th>\n",
       "      <td>네모</td>\n",
       "      <td>120.0</td>\n",
       "    </tr>\n",
       "    <tr>\n",
       "      <th>1</th>\n",
       "      <td>네모</td>\n",
       "      <td>240.0</td>\n",
       "    </tr>\n",
       "    <tr>\n",
       "      <th>2</th>\n",
       "      <td>세모</td>\n",
       "      <td>57.0</td>\n",
       "    </tr>\n",
       "    <tr>\n",
       "      <th>3</th>\n",
       "      <td>세모</td>\n",
       "      <td>41.0</td>\n",
       "    </tr>\n",
       "  </tbody>\n",
       "</table>\n",
       "</div>"
      ],
      "text/plain": [
       "  User  Max Speed\n",
       "0   네모      120.0\n",
       "1   네모      240.0\n",
       "2   세모       57.0\n",
       "3   세모       41.0"
      ]
     },
     "execution_count": 2,
     "metadata": {},
     "output_type": "execute_result"
    }
   ],
   "source": [
    "import pandas as pd\n",
    "df = pd.DataFrame({'User': ['네모', '네모',\n",
    "                              '세모', '세모'],\n",
    "                   'Max Speed': [120., 240., 57., 41.]})\n",
    "df"
   ]
  },
  {
   "cell_type": "code",
   "execution_count": 3,
   "id": "0b4a372b",
   "metadata": {
    "execution": {
     "iopub.execute_input": "2022-11-25T23:49:52.112662Z",
     "iopub.status.busy": "2022-11-25T23:49:52.111711Z",
     "iopub.status.idle": "2022-11-25T23:49:52.125177Z",
     "shell.execute_reply": "2022-11-25T23:49:52.125870Z",
     "shell.execute_reply.started": "2021-10-14T01:10:52.728815Z"
    },
    "papermill": {
     "duration": 0.029242,
     "end_time": "2022-11-25T23:49:52.126061",
     "exception": false,
     "start_time": "2022-11-25T23:49:52.096819",
     "status": "completed"
    },
    "tags": []
   },
   "outputs": [
    {
     "data": {
      "text/html": [
       "<div>\n",
       "<style scoped>\n",
       "    .dataframe tbody tr th:only-of-type {\n",
       "        vertical-align: middle;\n",
       "    }\n",
       "\n",
       "    .dataframe tbody tr th {\n",
       "        vertical-align: top;\n",
       "    }\n",
       "\n",
       "    .dataframe thead th {\n",
       "        text-align: right;\n",
       "    }\n",
       "</style>\n",
       "<table border=\"1\" class=\"dataframe\">\n",
       "  <thead>\n",
       "    <tr style=\"text-align: right;\">\n",
       "      <th></th>\n",
       "      <th>Max Speed</th>\n",
       "    </tr>\n",
       "    <tr>\n",
       "      <th>User</th>\n",
       "      <th></th>\n",
       "    </tr>\n",
       "  </thead>\n",
       "  <tbody>\n",
       "    <tr>\n",
       "      <th>네모</th>\n",
       "      <td>180.0</td>\n",
       "    </tr>\n",
       "    <tr>\n",
       "      <th>세모</th>\n",
       "      <td>49.0</td>\n",
       "    </tr>\n",
       "  </tbody>\n",
       "</table>\n",
       "</div>"
      ],
      "text/plain": [
       "      Max Speed\n",
       "User           \n",
       "네모        180.0\n",
       "세모         49.0"
      ]
     },
     "execution_count": 3,
     "metadata": {},
     "output_type": "execute_result"
    }
   ],
   "source": [
    "df.groupby(['User']).mean()"
   ]
  },
  {
   "cell_type": "markdown",
   "id": "e4791e10",
   "metadata": {
    "papermill": {
     "duration": 0.010692,
     "end_time": "2022-11-25T23:49:52.147749",
     "exception": false,
     "start_time": "2022-11-25T23:49:52.137057",
     "status": "completed"
    },
    "tags": []
   },
   "source": [
    "## 💁 풀이"
   ]
  },
  {
   "cell_type": "code",
   "execution_count": 4,
   "id": "8b2e08d7",
   "metadata": {
    "execution": {
     "iopub.execute_input": "2022-11-25T23:49:52.170929Z",
     "iopub.status.busy": "2022-11-25T23:49:52.170218Z",
     "iopub.status.idle": "2022-11-25T23:49:52.195397Z",
     "shell.execute_reply": "2022-11-25T23:49:52.194822Z",
     "shell.execute_reply.started": "2022-11-25T23:47:02.658577Z"
    },
    "papermill": {
     "duration": 0.037952,
     "end_time": "2022-11-25T23:49:52.195560",
     "exception": false,
     "start_time": "2022-11-25T23:49:52.157608",
     "status": "completed"
    },
    "tags": []
   },
   "outputs": [
    {
     "data": {
      "text/html": [
       "<div>\n",
       "<style scoped>\n",
       "    .dataframe tbody tr th:only-of-type {\n",
       "        vertical-align: middle;\n",
       "    }\n",
       "\n",
       "    .dataframe tbody tr th {\n",
       "        vertical-align: top;\n",
       "    }\n",
       "\n",
       "    .dataframe thead th {\n",
       "        text-align: right;\n",
       "    }\n",
       "</style>\n",
       "<table border=\"1\" class=\"dataframe\">\n",
       "  <thead>\n",
       "    <tr style=\"text-align: right;\">\n",
       "      <th></th>\n",
       "      <th>id</th>\n",
       "      <th>age</th>\n",
       "      <th>city</th>\n",
       "      <th>f1</th>\n",
       "      <th>f2</th>\n",
       "      <th>f3</th>\n",
       "      <th>f4</th>\n",
       "      <th>f5</th>\n",
       "    </tr>\n",
       "  </thead>\n",
       "  <tbody>\n",
       "    <tr>\n",
       "      <th>0</th>\n",
       "      <td>id01</td>\n",
       "      <td>2.0</td>\n",
       "      <td>서울</td>\n",
       "      <td>NaN</td>\n",
       "      <td>0</td>\n",
       "      <td>NaN</td>\n",
       "      <td>ENFJ</td>\n",
       "      <td>91.297791</td>\n",
       "    </tr>\n",
       "    <tr>\n",
       "      <th>1</th>\n",
       "      <td>id02</td>\n",
       "      <td>9.0</td>\n",
       "      <td>서울</td>\n",
       "      <td>70.0</td>\n",
       "      <td>1</td>\n",
       "      <td>NaN</td>\n",
       "      <td>ENFJ</td>\n",
       "      <td>60.339826</td>\n",
       "    </tr>\n",
       "    <tr>\n",
       "      <th>2</th>\n",
       "      <td>id03</td>\n",
       "      <td>27.0</td>\n",
       "      <td>서울</td>\n",
       "      <td>61.0</td>\n",
       "      <td>1</td>\n",
       "      <td>NaN</td>\n",
       "      <td>ISTJ</td>\n",
       "      <td>17.252986</td>\n",
       "    </tr>\n",
       "    <tr>\n",
       "      <th>3</th>\n",
       "      <td>id04</td>\n",
       "      <td>75.0</td>\n",
       "      <td>서울</td>\n",
       "      <td>NaN</td>\n",
       "      <td>2</td>\n",
       "      <td>NaN</td>\n",
       "      <td>INFP</td>\n",
       "      <td>52.667078</td>\n",
       "    </tr>\n",
       "    <tr>\n",
       "      <th>4</th>\n",
       "      <td>id05</td>\n",
       "      <td>24.0</td>\n",
       "      <td>서울</td>\n",
       "      <td>85.0</td>\n",
       "      <td>2</td>\n",
       "      <td>NaN</td>\n",
       "      <td>ISFJ</td>\n",
       "      <td>29.269869</td>\n",
       "    </tr>\n",
       "  </tbody>\n",
       "</table>\n",
       "</div>"
      ],
      "text/plain": [
       "     id   age city    f1  f2   f3    f4         f5\n",
       "0  id01   2.0   서울   NaN   0  NaN  ENFJ  91.297791\n",
       "1  id02   9.0   서울  70.0   1  NaN  ENFJ  60.339826\n",
       "2  id03  27.0   서울  61.0   1  NaN  ISTJ  17.252986\n",
       "3  id04  75.0   서울   NaN   2  NaN  INFP  52.667078\n",
       "4  id05  24.0   서울  85.0   2  NaN  ISFJ  29.269869"
      ]
     },
     "execution_count": 4,
     "metadata": {},
     "output_type": "execute_result"
    }
   ],
   "source": [
    "# 라이브러리 및 데이터 불러오기\n",
    "import pandas as pd\n",
    "import numpy as np\n",
    "\n",
    "df = pd.read_csv('../input/bigdatacertificationkr/basic1.csv')\n",
    "df.head()"
   ]
  },
  {
   "cell_type": "code",
   "execution_count": 5,
   "id": "432a7aaa",
   "metadata": {
    "execution": {
     "iopub.execute_input": "2022-11-25T23:49:52.221756Z",
     "iopub.status.busy": "2022-11-25T23:49:52.220948Z",
     "iopub.status.idle": "2022-11-25T23:49:52.223695Z",
     "shell.execute_reply": "2022-11-25T23:49:52.223145Z",
     "shell.execute_reply.started": "2022-11-25T23:47:07.102107Z"
    },
    "papermill": {
     "duration": 0.017998,
     "end_time": "2022-11-25T23:49:52.223858",
     "exception": false,
     "start_time": "2022-11-25T23:49:52.205860",
     "status": "completed"
    },
    "tags": []
   },
   "outputs": [],
   "source": [
    "# f1컬럼 결측치 제거\n",
    "df = df[~df['f1'].isnull()]"
   ]
  },
  {
   "cell_type": "code",
   "execution_count": 6,
   "id": "961ad5f4",
   "metadata": {
    "execution": {
     "iopub.execute_input": "2022-11-25T23:49:52.247877Z",
     "iopub.status.busy": "2022-11-25T23:49:52.247172Z",
     "iopub.status.idle": "2022-11-25T23:49:52.264495Z",
     "shell.execute_reply": "2022-11-25T23:49:52.265153Z",
     "shell.execute_reply.started": "2022-11-25T23:47:11.108448Z"
    },
    "papermill": {
     "duration": 0.031011,
     "end_time": "2022-11-25T23:49:52.265332",
     "exception": false,
     "start_time": "2022-11-25T23:49:52.234321",
     "status": "completed"
    },
    "tags": []
   },
   "outputs": [
    {
     "data": {
      "text/html": [
       "<div>\n",
       "<style scoped>\n",
       "    .dataframe tbody tr th:only-of-type {\n",
       "        vertical-align: middle;\n",
       "    }\n",
       "\n",
       "    .dataframe tbody tr th {\n",
       "        vertical-align: top;\n",
       "    }\n",
       "\n",
       "    .dataframe thead th {\n",
       "        text-align: right;\n",
       "    }\n",
       "</style>\n",
       "<table border=\"1\" class=\"dataframe\">\n",
       "  <thead>\n",
       "    <tr style=\"text-align: right;\">\n",
       "      <th></th>\n",
       "      <th></th>\n",
       "      <th>age</th>\n",
       "      <th>f1</th>\n",
       "      <th>f5</th>\n",
       "    </tr>\n",
       "    <tr>\n",
       "      <th>city</th>\n",
       "      <th>f2</th>\n",
       "      <th></th>\n",
       "      <th></th>\n",
       "      <th></th>\n",
       "    </tr>\n",
       "  </thead>\n",
       "  <tbody>\n",
       "    <tr>\n",
       "      <th rowspan=\"3\" valign=\"top\">경기</th>\n",
       "      <th>0</th>\n",
       "      <td>720.4</td>\n",
       "      <td>833.0</td>\n",
       "      <td>943.944823</td>\n",
       "    </tr>\n",
       "    <tr>\n",
       "      <th>1</th>\n",
       "      <td>696.0</td>\n",
       "      <td>670.0</td>\n",
       "      <td>657.241212</td>\n",
       "    </tr>\n",
       "    <tr>\n",
       "      <th>2</th>\n",
       "      <td>239.0</td>\n",
       "      <td>311.0</td>\n",
       "      <td>362.300060</td>\n",
       "    </tr>\n",
       "    <tr>\n",
       "      <th rowspan=\"3\" valign=\"top\">대구</th>\n",
       "      <th>0</th>\n",
       "      <td>387.0</td>\n",
       "      <td>527.0</td>\n",
       "      <td>183.199568</td>\n",
       "    </tr>\n",
       "    <tr>\n",
       "      <th>1</th>\n",
       "      <td>217.6</td>\n",
       "      <td>235.0</td>\n",
       "      <td>241.333824</td>\n",
       "    </tr>\n",
       "    <tr>\n",
       "      <th>2</th>\n",
       "      <td>140.0</td>\n",
       "      <td>211.0</td>\n",
       "      <td>79.667919</td>\n",
       "    </tr>\n",
       "    <tr>\n",
       "      <th rowspan=\"3\" valign=\"top\">부산</th>\n",
       "      <th>0</th>\n",
       "      <td>331.0</td>\n",
       "      <td>389.0</td>\n",
       "      <td>284.371097</td>\n",
       "    </tr>\n",
       "    <tr>\n",
       "      <th>1</th>\n",
       "      <td>188.7</td>\n",
       "      <td>315.0</td>\n",
       "      <td>299.270973</td>\n",
       "    </tr>\n",
       "    <tr>\n",
       "      <th>2</th>\n",
       "      <td>-13.5</td>\n",
       "      <td>47.0</td>\n",
       "      <td>67.886373</td>\n",
       "    </tr>\n",
       "    <tr>\n",
       "      <th rowspan=\"3\" valign=\"top\">서울</th>\n",
       "      <th>0</th>\n",
       "      <td>145.0</td>\n",
       "      <td>278.0</td>\n",
       "      <td>218.528577</td>\n",
       "    </tr>\n",
       "    <tr>\n",
       "      <th>1</th>\n",
       "      <td>315.3</td>\n",
       "      <td>534.0</td>\n",
       "      <td>438.485010</td>\n",
       "    </tr>\n",
       "    <tr>\n",
       "      <th>2</th>\n",
       "      <td>68.3</td>\n",
       "      <td>207.0</td>\n",
       "      <td>126.661135</td>\n",
       "    </tr>\n",
       "  </tbody>\n",
       "</table>\n",
       "</div>"
      ],
      "text/plain": [
       "           age     f1          f5\n",
       "city f2                          \n",
       "경기   0   720.4  833.0  943.944823\n",
       "     1   696.0  670.0  657.241212\n",
       "     2   239.0  311.0  362.300060\n",
       "대구   0   387.0  527.0  183.199568\n",
       "     1   217.6  235.0  241.333824\n",
       "     2   140.0  211.0   79.667919\n",
       "부산   0   331.0  389.0  284.371097\n",
       "     1   188.7  315.0  299.270973\n",
       "     2   -13.5   47.0   67.886373\n",
       "서울   0   145.0  278.0  218.528577\n",
       "     1   315.3  534.0  438.485010\n",
       "     2    68.3  207.0  126.661135"
      ]
     },
     "execution_count": 6,
     "metadata": {},
     "output_type": "execute_result"
    }
   ],
   "source": [
    "# 그룹 합계 계산\n",
    "df2 = df.groupby(['city','f2']).sum()\n",
    "df2"
   ]
  },
  {
   "cell_type": "code",
   "execution_count": 7,
   "id": "a0dd2cd0",
   "metadata": {
    "execution": {
     "iopub.execute_input": "2022-11-25T23:49:52.289474Z",
     "iopub.status.busy": "2022-11-25T23:49:52.288818Z",
     "iopub.status.idle": "2022-11-25T23:49:52.294730Z",
     "shell.execute_reply": "2022-11-25T23:49:52.294174Z",
     "shell.execute_reply.started": "2022-11-25T23:47:21.110057Z"
    },
    "papermill": {
     "duration": 0.018892,
     "end_time": "2022-11-25T23:49:52.294894",
     "exception": false,
     "start_time": "2022-11-25T23:49:52.276002",
     "status": "completed"
    },
    "tags": []
   },
   "outputs": [
    {
     "name": "stdout",
     "output_type": "stream",
     "text": [
      "833.0\n"
     ]
    }
   ],
   "source": [
    "# 조건에 맞는 값 출력\n",
    "print(df2.iloc[0]['f1'])"
   ]
  }
 ],
 "metadata": {
  "kernelspec": {
   "display_name": "Python 3",
   "language": "python",
   "name": "python3"
  },
  "language_info": {
   "codemirror_mode": {
    "name": "ipython",
    "version": 3
   },
   "file_extension": ".py",
   "mimetype": "text/x-python",
   "name": "python",
   "nbconvert_exporter": "python",
   "pygments_lexer": "ipython3",
   "version": "3.7.10"
  },
  "papermill": {
   "default_parameters": {},
   "duration": 8.660616,
   "end_time": "2022-11-25T23:49:52.915391",
   "environment_variables": {},
   "exception": null,
   "input_path": "__notebook__.ipynb",
   "output_path": "__notebook__.ipynb",
   "parameters": {},
   "start_time": "2022-11-25T23:49:44.254775",
   "version": "2.3.3"
  }
 },
 "nbformat": 4,
 "nbformat_minor": 5
}
