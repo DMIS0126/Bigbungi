{
 "cells": [
  {
   "cell_type": "markdown",
   "id": "8ba3d133",
   "metadata": {
    "papermill": {
     "duration": 0.009894,
     "end_time": "2022-11-25T02:17:01.708188",
     "exception": false,
     "start_time": "2022-11-25T02:17:01.698294",
     "status": "completed"
    },
    "tags": []
   },
   "source": [
    "## 이상치를 찾아라(소수점 나이)\n",
    "### 주어진 데이터에서 이상치(소수점 나이)를 찾고 올림, 내림, 버림(절사)했을때 3가지 모두 이상치 'age' 평균을 구한 다음 모두 더하여 출력하시오\n",
    "\n",
    "- 데이터셋 : basic1.csv\n",
    "- 오른쪽 상단 copy&edit 클릭 -> 예상문제 풀이 시작\n",
    "- 강의 영상 : https://youtu.be/c3Fr9G-ZYdw"
   ]
  },
  {
   "cell_type": "markdown",
   "id": "36a29ccb",
   "metadata": {
    "papermill": {
     "duration": 0.007395,
     "end_time": "2022-11-25T02:17:01.724146",
     "exception": false,
     "start_time": "2022-11-25T02:17:01.716751",
     "status": "completed"
    },
    "tags": []
   },
   "source": [
    "## 🧑‍💻 내 풀이"
   ]
  },
  {
   "cell_type": "code",
   "execution_count": 1,
   "id": "00689626",
   "metadata": {
    "execution": {
     "iopub.execute_input": "2022-11-25T02:17:01.755985Z",
     "iopub.status.busy": "2022-11-25T02:17:01.755245Z",
     "iopub.status.idle": "2022-11-25T02:17:01.793068Z",
     "shell.execute_reply": "2022-11-25T02:17:01.793688Z",
     "shell.execute_reply.started": "2022-11-25T02:16:43.354497Z"
    },
    "papermill": {
     "duration": 0.062293,
     "end_time": "2022-11-25T02:17:01.794031",
     "exception": false,
     "start_time": "2022-11-25T02:17:01.731738",
     "status": "completed"
    },
    "tags": []
   },
   "outputs": [
    {
     "name": "stdout",
     "output_type": "stream",
     "text": [
      "69.5\n"
     ]
    }
   ],
   "source": [
    "# 라이브러리 및 데이터 불러오기\n",
    "import pandas as pd\n",
    "df = pd.read_csv('/kaggle/input/bigdatacertificationkr/basic1.csv')\n",
    "# df.head(5)\n",
    "\n",
    "df['intage'] = df['age'].astype('int')\n",
    "df['test'] = df['age'] - df['intage']\n",
    "# df['test'].unique()\n",
    "df1 = df[df['test'] != 0]\n",
    "\n",
    "import numpy as np\n",
    "age_ceil_mean = np.ceil(df1['age']).mean()\n",
    "age_floor_mean = np.floor(df1['age']).mean()\n",
    "age_int_mean = np.trunc(df1['age']).mean()\n",
    "# print(age_ceil_mean, age_floor_mean, age_int_mean)\n",
    "print(age_ceil_mean + age_floor_mean + age_int_mean)"
   ]
  },
  {
   "cell_type": "markdown",
   "id": "07f0d022",
   "metadata": {
    "papermill": {
     "duration": 0.007829,
     "end_time": "2022-11-25T02:17:01.810334",
     "exception": false,
     "start_time": "2022-11-25T02:17:01.802505",
     "status": "completed"
    },
    "tags": []
   },
   "source": [
    "## 💡 Hint\n",
    "- import numpy as np\n",
    "- 올림: np.ceil()\n",
    "- 내림: np.floor()\n",
    "- 버림: np.trunc()"
   ]
  },
  {
   "cell_type": "markdown",
   "id": "3f718297",
   "metadata": {
    "papermill": {
     "duration": 0.007393,
     "end_time": "2022-11-25T02:17:01.825518",
     "exception": false,
     "start_time": "2022-11-25T02:17:01.818125",
     "status": "completed"
    },
    "tags": []
   },
   "source": [
    "### 쉬어가기 : 내림과 버림의 차이는??\n",
    "- 양수에서는 같지만 음수에서는 -5.5에서 내림을 하면 -6, 버림을하면 -5가 된다."
   ]
  },
  {
   "cell_type": "markdown",
   "id": "98ed2ef4",
   "metadata": {
    "papermill": {
     "duration": 0.007463,
     "end_time": "2022-11-25T02:17:01.840734",
     "exception": false,
     "start_time": "2022-11-25T02:17:01.833271",
     "status": "completed"
    },
    "tags": []
   },
   "source": [
    "## 💁 풀이"
   ]
  },
  {
   "cell_type": "code",
   "execution_count": 2,
   "id": "bfbc0c60",
   "metadata": {
    "execution": {
     "iopub.execute_input": "2022-11-25T02:17:01.860038Z",
     "iopub.status.busy": "2022-11-25T02:17:01.859310Z",
     "iopub.status.idle": "2022-11-25T02:17:01.882877Z",
     "shell.execute_reply": "2022-11-25T02:17:01.883418Z",
     "shell.execute_reply.started": "2022-11-25T02:15:04.950592Z"
    },
    "papermill": {
     "duration": 0.034928,
     "end_time": "2022-11-25T02:17:01.883607",
     "exception": false,
     "start_time": "2022-11-25T02:17:01.848679",
     "status": "completed"
    },
    "tags": []
   },
   "outputs": [
    {
     "data": {
      "text/html": [
       "<div>\n",
       "<style scoped>\n",
       "    .dataframe tbody tr th:only-of-type {\n",
       "        vertical-align: middle;\n",
       "    }\n",
       "\n",
       "    .dataframe tbody tr th {\n",
       "        vertical-align: top;\n",
       "    }\n",
       "\n",
       "    .dataframe thead th {\n",
       "        text-align: right;\n",
       "    }\n",
       "</style>\n",
       "<table border=\"1\" class=\"dataframe\">\n",
       "  <thead>\n",
       "    <tr style=\"text-align: right;\">\n",
       "      <th></th>\n",
       "      <th>id</th>\n",
       "      <th>age</th>\n",
       "      <th>city</th>\n",
       "      <th>f1</th>\n",
       "      <th>f2</th>\n",
       "      <th>f3</th>\n",
       "      <th>f4</th>\n",
       "      <th>f5</th>\n",
       "    </tr>\n",
       "  </thead>\n",
       "  <tbody>\n",
       "    <tr>\n",
       "      <th>0</th>\n",
       "      <td>id01</td>\n",
       "      <td>2.0</td>\n",
       "      <td>서울</td>\n",
       "      <td>NaN</td>\n",
       "      <td>0</td>\n",
       "      <td>NaN</td>\n",
       "      <td>ENFJ</td>\n",
       "      <td>91.297791</td>\n",
       "    </tr>\n",
       "    <tr>\n",
       "      <th>1</th>\n",
       "      <td>id02</td>\n",
       "      <td>9.0</td>\n",
       "      <td>서울</td>\n",
       "      <td>70.0</td>\n",
       "      <td>1</td>\n",
       "      <td>NaN</td>\n",
       "      <td>ENFJ</td>\n",
       "      <td>60.339826</td>\n",
       "    </tr>\n",
       "    <tr>\n",
       "      <th>2</th>\n",
       "      <td>id03</td>\n",
       "      <td>27.0</td>\n",
       "      <td>서울</td>\n",
       "      <td>61.0</td>\n",
       "      <td>1</td>\n",
       "      <td>NaN</td>\n",
       "      <td>ISTJ</td>\n",
       "      <td>17.252986</td>\n",
       "    </tr>\n",
       "    <tr>\n",
       "      <th>3</th>\n",
       "      <td>id04</td>\n",
       "      <td>75.0</td>\n",
       "      <td>서울</td>\n",
       "      <td>NaN</td>\n",
       "      <td>2</td>\n",
       "      <td>NaN</td>\n",
       "      <td>INFP</td>\n",
       "      <td>52.667078</td>\n",
       "    </tr>\n",
       "    <tr>\n",
       "      <th>4</th>\n",
       "      <td>id05</td>\n",
       "      <td>24.0</td>\n",
       "      <td>서울</td>\n",
       "      <td>85.0</td>\n",
       "      <td>2</td>\n",
       "      <td>NaN</td>\n",
       "      <td>ISFJ</td>\n",
       "      <td>29.269869</td>\n",
       "    </tr>\n",
       "  </tbody>\n",
       "</table>\n",
       "</div>"
      ],
      "text/plain": [
       "     id   age city    f1  f2   f3    f4         f5\n",
       "0  id01   2.0   서울   NaN   0  NaN  ENFJ  91.297791\n",
       "1  id02   9.0   서울  70.0   1  NaN  ENFJ  60.339826\n",
       "2  id03  27.0   서울  61.0   1  NaN  ISTJ  17.252986\n",
       "3  id04  75.0   서울   NaN   2  NaN  INFP  52.667078\n",
       "4  id05  24.0   서울  85.0   2  NaN  ISFJ  29.269869"
      ]
     },
     "execution_count": 2,
     "metadata": {},
     "output_type": "execute_result"
    }
   ],
   "source": [
    "# 라이브러리 및 데이터 불러오기\n",
    "import pandas as pd\n",
    "import numpy as np\n",
    "\n",
    "df = pd.read_csv('../input/bigdatacertificationkr/basic1.csv')\n",
    "df.head()"
   ]
  },
  {
   "cell_type": "code",
   "execution_count": 3,
   "id": "8bceaa4c",
   "metadata": {
    "execution": {
     "iopub.execute_input": "2022-11-25T02:17:01.903954Z",
     "iopub.status.busy": "2022-11-25T02:17:01.903265Z",
     "iopub.status.idle": "2022-11-25T02:17:01.921540Z",
     "shell.execute_reply": "2022-11-25T02:17:01.920958Z",
     "shell.execute_reply.started": "2022-11-25T02:15:07.121225Z"
    },
    "papermill": {
     "duration": 0.029669,
     "end_time": "2022-11-25T02:17:01.921711",
     "exception": false,
     "start_time": "2022-11-25T02:17:01.892042",
     "status": "completed"
    },
    "tags": []
   },
   "outputs": [
    {
     "data": {
      "text/html": [
       "<div>\n",
       "<style scoped>\n",
       "    .dataframe tbody tr th:only-of-type {\n",
       "        vertical-align: middle;\n",
       "    }\n",
       "\n",
       "    .dataframe tbody tr th {\n",
       "        vertical-align: top;\n",
       "    }\n",
       "\n",
       "    .dataframe thead th {\n",
       "        text-align: right;\n",
       "    }\n",
       "</style>\n",
       "<table border=\"1\" class=\"dataframe\">\n",
       "  <thead>\n",
       "    <tr style=\"text-align: right;\">\n",
       "      <th></th>\n",
       "      <th>id</th>\n",
       "      <th>age</th>\n",
       "      <th>city</th>\n",
       "      <th>f1</th>\n",
       "      <th>f2</th>\n",
       "      <th>f3</th>\n",
       "      <th>f4</th>\n",
       "      <th>f5</th>\n",
       "    </tr>\n",
       "  </thead>\n",
       "  <tbody>\n",
       "    <tr>\n",
       "      <th>6</th>\n",
       "      <td>id07</td>\n",
       "      <td>36.3</td>\n",
       "      <td>서울</td>\n",
       "      <td>60.0</td>\n",
       "      <td>1</td>\n",
       "      <td>NaN</td>\n",
       "      <td>ISFJ</td>\n",
       "      <td>9.796378</td>\n",
       "    </tr>\n",
       "    <tr>\n",
       "      <th>8</th>\n",
       "      <td>id09</td>\n",
       "      <td>3.3</td>\n",
       "      <td>서울</td>\n",
       "      <td>35.0</td>\n",
       "      <td>2</td>\n",
       "      <td>NaN</td>\n",
       "      <td>ESFJ</td>\n",
       "      <td>17.252986</td>\n",
       "    </tr>\n",
       "    <tr>\n",
       "      <th>21</th>\n",
       "      <td>id22</td>\n",
       "      <td>-6.3</td>\n",
       "      <td>부산</td>\n",
       "      <td>72.0</td>\n",
       "      <td>1</td>\n",
       "      <td>NaN</td>\n",
       "      <td>ENFP</td>\n",
       "      <td>52.667078</td>\n",
       "    </tr>\n",
       "    <tr>\n",
       "      <th>28</th>\n",
       "      <td>id29</td>\n",
       "      <td>-13.5</td>\n",
       "      <td>부산</td>\n",
       "      <td>47.0</td>\n",
       "      <td>2</td>\n",
       "      <td>NaN</td>\n",
       "      <td>ENTP</td>\n",
       "      <td>67.886373</td>\n",
       "    </tr>\n",
       "    <tr>\n",
       "      <th>46</th>\n",
       "      <td>id47</td>\n",
       "      <td>34.6</td>\n",
       "      <td>대구</td>\n",
       "      <td>75.0</td>\n",
       "      <td>1</td>\n",
       "      <td>NaN</td>\n",
       "      <td>ESTJ</td>\n",
       "      <td>90.496999</td>\n",
       "    </tr>\n",
       "    <tr>\n",
       "      <th>64</th>\n",
       "      <td>id65</td>\n",
       "      <td>26.5</td>\n",
       "      <td>경기</td>\n",
       "      <td>NaN</td>\n",
       "      <td>0</td>\n",
       "      <td>NaN</td>\n",
       "      <td>ISFP</td>\n",
       "      <td>91.297791</td>\n",
       "    </tr>\n",
       "    <tr>\n",
       "      <th>84</th>\n",
       "      <td>id85</td>\n",
       "      <td>83.6</td>\n",
       "      <td>경기</td>\n",
       "      <td>55.0</td>\n",
       "      <td>0</td>\n",
       "      <td>NaN</td>\n",
       "      <td>INFJ</td>\n",
       "      <td>80.138280</td>\n",
       "    </tr>\n",
       "    <tr>\n",
       "      <th>92</th>\n",
       "      <td>id93</td>\n",
       "      <td>21.8</td>\n",
       "      <td>경기</td>\n",
       "      <td>57.0</td>\n",
       "      <td>0</td>\n",
       "      <td>NaN</td>\n",
       "      <td>ISFP</td>\n",
       "      <td>73.586397</td>\n",
       "    </tr>\n",
       "  </tbody>\n",
       "</table>\n",
       "</div>"
      ],
      "text/plain": [
       "      id   age city    f1  f2   f3    f4         f5\n",
       "6   id07  36.3   서울  60.0   1  NaN  ISFJ   9.796378\n",
       "8   id09   3.3   서울  35.0   2  NaN  ESFJ  17.252986\n",
       "21  id22  -6.3   부산  72.0   1  NaN  ENFP  52.667078\n",
       "28  id29 -13.5   부산  47.0   2  NaN  ENTP  67.886373\n",
       "46  id47  34.6   대구  75.0   1  NaN  ESTJ  90.496999\n",
       "64  id65  26.5   경기   NaN   0  NaN  ISFP  91.297791\n",
       "84  id85  83.6   경기  55.0   0  NaN  INFJ  80.138280\n",
       "92  id93  21.8   경기  57.0   0  NaN  ISFP  73.586397"
      ]
     },
     "execution_count": 3,
     "metadata": {},
     "output_type": "execute_result"
    }
   ],
   "source": [
    "# 소수점 데이터 찾기\n",
    "df = df[(df['age']-np.floor(df['age']))!= 0]\n",
    "df"
   ]
  },
  {
   "cell_type": "code",
   "execution_count": 4,
   "id": "caed211e",
   "metadata": {
    "execution": {
     "iopub.execute_input": "2022-11-25T02:17:01.942981Z",
     "iopub.status.busy": "2022-11-25T02:17:01.942220Z",
     "iopub.status.idle": "2022-11-25T02:17:01.950323Z",
     "shell.execute_reply": "2022-11-25T02:17:01.950875Z",
     "shell.execute_reply.started": "2022-11-25T02:15:09.211743Z"
    },
    "papermill": {
     "duration": 0.020384,
     "end_time": "2022-11-25T02:17:01.951085",
     "exception": false,
     "start_time": "2022-11-25T02:17:01.930701",
     "status": "completed"
    },
    "tags": []
   },
   "outputs": [
    {
     "data": {
      "text/plain": [
       "(23.75, 22.75, 23.0)"
      ]
     },
     "execution_count": 4,
     "metadata": {},
     "output_type": "execute_result"
    }
   ],
   "source": [
    "# 이상치를 포함한 데이터 올림, 내림, 버림의 평균값 \n",
    "\n",
    "# 올림\n",
    "m_ceil = np.ceil(df['age']).mean()\n",
    "\n",
    "# 내림\n",
    "m_floor = np.floor(df['age']).mean()\n",
    "\n",
    "# 버림\n",
    "m_trunc = np.trunc(df['age']).mean()\n",
    "\n",
    "m_ceil, m_floor, m_trunc"
   ]
  },
  {
   "cell_type": "code",
   "execution_count": 5,
   "id": "f7e4b377",
   "metadata": {
    "execution": {
     "iopub.execute_input": "2022-11-25T02:17:01.975949Z",
     "iopub.status.busy": "2022-11-25T02:17:01.975152Z",
     "iopub.status.idle": "2022-11-25T02:17:01.979321Z",
     "shell.execute_reply": "2022-11-25T02:17:01.978581Z",
     "shell.execute_reply.started": "2022-11-25T02:15:11.844152Z"
    },
    "papermill": {
     "duration": 0.018319,
     "end_time": "2022-11-25T02:17:01.979532",
     "exception": false,
     "start_time": "2022-11-25T02:17:01.961213",
     "status": "completed"
    },
    "tags": []
   },
   "outputs": [
    {
     "name": "stdout",
     "output_type": "stream",
     "text": [
      "69.5\n"
     ]
    }
   ],
   "source": [
    "# 평균값 더한 다음 출력\n",
    "print(m_ceil + m_floor + m_trunc)"
   ]
  }
 ],
 "metadata": {
  "kernelspec": {
   "display_name": "Python 3",
   "language": "python",
   "name": "python3"
  },
  "language_info": {
   "codemirror_mode": {
    "name": "ipython",
    "version": 3
   },
   "file_extension": ".py",
   "mimetype": "text/x-python",
   "name": "python",
   "nbconvert_exporter": "python",
   "pygments_lexer": "ipython3",
   "version": "3.7.10"
  },
  "papermill": {
   "default_parameters": {},
   "duration": 9.776101,
   "end_time": "2022-11-25T02:17:03.569336",
   "environment_variables": {},
   "exception": null,
   "input_path": "__notebook__.ipynb",
   "output_path": "__notebook__.ipynb",
   "parameters": {},
   "start_time": "2022-11-25T02:16:53.793235",
   "version": "2.3.3"
  }
 },
 "nbformat": 4,
 "nbformat_minor": 5
}
