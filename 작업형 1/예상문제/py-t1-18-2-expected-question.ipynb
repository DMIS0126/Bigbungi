{
 "cells": [
  {
   "cell_type": "markdown",
   "id": "9017dd7b",
   "metadata": {
    "papermill": {
     "duration": 0.00557,
     "end_time": "2022-11-27T00:29:38.124615",
     "exception": false,
     "start_time": "2022-11-27T00:29:38.119045",
     "status": "completed"
    },
    "tags": []
   },
   "source": [
    "## 주어진 데이터에서 2022년 5월 주말과 평일의 sales컬럼 평균값 차이를 구하시오 (소수점 둘째자리까지 출력, 반올림)\n",
    "- 데이터셋 : basic2.csv\n",
    "- 오른쪽 상단 copy&edit 클릭 -> 예상문제 풀이 시작"
   ]
  },
  {
   "cell_type": "markdown",
   "id": "03bff31b",
   "metadata": {
    "papermill": {
     "duration": 0.003985,
     "end_time": "2022-11-27T00:29:38.133429",
     "exception": false,
     "start_time": "2022-11-27T00:29:38.129444",
     "status": "completed"
    },
    "tags": []
   },
   "source": [
    "## 🧑‍💻 내 풀이"
   ]
  },
  {
   "cell_type": "code",
   "execution_count": 1,
   "id": "1e7ceeaf",
   "metadata": {
    "execution": {
     "iopub.execute_input": "2022-11-27T00:29:38.146312Z",
     "iopub.status.busy": "2022-11-27T00:29:38.145082Z",
     "iopub.status.idle": "2022-11-27T00:29:38.195056Z",
     "shell.execute_reply": "2022-11-27T00:29:38.195705Z",
     "shell.execute_reply.started": "2022-11-27T00:27:40.710684Z"
    },
    "papermill": {
     "duration": 0.058427,
     "end_time": "2022-11-27T00:29:38.196028",
     "exception": false,
     "start_time": "2022-11-27T00:29:38.137601",
     "status": "completed"
    },
    "tags": []
   },
   "outputs": [
    {
     "name": "stdout",
     "output_type": "stream",
     "text": [
      "3010339.1\n"
     ]
    }
   ],
   "source": [
    "import pandas as pd\n",
    "df = pd.read_csv('/kaggle/input/bigdatacertificationkr/basic2.csv')\n",
    "\n",
    "df['Date'] = pd.to_datetime(df['Date'])\n",
    "# print(df.info())\n",
    "\n",
    "df = df[(df['Date'] >= '2022-5-1') & (df['Date'] < '2022-6-1')]\n",
    "df['weekday'] = df['Date'].dt.weekday\n",
    "\n",
    "df1 = df[(df['weekday'] != 5) & (df['weekday'] != 6)]\n",
    "df2 = df[(df['weekday'] == 5) | (df['weekday'] == 6)]\n",
    "\n",
    "df1_Sales_mean = df1['Sales'].mean()\n",
    "df2_Sales_mean = df2['Sales'].mean()\n",
    "# print(df1_Sales_mean, df2_Sales_mean)\n",
    "\n",
    "print(round(abs(df1_Sales_mean - df2_Sales_mean), 2))"
   ]
  },
  {
   "cell_type": "markdown",
   "id": "8c91a6df",
   "metadata": {
    "papermill": {
     "duration": 0.004452,
     "end_time": "2022-11-27T00:29:38.205614",
     "exception": false,
     "start_time": "2022-11-27T00:29:38.201162",
     "status": "completed"
    },
    "tags": []
   },
   "source": [
    "## 💁 풀이"
   ]
  },
  {
   "cell_type": "code",
   "execution_count": 2,
   "id": "451e1f9e",
   "metadata": {
    "_cell_guid": "b1076dfc-b9ad-4769-8c92-a6c4dae69d19",
    "_uuid": "8f2839f25d086af736a60e9eeb907d3b93b6e0e5",
    "execution": {
     "iopub.execute_input": "2022-11-27T00:29:38.226297Z",
     "iopub.status.busy": "2022-11-27T00:29:38.220637Z",
     "iopub.status.idle": "2022-11-27T00:29:38.243951Z",
     "shell.execute_reply": "2022-11-27T00:29:38.243355Z",
     "shell.execute_reply.started": "2022-11-27T00:29:12.129830Z"
    },
    "papermill": {
     "duration": 0.033791,
     "end_time": "2022-11-27T00:29:38.244100",
     "exception": false,
     "start_time": "2022-11-27T00:29:38.210309",
     "status": "completed"
    },
    "tags": []
   },
   "outputs": [
    {
     "name": "stdout",
     "output_type": "stream",
     "text": [
      "3010339.1\n"
     ]
    }
   ],
   "source": [
    "# 라이브러리 불러오기\n",
    "import pandas as pd\n",
    "\n",
    "# 데이터 불러오기 (datatime컬럼 지정)\n",
    "df = pd.read_csv(\"../input/bigdatacertificationkr/basic2.csv\", parse_dates=['Date'])\n",
    "\n",
    "# df.head()\n",
    "# df.info()\n",
    "\n",
    "df['year'] = df['Date'].dt.year\n",
    "df['month'] = df['Date'].dt.month\n",
    "df['day'] = df['Date'].dt.day\n",
    "df['dayofweek'] = df['Date'].dt.dayofweek\n",
    "\n",
    "# df.head()\n",
    "\n",
    "df['weekend'] = df['dayofweek'].apply(lambda x: x>=5)\n",
    "\n",
    "# df.head()\n",
    "\n",
    "weekend_cond = (df['year']==2022) & (df['month']==5) & (df['weekend'])\n",
    "weekday_cond = (df['year']==2022) & (df['month']==5) & (~df['weekend'])\n",
    "\n",
    "weekend = df[weekend_cond]['Sales'].mean()\n",
    "weekday = df[weekday_cond]['Sales'].mean()\n",
    "\n",
    "print(round(weekend - weekday, 1))"
   ]
  }
 ],
 "metadata": {
  "kernelspec": {
   "display_name": "Python 3",
   "language": "python",
   "name": "python3"
  },
  "language_info": {
   "codemirror_mode": {
    "name": "ipython",
    "version": 3
   },
   "file_extension": ".py",
   "mimetype": "text/x-python",
   "name": "python",
   "nbconvert_exporter": "python",
   "pygments_lexer": "ipython3",
   "version": "3.7.10"
  },
  "papermill": {
   "default_parameters": {},
   "duration": 10.172741,
   "end_time": "2022-11-27T00:29:38.858979",
   "environment_variables": {},
   "exception": null,
   "input_path": "__notebook__.ipynb",
   "output_path": "__notebook__.ipynb",
   "parameters": {},
   "start_time": "2022-11-27T00:29:28.686238",
   "version": "2.3.3"
  }
 },
 "nbformat": 4,
 "nbformat_minor": 5
}
