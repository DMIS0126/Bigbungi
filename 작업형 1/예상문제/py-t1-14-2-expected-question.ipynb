{
 "cells": [
  {
   "cell_type": "markdown",
   "id": "f8c01424",
   "metadata": {
    "_cell_guid": "cba9ec10-45a1-4dbb-99d9-11f36a48eead",
    "_uuid": "f6a8c209-0930-47a9-b2d2-045d02c68f45",
    "execution": {
     "iopub.execute_input": "2022-11-26T23:55:59.391380Z",
     "iopub.status.busy": "2022-11-26T23:55:59.391060Z",
     "iopub.status.idle": "2022-11-26T23:55:59.395261Z",
     "shell.execute_reply": "2022-11-26T23:55:59.394400Z",
     "shell.execute_reply.started": "2022-11-26T23:55:59.391357Z"
    },
    "jupyter": {
     "outputs_hidden": false
    },
    "papermill": {
     "duration": 0.005738,
     "end_time": "2022-11-26T23:57:59.638181",
     "exception": false,
     "start_time": "2022-11-26T23:57:59.632443",
     "status": "completed"
    },
    "tags": []
   },
   "source": [
    "# city와 f4를 기준으로 f5의 평균값을 구한 다음, f5를 기준으로 상위 7개 값을 모두 더해 출력하시오 (소수점 둘째자리까지 출력)\n",
    " - 데이터셋 : basic1.csv \n",
    " - 오른쪽 상단 copy&edit 클릭 -> 예상문제 풀이 시작\n",
    " - File -> Editor Type -> Script"
   ]
  },
  {
   "cell_type": "markdown",
   "id": "7c4ba216",
   "metadata": {
    "papermill": {
     "duration": 0.004104,
     "end_time": "2022-11-26T23:57:59.647092",
     "exception": false,
     "start_time": "2022-11-26T23:57:59.642988",
     "status": "completed"
    },
    "tags": []
   },
   "source": [
    "## 🧑‍💻 내 풀이"
   ]
  },
  {
   "cell_type": "code",
   "execution_count": 1,
   "id": "009d492d",
   "metadata": {
    "execution": {
     "iopub.execute_input": "2022-11-26T23:57:59.670478Z",
     "iopub.status.busy": "2022-11-26T23:57:59.660096Z",
     "iopub.status.idle": "2022-11-26T23:57:59.712866Z",
     "shell.execute_reply": "2022-11-26T23:57:59.711779Z",
     "shell.execute_reply.started": "2022-11-26T23:57:28.714601Z"
    },
    "papermill": {
     "duration": 0.061586,
     "end_time": "2022-11-26T23:57:59.713094",
     "exception": false,
     "start_time": "2022-11-26T23:57:59.651508",
     "status": "completed"
    },
    "tags": []
   },
   "outputs": [
    {
     "name": "stdout",
     "output_type": "stream",
     "text": [
      "643.68\n"
     ]
    }
   ],
   "source": [
    "import pandas as pd\n",
    "df = pd.read_csv('/kaggle/input/bigdatacertificationkr/basic1.csv')\n",
    "df1 = df.groupby(['city', 'f4'])[['f5']].mean()\n",
    "# groupby 할 때 대괄호 하나 더 묶어주자\n",
    "# print(df1)\n",
    "\n",
    "df2 = pd.DataFrame(df1)\n",
    "df2.columns = ['mean']\n",
    "# print(df2['mean'].values)\n",
    "f5_mean = df2['mean'].values\n",
    "f5_mean = pd.Series(f5_mean).sort_values(ascending = False).reset_index(drop = True)\n",
    "# print(f5_mean)\n",
    "print(round(f5_mean.head(7).sum(), 2))"
   ]
  },
  {
   "cell_type": "markdown",
   "id": "5144bc13",
   "metadata": {
    "papermill": {
     "duration": 0.00446,
     "end_time": "2022-11-26T23:57:59.723220",
     "exception": false,
     "start_time": "2022-11-26T23:57:59.718760",
     "status": "completed"
    },
    "tags": []
   },
   "source": [
    "## 💁 풀이"
   ]
  },
  {
   "cell_type": "code",
   "execution_count": 2,
   "id": "132b884b",
   "metadata": {
    "execution": {
     "iopub.execute_input": "2022-11-26T23:57:59.743299Z",
     "iopub.status.busy": "2022-11-26T23:57:59.742275Z",
     "iopub.status.idle": "2022-11-26T23:57:59.768213Z",
     "shell.execute_reply": "2022-11-26T23:57:59.767381Z",
     "shell.execute_reply.started": "2022-11-26T23:56:12.995511Z"
    },
    "papermill": {
     "duration": 0.040418,
     "end_time": "2022-11-26T23:57:59.768379",
     "exception": false,
     "start_time": "2022-11-26T23:57:59.727961",
     "status": "completed"
    },
    "tags": []
   },
   "outputs": [
    {
     "name": "stdout",
     "output_type": "stream",
     "text": [
      "                  f5\n",
      "city f4             \n",
      "경기   ENTJ  51.693799\n",
      "     ENTP  54.704075\n",
      "     ESFJ  97.381034\n",
      "     ESFP  53.187491\n",
      "     ESTJ  79.487043\n",
      "     ESTP  34.022130\n",
      "     INFJ  80.138280\n",
      "     INFP  90.531801\n",
      "     INTJ  80.388795\n",
      "     INTP  55.887974\n",
      "     ISFJ  64.468233\n",
      "     ISFP  69.108148\n",
      "     ISTP  48.431184\n",
      "대구   ENFJ  39.964658\n",
      "     ENFP  32.574085\n",
      "     ENTP  13.049921\n",
      "     ESFJ  20.129444\n",
      "     ESTJ  77.323257\n",
      "     ESTP  28.915814\n",
      "     INTP  26.698797\n",
      "     ISFJ  59.883434\n",
      "     ISTJ  83.685380\n",
      "     ISTP  29.269869\n",
      "부산   ENFJ  17.252986\n",
      "     ENFP  68.176229\n",
      "     ENTP  74.012327\n",
      "     ESFJ  73.586397\n",
      "     ESTJ  25.280992\n",
      "     ESTP  62.730150\n",
      "     INFJ  53.447698\n",
      "     INFP  48.431184\n",
      "     INTP  13.049921\n",
      "     ISFJ  13.049921\n",
      "     ISFP  29.269869\n",
      "     ISTP  69.730313\n",
      "서울   ENFJ  75.818808\n",
      "     ENFP  98.429899\n",
      "     ENTJ  67.886373\n",
      "     ENTP   9.796378\n",
      "     ESFJ  50.469183\n",
      "     ESFP  16.283854\n",
      "     ESTP  91.297791\n",
      "     INFJ  83.685380\n",
      "     INFP  52.667078\n",
      "     INTJ  91.297791\n",
      "     INTP  20.129444\n",
      "     ISFJ  39.734842\n",
      "     ISFP  91.057640\n",
      "     ISTJ  17.252986\n",
      "     ISTP  67.886373\n",
      "   city    f4         f5\n",
      "36   서울  ENFP  98.429899\n",
      "2    경기  ESFJ  97.381034\n",
      "44   서울  INTJ  91.297791\n",
      "41   서울  ESTP  91.297791\n",
      "47   서울  ISFP  91.057640\n",
      "7    경기  INFP  90.531801\n",
      "42   서울  INFJ  83.685380\n"
     ]
    },
    {
     "data": {
      "text/plain": [
       "643.68"
      ]
     },
     "execution_count": 2,
     "metadata": {},
     "output_type": "execute_result"
    }
   ],
   "source": [
    "import pandas as pd\n",
    "\n",
    "df = pd.read_csv(\"../input/bigdatacertificationkr/basic1.csv\")\n",
    "df.head()\n",
    "\n",
    "# city와 f4별 f5의 평균 값 (멀티인덱스 출력)\n",
    "df = df.groupby(['city', 'f4'])[['f5']].mean()\n",
    "print(df)\n",
    "\n",
    "# dataframe 전환 후 상위 7개 출력\n",
    "df = df.reset_index().sort_values('f5', ascending=False).head(7)\n",
    "print(df)\n",
    "\n",
    "# f7의 합계 (소수점 둘째자리까지)\n",
    "round(df['f5'].sum(), 2)\n",
    "\n",
    "#결과값 : 643.68"
   ]
  }
 ],
 "metadata": {
  "kernelspec": {
   "display_name": "Python 3",
   "language": "python",
   "name": "python3"
  },
  "language_info": {
   "codemirror_mode": {
    "name": "ipython",
    "version": 3
   },
   "file_extension": ".py",
   "mimetype": "text/x-python",
   "name": "python",
   "nbconvert_exporter": "python",
   "pygments_lexer": "ipython3",
   "version": "3.7.10"
  },
  "papermill": {
   "default_parameters": {},
   "duration": 10.24296,
   "end_time": "2022-11-26T23:58:00.384028",
   "environment_variables": {},
   "exception": null,
   "input_path": "__notebook__.ipynb",
   "output_path": "__notebook__.ipynb",
   "parameters": {},
   "start_time": "2022-11-26T23:57:50.141068",
   "version": "2.3.3"
  }
 },
 "nbformat": 4,
 "nbformat_minor": 5
}
