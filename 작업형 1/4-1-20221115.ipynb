{
 "cells": [
  {
   "cell_type": "markdown",
   "id": "a7cbb4bb",
   "metadata": {
    "_cell_guid": "b1076dfc-b9ad-4769-8c92-a6c4dae69d19",
    "_uuid": "8f2839f25d086af736a60e9eeb907d3b93b6e0e5",
    "papermill": {
     "duration": 0.008977,
     "end_time": "2022-11-15T14:46:06.826609",
     "exception": false,
     "start_time": "2022-11-15T14:46:06.817632",
     "status": "completed"
    },
    "tags": []
   },
   "source": [
    "## 작업형1 문제\n",
    "### 1-1. age 컬럼의 3사분위수와 1사분위수의 차를 절대값으로 구하고, 소수점 버려서, 정수로 출력\n",
    "- data_path: ../input/bigdatacertificationkr/basic1.csv\n"
   ]
  },
  {
   "cell_type": "code",
   "execution_count": 1,
   "id": "70f168df",
   "metadata": {
    "execution": {
     "iopub.execute_input": "2022-11-15T14:46:06.845836Z",
     "iopub.status.busy": "2022-11-15T14:46:06.844210Z",
     "iopub.status.idle": "2022-11-15T14:46:06.907385Z",
     "shell.execute_reply": "2022-11-15T14:46:06.905783Z"
    },
    "papermill": {
     "duration": 0.07761,
     "end_time": "2022-11-15T14:46:06.911900",
     "exception": false,
     "start_time": "2022-11-15T14:46:06.834290",
     "status": "completed"
    },
    "tags": []
   },
   "outputs": [
    {
     "data": {
      "text/html": [
       "<div>\n",
       "<style scoped>\n",
       "    .dataframe tbody tr th:only-of-type {\n",
       "        vertical-align: middle;\n",
       "    }\n",
       "\n",
       "    .dataframe tbody tr th {\n",
       "        vertical-align: top;\n",
       "    }\n",
       "\n",
       "    .dataframe thead th {\n",
       "        text-align: right;\n",
       "    }\n",
       "</style>\n",
       "<table border=\"1\" class=\"dataframe\">\n",
       "  <thead>\n",
       "    <tr style=\"text-align: right;\">\n",
       "      <th></th>\n",
       "      <th>id</th>\n",
       "      <th>age</th>\n",
       "      <th>city</th>\n",
       "      <th>f1</th>\n",
       "      <th>f2</th>\n",
       "      <th>f3</th>\n",
       "      <th>f4</th>\n",
       "      <th>f5</th>\n",
       "    </tr>\n",
       "  </thead>\n",
       "  <tbody>\n",
       "    <tr>\n",
       "      <th>0</th>\n",
       "      <td>id01</td>\n",
       "      <td>2.0</td>\n",
       "      <td>서울</td>\n",
       "      <td>NaN</td>\n",
       "      <td>0</td>\n",
       "      <td>NaN</td>\n",
       "      <td>ENFJ</td>\n",
       "      <td>91.297791</td>\n",
       "    </tr>\n",
       "    <tr>\n",
       "      <th>1</th>\n",
       "      <td>id02</td>\n",
       "      <td>9.0</td>\n",
       "      <td>서울</td>\n",
       "      <td>70.0</td>\n",
       "      <td>1</td>\n",
       "      <td>NaN</td>\n",
       "      <td>ENFJ</td>\n",
       "      <td>60.339826</td>\n",
       "    </tr>\n",
       "    <tr>\n",
       "      <th>2</th>\n",
       "      <td>id03</td>\n",
       "      <td>27.0</td>\n",
       "      <td>서울</td>\n",
       "      <td>61.0</td>\n",
       "      <td>1</td>\n",
       "      <td>NaN</td>\n",
       "      <td>ISTJ</td>\n",
       "      <td>17.252986</td>\n",
       "    </tr>\n",
       "    <tr>\n",
       "      <th>3</th>\n",
       "      <td>id04</td>\n",
       "      <td>75.0</td>\n",
       "      <td>서울</td>\n",
       "      <td>NaN</td>\n",
       "      <td>2</td>\n",
       "      <td>NaN</td>\n",
       "      <td>INFP</td>\n",
       "      <td>52.667078</td>\n",
       "    </tr>\n",
       "    <tr>\n",
       "      <th>4</th>\n",
       "      <td>id05</td>\n",
       "      <td>24.0</td>\n",
       "      <td>서울</td>\n",
       "      <td>85.0</td>\n",
       "      <td>2</td>\n",
       "      <td>NaN</td>\n",
       "      <td>ISFJ</td>\n",
       "      <td>29.269869</td>\n",
       "    </tr>\n",
       "  </tbody>\n",
       "</table>\n",
       "</div>"
      ],
      "text/plain": [
       "     id   age city    f1  f2   f3    f4         f5\n",
       "0  id01   2.0   서울   NaN   0  NaN  ENFJ  91.297791\n",
       "1  id02   9.0   서울  70.0   1  NaN  ENFJ  60.339826\n",
       "2  id03  27.0   서울  61.0   1  NaN  ISTJ  17.252986\n",
       "3  id04  75.0   서울   NaN   2  NaN  INFP  52.667078\n",
       "4  id05  24.0   서울  85.0   2  NaN  ISFJ  29.269869"
      ]
     },
     "execution_count": 1,
     "metadata": {},
     "output_type": "execute_result"
    }
   ],
   "source": [
    "import pandas as pd\n",
    "df = pd.read_csv('../input/bigdatacertificationkr/basic1.csv')\n",
    "df.head()"
   ]
  },
  {
   "cell_type": "code",
   "execution_count": 2,
   "id": "eefe73e8",
   "metadata": {
    "execution": {
     "iopub.execute_input": "2022-11-15T14:46:06.930618Z",
     "iopub.status.busy": "2022-11-15T14:46:06.929096Z",
     "iopub.status.idle": "2022-11-15T14:46:06.961895Z",
     "shell.execute_reply": "2022-11-15T14:46:06.948959Z"
    },
    "papermill": {
     "duration": 0.045546,
     "end_time": "2022-11-15T14:46:06.965395",
     "exception": false,
     "start_time": "2022-11-15T14:46:06.919849",
     "status": "completed"
    },
    "tags": []
   },
   "outputs": [
    {
     "name": "stdout",
     "output_type": "stream",
     "text": [
      "50\n"
     ]
    }
   ],
   "source": [
    "Q3=df['age'].quantile(0.75)\n",
    "Q1=df['age'].quantile(0.25)\n",
    "print(int(abs(Q3-Q1)))"
   ]
  },
  {
   "cell_type": "markdown",
   "id": "9b4d1722",
   "metadata": {
    "papermill": {
     "duration": 0.007306,
     "end_time": "2022-11-15T14:46:06.981631",
     "exception": false,
     "start_time": "2022-11-15T14:46:06.974325",
     "status": "completed"
    },
    "tags": []
   },
   "source": [
    "### 1-2.(loves반응+wows반응)/(reactions반응) 비율이 0.4보다 크고 0.5보다 작으면서, status_type 컬럼이 'video'인 데이터의 갯수\n",
    "- data_path: ../input/big-data-analytics-certification-kr-2022/fb.csv"
   ]
  },
  {
   "cell_type": "code",
   "execution_count": 3,
   "id": "40547d54",
   "metadata": {
    "execution": {
     "iopub.execute_input": "2022-11-15T14:46:06.999914Z",
     "iopub.status.busy": "2022-11-15T14:46:06.998459Z",
     "iopub.status.idle": "2022-11-15T14:46:07.036147Z",
     "shell.execute_reply": "2022-11-15T14:46:07.034878Z"
    },
    "papermill": {
     "duration": 0.049432,
     "end_time": "2022-11-15T14:46:07.038715",
     "exception": false,
     "start_time": "2022-11-15T14:46:06.989283",
     "status": "completed"
    },
    "tags": []
   },
   "outputs": [
    {
     "data": {
      "text/html": [
       "<div>\n",
       "<style scoped>\n",
       "    .dataframe tbody tr th:only-of-type {\n",
       "        vertical-align: middle;\n",
       "    }\n",
       "\n",
       "    .dataframe tbody tr th {\n",
       "        vertical-align: top;\n",
       "    }\n",
       "\n",
       "    .dataframe thead th {\n",
       "        text-align: right;\n",
       "    }\n",
       "</style>\n",
       "<table border=\"1\" class=\"dataframe\">\n",
       "  <thead>\n",
       "    <tr style=\"text-align: right;\">\n",
       "      <th></th>\n",
       "      <th>id</th>\n",
       "      <th>type</th>\n",
       "      <th>reactions</th>\n",
       "      <th>comments</th>\n",
       "      <th>shares</th>\n",
       "      <th>likes</th>\n",
       "      <th>loves</th>\n",
       "      <th>wows</th>\n",
       "      <th>hahas</th>\n",
       "      <th>sads</th>\n",
       "      <th>angrys</th>\n",
       "    </tr>\n",
       "  </thead>\n",
       "  <tbody>\n",
       "    <tr>\n",
       "      <th>0</th>\n",
       "      <td>1</td>\n",
       "      <td>video</td>\n",
       "      <td>529</td>\n",
       "      <td>512</td>\n",
       "      <td>262</td>\n",
       "      <td>432</td>\n",
       "      <td>92</td>\n",
       "      <td>3</td>\n",
       "      <td>1</td>\n",
       "      <td>1</td>\n",
       "      <td>0</td>\n",
       "    </tr>\n",
       "    <tr>\n",
       "      <th>1</th>\n",
       "      <td>2</td>\n",
       "      <td>photo</td>\n",
       "      <td>150</td>\n",
       "      <td>0</td>\n",
       "      <td>0</td>\n",
       "      <td>150</td>\n",
       "      <td>0</td>\n",
       "      <td>0</td>\n",
       "      <td>0</td>\n",
       "      <td>0</td>\n",
       "      <td>0</td>\n",
       "    </tr>\n",
       "    <tr>\n",
       "      <th>2</th>\n",
       "      <td>3</td>\n",
       "      <td>video</td>\n",
       "      <td>227</td>\n",
       "      <td>236</td>\n",
       "      <td>57</td>\n",
       "      <td>204</td>\n",
       "      <td>21</td>\n",
       "      <td>1</td>\n",
       "      <td>1</td>\n",
       "      <td>0</td>\n",
       "      <td>0</td>\n",
       "    </tr>\n",
       "    <tr>\n",
       "      <th>3</th>\n",
       "      <td>4</td>\n",
       "      <td>photo</td>\n",
       "      <td>111</td>\n",
       "      <td>0</td>\n",
       "      <td>0</td>\n",
       "      <td>111</td>\n",
       "      <td>0</td>\n",
       "      <td>0</td>\n",
       "      <td>0</td>\n",
       "      <td>0</td>\n",
       "      <td>0</td>\n",
       "    </tr>\n",
       "    <tr>\n",
       "      <th>4</th>\n",
       "      <td>5</td>\n",
       "      <td>photo</td>\n",
       "      <td>213</td>\n",
       "      <td>0</td>\n",
       "      <td>0</td>\n",
       "      <td>204</td>\n",
       "      <td>9</td>\n",
       "      <td>0</td>\n",
       "      <td>0</td>\n",
       "      <td>0</td>\n",
       "      <td>0</td>\n",
       "    </tr>\n",
       "  </tbody>\n",
       "</table>\n",
       "</div>"
      ],
      "text/plain": [
       "   id   type  reactions  comments  shares  likes  loves  wows  hahas  sads  \\\n",
       "0   1  video        529       512     262    432     92     3      1     1   \n",
       "1   2  photo        150         0       0    150      0     0      0     0   \n",
       "2   3  video        227       236      57    204     21     1      1     0   \n",
       "3   4  photo        111         0       0    111      0     0      0     0   \n",
       "4   5  photo        213         0       0    204      9     0      0     0   \n",
       "\n",
       "   angrys  \n",
       "0       0  \n",
       "1       0  \n",
       "2       0  \n",
       "3       0  \n",
       "4       0  "
      ]
     },
     "execution_count": 3,
     "metadata": {},
     "output_type": "execute_result"
    }
   ],
   "source": [
    "import pandas as pd\n",
    "df = pd.read_csv(\"../input/big-data-analytics-certification-kr-2022/fb.csv\")\n",
    "df.head()"
   ]
  },
  {
   "cell_type": "code",
   "execution_count": 4,
   "id": "66bf22d7",
   "metadata": {
    "execution": {
     "iopub.execute_input": "2022-11-15T14:46:07.056599Z",
     "iopub.status.busy": "2022-11-15T14:46:07.056116Z",
     "iopub.status.idle": "2022-11-15T14:46:07.075813Z",
     "shell.execute_reply": "2022-11-15T14:46:07.074171Z"
    },
    "papermill": {
     "duration": 0.032505,
     "end_time": "2022-11-15T14:46:07.079450",
     "exception": false,
     "start_time": "2022-11-15T14:46:07.046945",
     "status": "completed"
    },
    "tags": []
   },
   "outputs": [
    {
     "data": {
      "text/html": [
       "<div>\n",
       "<style scoped>\n",
       "    .dataframe tbody tr th:only-of-type {\n",
       "        vertical-align: middle;\n",
       "    }\n",
       "\n",
       "    .dataframe tbody tr th {\n",
       "        vertical-align: top;\n",
       "    }\n",
       "\n",
       "    .dataframe thead th {\n",
       "        text-align: right;\n",
       "    }\n",
       "</style>\n",
       "<table border=\"1\" class=\"dataframe\">\n",
       "  <thead>\n",
       "    <tr style=\"text-align: right;\">\n",
       "      <th></th>\n",
       "      <th>id</th>\n",
       "      <th>type</th>\n",
       "      <th>reactions</th>\n",
       "      <th>comments</th>\n",
       "      <th>shares</th>\n",
       "      <th>likes</th>\n",
       "      <th>loves</th>\n",
       "      <th>wows</th>\n",
       "      <th>hahas</th>\n",
       "      <th>sads</th>\n",
       "      <th>angrys</th>\n",
       "      <th>test</th>\n",
       "    </tr>\n",
       "  </thead>\n",
       "  <tbody>\n",
       "    <tr>\n",
       "      <th>0</th>\n",
       "      <td>1</td>\n",
       "      <td>video</td>\n",
       "      <td>529</td>\n",
       "      <td>512</td>\n",
       "      <td>262</td>\n",
       "      <td>432</td>\n",
       "      <td>92</td>\n",
       "      <td>3</td>\n",
       "      <td>1</td>\n",
       "      <td>1</td>\n",
       "      <td>0</td>\n",
       "      <td>0.179584</td>\n",
       "    </tr>\n",
       "    <tr>\n",
       "      <th>1</th>\n",
       "      <td>2</td>\n",
       "      <td>photo</td>\n",
       "      <td>150</td>\n",
       "      <td>0</td>\n",
       "      <td>0</td>\n",
       "      <td>150</td>\n",
       "      <td>0</td>\n",
       "      <td>0</td>\n",
       "      <td>0</td>\n",
       "      <td>0</td>\n",
       "      <td>0</td>\n",
       "      <td>0.000000</td>\n",
       "    </tr>\n",
       "    <tr>\n",
       "      <th>2</th>\n",
       "      <td>3</td>\n",
       "      <td>video</td>\n",
       "      <td>227</td>\n",
       "      <td>236</td>\n",
       "      <td>57</td>\n",
       "      <td>204</td>\n",
       "      <td>21</td>\n",
       "      <td>1</td>\n",
       "      <td>1</td>\n",
       "      <td>0</td>\n",
       "      <td>0</td>\n",
       "      <td>0.096916</td>\n",
       "    </tr>\n",
       "    <tr>\n",
       "      <th>3</th>\n",
       "      <td>4</td>\n",
       "      <td>photo</td>\n",
       "      <td>111</td>\n",
       "      <td>0</td>\n",
       "      <td>0</td>\n",
       "      <td>111</td>\n",
       "      <td>0</td>\n",
       "      <td>0</td>\n",
       "      <td>0</td>\n",
       "      <td>0</td>\n",
       "      <td>0</td>\n",
       "      <td>0.000000</td>\n",
       "    </tr>\n",
       "    <tr>\n",
       "      <th>4</th>\n",
       "      <td>5</td>\n",
       "      <td>photo</td>\n",
       "      <td>213</td>\n",
       "      <td>0</td>\n",
       "      <td>0</td>\n",
       "      <td>204</td>\n",
       "      <td>9</td>\n",
       "      <td>0</td>\n",
       "      <td>0</td>\n",
       "      <td>0</td>\n",
       "      <td>0</td>\n",
       "      <td>0.042254</td>\n",
       "    </tr>\n",
       "  </tbody>\n",
       "</table>\n",
       "</div>"
      ],
      "text/plain": [
       "   id   type  reactions  comments  shares  likes  loves  wows  hahas  sads  \\\n",
       "0   1  video        529       512     262    432     92     3      1     1   \n",
       "1   2  photo        150         0       0    150      0     0      0     0   \n",
       "2   3  video        227       236      57    204     21     1      1     0   \n",
       "3   4  photo        111         0       0    111      0     0      0     0   \n",
       "4   5  photo        213         0       0    204      9     0      0     0   \n",
       "\n",
       "   angrys      test  \n",
       "0       0  0.179584  \n",
       "1       0  0.000000  \n",
       "2       0  0.096916  \n",
       "3       0  0.000000  \n",
       "4       0  0.042254  "
      ]
     },
     "execution_count": 4,
     "metadata": {},
     "output_type": "execute_result"
    }
   ],
   "source": [
    "df['test'] = (df['loves']+df['wows'])/df['reactions']\n",
    "df.head()"
   ]
  },
  {
   "cell_type": "code",
   "execution_count": 5,
   "id": "bed8bc2f",
   "metadata": {
    "execution": {
     "iopub.execute_input": "2022-11-15T14:46:07.099678Z",
     "iopub.status.busy": "2022-11-15T14:46:07.099120Z",
     "iopub.status.idle": "2022-11-15T14:46:07.192726Z",
     "shell.execute_reply": "2022-11-15T14:46:07.191230Z"
    },
    "papermill": {
     "duration": 0.108327,
     "end_time": "2022-11-15T14:46:07.196072",
     "exception": false,
     "start_time": "2022-11-15T14:46:07.087745",
     "status": "completed"
    },
    "tags": []
   },
   "outputs": [
    {
     "name": "stdout",
     "output_type": "stream",
     "text": [
      "        id   type  reactions  comments  shares  likes  loves  wows  hahas  \\\n",
      "3116  3117  video        255       926     181    142    108     0      5   \n",
      "3817  3818  photo          1         1       0      0      0     1      0   \n",
      "3844  3845  photo          4         0       0      2      2     0      0   \n",
      "4096  4097  video          2         0       0      1      1     0      0   \n",
      "4148  4149  video          1         0       0      0      1     0      0   \n",
      "\n",
      "      sads  angrys      test  \n",
      "3116     0       0  0.423529  \n",
      "3817     0       0  1.000000  \n",
      "3844     0       0  0.500000  \n",
      "4096     0       0  0.500000  \n",
      "4148     0       0  1.000000  \n",
      "                id    reactions     comments      shares       likes  \\\n",
      "count   117.000000   117.000000   117.000000  117.000000  117.000000   \n",
      "mean   5563.820513   233.888889  1083.547009  236.623932  124.547009   \n",
      "std     614.488063   147.441676  1321.053593  136.290051   80.543680   \n",
      "min    3117.000000     1.000000     0.000000    0.000000    0.000000   \n",
      "25%    5379.000000   168.000000   352.000000  153.000000   85.000000   \n",
      "50%    5584.000000   225.000000   706.000000  218.000000  116.000000   \n",
      "75%    5983.000000   287.000000  1145.000000  285.000000  158.000000   \n",
      "max    7048.000000  1397.000000  7543.000000  695.000000  765.000000   \n",
      "\n",
      "            loves        wows       hahas        sads      angrys        test  \n",
      "count  117.000000  117.000000  117.000000  117.000000  117.000000  117.000000  \n",
      "mean   103.145299    2.341880    3.025641    0.444444    0.384615    0.478193  \n",
      "std     56.906800   12.810396    5.280840    0.736305    0.627614    0.119494  \n",
      "min      0.000000    0.000000    0.000000    0.000000    0.000000    0.400463  \n",
      "25%     77.000000    0.000000    1.000000    0.000000    0.000000    0.418367  \n",
      "50%     99.000000    1.000000    2.000000    0.000000    0.000000    0.444109  \n",
      "75%    121.000000    2.000000    3.000000    1.000000    1.000000    0.488764  \n",
      "max    485.000000  139.000000   43.000000    3.000000    3.000000    1.000000  \n",
      "        id   type  reactions  comments  shares  likes  loves  wows  hahas  \\\n",
      "3116  3117  video        255       926     181    142    108     0      5   \n",
      "4624  4625  video       1397       771     695    765    485   139      4   \n",
      "4776  4777  video        259       695     263    151    106     0      2   \n",
      "4793  4794  video        146       303     221     73     69     2      1   \n",
      "4812  4813  video        184       530     224    101     80     0      1   \n",
      "\n",
      "      sads  angrys      test  \n",
      "3116     0       0  0.423529  \n",
      "4624     1       3  0.446671  \n",
      "4776     0       0  0.409266  \n",
      "4793     0       1  0.486301  \n",
      "4812     1       1  0.434783  \n",
      "                id    reactions     comments      shares       likes  \\\n",
      "count    90.000000    90.000000    90.000000   90.000000   90.000000   \n",
      "mean   5594.355556   260.288889  1169.588889  258.844444  142.055556   \n",
      "std     491.405421   146.621828  1260.612272  126.305489   79.523915   \n",
      "min    3117.000000   106.000000   194.000000   94.000000   61.000000   \n",
      "25%    5406.500000   184.750000   420.750000  172.500000  105.250000   \n",
      "50%    5576.000000   237.500000   799.000000  224.500000  134.500000   \n",
      "75%    5855.500000   292.000000  1175.000000  286.750000  163.500000   \n",
      "max    6702.000000  1397.000000  6316.000000  695.000000  765.000000   \n",
      "\n",
      "            loves        wows      hahas       sads     angrys       test  \n",
      "count   90.000000   90.000000  90.000000  90.000000  90.000000  90.000000  \n",
      "mean   110.911111    2.744444   3.588889   0.522222   0.466667   0.436520  \n",
      "std     53.690466   14.584555   5.851907   0.796450   0.673745   0.026134  \n",
      "min     43.000000    0.000000   0.000000   0.000000   0.000000   0.400463  \n",
      "25%     79.250000    0.000000   1.000000   0.000000   0.000000   0.415134  \n",
      "50%    102.500000    1.000000   2.000000   0.000000   0.000000   0.429967  \n",
      "75%    120.750000    2.000000   4.000000   1.000000   1.000000   0.453748  \n",
      "max    485.000000  139.000000  43.000000   3.000000   3.000000   0.497487  \n"
     ]
    }
   ],
   "source": [
    "df_test1 = df[df['test']>0.4]\n",
    "print(df_test1.head())\n",
    "print(df_test1.describe())\n",
    "df_test2 = df_test1[df_test1['test']<0.5]\n",
    "print(df_test2.head())\n",
    "print(df_test2.describe())"
   ]
  },
  {
   "cell_type": "code",
   "execution_count": 6,
   "id": "267e205f",
   "metadata": {
    "execution": {
     "iopub.execute_input": "2022-11-15T14:46:07.214469Z",
     "iopub.status.busy": "2022-11-15T14:46:07.213983Z",
     "iopub.status.idle": "2022-11-15T14:46:07.231545Z",
     "shell.execute_reply": "2022-11-15T14:46:07.230299Z"
    },
    "papermill": {
     "duration": 0.030207,
     "end_time": "2022-11-15T14:46:07.234418",
     "exception": false,
     "start_time": "2022-11-15T14:46:07.204211",
     "status": "completed"
    },
    "tags": []
   },
   "outputs": [
    {
     "data": {
      "text/html": [
       "<div>\n",
       "<style scoped>\n",
       "    .dataframe tbody tr th:only-of-type {\n",
       "        vertical-align: middle;\n",
       "    }\n",
       "\n",
       "    .dataframe tbody tr th {\n",
       "        vertical-align: top;\n",
       "    }\n",
       "\n",
       "    .dataframe thead th {\n",
       "        text-align: right;\n",
       "    }\n",
       "</style>\n",
       "<table border=\"1\" class=\"dataframe\">\n",
       "  <thead>\n",
       "    <tr style=\"text-align: right;\">\n",
       "      <th></th>\n",
       "      <th>id</th>\n",
       "      <th>type</th>\n",
       "      <th>reactions</th>\n",
       "      <th>comments</th>\n",
       "      <th>shares</th>\n",
       "      <th>likes</th>\n",
       "      <th>loves</th>\n",
       "      <th>wows</th>\n",
       "      <th>hahas</th>\n",
       "      <th>sads</th>\n",
       "      <th>angrys</th>\n",
       "      <th>test</th>\n",
       "    </tr>\n",
       "  </thead>\n",
       "  <tbody>\n",
       "    <tr>\n",
       "      <th>3116</th>\n",
       "      <td>3117</td>\n",
       "      <td>video</td>\n",
       "      <td>255</td>\n",
       "      <td>926</td>\n",
       "      <td>181</td>\n",
       "      <td>142</td>\n",
       "      <td>108</td>\n",
       "      <td>0</td>\n",
       "      <td>5</td>\n",
       "      <td>0</td>\n",
       "      <td>0</td>\n",
       "      <td>0.423529</td>\n",
       "    </tr>\n",
       "    <tr>\n",
       "      <th>4624</th>\n",
       "      <td>4625</td>\n",
       "      <td>video</td>\n",
       "      <td>1397</td>\n",
       "      <td>771</td>\n",
       "      <td>695</td>\n",
       "      <td>765</td>\n",
       "      <td>485</td>\n",
       "      <td>139</td>\n",
       "      <td>4</td>\n",
       "      <td>1</td>\n",
       "      <td>3</td>\n",
       "      <td>0.446671</td>\n",
       "    </tr>\n",
       "    <tr>\n",
       "      <th>4776</th>\n",
       "      <td>4777</td>\n",
       "      <td>video</td>\n",
       "      <td>259</td>\n",
       "      <td>695</td>\n",
       "      <td>263</td>\n",
       "      <td>151</td>\n",
       "      <td>106</td>\n",
       "      <td>0</td>\n",
       "      <td>2</td>\n",
       "      <td>0</td>\n",
       "      <td>0</td>\n",
       "      <td>0.409266</td>\n",
       "    </tr>\n",
       "    <tr>\n",
       "      <th>4793</th>\n",
       "      <td>4794</td>\n",
       "      <td>video</td>\n",
       "      <td>146</td>\n",
       "      <td>303</td>\n",
       "      <td>221</td>\n",
       "      <td>73</td>\n",
       "      <td>69</td>\n",
       "      <td>2</td>\n",
       "      <td>1</td>\n",
       "      <td>0</td>\n",
       "      <td>1</td>\n",
       "      <td>0.486301</td>\n",
       "    </tr>\n",
       "    <tr>\n",
       "      <th>4812</th>\n",
       "      <td>4813</td>\n",
       "      <td>video</td>\n",
       "      <td>184</td>\n",
       "      <td>530</td>\n",
       "      <td>224</td>\n",
       "      <td>101</td>\n",
       "      <td>80</td>\n",
       "      <td>0</td>\n",
       "      <td>1</td>\n",
       "      <td>1</td>\n",
       "      <td>1</td>\n",
       "      <td>0.434783</td>\n",
       "    </tr>\n",
       "  </tbody>\n",
       "</table>\n",
       "</div>"
      ],
      "text/plain": [
       "        id   type  reactions  comments  shares  likes  loves  wows  hahas  \\\n",
       "3116  3117  video        255       926     181    142    108     0      5   \n",
       "4624  4625  video       1397       771     695    765    485   139      4   \n",
       "4776  4777  video        259       695     263    151    106     0      2   \n",
       "4793  4794  video        146       303     221     73     69     2      1   \n",
       "4812  4813  video        184       530     224    101     80     0      1   \n",
       "\n",
       "      sads  angrys      test  \n",
       "3116     0       0  0.423529  \n",
       "4624     1       3  0.446671  \n",
       "4776     0       0  0.409266  \n",
       "4793     0       1  0.486301  \n",
       "4812     1       1  0.434783  "
      ]
     },
     "execution_count": 6,
     "metadata": {},
     "output_type": "execute_result"
    }
   ],
   "source": [
    "df_test3 = df_test2[df_test2['type'] == 'video']\n",
    "df_test3.head()"
   ]
  },
  {
   "cell_type": "code",
   "execution_count": 7,
   "id": "65d6cf71",
   "metadata": {
    "execution": {
     "iopub.execute_input": "2022-11-15T14:46:07.253487Z",
     "iopub.status.busy": "2022-11-15T14:46:07.252945Z",
     "iopub.status.idle": "2022-11-15T14:46:07.259453Z",
     "shell.execute_reply": "2022-11-15T14:46:07.258185Z"
    },
    "papermill": {
     "duration": 0.020629,
     "end_time": "2022-11-15T14:46:07.263567",
     "exception": false,
     "start_time": "2022-11-15T14:46:07.242938",
     "status": "completed"
    },
    "tags": []
   },
   "outputs": [
    {
     "name": "stdout",
     "output_type": "stream",
     "text": [
      "90\n"
     ]
    }
   ],
   "source": [
    "print(len(df_test3))"
   ]
  },
  {
   "cell_type": "markdown",
   "id": "3b540f14",
   "metadata": {
    "papermill": {
     "duration": 0.011213,
     "end_time": "2022-11-15T14:46:07.284828",
     "exception": false,
     "start_time": "2022-11-15T14:46:07.273615",
     "status": "completed"
    },
    "tags": []
   },
   "source": [
    "### 1-3. date_added가 2018년 1월 이면서 country가 United Kingdom 단독 제작인 데이터의 갯수\n",
    "- data_path: ../input/big-data-analytics-certification-kr-2022/nf.csv"
   ]
  },
  {
   "cell_type": "code",
   "execution_count": 8,
   "id": "e1a39904",
   "metadata": {
    "execution": {
     "iopub.execute_input": "2022-11-15T14:46:07.307276Z",
     "iopub.status.busy": "2022-11-15T14:46:07.305946Z",
     "iopub.status.idle": "2022-11-15T14:46:07.420553Z",
     "shell.execute_reply": "2022-11-15T14:46:07.418963Z"
    },
    "papermill": {
     "duration": 0.129787,
     "end_time": "2022-11-15T14:46:07.423738",
     "exception": false,
     "start_time": "2022-11-15T14:46:07.293951",
     "status": "completed"
    },
    "tags": []
   },
   "outputs": [
    {
     "data": {
      "text/html": [
       "<div>\n",
       "<style scoped>\n",
       "    .dataframe tbody tr th:only-of-type {\n",
       "        vertical-align: middle;\n",
       "    }\n",
       "\n",
       "    .dataframe tbody tr th {\n",
       "        vertical-align: top;\n",
       "    }\n",
       "\n",
       "    .dataframe thead th {\n",
       "        text-align: right;\n",
       "    }\n",
       "</style>\n",
       "<table border=\"1\" class=\"dataframe\">\n",
       "  <thead>\n",
       "    <tr style=\"text-align: right;\">\n",
       "      <th></th>\n",
       "      <th>show_id</th>\n",
       "      <th>type</th>\n",
       "      <th>title</th>\n",
       "      <th>director</th>\n",
       "      <th>cast</th>\n",
       "      <th>country</th>\n",
       "      <th>date_added</th>\n",
       "      <th>release_year</th>\n",
       "      <th>rating</th>\n",
       "      <th>duration</th>\n",
       "      <th>listed_in</th>\n",
       "    </tr>\n",
       "  </thead>\n",
       "  <tbody>\n",
       "    <tr>\n",
       "      <th>0</th>\n",
       "      <td>s1</td>\n",
       "      <td>Movie</td>\n",
       "      <td>Dick Johnson Is Dead</td>\n",
       "      <td>Kirsten Johnson</td>\n",
       "      <td>NaN</td>\n",
       "      <td>United States</td>\n",
       "      <td>September 25, 2021</td>\n",
       "      <td>2020</td>\n",
       "      <td>PG-13</td>\n",
       "      <td>90 min</td>\n",
       "      <td>Documentaries</td>\n",
       "    </tr>\n",
       "    <tr>\n",
       "      <th>1</th>\n",
       "      <td>s2</td>\n",
       "      <td>TV Show</td>\n",
       "      <td>Blood &amp; Water</td>\n",
       "      <td>NaN</td>\n",
       "      <td>Ama Qamata, Khosi Ngema, Gail Mabalane, Thaban...</td>\n",
       "      <td>South Africa</td>\n",
       "      <td>September 24, 2021</td>\n",
       "      <td>2021</td>\n",
       "      <td>TV-MA</td>\n",
       "      <td>2 Seasons</td>\n",
       "      <td>International TV Shows, TV Dramas, TV Mysteries</td>\n",
       "    </tr>\n",
       "    <tr>\n",
       "      <th>2</th>\n",
       "      <td>s3</td>\n",
       "      <td>TV Show</td>\n",
       "      <td>Ganglands</td>\n",
       "      <td>Julien Leclercq</td>\n",
       "      <td>Sami Bouajila, Tracy Gotoas, Samuel Jouy, Nabi...</td>\n",
       "      <td>NaN</td>\n",
       "      <td>September 24, 2021</td>\n",
       "      <td>2021</td>\n",
       "      <td>TV-MA</td>\n",
       "      <td>1 Season</td>\n",
       "      <td>Crime TV Shows, International TV Shows, TV Act...</td>\n",
       "    </tr>\n",
       "    <tr>\n",
       "      <th>3</th>\n",
       "      <td>s4</td>\n",
       "      <td>TV Show</td>\n",
       "      <td>Jailbirds New Orleans</td>\n",
       "      <td>NaN</td>\n",
       "      <td>NaN</td>\n",
       "      <td>NaN</td>\n",
       "      <td>September 24, 2021</td>\n",
       "      <td>2021</td>\n",
       "      <td>TV-MA</td>\n",
       "      <td>1 Season</td>\n",
       "      <td>Docuseries, Reality TV</td>\n",
       "    </tr>\n",
       "    <tr>\n",
       "      <th>4</th>\n",
       "      <td>s5</td>\n",
       "      <td>TV Show</td>\n",
       "      <td>Kota Factory</td>\n",
       "      <td>NaN</td>\n",
       "      <td>Mayur More, Jitendra Kumar, Ranjan Raj, Alam K...</td>\n",
       "      <td>India</td>\n",
       "      <td>September 24, 2021</td>\n",
       "      <td>2021</td>\n",
       "      <td>TV-MA</td>\n",
       "      <td>2 Seasons</td>\n",
       "      <td>International TV Shows, Romantic TV Shows, TV ...</td>\n",
       "    </tr>\n",
       "  </tbody>\n",
       "</table>\n",
       "</div>"
      ],
      "text/plain": [
       "  show_id     type                  title         director  \\\n",
       "0      s1    Movie   Dick Johnson Is Dead  Kirsten Johnson   \n",
       "1      s2  TV Show          Blood & Water              NaN   \n",
       "2      s3  TV Show              Ganglands  Julien Leclercq   \n",
       "3      s4  TV Show  Jailbirds New Orleans              NaN   \n",
       "4      s5  TV Show           Kota Factory              NaN   \n",
       "\n",
       "                                                cast        country  \\\n",
       "0                                                NaN  United States   \n",
       "1  Ama Qamata, Khosi Ngema, Gail Mabalane, Thaban...   South Africa   \n",
       "2  Sami Bouajila, Tracy Gotoas, Samuel Jouy, Nabi...            NaN   \n",
       "3                                                NaN            NaN   \n",
       "4  Mayur More, Jitendra Kumar, Ranjan Raj, Alam K...          India   \n",
       "\n",
       "           date_added  release_year rating   duration  \\\n",
       "0  September 25, 2021          2020  PG-13     90 min   \n",
       "1  September 24, 2021          2021  TV-MA  2 Seasons   \n",
       "2  September 24, 2021          2021  TV-MA   1 Season   \n",
       "3  September 24, 2021          2021  TV-MA   1 Season   \n",
       "4  September 24, 2021          2021  TV-MA  2 Seasons   \n",
       "\n",
       "                                           listed_in  \n",
       "0                                      Documentaries  \n",
       "1    International TV Shows, TV Dramas, TV Mysteries  \n",
       "2  Crime TV Shows, International TV Shows, TV Act...  \n",
       "3                             Docuseries, Reality TV  \n",
       "4  International TV Shows, Romantic TV Shows, TV ...  "
      ]
     },
     "execution_count": 8,
     "metadata": {},
     "output_type": "execute_result"
    }
   ],
   "source": [
    "import pandas as pd\n",
    "df = pd.read_csv(\"../input/big-data-analytics-certification-kr-2022/nf.csv\")\n",
    "df.head()"
   ]
  },
  {
   "cell_type": "code",
   "execution_count": 9,
   "id": "08106bb3",
   "metadata": {
    "execution": {
     "iopub.execute_input": "2022-11-15T14:46:07.444297Z",
     "iopub.status.busy": "2022-11-15T14:46:07.443831Z",
     "iopub.status.idle": "2022-11-15T14:46:07.670986Z",
     "shell.execute_reply": "2022-11-15T14:46:07.669322Z"
    },
    "papermill": {
     "duration": 0.240725,
     "end_time": "2022-11-15T14:46:07.673914",
     "exception": false,
     "start_time": "2022-11-15T14:46:07.433189",
     "status": "completed"
    },
    "tags": []
   },
   "outputs": [
    {
     "data": {
      "text/html": [
       "<div>\n",
       "<style scoped>\n",
       "    .dataframe tbody tr th:only-of-type {\n",
       "        vertical-align: middle;\n",
       "    }\n",
       "\n",
       "    .dataframe tbody tr th {\n",
       "        vertical-align: top;\n",
       "    }\n",
       "\n",
       "    .dataframe thead th {\n",
       "        text-align: right;\n",
       "    }\n",
       "</style>\n",
       "<table border=\"1\" class=\"dataframe\">\n",
       "  <thead>\n",
       "    <tr style=\"text-align: right;\">\n",
       "      <th></th>\n",
       "      <th>show_id</th>\n",
       "      <th>type</th>\n",
       "      <th>title</th>\n",
       "      <th>director</th>\n",
       "      <th>cast</th>\n",
       "      <th>country</th>\n",
       "      <th>date_added</th>\n",
       "      <th>release_year</th>\n",
       "      <th>rating</th>\n",
       "      <th>duration</th>\n",
       "      <th>listed_in</th>\n",
       "    </tr>\n",
       "  </thead>\n",
       "  <tbody>\n",
       "    <tr>\n",
       "      <th>5056</th>\n",
       "      <td>s5057</td>\n",
       "      <td>Movie</td>\n",
       "      <td>Jerry Seinfeld: I'm Telling You for the Last Time</td>\n",
       "      <td>Marty Callner</td>\n",
       "      <td>Jerry Seinfeld</td>\n",
       "      <td>United States</td>\n",
       "      <td>2018-01-30</td>\n",
       "      <td>1998</td>\n",
       "      <td>TV-14</td>\n",
       "      <td>69 min</td>\n",
       "      <td>Stand-Up Comedy</td>\n",
       "    </tr>\n",
       "    <tr>\n",
       "      <th>5057</th>\n",
       "      <td>s5058</td>\n",
       "      <td>TV Show</td>\n",
       "      <td>Retribution</td>\n",
       "      <td>NaN</td>\n",
       "      <td>Georgina Campbell, Joe Dempsie, Adrian Edmonds...</td>\n",
       "      <td>United Kingdom</td>\n",
       "      <td>2018-01-30</td>\n",
       "      <td>2016</td>\n",
       "      <td>TV-MA</td>\n",
       "      <td>1 Season</td>\n",
       "      <td>British TV Shows, Crime TV Shows, Internationa...</td>\n",
       "    </tr>\n",
       "    <tr>\n",
       "      <th>5058</th>\n",
       "      <td>s5059</td>\n",
       "      <td>Movie</td>\n",
       "      <td>Holy Camp!</td>\n",
       "      <td>Javier Ambrossi, Javier Calvo</td>\n",
       "      <td>Macarena García, Anna Castillo, Belén Cuesta, ...</td>\n",
       "      <td>Spain</td>\n",
       "      <td>2018-01-29</td>\n",
       "      <td>2017</td>\n",
       "      <td>TV-MA</td>\n",
       "      <td>108 min</td>\n",
       "      <td>Comedies, Dramas, Faith &amp; Spirituality</td>\n",
       "    </tr>\n",
       "    <tr>\n",
       "      <th>5059</th>\n",
       "      <td>s5060</td>\n",
       "      <td>Movie</td>\n",
       "      <td>A Futile and Stupid Gesture</td>\n",
       "      <td>David Wain</td>\n",
       "      <td>Will Forte, Domhnall Gleeson, Martin Mull, Joe...</td>\n",
       "      <td>United States</td>\n",
       "      <td>2018-01-26</td>\n",
       "      <td>2018</td>\n",
       "      <td>TV-MA</td>\n",
       "      <td>102 min</td>\n",
       "      <td>Comedies</td>\n",
       "    </tr>\n",
       "    <tr>\n",
       "      <th>5060</th>\n",
       "      <td>s5061</td>\n",
       "      <td>Movie</td>\n",
       "      <td>Fakkah Fuzz: Almost Banned</td>\n",
       "      <td>Michael McKay</td>\n",
       "      <td>Fakkah Fuzz</td>\n",
       "      <td>Singapore</td>\n",
       "      <td>2018-01-26</td>\n",
       "      <td>2018</td>\n",
       "      <td>TV-MA</td>\n",
       "      <td>61 min</td>\n",
       "      <td>Stand-Up Comedy</td>\n",
       "    </tr>\n",
       "  </tbody>\n",
       "</table>\n",
       "</div>"
      ],
      "text/plain": [
       "     show_id     type                                              title  \\\n",
       "5056   s5057    Movie  Jerry Seinfeld: I'm Telling You for the Last Time   \n",
       "5057   s5058  TV Show                                        Retribution   \n",
       "5058   s5059    Movie                                         Holy Camp!   \n",
       "5059   s5060    Movie                        A Futile and Stupid Gesture   \n",
       "5060   s5061    Movie                         Fakkah Fuzz: Almost Banned   \n",
       "\n",
       "                           director  \\\n",
       "5056                  Marty Callner   \n",
       "5057                            NaN   \n",
       "5058  Javier Ambrossi, Javier Calvo   \n",
       "5059                     David Wain   \n",
       "5060                  Michael McKay   \n",
       "\n",
       "                                                   cast         country  \\\n",
       "5056                                     Jerry Seinfeld   United States   \n",
       "5057  Georgina Campbell, Joe Dempsie, Adrian Edmonds...  United Kingdom   \n",
       "5058  Macarena García, Anna Castillo, Belén Cuesta, ...           Spain   \n",
       "5059  Will Forte, Domhnall Gleeson, Martin Mull, Joe...   United States   \n",
       "5060                                        Fakkah Fuzz       Singapore   \n",
       "\n",
       "     date_added  release_year rating  duration  \\\n",
       "5056 2018-01-30          1998  TV-14    69 min   \n",
       "5057 2018-01-30          2016  TV-MA  1 Season   \n",
       "5058 2018-01-29          2017  TV-MA   108 min   \n",
       "5059 2018-01-26          2018  TV-MA   102 min   \n",
       "5060 2018-01-26          2018  TV-MA    61 min   \n",
       "\n",
       "                                              listed_in  \n",
       "5056                                    Stand-Up Comedy  \n",
       "5057  British TV Shows, Crime TV Shows, Internationa...  \n",
       "5058             Comedies, Dramas, Faith & Spirituality  \n",
       "5059                                           Comedies  \n",
       "5060                                    Stand-Up Comedy  "
      ]
     },
     "execution_count": 9,
     "metadata": {},
     "output_type": "execute_result"
    }
   ],
   "source": [
    "df['date_added'] = pd.to_datetime(df['date_added'])\n",
    "df = df[(df['date_added']>='2018-1-1') & (df['date_added']<'2018-1-31')]\n",
    "df.head()"
   ]
  },
  {
   "cell_type": "code",
   "execution_count": 10,
   "id": "66435a52",
   "metadata": {
    "execution": {
     "iopub.execute_input": "2022-11-15T14:46:07.694604Z",
     "iopub.status.busy": "2022-11-15T14:46:07.694080Z",
     "iopub.status.idle": "2022-11-15T14:46:07.703217Z",
     "shell.execute_reply": "2022-11-15T14:46:07.701518Z"
    },
    "papermill": {
     "duration": 0.02326,
     "end_time": "2022-11-15T14:46:07.706487",
     "exception": false,
     "start_time": "2022-11-15T14:46:07.683227",
     "status": "completed"
    },
    "tags": []
   },
   "outputs": [
    {
     "name": "stdout",
     "output_type": "stream",
     "text": [
      "6\n"
     ]
    }
   ],
   "source": [
    "df_test = df[df['country'] == 'United Kingdom']\n",
    "print(len(df_test))"
   ]
  },
  {
   "cell_type": "code",
   "execution_count": null,
   "id": "cd355505",
   "metadata": {
    "papermill": {
     "duration": 0.009303,
     "end_time": "2022-11-15T14:46:07.726140",
     "exception": false,
     "start_time": "2022-11-15T14:46:07.716837",
     "status": "completed"
    },
    "tags": []
   },
   "outputs": [],
   "source": []
  },
  {
   "cell_type": "code",
   "execution_count": null,
   "id": "9cdb1075",
   "metadata": {
    "papermill": {
     "duration": 0.008776,
     "end_time": "2022-11-15T14:46:07.744221",
     "exception": false,
     "start_time": "2022-11-15T14:46:07.735445",
     "status": "completed"
    },
    "tags": []
   },
   "outputs": [],
   "source": []
  },
  {
   "cell_type": "code",
   "execution_count": null,
   "id": "ab236262",
   "metadata": {
    "papermill": {
     "duration": 0.008694,
     "end_time": "2022-11-15T14:46:07.762298",
     "exception": false,
     "start_time": "2022-11-15T14:46:07.753604",
     "status": "completed"
    },
    "tags": []
   },
   "outputs": [],
   "source": []
  },
  {
   "cell_type": "code",
   "execution_count": null,
   "id": "0a97f643",
   "metadata": {
    "papermill": {
     "duration": 0.008823,
     "end_time": "2022-11-15T14:46:07.780953",
     "exception": false,
     "start_time": "2022-11-15T14:46:07.772130",
     "status": "completed"
    },
    "tags": []
   },
   "outputs": [],
   "source": []
  },
  {
   "cell_type": "code",
   "execution_count": null,
   "id": "05364d21",
   "metadata": {
    "papermill": {
     "duration": 0.010303,
     "end_time": "2022-11-15T14:46:07.801439",
     "exception": false,
     "start_time": "2022-11-15T14:46:07.791136",
     "status": "completed"
    },
    "tags": []
   },
   "outputs": [],
   "source": []
  },
  {
   "cell_type": "markdown",
   "id": "2955ffe1",
   "metadata": {
    "papermill": {
     "duration": 0.009835,
     "end_time": "2022-11-15T14:46:07.820720",
     "exception": false,
     "start_time": "2022-11-15T14:46:07.810885",
     "status": "completed"
    },
    "tags": []
   },
   "source": [
    "## 작업형1 풀이\n",
    "### 1-1. age 컬럼의 3사분위수와 1사분위수의 차를 절대값으로 구하고, 소수점 버려서, 정수로 출력\n",
    "- data_path: ../input/bigdatacertificationkr/basic1.csv\n"
   ]
  },
  {
   "cell_type": "code",
   "execution_count": 11,
   "id": "a326060a",
   "metadata": {
    "execution": {
     "iopub.execute_input": "2022-11-15T14:46:07.846729Z",
     "iopub.status.busy": "2022-11-15T14:46:07.845745Z",
     "iopub.status.idle": "2022-11-15T14:46:07.863622Z",
     "shell.execute_reply": "2022-11-15T14:46:07.861914Z"
    },
    "papermill": {
     "duration": 0.035822,
     "end_time": "2022-11-15T14:46:07.867572",
     "exception": false,
     "start_time": "2022-11-15T14:46:07.831750",
     "status": "completed"
    },
    "tags": []
   },
   "outputs": [
    {
     "name": "stdout",
     "output_type": "stream",
     "text": [
      "50\n"
     ]
    }
   ],
   "source": [
    "import pandas as pd\n",
    "df = pd.read_csv(\"../input/bigdatacertificationkr/basic1.csv\")\n",
    "# print(\"1사분위: \",df['age'].quantile(0.25))\n",
    "# print(\"3사분위: \",df['age'].quantile(0.75))\n",
    "\n",
    "result = abs(df['age'].quantile(0.25) - df['age'].quantile(0.75))\n",
    "# print(\"절대값 차이: \",result)\n",
    "\n",
    "print(int(result))"
   ]
  },
  {
   "cell_type": "markdown",
   "id": "1bf2af01",
   "metadata": {
    "papermill": {
     "duration": 0.010068,
     "end_time": "2022-11-15T14:46:07.888689",
     "exception": false,
     "start_time": "2022-11-15T14:46:07.878621",
     "status": "completed"
    },
    "tags": []
   },
   "source": [
    "### 1-2.(loves반응+wows반응)/(reactions반응) 비율이 0.4보다 크고 0.5보다 작으면서, status_type=='video'인 데이터의 갯수\n",
    "- data_path: ../input/big-data-analytics-certification-kr-2022/fb.csv"
   ]
  },
  {
   "cell_type": "code",
   "execution_count": 12,
   "id": "86c429b7",
   "metadata": {
    "execution": {
     "iopub.execute_input": "2022-11-15T14:46:07.913090Z",
     "iopub.status.busy": "2022-11-15T14:46:07.912565Z",
     "iopub.status.idle": "2022-11-15T14:46:07.937974Z",
     "shell.execute_reply": "2022-11-15T14:46:07.936797Z"
    },
    "papermill": {
     "duration": 0.040176,
     "end_time": "2022-11-15T14:46:07.941121",
     "exception": false,
     "start_time": "2022-11-15T14:46:07.900945",
     "status": "completed"
    },
    "tags": []
   },
   "outputs": [
    {
     "name": "stdout",
     "output_type": "stream",
     "text": [
      "90\n"
     ]
    }
   ],
   "source": [
    "import pandas as pd\n",
    "df = pd.read_csv(\"../input/big-data-analytics-certification-kr-2022/fb.csv\")\n",
    "cond1 = (df['loves'] + df['wows'])/ df['reactions'] > 0.4\n",
    "cond2 = (df['loves'] + df['wows'])/ df['reactions'] < 0.5\n",
    "cond3 = df['type'] == 'video'\n",
    "\n",
    "print(len(df[cond1 & cond2 & cond3]))"
   ]
  },
  {
   "cell_type": "markdown",
   "id": "e7d6912f",
   "metadata": {
    "papermill": {
     "duration": 0.009208,
     "end_time": "2022-11-15T14:46:07.959928",
     "exception": false,
     "start_time": "2022-11-15T14:46:07.950720",
     "status": "completed"
    },
    "tags": []
   },
   "source": [
    "### 1-3. date_added가 2018년 1월 이면서 country가 United Kingdom 단독 제작인 데이터의 갯수¶\n",
    "- data_path: ../input/big-data-analytics-certification-kr-2022/nf.csv"
   ]
  },
  {
   "cell_type": "code",
   "execution_count": 13,
   "id": "4adebfc4",
   "metadata": {
    "execution": {
     "iopub.execute_input": "2022-11-15T14:46:07.980774Z",
     "iopub.status.busy": "2022-11-15T14:46:07.980231Z",
     "iopub.status.idle": "2022-11-15T14:46:08.267401Z",
     "shell.execute_reply": "2022-11-15T14:46:08.265560Z"
    },
    "papermill": {
     "duration": 0.301589,
     "end_time": "2022-11-15T14:46:08.270729",
     "exception": false,
     "start_time": "2022-11-15T14:46:07.969140",
     "status": "completed"
    },
    "tags": []
   },
   "outputs": [
    {
     "name": "stdout",
     "output_type": "stream",
     "text": [
      "6\n"
     ]
    }
   ],
   "source": [
    "# 풀이1 datatime 활용1\n",
    "import pandas as pd\n",
    "df = pd.read_csv(\"../input/big-data-analytics-certification-kr-2022/nf.csv\")\n",
    "\n",
    "cond1 = df['country'] == \"United Kingdom\"\n",
    "\n",
    "df['date_added'] = pd.to_datetime(df['date_added'])\n",
    "df['year'] = df['date_added'].dt.year\n",
    "df['month'] = df['date_added'].dt.month\n",
    "\n",
    "\n",
    "cond2 = df['year'] == 2018\n",
    "cond3 = df['month'] == 1\n",
    "\n",
    "print(len(df[cond1 & cond2 & cond3]))"
   ]
  },
  {
   "cell_type": "code",
   "execution_count": 14,
   "id": "ec1be79c",
   "metadata": {
    "execution": {
     "iopub.execute_input": "2022-11-15T14:46:08.292585Z",
     "iopub.status.busy": "2022-11-15T14:46:08.292035Z",
     "iopub.status.idle": "2022-11-15T14:46:08.569791Z",
     "shell.execute_reply": "2022-11-15T14:46:08.568172Z"
    },
    "papermill": {
     "duration": 0.29191,
     "end_time": "2022-11-15T14:46:08.572683",
     "exception": false,
     "start_time": "2022-11-15T14:46:08.280773",
     "status": "completed"
    },
    "tags": []
   },
   "outputs": [
    {
     "name": "stdout",
     "output_type": "stream",
     "text": [
      "6\n"
     ]
    }
   ],
   "source": [
    "# 풀이2 datatime 활용2\n",
    "import pandas as pd\n",
    "df = pd.read_csv(\"../input/big-data-analytics-certification-kr-2022/nf.csv\")\n",
    "\n",
    "cond1 = df['country'] == \"United Kingdom\"\n",
    "\n",
    "df['date_added'] = pd.to_datetime(df['date_added'])\n",
    "\n",
    "cond2 = df['date_added'] >= '2018-1-1'\n",
    "cond3 = df['date_added'] <= '2018-1-31'\n",
    "\n",
    "print(len(df[cond1 & cond2 & cond3]))"
   ]
  },
  {
   "cell_type": "code",
   "execution_count": 15,
   "id": "32713ef6",
   "metadata": {
    "execution": {
     "iopub.execute_input": "2022-11-15T14:46:08.596893Z",
     "iopub.status.busy": "2022-11-15T14:46:08.595343Z",
     "iopub.status.idle": "2022-11-15T14:46:08.870827Z",
     "shell.execute_reply": "2022-11-15T14:46:08.868836Z"
    },
    "papermill": {
     "duration": 0.290529,
     "end_time": "2022-11-15T14:46:08.873756",
     "exception": false,
     "start_time": "2022-11-15T14:46:08.583227",
     "status": "completed"
    },
    "tags": []
   },
   "outputs": [
    {
     "name": "stdout",
     "output_type": "stream",
     "text": [
      "6\n"
     ]
    }
   ],
   "source": [
    "# 풀이3 datatime + between 활용\n",
    "import pandas as pd\n",
    "df = pd.read_csv(\"../input/big-data-analytics-certification-kr-2022/nf.csv\")\n",
    "\n",
    "cond1 = df['country'] == \"United Kingdom\"\n",
    "df['date_added'] = pd.to_datetime(df['date_added'])\n",
    "cond2 = df['date_added'].between('2018-1-1', '2018-1-31')\n",
    "print(len(df[cond1 & cond2]))"
   ]
  },
  {
   "cell_type": "code",
   "execution_count": 16,
   "id": "48695fdf",
   "metadata": {
    "execution": {
     "iopub.execute_input": "2022-11-15T14:46:08.895555Z",
     "iopub.status.busy": "2022-11-15T14:46:08.895038Z",
     "iopub.status.idle": "2022-11-15T14:46:08.976645Z",
     "shell.execute_reply": "2022-11-15T14:46:08.974884Z"
    },
    "papermill": {
     "duration": 0.096123,
     "end_time": "2022-11-15T14:46:08.979520",
     "exception": false,
     "start_time": "2022-11-15T14:46:08.883397",
     "status": "completed"
    },
    "tags": []
   },
   "outputs": [
    {
     "name": "stdout",
     "output_type": "stream",
     "text": [
      "6\n"
     ]
    }
   ],
   "source": [
    "# 풀이4\n",
    "import pandas as pd\n",
    "df = pd.read_csv(\"../input/big-data-analytics-certification-kr-2022/nf.csv\")\n",
    "\n",
    "cond1 = df['country'] == \"United Kingdom\"\n",
    "\n",
    "df['date_added'] = df['date_added'].fillna(\"\")\n",
    "\n",
    "str1 = \"2018\"\n",
    "str2 = \"January\"\n",
    "cond2 = df['date_added'].str.contains(str1)\n",
    "cond3 = df['date_added'].str.contains(str2)\n",
    "\n",
    "print(len(df[cond1 & cond2 & cond3]))"
   ]
  },
  {
   "cell_type": "markdown",
   "id": "2eb6a54e",
   "metadata": {
    "papermill": {
     "duration": 0.009129,
     "end_time": "2022-11-15T14:46:08.998104",
     "exception": false,
     "start_time": "2022-11-15T14:46:08.988975",
     "status": "completed"
    },
    "tags": []
   },
   "source": [
    "### (추가 문제) 4. 그런데 만약 'country'컬럼에 대소문자 함께 있고, 띄어쓰기가 있는 것도 있고 없는 것도 있다면?"
   ]
  },
  {
   "cell_type": "code",
   "execution_count": 17,
   "id": "5419565c",
   "metadata": {
    "execution": {
     "iopub.execute_input": "2022-11-15T14:46:09.019829Z",
     "iopub.status.busy": "2022-11-15T14:46:09.019272Z",
     "iopub.status.idle": "2022-11-15T14:46:09.294991Z",
     "shell.execute_reply": "2022-11-15T14:46:09.293293Z"
    },
    "papermill": {
     "duration": 0.290068,
     "end_time": "2022-11-15T14:46:09.297887",
     "exception": false,
     "start_time": "2022-11-15T14:46:09.007819",
     "status": "completed"
    },
    "tags": []
   },
   "outputs": [
    {
     "name": "stdout",
     "output_type": "stream",
     "text": [
      "6\n"
     ]
    }
   ],
   "source": [
    "import pandas as pd\n",
    "df = pd.read_csv(\"../input/big-data-analytics-certification-kr-2022/nf.csv\")\n",
    "\n",
    "# 띄어쓰기 제거\n",
    "df['country'] = df['country'].str.replace(' ','')\n",
    "\n",
    "# 소문자로 변경\n",
    "df['country'] = df['country'].str.lower()\n",
    "df['country']\n",
    "\n",
    "cond1 = df['country'] == \"unitedkingdom\"\n",
    "\n",
    "df['date_added'] = pd.to_datetime(df['date_added'])\n",
    "df['year'] = df['date_added'].dt.year\n",
    "df['month'] = df['date_added'].dt.month\n",
    "\n",
    "\n",
    "cond2 = df['year'] == 2018\n",
    "cond3 = df['month'] == 1\n",
    "\n",
    "print(len(df[cond1 & cond2 & cond3]))"
   ]
  }
 ],
 "metadata": {
  "kernelspec": {
   "display_name": "Python 3",
   "language": "python",
   "name": "python3"
  },
  "language_info": {
   "codemirror_mode": {
    "name": "ipython",
    "version": 3
   },
   "file_extension": ".py",
   "mimetype": "text/x-python",
   "name": "python",
   "nbconvert_exporter": "python",
   "pygments_lexer": "ipython3",
   "version": "3.7.12"
  },
  "papermill": {
   "default_parameters": {},
   "duration": 14.392086,
   "end_time": "2022-11-15T14:46:10.233436",
   "environment_variables": {},
   "exception": null,
   "input_path": "__notebook__.ipynb",
   "output_path": "__notebook__.ipynb",
   "parameters": {},
   "start_time": "2022-11-15T14:45:55.841350",
   "version": "2.3.4"
  }
 },
 "nbformat": 4,
 "nbformat_minor": 5
}
